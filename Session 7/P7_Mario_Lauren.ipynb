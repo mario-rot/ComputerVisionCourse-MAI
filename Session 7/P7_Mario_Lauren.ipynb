{
  "nbformat": 4,
  "nbformat_minor": 0,
  "metadata": {
    "colab": {
      "provenance": [],
      "include_colab_link": true
    },
    "kernelspec": {
      "display_name": "Python 3",
      "name": "python3"
    }
  },
  "cells": [
    {
      "cell_type": "markdown",
      "metadata": {
        "id": "view-in-github",
        "colab_type": "text"
      },
      "source": [
        "<a href=\"https://colab.research.google.com/github/mario-rot/ComputerVisionCourse-MAI/blob/main/Session%207/P7_Mario_Lauren.ipynb\" target=\"_parent\"><img src=\"https://colab.research.google.com/assets/colab-badge.svg\" alt=\"Open In Colab\"/></a>"
      ]
    },
    {
      "cell_type": "markdown",
      "metadata": {
        "id": "Sk0eYw8ojrFq"
      },
      "source": [
        "# Laboratory #3_2 : Image Classification using Bag of Visual Words\n",
        "\n",
        "At the end of this laboratory, you would get familiarized with\n",
        "\n",
        "*   Creating Bag of Visual Words\n",
        "    *   Feature Extraction\n",
        "    *   Codebook construction\n",
        "    *   Classification\n",
        "\n",
        "**Remember this is a graded exercise.**\n",
        "\n",
        "*   For every plot, make sure you provide appropriate titles, axis labels, legends, wherever applicable.\n",
        "*   Create reusable functions where ever possible, so that the code could be reused at different places.\n",
        "*   Mount your drive to access the images.\n",
        "*   Add sufficient comments and explanations wherever necessary.\n",
        "\n",
        "---"
      ]
    },
    {
      "cell_type": "code",
      "source": [
        "%load_ext autoreload\n",
        "%autoreload 2"
      ],
      "metadata": {
        "id": "AIX_61vv777d"
      },
      "execution_count": null,
      "outputs": []
    },
    {
      "cell_type": "code",
      "metadata": {
        "id": "sYHw1lSBldl-",
        "colab": {
          "base_uri": "https://localhost:8080/"
        },
        "outputId": "ddcbc5e7-a122-4ff0-d35c-c9bb496e7e69"
      },
      "source": [
        "%%shell\n",
        "git clone https://github.com/mario-rot/ComputerVisionCourse-MAI.git\n",
        "cd 'ComputerVisionCourse-MAI'\n",
        "mv 'Session 7/Caltech_101_subset' /content/\n",
        "mv 'customplots.py' /content/\n",
        "mv 'utils.py' /content/"
      ],
      "execution_count": null,
      "outputs": [
        {
          "output_type": "stream",
          "name": "stdout",
          "text": [
            "Cloning into 'ComputerVisionCourse-MAI'...\n",
            "remote: Enumerating objects: 12189, done.\u001b[K\n",
            "remote: Counting objects: 100% (610/610), done.\u001b[K\n",
            "remote: Compressing objects: 100% (481/481), done.\u001b[K\n",
            "remote: Total 12189 (delta 147), reused 560 (delta 119), pack-reused 11579\u001b[K\n",
            "Receiving objects: 100% (12189/12189), 80.86 MiB | 34.82 MiB/s, done.\n",
            "Resolving deltas: 100% (150/150), done.\n"
          ]
        },
        {
          "output_type": "execute_result",
          "data": {
            "text/plain": []
          },
          "metadata": {},
          "execution_count": 2
        }
      ]
    },
    {
      "cell_type": "code",
      "metadata": {
        "id": "aD5-E8PuaQ5P"
      },
      "source": [
        "# Loading necessary libraries (Feel free to add new libraries if you need for any computation)\n",
        "\n",
        "import os\n",
        "import numpy as np\n",
        "\n",
        "from skimage.feature import ORB\n",
        "from skimage import feature\n",
        "from skimage.color import rgb2gray\n",
        "from skimage.io import imread, imread_collection\n",
        "from scipy.cluster.vq import vq\n",
        "from sklearn.model_selection import train_test_split\n",
        "from utils import get_multi_ORB\n",
        "from sklearn.cluster import MiniBatchKMeans\n",
        "import collections\n",
        "import skimage.exposure as ske\n",
        "\n",
        "from matplotlib import pyplot as plt\n",
        "import pandas as pd\n",
        "\n",
        "from sklearn.metrics import accuracy_score, classification_report, confusion_matrix\n",
        "from customplots import plot_confusion_matrix"
      ],
      "execution_count": null,
      "outputs": []
    },
    {
      "cell_type": "markdown",
      "metadata": {
        "id": "ampx9DIJiuGN"
      },
      "source": [
        "## Loading dataset\n",
        "\n",
        "We will use 3 categories from Caltech 101 objects dataset for this experiment. Upload the dataset to the drive and mount it."
      ]
    },
    {
      "cell_type": "code",
      "metadata": {
        "id": "PRSJP1XbG6-a"
      },
      "source": [
        "# modify the dataset variable with the path from your drive\n",
        "\n",
        "dataset_path = r'/content/Caltech_101_subset/'"
      ],
      "execution_count": null,
      "outputs": []
    },
    {
      "cell_type": "code",
      "metadata": {
        "id": "fNoe7u755X6Q"
      },
      "source": [
        "categories = ['butterfly', 'kangaroo', 'dalmatian']\n",
        "ncl = len(categories) * 10"
      ],
      "execution_count": null,
      "outputs": []
    },
    {
      "cell_type": "markdown",
      "metadata": {
        "id": "gxY0mDoK5EQj"
      },
      "source": [
        "*   Create a list of file and the corresponding labels"
      ]
    },
    {
      "cell_type": "code",
      "source": [
        "data = [(cat, i) for cat in categories for i in imread_collection(dataset_path+ cat +'/*')]"
      ],
      "metadata": {
        "id": "klut3nIf1EIH"
      },
      "execution_count": null,
      "outputs": []
    },
    {
      "cell_type": "code",
      "metadata": {
        "id": "3x42veHz5LDt",
        "colab": {
          "base_uri": "https://localhost:8080/"
        },
        "outputId": "f330a48a-ccba-4725-9e93-d56fb9c49df8"
      },
      "source": [
        "print('Total number of images:', len(data))"
      ],
      "execution_count": null,
      "outputs": [
        {
          "output_type": "stream",
          "name": "stdout",
          "text": [
            "Total number of images: 244\n"
          ]
        }
      ]
    },
    {
      "cell_type": "markdown",
      "metadata": {
        "id": "XgVhdjYz5Zhs"
      },
      "source": [
        "*   Create a train / test split where the test is 10% of the total data"
      ]
    },
    {
      "cell_type": "code",
      "metadata": {
        "id": "QzYnjzXBZXXt"
      },
      "source": [
        "# solution\n",
        "X = [i for cat in categories for i in imread_collection(dataset_path+ cat +'/*')]\n",
        "y = [cat for cat in categories for i in imread_collection(dataset_path+ cat +'/*')]\n",
        "x_train,x_test,y_train,y_test = train_test_split(X,y, test_size=0.1, random_state=5, stratify=y)"
      ],
      "execution_count": null,
      "outputs": []
    },
    {
      "cell_type": "code",
      "metadata": {
        "id": "gd057lAc5jze",
        "colab": {
          "base_uri": "https://localhost:8080/"
        },
        "outputId": "ab86d91b-d0b7-4774-f29b-80636fee618b"
      },
      "source": [
        "print('Train set:', len(x_train))\n",
        "print('Test set:', len(x_test))"
      ],
      "execution_count": null,
      "outputs": [
        {
          "output_type": "stream",
          "name": "stdout",
          "text": [
            "Train set: 219\n",
            "Test set: 25\n"
          ]
        }
      ]
    },
    {
      "cell_type": "markdown",
      "metadata": {
        "id": "_Hl36Ej_5k6Y"
      },
      "source": [
        "*   How do you select the train/test split?"
      ]
    },
    {
      "cell_type": "markdown",
      "metadata": {
        "id": "-aOe27Kx5vtd"
      },
      "source": [
        "**Solution**\n",
        "\n",
        "*We used the train_test_split function from sklearn to split the data into a testing set and a training set. This selects the data randomly to split based off the percentage provided. We also set the 'stratify' parameter to ensure that there was a representative balance of images in each split.*\n",
        "\n",
        "..."
      ]
    },
    {
      "cell_type": "markdown",
      "metadata": {
        "id": "18OZf2kfkVNB"
      },
      "source": [
        "## Feature Extraction using ORB\n",
        "\n",
        "The first step is to extract descriptors for each image in our dataset. We will use ORB to extract descriptors.\n",
        "\n",
        "*   Create ORB detector with 64 keypoints.\n"
      ]
    },
    {
      "cell_type": "code",
      "source": [
        "descriptor_extractor = feature.ORB(n_keypoints=64)"
      ],
      "metadata": {
        "id": "V5UVcN7l9hyR"
      },
      "execution_count": null,
      "outputs": []
    },
    {
      "cell_type": "markdown",
      "metadata": {
        "id": "3yinPkL8brow"
      },
      "source": [
        "*   Extract ORB descriptors from all the images in the train set.\n"
      ]
    },
    {
      "cell_type": "code",
      "metadata": {
        "id": "PCiXJeLFxGtP"
      },
      "source": [
        "# solution\n",
        "kps_train,dcs_train = get_multi_ORB(descriptor_extractor, x_train)"
      ],
      "execution_count": null,
      "outputs": []
    },
    {
      "cell_type": "markdown",
      "metadata": {
        "id": "GJehFdyt583b"
      },
      "source": [
        "*   What is the size of the feature descriptors? What does each dimension represent in the feature descriptors?"
      ]
    },
    {
      "cell_type": "code",
      "metadata": {
        "id": "bzTspvF96LeC",
        "colab": {
          "base_uri": "https://localhost:8080/"
        },
        "outputId": "0d538ec3-87c1-44ee-ab16-42f5ff6b4811"
      },
      "source": [
        "# solution\n",
        "print('The size of each feature descriptors matrix per image is {}, where {} represents the number \\n of keypoints identified and {} is a vector with values either being True or False representing\\n the outcome of the intensity comparison for each keypoint on a decision pixel-pair.'.format(dcs_train[1].shape, dcs_train[1].shape[0], dcs_train[1].shape[1]))\n"
      ],
      "execution_count": null,
      "outputs": [
        {
          "output_type": "stream",
          "name": "stdout",
          "text": [
            "The size of each feature descriptors matrix per image is (64, 256), where 64 represents the number \n",
            " of keypoints identified and 256 is a vector with values either being True or False representing\n",
            " the outcome of the intensity comparison for each keypoint on a decision pixel-pair.\n"
          ]
        }
      ]
    },
    {
      "cell_type": "markdown",
      "metadata": {
        "id": "MNFOjsRj6PGk"
      },
      "source": [
        "**Solution**\n",
        "\n",
        "*See code cell above for solution*\n",
        "\n",
        "..."
      ]
    },
    {
      "cell_type": "markdown",
      "metadata": {
        "id": "420YQkAzleTQ"
      },
      "source": [
        "## Codebook Construction\n",
        "\n",
        "Codewords are nothing but vector representation of similar patches. This codeword produces a codebook similar to a word dictionary. We will create the codebook using K-Means algorithm\n",
        "\n",
        "*   Create a codebook using K-Means with k=number_of_classes*10\n",
        "*   Hint: Use sklearn.cluster.MiniBatchKMeans for K-Means"
      ]
    },
    {
      "cell_type": "code",
      "metadata": {
        "id": "iO0e4718ppJt",
        "colab": {
          "base_uri": "https://localhost:8080/"
        },
        "outputId": "058fbf2d-3477-4382-e4de-286ec04423f9"
      },
      "source": [
        "# solution\n",
        "dcs_flatten = np.reshape(dcs_train, (len(dcs_train)*dcs_train.shape[1],dcs_train.shape[2]))\n",
        "print(dcs_flatten.shape)\n",
        "kmeans = MiniBatchKMeans(n_clusters=len(categories)*10, random_state = 8).fit(dcs_flatten)\n",
        "kmeans.cluster_centers_.shape"
      ],
      "execution_count": null,
      "outputs": [
        {
          "output_type": "stream",
          "name": "stdout",
          "text": [
            "(14016, 256)\n"
          ]
        },
        {
          "output_type": "execute_result",
          "data": {
            "text/plain": [
              "(30, 256)"
            ]
          },
          "metadata": {},
          "execution_count": 13
        }
      ]
    },
    {
      "cell_type": "code",
      "source": [
        "vwr_img = []\n",
        "for img_dsc in dcs_train:\n",
        "  vwr_img.append(kmeans.predict(img_dsc))"
      ],
      "metadata": {
        "id": "Bf0AvzXGpaMI"
      },
      "execution_count": null,
      "outputs": []
    },
    {
      "cell_type": "code",
      "source": [
        "vwr_img = np.array(vwr_img)\n",
        "\n",
        "np.concatenate(vwr_img)"
      ],
      "metadata": {
        "colab": {
          "base_uri": "https://localhost:8080/"
        },
        "id": "ms7gmL9PqpEH",
        "outputId": "a8b94e49-eeb6-418a-bb7b-ac755dd6f049"
      },
      "execution_count": null,
      "outputs": [
        {
          "output_type": "execute_result",
          "data": {
            "text/plain": [
              "array([25, 29, 25, ..., 20,  4, 16], dtype=int32)"
            ]
          },
          "metadata": {},
          "execution_count": 15
        }
      ]
    },
    {
      "cell_type": "markdown",
      "metadata": {
        "id": "0GAD_JuNpqMt"
      },
      "source": [
        "*   Create a histogram using the cluster centers for each image descriptor.\n",
        "    *   Remember the histogram would be of size *n_images x n_clusters*."
      ]
    },
    {
      "cell_type": "code",
      "source": [
        "plt.bar(list(range(30)),ske.histogram(np.concatenate(vwr_img), 30)[0])\n",
        "plt.title('Frequency of Visual Words Training Data')\n",
        "plt.ylabel('Number of visual words')\n",
        "plt.xlabel('Clusters')"
      ],
      "metadata": {
        "colab": {
          "base_uri": "https://localhost:8080/",
          "height": 312
        },
        "id": "lfUFu7TrrXeG",
        "outputId": "1a273b6d-b0e8-44f0-d86d-a67515737408"
      },
      "execution_count": null,
      "outputs": [
        {
          "output_type": "execute_result",
          "data": {
            "text/plain": [
              "Text(0.5, 0, 'Clusters')"
            ]
          },
          "metadata": {},
          "execution_count": 16
        },
        {
          "output_type": "display_data",
          "data": {
            "text/plain": [
              "<Figure size 432x288 with 1 Axes>"
            ],
            "image/png": "[encoded data removed]"
          },
          "metadata": {
            "needs_background": "light"
          }
        }
      ]
    },
    {
      "cell_type": "markdown",
      "metadata": {
        "id": "jmRO7dfLjgZa"
      },
      "source": [
        "\n",
        "# Creating Classification Model\n",
        "\n",
        "*   The next step is to create a classification model. We will use a C-Support Vector Classification for creating the model.\n",
        "\n"
      ]
    },
    {
      "cell_type": "code",
      "metadata": {
        "id": "K7VTBz1Oimtz"
      },
      "source": [
        "from sklearn.svm import SVC\n",
        "from sklearn.model_selection import GridSearchCV"
      ],
      "execution_count": null,
      "outputs": []
    },
    {
      "cell_type": "markdown",
      "metadata": {
        "id": "lrit95Ud6pUU"
      },
      "source": [
        "*   Use GridSearchCV to find the optimal value of C and Gamma."
      ]
    },
    {
      "cell_type": "code",
      "source": [
        "dcs_flatten.shape"
      ],
      "metadata": {
        "colab": {
          "base_uri": "https://localhost:8080/"
        },
        "id": "otT8O_nxfw7A",
        "outputId": "f8eb7975-3300-4728-fd2e-d0a1fc901269"
      },
      "execution_count": null,
      "outputs": [
        {
          "output_type": "execute_result",
          "data": {
            "text/plain": [
              "(14016, 256)"
            ]
          },
          "metadata": {},
          "execution_count": 19
        }
      ]
    },
    {
      "cell_type": "code",
      "metadata": {
        "id": "IjFFpykV-GOI",
        "colab": {
          "base_uri": "https://localhost:8080/"
        },
        "outputId": "afab1f92-0554-476c-95e4-9e6faa87101b"
      },
      "source": [
        "# solution\n",
        "svc = SVC()\n",
        "clf = GridSearchCV(svc,{'C':[0.5,1,5,8,10,15], 'gamma':['scale','auto']})\n",
        "clf.fit(vwr_img,y_train)\n"
      ],
      "execution_count": null,
      "outputs": [
        {
          "output_type": "execute_result",
          "data": {
            "text/plain": [
              "GridSearchCV(estimator=SVC(),\n",
              "             param_grid={'C': [0.5, 1, 5, 8, 10, 15],\n",
              "                         'gamma': ['scale', 'auto']})"
            ]
          },
          "metadata": {},
          "execution_count": 20
        }
      ]
    },
    {
      "cell_type": "code",
      "source": [
        "pd.DataFrame(clf.cv_results_)"
      ],
      "metadata": {
        "colab": {
          "base_uri": "https://localhost:8080/",
          "height": 906
        },
        "id": "V6nONAVghywZ",
        "outputId": "28e1eea4-63b8-4463-cc6f-16d926b58bce"
      },
      "execution_count": null,
      "outputs": [
        {
          "output_type": "execute_result",
          "data": {
            "text/plain": [
              "    mean_fit_time  std_fit_time  mean_score_time  std_score_time param_C  \\\n",
              "0        0.005049      0.000197         0.001433        0.000025     0.5   \n",
              "1        0.005352      0.000384         0.001468        0.000094     0.5   \n",
              "2        0.004966      0.000028         0.001406        0.000010       1   \n",
              "3        0.005125      0.000051         0.001411        0.000022       1   \n",
              "4        0.005448      0.000037         0.001405        0.000010       5   \n",
              "5        0.005856      0.000200         0.001626        0.000142       5   \n",
              "6        0.005738      0.000039         0.001730        0.000240       8   \n",
              "7        0.006782      0.002311         0.001576        0.000078       8   \n",
              "8        0.005856      0.000214         0.001659        0.000105      10   \n",
              "9        0.005675      0.000040         0.001635        0.000128      10   \n",
              "10       0.006656      0.000987         0.001683        0.000109      15   \n",
              "11       0.005841      0.000337         0.001570        0.000083      15   \n",
              "\n",
              "   param_gamma                        params  split0_test_score  \\\n",
              "0        scale  {'C': 0.5, 'gamma': 'scale'}           0.409091   \n",
              "1         auto   {'C': 0.5, 'gamma': 'auto'}           0.386364   \n",
              "2        scale    {'C': 1, 'gamma': 'scale'}           0.340909   \n",
              "3         auto     {'C': 1, 'gamma': 'auto'}           0.386364   \n",
              "4        scale    {'C': 5, 'gamma': 'scale'}           0.386364   \n",
              "5         auto     {'C': 5, 'gamma': 'auto'}           0.386364   \n",
              "6        scale    {'C': 8, 'gamma': 'scale'}           0.386364   \n",
              "7         auto     {'C': 8, 'gamma': 'auto'}           0.386364   \n",
              "8        scale   {'C': 10, 'gamma': 'scale'}           0.386364   \n",
              "9         auto    {'C': 10, 'gamma': 'auto'}           0.386364   \n",
              "10       scale   {'C': 15, 'gamma': 'scale'}           0.386364   \n",
              "11        auto    {'C': 15, 'gamma': 'auto'}           0.386364   \n",
              "\n",
              "    split1_test_score  split2_test_score  split3_test_score  \\\n",
              "0            0.409091           0.363636           0.363636   \n",
              "1            0.386364           0.363636           0.363636   \n",
              "2            0.454545           0.340909           0.409091   \n",
              "3            0.386364           0.363636           0.363636   \n",
              "4            0.568182           0.295455           0.409091   \n",
              "5            0.386364           0.363636           0.363636   \n",
              "6            0.568182           0.295455           0.409091   \n",
              "7            0.386364           0.363636           0.363636   \n",
              "8            0.568182           0.295455           0.409091   \n",
              "9            0.386364           0.363636           0.363636   \n",
              "10           0.568182           0.295455           0.409091   \n",
              "11           0.386364           0.363636           0.363636   \n",
              "\n",
              "    split4_test_score  mean_test_score  std_test_score  rank_test_score  \n",
              "0            0.348837         0.378858        0.025269                1  \n",
              "1            0.372093         0.374419        0.010230                2  \n",
              "2            0.209302         0.350951        0.082919               12  \n",
              "3            0.372093         0.374419        0.010230                2  \n",
              "4            0.186047         0.369027        0.126857                8  \n",
              "5            0.372093         0.374419        0.010230                2  \n",
              "6            0.186047         0.369027        0.126857                8  \n",
              "7            0.372093         0.374419        0.010230                2  \n",
              "8            0.186047         0.369027        0.126857                8  \n",
              "9            0.372093         0.374419        0.010230                2  \n",
              "10           0.186047         0.369027        0.126857                8  \n",
              "11           0.372093         0.374419        0.010230                2  "
            ],
            "text/html": [
              "\n",
              "  <div id=\"df-faf7aacc-cfe9-4759-96e2-c8a3ba92688c\">\n",
              "    <div class=\"colab-df-container\">\n",
              "      <div>\n",
              "<style scoped>\n",
              "    .dataframe tbody tr th:only-of-type {\n",
              "        vertical-align: middle;\n",
              "    }\n",
              "\n",
              "    .dataframe tbody tr th {\n",
              "        vertical-align: top;\n",
              "    }\n",
              "\n",
              "    .dataframe thead th {\n",
              "        text-align: right;\n",
              "    }\n",
              "</style>\n",
              "<table border=\"1\" class=\"dataframe\">\n",
              "  <thead>\n",
              "    <tr style=\"text-align: right;\">\n",
              "      <th></th>\n",
              "      <th>mean_fit_time</th>\n",
              "      <th>std_fit_time</th>\n",
              "      <th>mean_score_time</th>\n",
              "      <th>std_score_time</th>\n",
              "      <th>param_C</th>\n",
              "      <th>param_gamma</th>\n",
              "      <th>params</th>\n",
              "      <th>split0_test_score</th>\n",
              "      <th>split1_test_score</th>\n",
              "      <th>split2_test_score</th>\n",
              "      <th>split3_test_score</th>\n",
              "      <th>split4_test_score</th>\n",
              "      <th>mean_test_score</th>\n",
              "      <th>std_test_score</th>\n",
              "      <th>rank_test_score</th>\n",
              "    </tr>\n",
              "  </thead>\n",
              "  <tbody>\n",
              "    <tr>\n",
              "      <th>0</th>\n",
              "      <td>0.005049</td>\n",
              "      <td>0.000197</td>\n",
              "      <td>0.001433</td>\n",
              "      <td>0.000025</td>\n",
              "      <td>0.5</td>\n",
              "      <td>scale</td>\n",
              "      <td>{'C': 0.5, 'gamma': 'scale'}</td>\n",
              "      <td>0.409091</td>\n",
              "      <td>0.409091</td>\n",
              "      <td>0.363636</td>\n",
              "      <td>0.363636</td>\n",
              "      <td>0.348837</td>\n",
              "      <td>0.378858</td>\n",
              "      <td>0.025269</td>\n",
              "      <td>1</td>\n",
              "    </tr>\n",
              "    <tr>\n",
              "      <th>1</th>\n",
              "      <td>0.005352</td>\n",
              "      <td>0.000384</td>\n",
              "      <td>0.001468</td>\n",
              "      <td>0.000094</td>\n",
              "      <td>0.5</td>\n",
              "      <td>auto</td>\n",
              "      <td>{'C': 0.5, 'gamma': 'auto'}</td>\n",
              "      <td>0.386364</td>\n",
              "      <td>0.386364</td>\n",
              "      <td>0.363636</td>\n",
              "      <td>0.363636</td>\n",
              "      <td>0.372093</td>\n",
              "      <td>0.374419</td>\n",
              "      <td>0.010230</td>\n",
              "      <td>2</td>\n",
              "    </tr>\n",
              "    <tr>\n",
              "      <th>2</th>\n",
              "      <td>0.004966</td>\n",
              "      <td>0.000028</td>\n",
              "      <td>0.001406</td>\n",
              "      <td>0.000010</td>\n",
              "      <td>1</td>\n",
              "      <td>scale</td>\n",
              "      <td>{'C': 1, 'gamma': 'scale'}</td>\n",
              "      <td>0.340909</td>\n",
              "      <td>0.454545</td>\n",
              "      <td>0.340909</td>\n",
              "      <td>0.409091</td>\n",
              "      <td>0.209302</td>\n",
              "      <td>0.350951</td>\n",
              "      <td>0.082919</td>\n",
              "      <td>12</td>\n",
              "    </tr>\n",
              "    <tr>\n",
              "      <th>3</th>\n",
              "      <td>0.005125</td>\n",
              "      <td>0.000051</td>\n",
              "      <td>0.001411</td>\n",
              "      <td>0.000022</td>\n",
              "      <td>1</td>\n",
              "      <td>auto</td>\n",
              "      <td>{'C': 1, 'gamma': 'auto'}</td>\n",
              "      <td>0.386364</td>\n",
              "      <td>0.386364</td>\n",
              "      <td>0.363636</td>\n",
              "      <td>0.363636</td>\n",
              "      <td>0.372093</td>\n",
              "      <td>0.374419</td>\n",
              "      <td>0.010230</td>\n",
              "      <td>2</td>\n",
              "    </tr>\n",
              "    <tr>\n",
              "      <th>4</th>\n",
              "      <td>0.005448</td>\n",
              "      <td>0.000037</td>\n",
              "      <td>0.001405</td>\n",
              "      <td>0.000010</td>\n",
              "      <td>5</td>\n",
              "      <td>scale</td>\n",
              "      <td>{'C': 5, 'gamma': 'scale'}</td>\n",
              "      <td>0.386364</td>\n",
              "      <td>0.568182</td>\n",
              "      <td>0.295455</td>\n",
              "      <td>0.409091</td>\n",
              "      <td>0.186047</td>\n",
              "      <td>0.369027</td>\n",
              "      <td>0.126857</td>\n",
              "      <td>8</td>\n",
              "    </tr>\n",
              "    <tr>\n",
              "      <th>5</th>\n",
              "      <td>0.005856</td>\n",
              "      <td>0.000200</td>\n",
              "      <td>0.001626</td>\n",
              "      <td>0.000142</td>\n",
              "      <td>5</td>\n",
              "      <td>auto</td>\n",
              "      <td>{'C': 5, 'gamma': 'auto'}</td>\n",
              "      <td>0.386364</td>\n",
              "      <td>0.386364</td>\n",
              "      <td>0.363636</td>\n",
              "      <td>0.363636</td>\n",
              "      <td>0.372093</td>\n",
              "      <td>0.374419</td>\n",
              "      <td>0.010230</td>\n",
              "      <td>2</td>\n",
              "    </tr>\n",
              "    <tr>\n",
              "      <th>6</th>\n",
              "      <td>0.005738</td>\n",
              "      <td>0.000039</td>\n",
              "      <td>0.001730</td>\n",
              "      <td>0.000240</td>\n",
              "      <td>8</td>\n",
              "      <td>scale</td>\n",
              "      <td>{'C': 8, 'gamma': 'scale'}</td>\n",
              "      <td>0.386364</td>\n",
              "      <td>0.568182</td>\n",
              "      <td>0.295455</td>\n",
              "      <td>0.409091</td>\n",
              "      <td>0.186047</td>\n",
              "      <td>0.369027</td>\n",
              "      <td>0.126857</td>\n",
              "      <td>8</td>\n",
              "    </tr>\n",
              "    <tr>\n",
              "      <th>7</th>\n",
              "      <td>0.006782</td>\n",
              "      <td>0.002311</td>\n",
              "      <td>0.001576</td>\n",
              "      <td>0.000078</td>\n",
              "      <td>8</td>\n",
              "      <td>auto</td>\n",
              "      <td>{'C': 8, 'gamma': 'auto'}</td>\n",
              "      <td>0.386364</td>\n",
              "      <td>0.386364</td>\n",
              "      <td>0.363636</td>\n",
              "      <td>0.363636</td>\n",
              "      <td>0.372093</td>\n",
              "      <td>0.374419</td>\n",
              "      <td>0.010230</td>\n",
              "      <td>2</td>\n",
              "    </tr>\n",
              "    <tr>\n",
              "      <th>8</th>\n",
              "      <td>0.005856</td>\n",
              "      <td>0.000214</td>\n",
              "      <td>0.001659</td>\n",
              "      <td>0.000105</td>\n",
              "      <td>10</td>\n",
              "      <td>scale</td>\n",
              "      <td>{'C': 10, 'gamma': 'scale'}</td>\n",
              "      <td>0.386364</td>\n",
              "      <td>0.568182</td>\n",
              "      <td>0.295455</td>\n",
              "      <td>0.409091</td>\n",
              "      <td>0.186047</td>\n",
              "      <td>0.369027</td>\n",
              "      <td>0.126857</td>\n",
              "      <td>8</td>\n",
              "    </tr>\n",
              "    <tr>\n",
              "      <th>9</th>\n",
              "      <td>0.005675</td>\n",
              "      <td>0.000040</td>\n",
              "      <td>0.001635</td>\n",
              "      <td>0.000128</td>\n",
              "      <td>10</td>\n",
              "      <td>auto</td>\n",
              "      <td>{'C': 10, 'gamma': 'auto'}</td>\n",
              "      <td>0.386364</td>\n",
              "      <td>0.386364</td>\n",
              "      <td>0.363636</td>\n",
              "      <td>0.363636</td>\n",
              "      <td>0.372093</td>\n",
              "      <td>0.374419</td>\n",
              "      <td>0.010230</td>\n",
              "      <td>2</td>\n",
              "    </tr>\n",
              "    <tr>\n",
              "      <th>10</th>\n",
              "      <td>0.006656</td>\n",
              "      <td>0.000987</td>\n",
              "      <td>0.001683</td>\n",
              "      <td>0.000109</td>\n",
              "      <td>15</td>\n",
              "      <td>scale</td>\n",
              "      <td>{'C': 15, 'gamma': 'scale'}</td>\n",
              "      <td>0.386364</td>\n",
              "      <td>0.568182</td>\n",
              "      <td>0.295455</td>\n",
              "      <td>0.409091</td>\n",
              "      <td>0.186047</td>\n",
              "      <td>0.369027</td>\n",
              "      <td>0.126857</td>\n",
              "      <td>8</td>\n",
              "    </tr>\n",
              "    <tr>\n",
              "      <th>11</th>\n",
              "      <td>0.005841</td>\n",
              "      <td>0.000337</td>\n",
              "      <td>0.001570</td>\n",
              "      <td>0.000083</td>\n",
              "      <td>15</td>\n",
              "      <td>auto</td>\n",
              "      <td>{'C': 15, 'gamma': 'auto'}</td>\n",
              "      <td>0.386364</td>\n",
              "      <td>0.386364</td>\n",
              "      <td>0.363636</td>\n",
              "      <td>0.363636</td>\n",
              "      <td>0.372093</td>\n",
              "      <td>0.374419</td>\n",
              "      <td>0.010230</td>\n",
              "      <td>2</td>\n",
              "    </tr>\n",
              "  </tbody>\n",
              "</table>\n",
              "</div>\n",
              "      <button class=\"colab-df-convert\" onclick=\"convertToInteractive('df-faf7aacc-cfe9-4759-96e2-c8a3ba92688c')\"\n",
              "              title=\"Convert this dataframe to an interactive table.\"\n",
              "              style=\"display:none;\">\n",
              "        \n",
              "  <svg xmlns=\"http://www.w3.org/2000/svg\" height=\"24px\"viewBox=\"0 0 24 24\"\n",
              "       width=\"24px\">\n",
              "    <path d=\"M0 0h24v24H0V0z\" fill=\"none\"/>\n",
              "    <path d=\"M18.56 5.44l.94 2.06.94-2.06 2.06-.94-2.06-.94-.94-2.06-.94 2.06-2.06.94zm-11 1L8.5 8.5l.94-2.06 2.06-.94-2.06-.94L8.5 2.5l-.94 2.06-2.06.94zm10 10l.94 2.06.94-2.06 2.06-.94-2.06-.94-.94-2.06-.94 2.06-2.06.94z\"/><path d=\"M17.41 7.96l-1.37-1.37c-.4-.4-.92-.59-1.43-.59-.52 0-1.04.2-1.43.59L10.3 9.45l-7.72 7.72c-.78.78-.78 2.05 0 2.83L4 21.41c.39.39.9.59 1.41.59.51 0 1.02-.2 1.41-.59l7.78-7.78 2.81-2.81c.8-.78.8-2.07 0-2.86zM5.41 20L4 18.59l7.72-7.72 1.47 1.35L5.41 20z\"/>\n",
              "  </svg>\n",
              "      </button>\n",
              "      \n",
              "  <style>\n",
              "    .colab-df-container {\n",
              "      display:flex;\n",
              "      flex-wrap:wrap;\n",
              "      gap: 12px;\n",
              "    }\n",
              "\n",
              "    .colab-df-convert {\n",
              "      background-color: #E8F0FE;\n",
              "      border: none;\n",
              "      border-radius: 50%;\n",
              "      cursor: pointer;\n",
              "      display: none;\n",
              "      fill: #1967D2;\n",
              "      height: 32px;\n",
              "      padding: 0 0 0 0;\n",
              "      width: 32px;\n",
              "    }\n",
              "\n",
              "    .colab-df-convert:hover {\n",
              "      background-color: #E2EBFA;\n",
              "      box-shadow: 0px 1px 2px rgba(60, 64, 67, 0.3), 0px 1px 3px 1px rgba(60, 64, 67, 0.15);\n",
              "      fill: #174EA6;\n",
              "    }\n",
              "\n",
              "    [theme=dark] .colab-df-convert {\n",
              "      background-color: #3B4455;\n",
              "      fill: #D2E3FC;\n",
              "    }\n",
              "\n",
              "    [theme=dark] .colab-df-convert:hover {\n",
              "      background-color: #434B5C;\n",
              "      box-shadow: 0px 1px 3px 1px rgba(0, 0, 0, 0.15);\n",
              "      filter: drop-shadow(0px 1px 2px rgba(0, 0, 0, 0.3));\n",
              "      fill: #FFFFFF;\n",
              "    }\n",
              "  </style>\n",
              "\n",
              "      <script>\n",
              "        const buttonEl =\n",
              "          document.querySelector('#df-faf7aacc-cfe9-4759-96e2-c8a3ba92688c button.colab-df-convert');\n",
              "        buttonEl.style.display =\n",
              "          google.colab.kernel.accessAllowed ? 'block' : 'none';\n",
              "\n",
              "        async function convertToInteractive(key) {\n",
              "          const element = document.querySelector('#df-faf7aacc-cfe9-4759-96e2-c8a3ba92688c');\n",
              "          const dataTable =\n",
              "            await google.colab.kernel.invokeFunction('convertToInteractive',\n",
              "                                                     [key], {});\n",
              "          if (!dataTable) return;\n",
              "\n",
              "          const docLinkHtml = 'Like what you see? Visit the ' +\n",
              "            '<a target=\"_blank\" href=https://colab.research.google.com/notebooks/data_table.ipynb>data table notebook</a>'\n",
              "            + ' to learn more about interactive tables.';\n",
              "          element.innerHTML = '';\n",
              "          dataTable['output_type'] = 'display_data';\n",
              "          await google.colab.output.renderOutput(dataTable, element);\n",
              "          const docLink = document.createElement('div');\n",
              "          docLink.innerHTML = docLinkHtml;\n",
              "          element.appendChild(docLink);\n",
              "        }\n",
              "      </script>\n",
              "    </div>\n",
              "  </div>\n",
              "  "
            ]
          },
          "metadata": {},
          "execution_count": 21
        }
      ]
    },
    {
      "cell_type": "code",
      "source": [
        "print('The scale mode of SVC would use a gamma of {}, then using auto mode would use -> {}'.format(1/(256*dcs_flatten.var()),1/256))"
      ],
      "metadata": {
        "colab": {
          "base_uri": "https://localhost:8080/"
        },
        "id": "gX2dvWpnLC_r",
        "outputId": "13c5664b-e553-4851-b113-1f9a6a2d2d12"
      },
      "execution_count": null,
      "outputs": [
        {
          "output_type": "stream",
          "name": "stdout",
          "text": [
            "The scale mode of SVC would use a gamma of 0.015659116545715234, then using auto mode would use -> 0.00390625\n"
          ]
        }
      ]
    },
    {
      "cell_type": "markdown",
      "metadata": {
        "id": "eqThTmO5j1-p"
      },
      "source": [
        "# Testing the Classification Model\n",
        "\n",
        "*   Extract descriptors using ORB for the test split\n",
        "*   Use the previously trained k-means to generate the histogram\n",
        "*   Use the classifier to predict the label\n"
      ]
    },
    {
      "cell_type": "code",
      "metadata": {
        "id": "x2Gzbww9e0pP",
        "colab": {
          "base_uri": "https://localhost:8080/",
          "height": 295
        },
        "outputId": "4919a285-1f2e-4f62-9db2-6a4b44c1add6"
      },
      "source": [
        "# solution\n",
        "kps_test,dcs_test = get_multi_ORB(descriptor_extractor,x_test)\n",
        "vwr_img_test = []\n",
        "for img_dsc in dcs_test:\n",
        "  vwr_img_test.append(kmeans.predict(img_dsc))\n",
        "vwr_img_test = np.array(vwr_img_test)\n",
        "\n",
        "plt.bar(list(range(30)),ske.histogram(np.concatenate(vwr_img_test), 30)[0])\n",
        "plt.title('Frequency of Visual Words Test Data')\n",
        "plt.ylabel('Number of visual words')\n",
        "plt.xlabel('Clusters')\n",
        "\n",
        "preds = clf.predict(vwr_img_test)\n"
      ],
      "execution_count": null,
      "outputs": [
        {
          "output_type": "display_data",
          "data": {
            "text/plain": [
              "<Figure size 432x288 with 1 Axes>"
            ],
            "image/png": "[encoded data removed]"
          },
          "metadata": {
            "needs_background": "light"
          }
        }
      ]
    },
    {
      "cell_type": "markdown",
      "metadata": {
        "id": "gGyQUtU3lAEz"
      },
      "source": [
        "*   Calculate the accuracy score for the classification model"
      ]
    },
    {
      "cell_type": "code",
      "source": [
        "preds"
      ],
      "metadata": {
        "colab": {
          "base_uri": "https://localhost:8080/"
        },
        "id": "Bze3xctjt812",
        "outputId": "112c9046-49c7-450e-eb2b-9dc34f0138b6"
      },
      "execution_count": null,
      "outputs": [
        {
          "output_type": "execute_result",
          "data": {
            "text/plain": [
              "array(['kangaroo', 'butterfly', 'butterfly', 'butterfly', 'butterfly',\n",
              "       'butterfly', 'butterfly', 'butterfly', 'butterfly', 'butterfly',\n",
              "       'butterfly', 'butterfly', 'butterfly', 'kangaroo', 'butterfly',\n",
              "       'butterfly', 'butterfly', 'kangaroo', 'kangaroo', 'butterfly',\n",
              "       'kangaroo', 'butterfly', 'butterfly', 'butterfly', 'butterfly'],\n",
              "      dtype='<U9')"
            ]
          },
          "metadata": {},
          "execution_count": 24
        }
      ]
    },
    {
      "cell_type": "code",
      "source": [
        "y_test"
      ],
      "metadata": {
        "colab": {
          "base_uri": "https://localhost:8080/"
        },
        "id": "GSwxNfZIuAwI",
        "outputId": "048d1876-37ab-4f21-bb0f-51cab5350a59"
      },
      "execution_count": null,
      "outputs": [
        {
          "output_type": "execute_result",
          "data": {
            "text/plain": [
              "['butterfly',\n",
              " 'dalmatian',\n",
              " 'butterfly',\n",
              " 'dalmatian',\n",
              " 'kangaroo',\n",
              " 'kangaroo',\n",
              " 'butterfly',\n",
              " 'kangaroo',\n",
              " 'dalmatian',\n",
              " 'butterfly',\n",
              " 'butterfly',\n",
              " 'butterfly',\n",
              " 'kangaroo',\n",
              " 'dalmatian',\n",
              " 'dalmatian',\n",
              " 'kangaroo',\n",
              " 'dalmatian',\n",
              " 'kangaroo',\n",
              " 'dalmatian',\n",
              " 'butterfly',\n",
              " 'kangaroo',\n",
              " 'kangaroo',\n",
              " 'kangaroo',\n",
              " 'butterfly',\n",
              " 'butterfly']"
            ]
          },
          "metadata": {},
          "execution_count": 25
        }
      ]
    },
    {
      "cell_type": "code",
      "metadata": {
        "id": "PszxSB0Ek_Lt",
        "colab": {
          "base_uri": "https://localhost:8080/"
        },
        "outputId": "f189ef50-2478-4ef2-84fe-0f380d9f0d1b"
      },
      "source": [
        "# solution\n",
        "print(accuracy_score(y_test, preds))"
      ],
      "execution_count": null,
      "outputs": [
        {
          "output_type": "stream",
          "name": "stdout",
          "text": [
            "0.4\n"
          ]
        }
      ]
    },
    {
      "cell_type": "markdown",
      "metadata": {
        "id": "drlq-5AM615_"
      },
      "source": [
        "*   Generate the confusion matrix for the classification model"
      ]
    },
    {
      "cell_type": "code",
      "metadata": {
        "id": "NpqXVYrw61OG",
        "colab": {
          "base_uri": "https://localhost:8080/",
          "height": 855
        },
        "outputId": "ac223093-20b1-412a-9dac-9b4c85cba9c1"
      },
      "source": [
        "# solution\n",
        "from customplots import plot_confusion_matrix\n",
        "target_names  = list(range(30))\n",
        "plot_confusion_matrix(confusion_matrix(y_test, preds),categories,False,'YlGnBu', 'Confusion matrix of visual words classification')"
      ],
      "execution_count": null,
      "outputs": [
        {
          "output_type": "display_data",
          "data": {
            "text/plain": [
              "<Figure size 1008x1008 with 2 Axes>"
            ],
            "image/png": "[encoded data removed]"
          },
          "metadata": {
            "needs_background": "light"
          }
        }
      ]
    },
    {
      "cell_type": "code",
      "source": [
        "# solution\n",
        "from customplots import plot_confusion_matrix\n",
        "target_names  = list(range(30))\n",
        "plot_confusion_matrix(confusion_matrix(y_test, preds),categories,True,'YlGnBu', 'Normalized confusion matrix of visual words classification',fsizes={'font':15})"
      ],
      "metadata": {
        "colab": {
          "base_uri": "https://localhost:8080/",
          "height": 855
        },
        "id": "qXc6gpyJsXui",
        "outputId": "01571d05-69d5-4d15-b2ec-46c33521d1a5"
      },
      "execution_count": null,
      "outputs": [
        {
          "output_type": "display_data",
          "data": {
            "text/plain": [
              "<Figure size 1008x1008 with 2 Axes>"
            ],
            "image/png": "[encoded data removed]"
          },
          "metadata": {
            "needs_background": "light"
          }
        }
      ]
    },
    {
      "cell_type": "markdown",
      "metadata": {
        "id": "7TN4rRra9yv_"
      },
      "source": [
        "*   Why do we use Clustering to create the codebook? \n",
        "*   What are the other techniques that can be used to create the codebook?"
      ]
    },
    {
      "cell_type": "markdown",
      "metadata": {
        "id": "Ri9kU3wa3Rei"
      },
      "source": [
        "**Solution**\n",
        "\n",
        "*K-means clustering is the most commonly used technique for codebook creation based on exisiting literature.*\n",
        "\n",
        "*Some other techniques that could be used to create the codebook could be hierarchical clustering, Self-Organizing Maps, mean-shift, or other clustering methods.*\n",
        "\n",
        "..."
      ]
    },
    {
      "cell_type": "markdown",
      "source": [
        "# Increased Feature Dimensions\n",
        "\n",
        "*   Repeat the classification using features of 256 ORB keypoints."
      ],
      "metadata": {
        "id": "b47OqebCOXpq"
      }
    },
    {
      "cell_type": "code",
      "source": [
        "# Creating the descriptor ectractor for 256 keypoints\n",
        "descriptor_extractor256 = feature.ORB(n_keypoints=256)\n",
        "\n",
        "# Getting keypoints and descriptors of train data \n",
        "kps_train256,dcs_train256 = get_multi_ORB(descriptor_extractor256, x_train)\n",
        "\n",
        "bad_image = [n for n, item in enumerate(dcs_train256) if item.shape != (256,256)]\n",
        "print('Bad image: ', bad_image)\n",
        "\n",
        "# One image has shape (232*300) the dimension (232) does not allow us to get \n",
        "# 256 descriptors, we can get just 231 descriptors, this produces an error to \n",
        "# reshape the array, so we make a movement to extract it and add it at the end\n",
        "dcs_train256 = list(dcs_train256)\n",
        "deleted = dcs_train256.pop(bad_image[0])\n",
        "dcs_train256 = np.array(dcs_train256)\n",
        "if len(y_train) == 219:\n",
        "  y_train.pop(bad_image[0])\n",
        "\n",
        "# Flattening the data and applying clustering with k-means - 30 clusters (codewords)\n",
        "dcs_flatten256 = np.reshape(dcs_train256, (len(dcs_train256)*dcs_train256[0].shape[0],dcs_train256[0].shape[1]))\n",
        "dcs_flatten256 = np.concatenate((dcs_flatten256,deleted)) # Adding the deleted group of image descriptors\n",
        "print(dcs_flatten256.shape)\n",
        "kmeans256 = MiniBatchKMeans(n_clusters=len(categories)*10, random_state=8).fit(dcs_flatten256)\n",
        "\n",
        "vwr_img256 = []\n",
        "# dcs_train256 = list(dcs_train256)\n",
        "# dcs_train256.append(deleted)\n",
        "# dcs_train256 = np.array(dcs_train256, dtype=object)\n",
        "for img_dsc in dcs_train256:\n",
        "  vwr_img256.append(kmeans256.predict(img_dsc))\n",
        "vwr_img256 = np.array(vwr_img256)\n",
        "\n",
        "# Plotting the histogram of visual words frequencies\n",
        "fig1 = plt.figure()\n",
        "plt.bar(list(range(30)),ske.histogram(np.concatenate(vwr_img256), 30)[0])\n",
        "plt.title('Frequency of Visual Words Training Data (256)')\n",
        "plt.ylabel('Number of visual words')\n",
        "plt.xlabel('Clusters')\n",
        "\n",
        "\n",
        "# Looking for the best classifier model in this task\n",
        "svc256 = SVC()\n",
        "clf256 = GridSearchCV(svc256,{'C':[0.5,1,5,10], 'gamma':['scale','auto',0.005,0.5]}, n_jobs=4, verbose=3)\n",
        "clf256.fit(vwr_img256,y_train)\n",
        "\n",
        "# Getting keypoints and descriptors of test data, flattening & applying k-means\n",
        "kps_test256,dcs_test256 = get_multi_ORB(descriptor_extractor256,x_test)\n",
        "dcs_test_flatten256 =  np.reshape(dcs_test256, (len(dcs_test256)*dcs_test256.shape[1],dcs_test256.shape[2]))\n",
        "tst_labs256 = kmeans256.predict(dcs_test_flatten256)\n",
        "\n",
        "vwr_img256_test = []\n",
        "for img_dsc in dcs_test256:\n",
        "  vwr_img256_test.append(kmeans256.predict(img_dsc))\n",
        "vwr_img256_test = np.array(vwr_img256_test)\n",
        "\n",
        "# Plotting the histogram of visual words frequencies (test data)\n",
        "fig2 = plt.figure()\n",
        "plt.bar(list(range(30)),ske.histogram(np.concatenate(vwr_img256_test), 30)[0])\n",
        "plt.title('Frequency of Visual Words Test Data (256)')\n",
        "plt.ylabel('Number of visual words')\n",
        "plt.xlabel('Clusters')\n",
        "\n",
        "# Using the trained model get predictions \n",
        "preds256 = clf256.predict(vwr_img256_test)\n",
        "\n",
        "# Evaluate the model with accuracy and confusion\n",
        "print('\\n\\n#----------Accuracy on test data: {} \\n\\n\\n'.format(accuracy_score(y_test, preds256)))\n",
        "\n",
        "plot_confusion_matrix(confusion_matrix(y_test, preds256),categories,False,'YlGnBu', 'Confusion matrix of visual words classification (256)', fsizes={'font':15})\n",
        "plot_confusion_matrix(confusion_matrix(y_test, preds256),categories,True,'YlGnBu', 'Normalized confusion matrix of visual words classification (256)', fsizes={'font':15})"
      ],
      "metadata": {
        "id": "CiY8GERXOxbB",
        "colab": {
          "base_uri": "https://localhost:8080/",
          "height": 1000
        },
        "outputId": "51ee1673-e52a-4912-eefe-31b59fee60c8"
      },
      "execution_count": null,
      "outputs": [
        {
          "output_type": "stream",
          "name": "stderr",
          "text": [
            "/content/utils.py:28: VisibleDeprecationWarning: Creating an ndarray from ragged nested sequences (which is a list-or-tuple of lists-or-tuples-or ndarrays with different lengths or shapes) is deprecated. If you meant to do this, you must specify 'dtype=object' when creating the ndarray.\n",
            "  return np.array(keypoints), np.array(descriptors)\n"
          ]
        },
        {
          "output_type": "stream",
          "name": "stdout",
          "text": [
            "Bad image:  [73]\n",
            "(56039, 256)\n",
            "Fitting 5 folds for each of 16 candidates, totalling 80 fits\n",
            "\n",
            "\n",
            "#----------Accuracy on test data: 0.6 \n",
            "\n",
            "\n",
            "\n"
          ]
        },
        {
          "output_type": "display_data",
          "data": {
            "text/plain": [
              "<Figure size 432x288 with 1 Axes>"
            ],
            "image/png": "[encoded data removed]"
          },
          "metadata": {
            "needs_background": "light"
          }
        },
        {
          "output_type": "display_data",
          "data": {
            "text/plain": [
              "<Figure size 432x288 with 1 Axes>"
            ],
            "image/png": "[encoded data removed]"
          },
          "metadata": {
            "needs_background": "light"
          }
        },
        {
          "output_type": "display_data",
          "data": {
            "text/plain": [
              "<Figure size 1008x1008 with 2 Axes>"
            ],
            "image/png": "[encoded data removed]"
          },
          "metadata": {
            "needs_background": "light"
          }
        },
        {
          "output_type": "display_data",
          "data": {
            "text/plain": [
              "<Figure size 1008x1008 with 2 Axes>"
            ],
            "image/png": "[encoded data removed]"
          },
          "metadata": {
            "needs_background": "light"
          }
        }
      ]
    },
    {
      "cell_type": "code",
      "source": [
        "pd.DataFrame(clf256.cv_results_)"
      ],
      "metadata": {
        "id": "L62ZAtGSvz4S",
        "outputId": "631f1668-db06-44e0-880e-63517e902bab",
        "colab": {
          "base_uri": "https://localhost:8080/",
          "height": 1000
        }
      },
      "execution_count": null,
      "outputs": [
        {
          "output_type": "execute_result",
          "data": {
            "text/plain": [
              "    mean_fit_time  std_fit_time  mean_score_time  std_score_time param_C  \\\n",
              "0        0.015760      0.005085         0.004431        0.002077     0.5   \n",
              "1        0.013293      0.001390         0.004361        0.002361     0.5   \n",
              "2        0.015209      0.001560         0.002892        0.000052     0.5   \n",
              "3        0.011917      0.004407         0.003017        0.000105     0.5   \n",
              "4        0.007791      0.000888         0.003125        0.000496       1   \n",
              "5        0.007015      0.000148         0.003087        0.000346       1   \n",
              "6        0.011719      0.004852         0.003214        0.000636       1   \n",
              "7        0.008179      0.001420         0.002965        0.000089       1   \n",
              "8        0.009657      0.001982         0.002991        0.000172       5   \n",
              "9        0.015196      0.006972         0.003969        0.001673       5   \n",
              "10       0.013885      0.001239         0.005526        0.003173       5   \n",
              "11       0.016456      0.002318         0.005852        0.002469       5   \n",
              "12       0.014485      0.002188         0.007365        0.003670      10   \n",
              "13       0.016455      0.004629         0.005772        0.003419      10   \n",
              "14       0.017770      0.004286         0.005151        0.002877      10   \n",
              "15       0.008261      0.002655         0.004331        0.002964      10   \n",
              "\n",
              "   param_gamma                        params  split0_test_score  \\\n",
              "0        scale  {'C': 0.5, 'gamma': 'scale'}           0.386364   \n",
              "1         auto   {'C': 0.5, 'gamma': 'auto'}           0.386364   \n",
              "2        0.005    {'C': 0.5, 'gamma': 0.005}           0.386364   \n",
              "3          0.5      {'C': 0.5, 'gamma': 0.5}           0.386364   \n",
              "4        scale    {'C': 1, 'gamma': 'scale'}           0.454545   \n",
              "5         auto     {'C': 1, 'gamma': 'auto'}           0.386364   \n",
              "6        0.005      {'C': 1, 'gamma': 0.005}           0.386364   \n",
              "7          0.5        {'C': 1, 'gamma': 0.5}           0.386364   \n",
              "8        scale    {'C': 5, 'gamma': 'scale'}           0.477273   \n",
              "9         auto     {'C': 5, 'gamma': 'auto'}           0.386364   \n",
              "10       0.005      {'C': 5, 'gamma': 0.005}           0.386364   \n",
              "11         0.5        {'C': 5, 'gamma': 0.5}           0.386364   \n",
              "12       scale   {'C': 10, 'gamma': 'scale'}           0.477273   \n",
              "13        auto    {'C': 10, 'gamma': 'auto'}           0.386364   \n",
              "14       0.005     {'C': 10, 'gamma': 0.005}           0.386364   \n",
              "15         0.5       {'C': 10, 'gamma': 0.5}           0.386364   \n",
              "\n",
              "    split1_test_score  split2_test_score  split3_test_score  \\\n",
              "0            0.363636           0.363636           0.372093   \n",
              "1            0.363636           0.363636           0.372093   \n",
              "2            0.363636           0.363636           0.372093   \n",
              "3            0.363636           0.363636           0.372093   \n",
              "4            0.477273           0.454545           0.441860   \n",
              "5            0.363636           0.363636           0.372093   \n",
              "6            0.363636           0.363636           0.372093   \n",
              "7            0.363636           0.363636           0.372093   \n",
              "8            0.454545           0.431818           0.395349   \n",
              "9            0.363636           0.363636           0.372093   \n",
              "10           0.363636           0.363636           0.372093   \n",
              "11           0.363636           0.363636           0.372093   \n",
              "12           0.454545           0.431818           0.395349   \n",
              "13           0.363636           0.363636           0.372093   \n",
              "14           0.363636           0.363636           0.372093   \n",
              "15           0.363636           0.363636           0.372093   \n",
              "\n",
              "    split4_test_score  mean_test_score  std_test_score  rank_test_score  \n",
              "0            0.372093         0.371564        0.008310                4  \n",
              "1            0.372093         0.371564        0.008310                4  \n",
              "2            0.372093         0.371564        0.008310                4  \n",
              "3            0.372093         0.371564        0.008310                4  \n",
              "4            0.395349         0.444715        0.027197                1  \n",
              "5            0.372093         0.371564        0.008310                4  \n",
              "6            0.372093         0.371564        0.008310                4  \n",
              "7            0.372093         0.371564        0.008310                4  \n",
              "8            0.418605         0.435518        0.028351                2  \n",
              "9            0.372093         0.371564        0.008310                4  \n",
              "10           0.372093         0.371564        0.008310                4  \n",
              "11           0.372093         0.371564        0.008310                4  \n",
              "12           0.418605         0.435518        0.028351                2  \n",
              "13           0.372093         0.371564        0.008310                4  \n",
              "14           0.372093         0.371564        0.008310                4  \n",
              "15           0.372093         0.371564        0.008310                4  "
            ],
            "text/html": [
              "\n",
              "  <div id=\"df-463917ba-10b3-40bd-b88e-8eb87bee6e55\">\n",
              "    <div class=\"colab-df-container\">\n",
              "      <div>\n",
              "<style scoped>\n",
              "    .dataframe tbody tr th:only-of-type {\n",
              "        vertical-align: middle;\n",
              "    }\n",
              "\n",
              "    .dataframe tbody tr th {\n",
              "        vertical-align: top;\n",
              "    }\n",
              "\n",
              "    .dataframe thead th {\n",
              "        text-align: right;\n",
              "    }\n",
              "</style>\n",
              "<table border=\"1\" class=\"dataframe\">\n",
              "  <thead>\n",
              "    <tr style=\"text-align: right;\">\n",
              "      <th></th>\n",
              "      <th>mean_fit_time</th>\n",
              "      <th>std_fit_time</th>\n",
              "      <th>mean_score_time</th>\n",
              "      <th>std_score_time</th>\n",
              "      <th>param_C</th>\n",
              "      <th>param_gamma</th>\n",
              "      <th>params</th>\n",
              "      <th>split0_test_score</th>\n",
              "      <th>split1_test_score</th>\n",
              "      <th>split2_test_score</th>\n",
              "      <th>split3_test_score</th>\n",
              "      <th>split4_test_score</th>\n",
              "      <th>mean_test_score</th>\n",
              "      <th>std_test_score</th>\n",
              "      <th>rank_test_score</th>\n",
              "    </tr>\n",
              "  </thead>\n",
              "  <tbody>\n",
              "    <tr>\n",
              "      <th>0</th>\n",
              "      <td>0.015760</td>\n",
              "      <td>0.005085</td>\n",
              "      <td>0.004431</td>\n",
              "      <td>0.002077</td>\n",
              "      <td>0.5</td>\n",
              "      <td>scale</td>\n",
              "      <td>{'C': 0.5, 'gamma': 'scale'}</td>\n",
              "      <td>0.386364</td>\n",
              "      <td>0.363636</td>\n",
              "      <td>0.363636</td>\n",
              "      <td>0.372093</td>\n",
              "      <td>0.372093</td>\n",
              "      <td>0.371564</td>\n",
              "      <td>0.008310</td>\n",
              "      <td>4</td>\n",
              "    </tr>\n",
              "    <tr>\n",
              "      <th>1</th>\n",
              "      <td>0.013293</td>\n",
              "      <td>0.001390</td>\n",
              "      <td>0.004361</td>\n",
              "      <td>0.002361</td>\n",
              "      <td>0.5</td>\n",
              "      <td>auto</td>\n",
              "      <td>{'C': 0.5, 'gamma': 'auto'}</td>\n",
              "      <td>0.386364</td>\n",
              "      <td>0.363636</td>\n",
              "      <td>0.363636</td>\n",
              "      <td>0.372093</td>\n",
              "      <td>0.372093</td>\n",
              "      <td>0.371564</td>\n",
              "      <td>0.008310</td>\n",
              "      <td>4</td>\n",
              "    </tr>\n",
              "    <tr>\n",
              "      <th>2</th>\n",
              "      <td>0.015209</td>\n",
              "      <td>0.001560</td>\n",
              "      <td>0.002892</td>\n",
              "      <td>0.000052</td>\n",
              "      <td>0.5</td>\n",
              "      <td>0.005</td>\n",
              "      <td>{'C': 0.5, 'gamma': 0.005}</td>\n",
              "      <td>0.386364</td>\n",
              "      <td>0.363636</td>\n",
              "      <td>0.363636</td>\n",
              "      <td>0.372093</td>\n",
              "      <td>0.372093</td>\n",
              "      <td>0.371564</td>\n",
              "      <td>0.008310</td>\n",
              "      <td>4</td>\n",
              "    </tr>\n",
              "    <tr>\n",
              "      <th>3</th>\n",
              "      <td>0.011917</td>\n",
              "      <td>0.004407</td>\n",
              "      <td>0.003017</td>\n",
              "      <td>0.000105</td>\n",
              "      <td>0.5</td>\n",
              "      <td>0.5</td>\n",
              "      <td>{'C': 0.5, 'gamma': 0.5}</td>\n",
              "      <td>0.386364</td>\n",
              "      <td>0.363636</td>\n",
              "      <td>0.363636</td>\n",
              "      <td>0.372093</td>\n",
              "      <td>0.372093</td>\n",
              "      <td>0.371564</td>\n",
              "      <td>0.008310</td>\n",
              "      <td>4</td>\n",
              "    </tr>\n",
              "    <tr>\n",
              "      <th>4</th>\n",
              "      <td>0.007791</td>\n",
              "      <td>0.000888</td>\n",
              "      <td>0.003125</td>\n",
              "      <td>0.000496</td>\n",
              "      <td>1</td>\n",
              "      <td>scale</td>\n",
              "      <td>{'C': 1, 'gamma': 'scale'}</td>\n",
              "      <td>0.454545</td>\n",
              "      <td>0.477273</td>\n",
              "      <td>0.454545</td>\n",
              "      <td>0.441860</td>\n",
              "      <td>0.395349</td>\n",
              "      <td>0.444715</td>\n",
              "      <td>0.027197</td>\n",
              "      <td>1</td>\n",
              "    </tr>\n",
              "    <tr>\n",
              "      <th>5</th>\n",
              "      <td>0.007015</td>\n",
              "      <td>0.000148</td>\n",
              "      <td>0.003087</td>\n",
              "      <td>0.000346</td>\n",
              "      <td>1</td>\n",
              "      <td>auto</td>\n",
              "      <td>{'C': 1, 'gamma': 'auto'}</td>\n",
              "      <td>0.386364</td>\n",
              "      <td>0.363636</td>\n",
              "      <td>0.363636</td>\n",
              "      <td>0.372093</td>\n",
              "      <td>0.372093</td>\n",
              "      <td>0.371564</td>\n",
              "      <td>0.008310</td>\n",
              "      <td>4</td>\n",
              "    </tr>\n",
              "    <tr>\n",
              "      <th>6</th>\n",
              "      <td>0.011719</td>\n",
              "      <td>0.004852</td>\n",
              "      <td>0.003214</td>\n",
              "      <td>0.000636</td>\n",
              "      <td>1</td>\n",
              "      <td>0.005</td>\n",
              "      <td>{'C': 1, 'gamma': 0.005}</td>\n",
              "      <td>0.386364</td>\n",
              "      <td>0.363636</td>\n",
              "      <td>0.363636</td>\n",
              "      <td>0.372093</td>\n",
              "      <td>0.372093</td>\n",
              "      <td>0.371564</td>\n",
              "      <td>0.008310</td>\n",
              "      <td>4</td>\n",
              "    </tr>\n",
              "    <tr>\n",
              "      <th>7</th>\n",
              "      <td>0.008179</td>\n",
              "      <td>0.001420</td>\n",
              "      <td>0.002965</td>\n",
              "      <td>0.000089</td>\n",
              "      <td>1</td>\n",
              "      <td>0.5</td>\n",
              "      <td>{'C': 1, 'gamma': 0.5}</td>\n",
              "      <td>0.386364</td>\n",
              "      <td>0.363636</td>\n",
              "      <td>0.363636</td>\n",
              "      <td>0.372093</td>\n",
              "      <td>0.372093</td>\n",
              "      <td>0.371564</td>\n",
              "      <td>0.008310</td>\n",
              "      <td>4</td>\n",
              "    </tr>\n",
              "    <tr>\n",
              "      <th>8</th>\n",
              "      <td>0.009657</td>\n",
              "      <td>0.001982</td>\n",
              "      <td>0.002991</td>\n",
              "      <td>0.000172</td>\n",
              "      <td>5</td>\n",
              "      <td>scale</td>\n",
              "      <td>{'C': 5, 'gamma': 'scale'}</td>\n",
              "      <td>0.477273</td>\n",
              "      <td>0.454545</td>\n",
              "      <td>0.431818</td>\n",
              "      <td>0.395349</td>\n",
              "      <td>0.418605</td>\n",
              "      <td>0.435518</td>\n",
              "      <td>0.028351</td>\n",
              "      <td>2</td>\n",
              "    </tr>\n",
              "    <tr>\n",
              "      <th>9</th>\n",
              "      <td>0.015196</td>\n",
              "      <td>0.006972</td>\n",
              "      <td>0.003969</td>\n",
              "      <td>0.001673</td>\n",
              "      <td>5</td>\n",
              "      <td>auto</td>\n",
              "      <td>{'C': 5, 'gamma': 'auto'}</td>\n",
              "      <td>0.386364</td>\n",
              "      <td>0.363636</td>\n",
              "      <td>0.363636</td>\n",
              "      <td>0.372093</td>\n",
              "      <td>0.372093</td>\n",
              "      <td>0.371564</td>\n",
              "      <td>0.008310</td>\n",
              "      <td>4</td>\n",
              "    </tr>\n",
              "    <tr>\n",
              "      <th>10</th>\n",
              "      <td>0.013885</td>\n",
              "      <td>0.001239</td>\n",
              "      <td>0.005526</td>\n",
              "      <td>0.003173</td>\n",
              "      <td>5</td>\n",
              "      <td>0.005</td>\n",
              "      <td>{'C': 5, 'gamma': 0.005}</td>\n",
              "      <td>0.386364</td>\n",
              "      <td>0.363636</td>\n",
              "      <td>0.363636</td>\n",
              "      <td>0.372093</td>\n",
              "      <td>0.372093</td>\n",
              "      <td>0.371564</td>\n",
              "      <td>0.008310</td>\n",
              "      <td>4</td>\n",
              "    </tr>\n",
              "    <tr>\n",
              "      <th>11</th>\n",
              "      <td>0.016456</td>\n",
              "      <td>0.002318</td>\n",
              "      <td>0.005852</td>\n",
              "      <td>0.002469</td>\n",
              "      <td>5</td>\n",
              "      <td>0.5</td>\n",
              "      <td>{'C': 5, 'gamma': 0.5}</td>\n",
              "      <td>0.386364</td>\n",
              "      <td>0.363636</td>\n",
              "      <td>0.363636</td>\n",
              "      <td>0.372093</td>\n",
              "      <td>0.372093</td>\n",
              "      <td>0.371564</td>\n",
              "      <td>0.008310</td>\n",
              "      <td>4</td>\n",
              "    </tr>\n",
              "    <tr>\n",
              "      <th>12</th>\n",
              "      <td>0.014485</td>\n",
              "      <td>0.002188</td>\n",
              "      <td>0.007365</td>\n",
              "      <td>0.003670</td>\n",
              "      <td>10</td>\n",
              "      <td>scale</td>\n",
              "      <td>{'C': 10, 'gamma': 'scale'}</td>\n",
              "      <td>0.477273</td>\n",
              "      <td>0.454545</td>\n",
              "      <td>0.431818</td>\n",
              "      <td>0.395349</td>\n",
              "      <td>0.418605</td>\n",
              "      <td>0.435518</td>\n",
              "      <td>0.028351</td>\n",
              "      <td>2</td>\n",
              "    </tr>\n",
              "    <tr>\n",
              "      <th>13</th>\n",
              "      <td>0.016455</td>\n",
              "      <td>0.004629</td>\n",
              "      <td>0.005772</td>\n",
              "      <td>0.003419</td>\n",
              "      <td>10</td>\n",
              "      <td>auto</td>\n",
              "      <td>{'C': 10, 'gamma': 'auto'}</td>\n",
              "      <td>0.386364</td>\n",
              "      <td>0.363636</td>\n",
              "      <td>0.363636</td>\n",
              "      <td>0.372093</td>\n",
              "      <td>0.372093</td>\n",
              "      <td>0.371564</td>\n",
              "      <td>0.008310</td>\n",
              "      <td>4</td>\n",
              "    </tr>\n",
              "    <tr>\n",
              "      <th>14</th>\n",
              "      <td>0.017770</td>\n",
              "      <td>0.004286</td>\n",
              "      <td>0.005151</td>\n",
              "      <td>0.002877</td>\n",
              "      <td>10</td>\n",
              "      <td>0.005</td>\n",
              "      <td>{'C': 10, 'gamma': 0.005}</td>\n",
              "      <td>0.386364</td>\n",
              "      <td>0.363636</td>\n",
              "      <td>0.363636</td>\n",
              "      <td>0.372093</td>\n",
              "      <td>0.372093</td>\n",
              "      <td>0.371564</td>\n",
              "      <td>0.008310</td>\n",
              "      <td>4</td>\n",
              "    </tr>\n",
              "    <tr>\n",
              "      <th>15</th>\n",
              "      <td>0.008261</td>\n",
              "      <td>0.002655</td>\n",
              "      <td>0.004331</td>\n",
              "      <td>0.002964</td>\n",
              "      <td>10</td>\n",
              "      <td>0.5</td>\n",
              "      <td>{'C': 10, 'gamma': 0.5}</td>\n",
              "      <td>0.386364</td>\n",
              "      <td>0.363636</td>\n",
              "      <td>0.363636</td>\n",
              "      <td>0.372093</td>\n",
              "      <td>0.372093</td>\n",
              "      <td>0.371564</td>\n",
              "      <td>0.008310</td>\n",
              "      <td>4</td>\n",
              "    </tr>\n",
              "  </tbody>\n",
              "</table>\n",
              "</div>\n",
              "      <button class=\"colab-df-convert\" onclick=\"convertToInteractive('df-463917ba-10b3-40bd-b88e-8eb87bee6e55')\"\n",
              "              title=\"Convert this dataframe to an interactive table.\"\n",
              "              style=\"display:none;\">\n",
              "        \n",
              "  <svg xmlns=\"http://www.w3.org/2000/svg\" height=\"24px\"viewBox=\"0 0 24 24\"\n",
              "       width=\"24px\">\n",
              "    <path d=\"M0 0h24v24H0V0z\" fill=\"none\"/>\n",
              "    <path d=\"M18.56 5.44l.94 2.06.94-2.06 2.06-.94-2.06-.94-.94-2.06-.94 2.06-2.06.94zm-11 1L8.5 8.5l.94-2.06 2.06-.94-2.06-.94L8.5 2.5l-.94 2.06-2.06.94zm10 10l.94 2.06.94-2.06 2.06-.94-2.06-.94-.94-2.06-.94 2.06-2.06.94z\"/><path d=\"M17.41 7.96l-1.37-1.37c-.4-.4-.92-.59-1.43-.59-.52 0-1.04.2-1.43.59L10.3 9.45l-7.72 7.72c-.78.78-.78 2.05 0 2.83L4 21.41c.39.39.9.59 1.41.59.51 0 1.02-.2 1.41-.59l7.78-7.78 2.81-2.81c.8-.78.8-2.07 0-2.86zM5.41 20L4 18.59l7.72-7.72 1.47 1.35L5.41 20z\"/>\n",
              "  </svg>\n",
              "      </button>\n",
              "      \n",
              "  <style>\n",
              "    .colab-df-container {\n",
              "      display:flex;\n",
              "      flex-wrap:wrap;\n",
              "      gap: 12px;\n",
              "    }\n",
              "\n",
              "    .colab-df-convert {\n",
              "      background-color: #E8F0FE;\n",
              "      border: none;\n",
              "      border-radius: 50%;\n",
              "      cursor: pointer;\n",
              "      display: none;\n",
              "      fill: #1967D2;\n",
              "      height: 32px;\n",
              "      padding: 0 0 0 0;\n",
              "      width: 32px;\n",
              "    }\n",
              "\n",
              "    .colab-df-convert:hover {\n",
              "      background-color: #E2EBFA;\n",
              "      box-shadow: 0px 1px 2px rgba(60, 64, 67, 0.3), 0px 1px 3px 1px rgba(60, 64, 67, 0.15);\n",
              "      fill: #174EA6;\n",
              "    }\n",
              "\n",
              "    [theme=dark] .colab-df-convert {\n",
              "      background-color: #3B4455;\n",
              "      fill: #D2E3FC;\n",
              "    }\n",
              "\n",
              "    [theme=dark] .colab-df-convert:hover {\n",
              "      background-color: #434B5C;\n",
              "      box-shadow: 0px 1px 3px 1px rgba(0, 0, 0, 0.15);\n",
              "      filter: drop-shadow(0px 1px 2px rgba(0, 0, 0, 0.3));\n",
              "      fill: #FFFFFF;\n",
              "    }\n",
              "  </style>\n",
              "\n",
              "      <script>\n",
              "        const buttonEl =\n",
              "          document.querySelector('#df-463917ba-10b3-40bd-b88e-8eb87bee6e55 button.colab-df-convert');\n",
              "        buttonEl.style.display =\n",
              "          google.colab.kernel.accessAllowed ? 'block' : 'none';\n",
              "\n",
              "        async function convertToInteractive(key) {\n",
              "          const element = document.querySelector('#df-463917ba-10b3-40bd-b88e-8eb87bee6e55');\n",
              "          const dataTable =\n",
              "            await google.colab.kernel.invokeFunction('convertToInteractive',\n",
              "                                                     [key], {});\n",
              "          if (!dataTable) return;\n",
              "\n",
              "          const docLinkHtml = 'Like what you see? Visit the ' +\n",
              "            '<a target=\"_blank\" href=https://colab.research.google.com/notebooks/data_table.ipynb>data table notebook</a>'\n",
              "            + ' to learn more about interactive tables.';\n",
              "          element.innerHTML = '';\n",
              "          dataTable['output_type'] = 'display_data';\n",
              "          await google.colab.output.renderOutput(dataTable, element);\n",
              "          const docLink = document.createElement('div');\n",
              "          docLink.innerHTML = docLinkHtml;\n",
              "          element.appendChild(docLink);\n",
              "        }\n",
              "      </script>\n",
              "    </div>\n",
              "  </div>\n",
              "  "
            ]
          },
          "metadata": {},
          "execution_count": 30
        }
      ]
    },
    {
      "cell_type": "markdown",
      "source": [
        "*   What is the difference in classifier performance between using 64 keypoints and 256 keypoints?"
      ],
      "metadata": {
        "id": "Ucf5mIeHOzBf"
      }
    },
    {
      "cell_type": "markdown",
      "metadata": {
        "id": "AJt7kpHcO5nV"
      },
      "source": [
        "**Solution**\n",
        "\n",
        "*The accuracy improves when using 256 keypoints, with an accuracy score of about 60%, as opposed to the accuracy score when using 64 keypoints, which was about 40%. In addition, using 256 keypoints is also more computationally expensive. According to the sklearn documentation, the fit time scales quadratically with the number of samples, so when there are too many samples to fit, the computational time increases. The accuracy value will also vary based on the values set for the k-means random_state and the data split random seed.*\n",
        "\n",
        "..."
      ]
    },
    {
      "cell_type": "markdown",
      "metadata": {
        "id": "ll0j8G-oIaHd"
      },
      "source": [
        "*   Will further adding more keypoints increase the performance of the algorithm?"
      ]
    },
    {
      "cell_type": "markdown",
      "metadata": {
        "id": "ka3z1sJVInS5"
      },
      "source": [
        "**Solution**\n",
        "\n",
        "*When using this dataset, adding more keypoints is not feasible, since the number of keypoints cannot exceed the number of pixels in one dimension of the image. This can be seen with one image in this dataset, which had a dimension of (232 x 300). Since the maximum number of descriptors that could have been used in that case would have been 231, we removed this image from the dataset for processing. With the dimensions of the other images being 256, increasing the keypoints beyond this would not increase the performance of the algorithm. However, if we add images to our dataset that have a dimension larger than 256 and also increased the number of keypoints, we would likely see an improvement in accuracy, but would still see the increase in computational cost. To counter this increase in computational cost, it may be possible to use another classification algorithm, such as LinearSVC or SGDClassifier. Although increasing the number of keypoints improves accuracy, increasing the number of images in the dataset would also help improve this measure.*\n",
        "\n",
        "..."
      ]
    },
    {
      "cell_type": "markdown",
      "metadata": {
        "id": "NnN_t5Me7N5O"
      },
      "source": [
        "\n",
        "---\n",
        "\n",
        "## **End of P3_2: Image Classification using Bag of Visual Words**\n",
        "Deadline for P3_2 submission in CampusVirtual is: **Thursday, the 17th of November, 2022**"
      ]
    }
  ]
}