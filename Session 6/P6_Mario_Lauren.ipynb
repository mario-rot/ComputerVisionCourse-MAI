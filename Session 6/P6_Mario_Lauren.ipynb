{
  "nbformat": 4,
  "nbformat_minor": 0,
  "metadata": {
    "colab": {
      "provenance": [],
      "collapsed_sections": [],
      "include_colab_link": true
    },
    "kernelspec": {
      "name": "python3",
      "display_name": "Python 3"
    }
  },
  "cells": [
    {
      "cell_type": "markdown",
      "metadata": {
        "id": "view-in-github",
        "colab_type": "text"
      },
      "source": [
        "<a href=\"https://colab.research.google.com/github/mario-rot/ComputerVisionCourse-MAI/blob/main/Session%206/P6_Mario_Lauren.ipynb\" target=\"_parent\"><img src=\"https://colab.research.google.com/assets/colab-badge.svg\" alt=\"Open In Colab\"/></a>"
      ]
    },
    {
      "cell_type": "markdown",
      "metadata": {
        "id": "WzM1eJDG-JUY"
      },
      "source": [
        "# Laboratory #3_1 : Face detection and recognition\n",
        "\n",
        "At the end of this laboratory, you would get familiarized with\n",
        "\n",
        "*   Face detection\n",
        "    *   Integral images\n",
        "    *   Haar-like feature computation\n",
        "    *   Adaboost \n",
        "*   Face recognition\n",
        "    *   Eigen Faces\n",
        "    *   PCA\n",
        "\n",
        "**Remember this is a graded exercise.**\n",
        "\n",
        "*   For every plot, make sure you provide appropriate titles, axis labels, legends, wherever applicable.\n",
        "*   Create reusable functions where ever possible, so that the code could be reused at different places.\n",
        "*   Mount your drive to access the images.\n",
        "*   Add sufficient comments and explanations wherever necessary.\n",
        "---"
      ]
    },
    {
      "cell_type": "code",
      "source": [
        "!pip install matplotlib --upgrade"
      ],
      "metadata": {
        "id": "9B358pZEjPMr",
        "outputId": "10639fe0-ff41-4362-e286-c37bdd7e304e",
        "colab": {
          "base_uri": "https://localhost:8080/",
          "height": 503
        }
      },
      "execution_count": 143,
      "outputs": [
        {
          "output_type": "stream",
          "name": "stdout",
          "text": [
            "Looking in indexes: https://pypi.org/simple, https://us-python.pkg.dev/colab-wheels/public/simple/\n",
            "Requirement already satisfied: matplotlib in /usr/local/lib/python3.7/dist-packages (3.2.2)\n",
            "Collecting matplotlib\n",
            "  Downloading matplotlib-3.5.3-cp37-cp37m-manylinux_2_5_x86_64.manylinux1_x86_64.whl (11.2 MB)\n",
            "\u001b[K     |████████████████████████████████| 11.2 MB 18.2 MB/s \n",
            "\u001b[?25hRequirement already satisfied: python-dateutil>=2.7 in /usr/local/lib/python3.7/dist-packages (from matplotlib) (2.8.2)\n",
            "Requirement already satisfied: packaging>=20.0 in /usr/local/lib/python3.7/dist-packages (from matplotlib) (21.3)\n",
            "Requirement already satisfied: cycler>=0.10 in /usr/local/lib/python3.7/dist-packages (from matplotlib) (0.11.0)\n",
            "Requirement already satisfied: kiwisolver>=1.0.1 in /usr/local/lib/python3.7/dist-packages (from matplotlib) (1.4.4)\n",
            "Requirement already satisfied: pillow>=6.2.0 in /usr/local/lib/python3.7/dist-packages (from matplotlib) (7.1.2)\n",
            "Requirement already satisfied: numpy>=1.17 in /usr/local/lib/python3.7/dist-packages (from matplotlib) (1.21.6)\n",
            "Requirement already satisfied: pyparsing>=2.2.1 in /usr/local/lib/python3.7/dist-packages (from matplotlib) (3.0.9)\n",
            "Collecting fonttools>=4.22.0\n",
            "  Downloading fonttools-4.38.0-py3-none-any.whl (965 kB)\n",
            "\u001b[K     |████████████████████████████████| 965 kB 54.7 MB/s \n",
            "\u001b[?25hRequirement already satisfied: typing-extensions in /usr/local/lib/python3.7/dist-packages (from kiwisolver>=1.0.1->matplotlib) (4.1.1)\n",
            "Requirement already satisfied: six>=1.5 in /usr/local/lib/python3.7/dist-packages (from python-dateutil>=2.7->matplotlib) (1.15.0)\n",
            "Installing collected packages: fonttools, matplotlib\n",
            "  Attempting uninstall: matplotlib\n",
            "    Found existing installation: matplotlib 3.2.2\n",
            "    Uninstalling matplotlib-3.2.2:\n",
            "      Successfully uninstalled matplotlib-3.2.2\n",
            "Successfully installed fonttools-4.38.0 matplotlib-3.5.3\n"
          ]
        },
        {
          "output_type": "display_data",
          "data": {
            "application/vnd.colab-display-data+json": {
              "pip_warning": {
                "packages": [
                  "matplotlib",
                  "mpl_toolkits",
                  "pylab"
                ]
              }
            }
          },
          "metadata": {}
        }
      ]
    },
    {
      "cell_type": "code",
      "metadata": {
        "id": "jJIC9t_DV7js",
        "colab": {
          "base_uri": "https://localhost:8080/"
        },
        "outputId": "90b38e97-51bd-4f7a-e393-c307e37706ec"
      },
      "source": [
        "%%shell\n",
        "git clone https://github.com/mario-rot/ComputerVisionCourse-MAI.git\n",
        "cd 'ComputerVisionCourse-MAI'\n",
        "mv 'Session 6/images' /content/\n",
        "mv 'customplots.py' /content/\n",
        "mv 'utils.py' /content/"
      ],
      "execution_count": 9,
      "outputs": [
        {
          "output_type": "stream",
          "name": "stdout",
          "text": [
            "fatal: destination path 'ComputerVisionCourse-MAI' already exists and is not an empty directory.\n",
            "mv: cannot stat 'Session 6/images': No such file or directory\n",
            "mv: cannot stat 'customplots.py': No such file or directory\n"
          ]
        },
        {
          "output_type": "execute_result",
          "data": {
            "text/plain": []
          },
          "metadata": {},
          "execution_count": 9
        }
      ]
    },
    {
      "cell_type": "markdown",
      "metadata": {
        "id": "c7dwXBH83V1W"
      },
      "source": [
        "# Face Detection using AdaBoost"
      ]
    },
    {
      "cell_type": "code",
      "metadata": {
        "id": "mozS11CSt4sz"
      },
      "source": [
        "# Loading necessary libraries (Feel free to add new libraries if you need for any computation)\n",
        "\n",
        "import numpy as np\n",
        "from skimage import data, io, transform\n",
        "import os\n",
        "import matplotlib\n",
        "from PIL import Image\n",
        "from multiprocessing import Pool\n",
        "from functools import partial\n",
        "import time\n",
        "import timeit\n",
        "from matplotlib import pyplot as plt\n",
        "from customplots import custom_grids\n",
        "import pandas as pd\n",
        "\n",
        "path = '/content/images/'"
      ],
      "execution_count": 36,
      "outputs": []
    },
    {
      "cell_type": "code",
      "source": [
        "import pandas as pd\n",
        "import numpy as np\n",
        "import matplotlib.pyplot as plt\n",
        "from matplotlib.path import Path\n",
        "import matplotlib.patches as patches\n",
        "from pylab import *\n",
        "import itertools\n",
        "from sklearn.metrics import confusion_matrix\n",
        "\n",
        "\n",
        "def groupedBarPlot(data, xticks, title,legend=True,axislabels = False,width=0.35,figsize=(25,10), barLabel=False, png = False, pdf = False, colors = None, fsizes = False, axisLim = False, xtick_rot=False, bLconfs = ['%.2f', 14]):\n",
        "    \"\"\"Width recomendado para 2 barras agrupadas es 0.35, para 3 y 4 es 0.2\n",
        "       Para usar el barLabel, debe ser una lista de listas por cada tipo,\n",
        "       aun que sea solo una barra por paso en el eje x deber ser una lista contenida dentro de otra\n",
        "       Las opciones para fsizes son:\n",
        "            'font' --> controla el tamaño de los textos por defecto\n",
        "            'axes' --> tamaño de fuente del titulo y las etiquetas del eje x & y\n",
        "            'xtick' --> tamaño de fuente de los puntos en el eje x\n",
        "            'ytick' --> tamaño de fuente en los puntos del eje y\n",
        "            'legend --> controla el tamaño de fuente de la leyenda\n",
        "            'figure' --> controla el tamaño de fuente del titulo de la figura\n",
        "       \"\"\"\n",
        "    if fsizes:\n",
        "        for key,size in fsizes.items():\n",
        "            if key == 'font':\n",
        "                plt.rc(key, size=size)\n",
        "            elif key == 'axes':\n",
        "                plt.rc(key, titlesize=size)\n",
        "                plt.rc(key, labelsize=size)\n",
        "            elif key in ['xtick','ytick']:\n",
        "                plt.rc(key, labelsize=size)\n",
        "            elif key == 'legend':\n",
        "                plt.rc(key, fontsize=size)\n",
        "            elif key == 'figure':\n",
        "                plt.rc(key, titlesize=size)\n",
        "    else:\n",
        "        plt.rc('font', size=15)\n",
        "\n",
        "    x = np.arange(len(xticks))\n",
        "    if colors:\n",
        "        cl = colors\n",
        "    else:\n",
        "        cl = clrs\n",
        "\n",
        "    if figsize:\n",
        "        fig, ax = plt.subplots(figsize=figsize)\n",
        "    else:\n",
        "        fig, ax = plt.subplots()\n",
        "\n",
        "    rects = {}\n",
        "    if len(data) == 1:\n",
        "        ldata = list(data.values())\n",
        "        keys = list(data.keys())\n",
        "        rects[keys[0]] = ax.bar(x, ldata[0], width, label=keys[0], color = cl)\n",
        "    elif len(data) == 2:\n",
        "        ldata = list(data.values())\n",
        "        keys = list(data.keys())\n",
        "        rects[keys[0]] = ax.bar(x + width/2, ldata[0], width, label=keys[0], color = cl[2])\n",
        "        rects[keys[1]] = ax.bar(x - width/2, ldata[1], width, label=keys[1], color = cl[3])\n",
        "    elif len(data) == 3:\n",
        "        ldata = list(data.values())\n",
        "        keys = list(data.keys())\n",
        "        rects[keys[0]] = ax.bar(x, ldata[0], width, label=keys[0])\n",
        "        rects[keys[1]] = ax.bar([i+width for i in x], ldata[1], width, label=keys[1])\n",
        "        rects[keys[2]] = ax.bar([i+2*width for i in x], ldata[2], width, label=keys[2])\n",
        "    elif len(data) == 4:\n",
        "        ldata = list(data.values())\n",
        "        keys = list(data.keys())\n",
        "        rects[keys[0]] = ax.bar(x + width/2, ldata[0], width, label=keys[0], color = cl[0])\n",
        "        rects[keys[1]] = ax.bar(x - width/2, ldata[1], width, label=keys[1], color = cl[1])\n",
        "        rects[keys[2]] = ax.bar(x + 1.5*width, ldata[2], width, label=keys[2], color = cl[2])\n",
        "        rects[keys[3]] = ax.bar(x - 1.5*width, ldata[3], width, label=keys[3], color = cl[3])\n",
        "\n",
        "    # ax.patch.set_facecolor('red')\n",
        "    ax.patch.set_alpha(0.0)\n",
        "\n",
        "    if axislabels:\n",
        "        ax.set_xlabel(axislabels[0])\n",
        "        ax.set_ylabel(axislabels[1])\n",
        "\n",
        "    ax.set_title(title)\n",
        "    if len(data) == 3:\n",
        "        ax.set_xticks(x+width)\n",
        "    else:\n",
        "        ax.set_xticks(x)\n",
        "    if xtick_rot:\n",
        "        ax.set_xticklabels(xticks, rotation = xtick_rot)\n",
        "    else:\n",
        "        ax.set_xticklabels(xticks)\n",
        "\n",
        "    if legend:\n",
        "        ax.legend(prop={\"size\":30})\n",
        "\n",
        "    if barLabel:\n",
        "#         error = ['Hola' for i in range(9)]\n",
        "#         ax.bar_label(list(rects.values())[0], padding=3, labels=[ e for e in error])\n",
        "        try:\n",
        "            for j,i in enumerate(rects.values()):\n",
        "                ax.bar_label(i, padding=3, labels=[barLabel[0][:].format(ldata[j][r], barLabel[j+1][r]) for r in range(len(ldata[0]))])\n",
        "        except:\n",
        "            for j,i in enumerate(rects.values()):\n",
        "                ax.bar_label(i, padding=3, labels=['{}\\n{:.2f}%'.format(ldata[j][r], barLabel[j][r]) for r in range(len(ldata[0]))])\n",
        "    else:\n",
        "        for i in rects.values():\n",
        "            ax.bar_label(i, padding=3, fmt = bLconfs[0], fontsize = bLconfs[1])\n",
        "\n",
        "    fig.tight_layout()\n",
        "\n",
        "    if axisLim:\n",
        "        for key,values in axisLim.items():\n",
        "            if key == 'xlim':\n",
        "                plt.xlim(values[0], values[1])\n",
        "            elif key == 'ylim':\n",
        "                plt.ylim(values[0], values[1])\n",
        "\n",
        "    if png:\n",
        "        plt.savefig(png + '.png', transparent=True)\n",
        "    if pdf:\n",
        "        plt.savefig(pdf + '.pdf', transparent=True)\n",
        "\n",
        "    plt.show()\n"
      ],
      "metadata": {
        "id": "VnhZNiG6c4Og"
      },
      "execution_count": 135,
      "outputs": []
    },
    {
      "cell_type": "code",
      "source": [
        "def plot_external_index(df: pd.DataFrame,\n",
        "                        title: Optional[str] = None):\n",
        "    external_indexs = ['ARI', 'AMI', 'homo', 'compl', 'v-measure']\n",
        "    ylabels = ['Adjusted Rand-Index',\n",
        "               'Adjusted Mutual',\n",
        "               'Homogeneity',\n",
        "               'Completeness',\n",
        "               'V-measure']\n",
        "\n",
        "    fixed_cols = ['n_clusters']\n",
        "    selected_columns = fixed_cols + external_indexs\n",
        "    new_df = df[selected_columns]\n",
        "    new_df.columns = fixed_cols + ylabels\n",
        "\n",
        "    fig, ax0 = plt.subplots(1, 1, figsize=(10, 5))\n",
        "    fig.suptitle(title)\n",
        "    new_df.plot.bar(x='n_clusters', rot=0, alpha=0.8, ax=ax0)\n",
        "    ax0.set_xlabel('n cluster')\n",
        "    ax0.legend(loc='best')\n",
        "    ax0.set_ylabel('External index')\n",
        "    fig.tight_layout()\n",
        "\n",
        "    return fig"
      ],
      "metadata": {
        "id": "2BQj1uzge17p"
      },
      "execution_count": null,
      "outputs": []
    },
    {
      "cell_type": "markdown",
      "metadata": {
        "id": "xcu2FUj856xz"
      },
      "source": [
        "### Exercise #1\n",
        "\n",
        "*   Build a function compute_integral_image that computes the integral image of an input (2D) array. In an integral image each pixel is the sum of all pixels in the original image that are 'left and above' the pixel. See the following example:\n",
        "\n",
        "```\n",
        "Original    Integral\n",
        "+--------   +------------\n",
        "| 1 2 3 .   | 0  0  0  0 .\n",
        "| 4 5 6 .   | 0  1  3  6 .\n",
        "| . . . .   | 0  5 12 21 .\n",
        "            | . . . . . .\n",
        "```\n",
        "\n",
        "*   The integral image must have an additional row and column full of zeros (first row and first column).\n",
        "*   Plot the output of the integral image for the following array:\n",
        "\n",
        "```\n",
        "img_array = np.array([[1,2,2,2,1],[1,2,2,2,1],[1,2,2,2,1],[1,2,2,2,1]])\n",
        "```"
      ]
    },
    {
      "cell_type": "code",
      "metadata": {
        "id": "-bAnhO5i3zs5"
      },
      "source": [
        "def compute_integral_image(img_arr):\n",
        "    \"\"\"\n",
        "    Calculates the integral image based on the original image data.\n",
        "    :param img_arr: Image source data\n",
        "    :type img_arr: numpy.ndarray\n",
        "    :return Integral image for given image\n",
        "    :rtype: numpy.ndarray\n",
        "    \"\"\"\n",
        "    # an index of -1 refers to the last row/column\n",
        "    # since row_sum is calculated starting from (0,0),\n",
        "    # rowSum(x, -1) == 0 holds for all x\n",
        "    row_sum = np.zeros(img_arr.shape)\n",
        "    # we need an additional column and row\n",
        "    integral_image_arr = np.zeros((img_arr.shape[0] + 1, img_arr.shape[1] + 1))\n",
        "\n",
        "    \n",
        "    # Add code here\n",
        "    ii = np.array(transform.integral_image(img_arr))\n",
        "    for r in range(len(ii)):\n",
        "      for c in range(len(ii[0])):\n",
        "        integral_image_arr[r+1][c+1] = ii[r][c]\n",
        "\n",
        "\n",
        "    return integral_image_arr"
      ],
      "execution_count": 4,
      "outputs": []
    },
    {
      "cell_type": "code",
      "metadata": {
        "id": "dTAqVHSp-OMf",
        "colab": {
          "base_uri": "https://localhost:8080/",
          "height": 281
        },
        "outputId": "fe16c606-3746-436a-980e-a5a11e156eaa"
      },
      "source": [
        "img_array = np.array([[1, 2, 2, 2, 1], [1, 2, 2, 2, 1], [1, 2, 2, 2, 1], [1, 2, 2, 2, 1]])\n",
        "plt.imshow(img_array, cmap=\"gray\", vmin=0, vmax= 5)\n",
        "plt.title(\"Array image\")\n",
        "plt.show()"
      ],
      "execution_count": 5,
      "outputs": [
        {
          "output_type": "display_data",
          "data": {
            "text/plain": [
              "<Figure size 432x288 with 1 Axes>"
            ],
            "image/png": "[encoded data removed]"
          },
          "metadata": {
            "needs_background": "light"
          }
        }
      ]
    },
    {
      "cell_type": "code",
      "metadata": {
        "id": "d-PJakhX9W6Z",
        "colab": {
          "base_uri": "https://localhost:8080/"
        },
        "outputId": "02b16c39-1fae-4a9f-85f3-3980cb8e2a25"
      },
      "source": [
        "ii_img_array = compute_integral_image(img_array)\n",
        "print(ii_img_array)"
      ],
      "execution_count": 6,
      "outputs": [
        {
          "output_type": "stream",
          "name": "stdout",
          "text": [
            "[[ 0.  0.  0.  0.  0.  0.]\n",
            " [ 0.  1.  3.  5.  7.  8.]\n",
            " [ 0.  2.  6. 10. 14. 16.]\n",
            " [ 0.  3.  9. 15. 21. 24.]\n",
            " [ 0.  4. 12. 20. 28. 32.]]\n"
          ]
        }
      ]
    },
    {
      "cell_type": "markdown",
      "metadata": {
        "id": "zy6EhVNxusBd"
      },
      "source": [
        "*   Test the function using 'camera' image from the data module. Plot the original image and the integral image."
      ]
    },
    {
      "cell_type": "code",
      "metadata": {
        "id": "AVjtmJ-Wu09i",
        "colab": {
          "base_uri": "https://localhost:8080/",
          "height": 374
        },
        "outputId": "99461e0d-4bbc-4331-90bd-c04bcbf151f3"
      },
      "source": [
        "# solution\n",
        "camera = data.camera()\n",
        "\n",
        "camera_ii = compute_integral_image(camera)\n",
        "\n",
        "custom_grids([camera, camera_ii], 1, 2, cmap='gray').show()\n",
        "\n",
        "\n"
      ],
      "execution_count": 13,
      "outputs": [
        {
          "output_type": "display_data",
          "data": {
            "text/plain": [
              "<Figure size 720x720 with 2 Axes>"
            ],
            "image/png": "[encoded data removed]"
          },
          "metadata": {
            "needs_background": "light"
          }
        }
      ]
    },
    {
      "cell_type": "markdown",
      "metadata": {
        "id": "W8_9CkCk9n2P"
      },
      "source": [
        "### Exercise #2\n",
        "\n",
        "*   Create a function sum_region to compute the sum of the pixel intensities within a rectangle using the integral image. The rectangle will be defined using the top left (x, y) and bottom right (x, y) coordinates."
      ]
    },
    {
      "cell_type": "code",
      "metadata": {
        "id": "dU24XMd892Mw"
      },
      "source": [
        "def sum_region(integral_img_arr, top_left, bottom_right):\n",
        "\n",
        "    \n",
        "    # Add code here\n",
        "    sum = integral_img_arr[bottom_right[0]][bottom_right[1]]\n",
        "    sum -= integral_img_arr[top_left[0]][bottom_right[1]]\n",
        "    sum -= integral_img_arr[bottom_right[0]][top_left[1]]\n",
        "    sum += integral_img_arr[top_left[0]][top_left[1]]\n",
        "    \n",
        "    \n",
        "    return sum"
      ],
      "execution_count": 22,
      "outputs": []
    },
    {
      "cell_type": "markdown",
      "metadata": {
        "id": "631_iCxd-u0o"
      },
      "source": [
        "*   Make the following tests:"
      ]
    },
    {
      "cell_type": "code",
      "metadata": {
        "id": "_T3Xk2tm-vt7",
        "colab": {
          "base_uri": "https://localhost:8080/"
        },
        "outputId": "74fac252-2e9e-44fd-f0e1-2a469a9baf3a"
      },
      "source": [
        "# result you should get (12)\n",
        "print(sum_region(ii_img_array, [1, 1], [3, 4]))"
      ],
      "execution_count": 23,
      "outputs": [
        {
          "output_type": "stream",
          "name": "stdout",
          "text": [
            "12.0\n"
          ]
        }
      ]
    },
    {
      "cell_type": "code",
      "metadata": {
        "id": "fdUOIZ1G-9Ex",
        "colab": {
          "base_uri": "https://localhost:8080/"
        },
        "outputId": "946526a4-438f-4e43-df89-3f008ac89a9b"
      },
      "source": [
        "# result you should get (32)\n",
        "print(sum_region(ii_img_array, [0, 0], [-1, -1]))"
      ],
      "execution_count": 24,
      "outputs": [
        {
          "output_type": "stream",
          "name": "stdout",
          "text": [
            "32.0\n"
          ]
        }
      ]
    },
    {
      "cell_type": "markdown",
      "metadata": {
        "id": "p7JG9MJ9_HXT"
      },
      "source": [
        "### Exercise #3\n",
        "\n",
        "*   Build a function load_integral_images to read all the images inside a given folder and compute the integral image of every image"
      ]
    },
    {
      "cell_type": "code",
      "source": [
        "if 'face01428.png' in os.listdir(dir_path):\n",
        "  plt.imread('images/train_data/faces/face01428.png')"
      ],
      "metadata": {
        "id": "1UofRb-xAzgS"
      },
      "execution_count": 51,
      "outputs": []
    },
    {
      "cell_type": "code",
      "metadata": {
        "id": "KwYt5HmA_TnD"
      },
      "source": [
        "def load_integral_images(path):\n",
        "    ii_images = []\n",
        "    original_images = []\n",
        "    for _file in os.listdir(path):\n",
        "        #### Complete here:\n",
        "        #### Read image\n",
        "        #### Remember to scale the images (with the max pixel intensity value)\n",
        "        if _file[-4:] == '.png': \n",
        "        \n",
        "          curr_file = plt.imread(path +'/'+ _file)\n",
        "          original_images.append(curr_file)\n",
        "          ii_img = compute_integral_image(curr_file)\n",
        "          max_pixel = ii_img.max()\n",
        "          ii_img = ii_img / max_pixel\n",
        "          ii_images.append(ii_img) \n",
        "\n",
        "    return original_images, ii_images\n",
        "\n",
        "\n",
        "# With this function we are reading each file in the folder, calculating its integral image and after that normalizing the image.\n",
        "# Finally we put our processed image in the list that we will return"
      ],
      "execution_count": 75,
      "outputs": []
    },
    {
      "cell_type": "markdown",
      "metadata": {
        "id": "D1TnCyeV4LJ2"
      },
      "source": [
        "*   Use the load_integral_images function to compute the integral images of training and testing data"
      ]
    },
    {
      "cell_type": "code",
      "metadata": {
        "id": "n_tI5926_fO8"
      },
      "source": [
        "# change paths to your location\n",
        "\n",
        "root_dir = path\n",
        "\n",
        "pos_training_path = os.path.join(root_dir, 'train_data/faces')\n",
        "neg_training_path = os.path.join(root_dir, 'train_data/non_faces')\n",
        "pos_testing_path = os.path.join(root_dir, 'test_data/faces')\n",
        "neg_testing_path = os.path.join(root_dir, 'test_data/non_faces')\n"
      ],
      "execution_count": 63,
      "outputs": []
    },
    {
      "cell_type": "code",
      "metadata": {
        "id": "hLZ1R4JR_Hh0",
        "colab": {
          "base_uri": "https://localhost:8080/"
        },
        "outputId": "0a01aead-1807-49a6-a3cb-0718007db86b"
      },
      "source": [
        "# solution\n",
        "pos_training_orig, pos_training_ii = load_integral_images(pos_training_path)\n",
        "neg_training_orig, neg_training_ii = load_integral_images(neg_training_path)\n",
        "pos_testing_orig, pos_testing_ii = load_integral_images(pos_testing_path)\n",
        "neg_testing_orig, neg_testing_ii = load_integral_images(neg_testing_path)\n"
      ],
      "execution_count": 76,
      "outputs": [
        {
          "output_type": "stream",
          "name": "stderr",
          "text": [
            "/usr/local/lib/python3.7/dist-packages/ipykernel_launcher.py:14: RuntimeWarning: invalid value encountered in true_divide\n",
            "  \n"
          ]
        }
      ]
    },
    {
      "cell_type": "code",
      "source": [
        "pos_training_orig"
      ],
      "metadata": {
        "id": "8aUoDf_rDu1e",
        "outputId": "c32c1575-38a5-4ebb-e2dd-98ac0d764352",
        "colab": {
          "base_uri": "https://localhost:8080/"
        }
      },
      "execution_count": 66,
      "outputs": [
        {
          "output_type": "execute_result",
          "data": {
            "text/plain": [
              "[]"
            ]
          },
          "metadata": {},
          "execution_count": 66
        }
      ]
    },
    {
      "cell_type": "markdown",
      "metadata": {
        "id": "oSqDBYX_FbF8"
      },
      "source": [
        "*   Visualize a few original images and the corresponding integral images using matplotlib."
      ]
    },
    {
      "cell_type": "code",
      "metadata": {
        "id": "ZsMTKwfQAuFn",
        "colab": {
          "base_uri": "https://localhost:8080/",
          "height": 745
        },
        "outputId": "44a7735d-f961-467f-f8f9-9ad226affa61"
      },
      "source": [
        "# solution\n",
        "\n",
        "\n",
        "imgs = [pos_training_orig[0], pos_training_ii[0], neg_training_orig[0], neg_training_ii[0],\n",
        "        pos_testing_orig[0], pos_testing_ii[0], neg_testing_orig[0], neg_testing_ii[0]]\n",
        "\n",
        "titles = ['Positive Training Original Image', 'Positive Training Integral Image', \n",
        "          'Negative Training Original Image', 'Negative Training Integral Image',\n",
        "          'Positive Testing Original Image', 'Positive Testing Integral Image',\n",
        "          'Negative Testing Original Image', 'Negative Testing Integral Image']\n",
        "\n",
        "custom_grids(imgs, 4, 2, cmap='gray', axis='off', titles=titles).show()\n"
      ],
      "execution_count": 81,
      "outputs": [
        {
          "output_type": "display_data",
          "data": {
            "text/plain": [
              "<Figure size 720x720 with 8 Axes>"
            ],
            "image/png": "[encoded data removed]"
          },
          "metadata": {
            "needs_background": "light"
          }
        }
      ]
    },
    {
      "cell_type": "markdown",
      "metadata": {
        "id": "YPrncRBJvxJo"
      },
      "source": [
        "### Exercise #4\n",
        "\n",
        "*   Compute the Haar features of an image.\n",
        "*   We provide you with HaarLikeFeature class that has build in a get_score function and a get_vote function. Your job is to complete the code of the method _create_features in the class HaarLikeFeature:"
      ]
    },
    {
      "cell_type": "code",
      "metadata": {
        "id": "RMcmkZIWwNJ0"
      },
      "source": [
        "def enum(**enums):\n",
        "    return type('Enum', (), enums)\n",
        "\n",
        "FeatureType = enum(TWO_VERTICAL=(1, 2), TWO_HORIZONTAL=(2, 1), THREE_HORIZONTAL=(3, 1), THREE_VERTICAL=(1, 3), FOUR=(2, 2))\n",
        "FeatureTypes = [FeatureType.TWO_VERTICAL, FeatureType.TWO_HORIZONTAL, FeatureType.THREE_VERTICAL, FeatureType.THREE_HORIZONTAL, FeatureType.FOUR]"
      ],
      "execution_count": 82,
      "outputs": []
    },
    {
      "cell_type": "code",
      "metadata": {
        "id": "0M_hQ6zwwVP5"
      },
      "source": [
        "class HaarLikeFeature(object):\n",
        "    \"\"\"\n",
        "    Class representing a haar-like feature.\n",
        "    \"\"\"\n",
        "\n",
        "    def __init__(self, feature_type, position, width, height, threshold, polarity):\n",
        "        \"\"\"\n",
        "        Creates a new haar-like feature.\n",
        "        :param feature_type: Type of new feature, see FeatureType enum\n",
        "        :type feature_type: HaarLikeFeature.FeatureTypes\n",
        "        :param position: Top left corner where the feature begins (x, y)\n",
        "        :type position: (int, int)\n",
        "        :param width: Width of the feature\n",
        "        :type width: int\n",
        "        :param height: Height of the feature\n",
        "        :type height: int\n",
        "        :param threshold: Feature threshold\n",
        "        :type threshold: float\n",
        "        :param polarity: polarity of the feature -1 or 1\n",
        "        :type polarity: int\n",
        "        \"\"\"\n",
        "        self.type = feature_type\n",
        "        self.top_left = position\n",
        "        self.bottom_right = (position[0] + width, position[1] + height)\n",
        "        self.width = width\n",
        "        self.height = height\n",
        "        self.threshold = threshold\n",
        "        self.polarity = polarity\n",
        "        self.weight = 1\n",
        "    \n",
        "    def get_score(self, int_img):\n",
        "        \"\"\"\n",
        "        Get score for given integral image array.\n",
        "        :param int_img: Integral image array\n",
        "        :type int_img: numpy.ndarray\n",
        "        \n",
        "        :return: Score for given feature\n",
        "        :rtype: float\n",
        "        \"\"\"\n",
        "        score = 0\n",
        "        if self.type == FeatureType.TWO_VERTICAL:\n",
        "            first = sum_region(int_img, self.top_left, (self.top_left[0] + self.width, int(self.top_left[1] + self.height / 2)))\n",
        "            second = sum_region(int_img, (self.top_left[0], int(self.top_left[1] + self.height / 2)), self.bottom_right)\n",
        "            score = first - second\n",
        "        elif self.type == FeatureType.TWO_HORIZONTAL:\n",
        "            first = sum_region(int_img, self.top_left, (int(self.top_left[0] + self.width / 2), self.top_left[1] + self.height))\n",
        "            second = sum_region(int_img, (int(self.top_left[0] + self.width / 2), self.top_left[1]), self.bottom_right)\n",
        "            score = first - second\n",
        "        elif self.type == FeatureType.THREE_HORIZONTAL:\n",
        "            first = sum_region(int_img, self.top_left, (int(self.top_left[0] + self.width / 3), self.top_left[1] + self.height))\n",
        "            second = sum_region(int_img, (int(self.top_left[0] + self.width / 3), self.top_left[1]), (int(self.top_left[0] + 2 * self.width / 3), self.top_left[1] + self.height))\n",
        "            third = sum_region(int_img, (int(self.top_left[0] + 2 * self.width / 3), self.top_left[1]), self.bottom_right)\n",
        "            score = first - second + third\n",
        "        elif self.type == FeatureType.THREE_VERTICAL:\n",
        "            first = sum_region(int_img, self.top_left, (self.bottom_right[0], int(self.top_left[1] + self.height / 3)))\n",
        "            second = sum_region(int_img, (self.top_left[0], int(self.top_left[1] + self.height / 3)), (self.bottom_right[0], int(self.top_left[1] + 2 * self.height / 3)))\n",
        "            third = sum_region(int_img, (self.top_left[0], int(self.top_left[1] + 2 * self.height / 3)), self.bottom_right)\n",
        "            score = first - second + third\n",
        "        elif self.type == FeatureType.FOUR:\n",
        "            # top left area\n",
        "            first = sum_region(int_img, self.top_left, (int(self.top_left[0] + self.width / 2), int(self.top_left[1] + self.height / 2)))\n",
        "            # top right area\n",
        "            second = sum_region(int_img, (int(self.top_left[0] + self.width / 2), self.top_left[1]), (self.bottom_right[0], int(self.top_left[1] + self.height / 2)))\n",
        "            # bottom left area\n",
        "            third = sum_region(int_img, (self.top_left[0], int(self.top_left[1] + self.height / 2)), (int(self.top_left[0] + self.width / 2), self.bottom_right[1]))\n",
        "            # bottom right area\n",
        "            fourth = sum_region(int_img, (int(self.top_left[0] + self.width / 2), int(self.top_left[1] + self.height / 2)), self.bottom_right)\n",
        "            score = first - second - third + fourth\n",
        "        return score\n",
        "    \n",
        "    def get_vote(self, int_img):\n",
        "        \"\"\"\n",
        "        Get vote of this feature for given integral image.\n",
        "        :param int_img: Integral image array\n",
        "        :type int_img: numpy.ndarray\n",
        "        \n",
        "        :return: 1 iff this feature votes positively, otherwise -1\n",
        "        :rtype: int\n",
        "        \"\"\"\n",
        "        score = self.get_score(int_img)\n",
        "        return self.weight * (1 if score < self.polarity * self.threshold else -1)"
      ],
      "execution_count": 87,
      "outputs": []
    },
    {
      "cell_type": "code",
      "metadata": {
        "id": "w9Bv1TanwqEH"
      },
      "source": [
        "def learn(positive_iis, negative_iis, num_classifiers=-1, min_feature_width=1, max_feature_width=-1, min_feature_height=1, max_feature_height=-1):\n",
        "    \"\"\"\n",
        "    Selects a set of classifiers. Iteratively takes the best classifiers based\n",
        "    on a weighted error.\n",
        "    :param positive_iis: List of positive integral image examples\n",
        "    :type positive_iis: list[numpy.ndarray]\n",
        "    :param negative_iis: List of negative integral image examples\n",
        "    :type negative_iis: list[numpy.ndarray]\n",
        "    :param num_classifiers: Number of classifiers to select, -1 will use all\n",
        "    classifiers\n",
        "    :type num_classifiers: int\n",
        "    \n",
        "    :return: List of selected features\n",
        "    :rtype: list[HaarLikeFeature.HaarLikeFeature]\n",
        "    \"\"\"\n",
        "    num_pos = len(positive_iis)\n",
        "    num_neg = len(negative_iis)\n",
        "    num_imgs = num_pos + num_neg\n",
        "    img_height, img_width = positive_iis[0].shape\n",
        "\n",
        "    # Maximum feature width and height default to image width and height\n",
        "    max_feature_height = img_height if max_feature_height == -1 else max_feature_height\n",
        "    max_feature_width = img_width if max_feature_width == -1 else max_feature_width\n",
        "\n",
        "    # Create initial weights and labels\n",
        "    pos_weights = np.ones(num_pos) * 1. / (2 * num_pos)\n",
        "    neg_weights = np.ones(num_neg) * 1. / (2 * num_neg)\n",
        "    weights = np.hstack((pos_weights, neg_weights))\n",
        "    labels = np.hstack((np.ones(num_pos), np.ones(num_neg) * -1)) \n",
        "\n",
        "    images = positive_iis + negative_iis\n",
        "\n",
        "    # Create features for all sizes and locations\n",
        "    features = _create_features(img_height, img_width, min_feature_width, max_feature_width, min_feature_height, max_feature_height)\n",
        "    num_features = len(features)\n",
        "    feature_indexes = list(range(num_features))\n",
        "\n",
        "    num_classifiers = num_features if num_classifiers == -1 else num_classifiers\n",
        "\n",
        "    print('Calculating scores for images..')\n",
        "    t0 = time.time()\n",
        "    votes = np.zeros((num_imgs, num_features))\n",
        "    # Use as many workers as there are CPUs\n",
        "    pool = Pool(processes=8)\n",
        "    for i in range(num_imgs):\n",
        "        votes[i, :] = np.array(list(pool.map(partial(_get_feature_vote, image=images[i]), features)))\n",
        "\n",
        "    \n",
        "    print('\\tTime needed for calculating scores:', time.time()-t0)\n",
        "    \n",
        "    # select classifiers\n",
        "    classifiers = []\n",
        "\n",
        "    t0 = time.time()\n",
        "    print('Selecting classifiers..')\n",
        "    for _ in range(num_classifiers):\n",
        "\n",
        "        classification_errors = np.zeros(len(feature_indexes))\n",
        "\n",
        "        # normalize weights\n",
        "        weights *= 1. / np.sum(weights)\n",
        "\n",
        "        # select best classifier based on the weighted error\n",
        "        for f in range(len(feature_indexes)):\n",
        "            f_idx = feature_indexes[f]\n",
        "            # classifier error is the sum of image weights where the classifier\n",
        "            # is right\n",
        "            error = sum(map(lambda img_idx: weights[img_idx] if labels[img_idx] != votes[img_idx, f_idx] else 0, range(num_imgs)))\n",
        "            classification_errors[f] = error\n",
        "\n",
        "        # get best feature, i.e. with smallest error\n",
        "        min_error_idx = np.argmin(classification_errors)\n",
        "        best_error = classification_errors[min_error_idx]\n",
        "        best_feature_idx = feature_indexes[min_error_idx]\n",
        "\n",
        "        # set feature weight\n",
        "        best_feature = features[best_feature_idx]\n",
        "        feature_weight = 0.5 * np.log((1 - best_error) / best_error)\n",
        "        best_feature.weight = feature_weight\n",
        "\n",
        "        classifiers.append(best_feature)\n",
        "\n",
        "        # update image weights\n",
        "        weights = np.array(list(map(lambda img_idx: weights[img_idx] * np.sqrt((1-best_error)/best_error) if labels[img_idx] != votes[img_idx, best_feature_idx] else weights[img_idx] * np.sqrt(best_error/(1-best_error)), range(num_imgs))))\n",
        "\n",
        "        # remove feature (a feature can't be selected twice)\n",
        "        feature_indexes.remove(best_feature_idx)\n",
        "\n",
        "    print('\\tTime needed for Selecting Classifiers:', time.time()-t0,'\\n')\n",
        "\n",
        "    return classifiers\n",
        "\n",
        "\n",
        "def _get_feature_vote(feature, image):\n",
        "    return feature.get_vote(image)\n",
        "\n",
        "\n",
        "def _create_features(img_height, img_width, min_feature_width, max_feature_width, min_feature_height, max_feature_height):\n",
        "    print('Creating Haar-like features..')\n",
        "    t0 = time.time()\n",
        "    features = []\n",
        "    for feature in FeatureTypes:\n",
        "        # FeatureTypes are just tuples\n",
        "        feature_start_width = max(min_feature_width, feature[0])\n",
        "        for feature_width in range(feature_start_width, max_feature_width, feature[0]):\n",
        "            feature_start_height = max(min_feature_height, feature[1])\n",
        "            for feature_height in range(feature_start_height, max_feature_height, feature[1]):\n",
        "                # Loop over possible x values and y values \n",
        "                # - For each (x,y) create the HarrLikeFeature objects.\n",
        "                # - append the HaarlikeFeatures in the features list.\n",
        "                for x in range(img_width - feature_width):\n",
        "                    for y in range(img_height - feature_height):\n",
        "                        features.append(HaarLikeFeature(feature, (x, y), feature_width, feature_height, 0, 1))\n",
        "                        features.append(HaarLikeFeature(feature, (x, y), feature_width, feature_height, 0, -1))\n",
        "                          \n",
        "    print('\\t' + str(len(features)) + ' features created.')\n",
        "    print('\\tTime needed for calculating Haar-like features:', time.time()-t0)\n",
        "    return features"
      ],
      "execution_count": 88,
      "outputs": []
    },
    {
      "cell_type": "markdown",
      "metadata": {
        "id": "rHuYBeQyxYGs"
      },
      "source": [
        "### Exercise #5\n",
        "\n",
        "*   Use the learn method to learn a list of two classifiers with the train data. With the learn function you can build a list of classifiers that detect whether an image contains a face or not.\n",
        "\n",
        "*   Use the following hyperparameters of the features and num_classifiers"
      ]
    },
    {
      "cell_type": "code",
      "metadata": {
        "id": "YqnJpKbty91Z"
      },
      "source": [
        "num_classifiers = 2\n",
        "min_feature_height = 8\n",
        "max_feature_height = 10\n",
        "min_feature_width = 8\n",
        "max_feature_width = 10"
      ],
      "execution_count": 89,
      "outputs": []
    },
    {
      "cell_type": "code",
      "metadata": {
        "id": "5OTwWIizy_1T",
        "colab": {
          "base_uri": "https://localhost:8080/"
        },
        "outputId": "4201b125-f0df-400f-bbf9-c6acbb5f6b4f"
      },
      "source": [
        "# solution\n",
        "\n",
        "%%time \n",
        "\n",
        "classifiers = learn(pos_training_ii, neg_training_ii, num_classifiers, min_feature_width, max_feature_width, min_feature_height, max_feature_height)"
      ],
      "execution_count": 90,
      "outputs": [
        {
          "output_type": "stream",
          "name": "stdout",
          "text": [
            "Creating Haar-like features..\n",
            "\t2496 features created.\n",
            "\tTime needed for calculating Haar-like features: 0.004450559616088867\n",
            "Calculating scores for images..\n",
            "\tTime needed for calculating scores: 256.22676491737366\n",
            "Selecting classifiers..\n",
            "\tTime needed for Selecting Classifiers: 29.386162042617798 \n",
            "\n",
            "CPU times: user 1min 55s, sys: 7.67 s, total: 2min 2s\n",
            "Wall time: 4min 45s\n"
          ]
        }
      ]
    },
    {
      "cell_type": "code",
      "source": [
        "classifiers[0]"
      ],
      "metadata": {
        "id": "bUMbgL9PSL_A",
        "outputId": "2b836dec-8e43-490f-dc4d-4ca82db3fc0c",
        "colab": {
          "base_uri": "https://localhost:8080/"
        }
      },
      "execution_count": 92,
      "outputs": [
        {
          "output_type": "execute_result",
          "data": {
            "text/plain": [
              "<__main__.HaarLikeFeature at 0x7f11650f5d90>"
            ]
          },
          "metadata": {},
          "execution_count": 92
        }
      ]
    },
    {
      "cell_type": "markdown",
      "metadata": {
        "id": "nOSfL5GezGux"
      },
      "source": [
        "### Exercise #6\n",
        "\n",
        "*   Make a function for voting with different classifiers\n",
        "*   Build two functions ensemble_vote and ensemble_vote_all.\n",
        "*   **ensemble_vote(int_img, classifiers)** has to return a 1 if the majority of the votes of the classifiers is positive and a zero otherwise\n",
        "*   **ensemble_vote_all(int_imgs, classifiers)** has to loop over the list int_imgs and compute the ensemble_vote for each image in the list. It has to return a list containing all the votes for all the images in int_imgs.\n"
      ]
    },
    {
      "cell_type": "code",
      "metadata": {
        "id": "v8ITkNPI1vo9"
      },
      "source": [
        "# solution\n",
        "def ensemble_vote(int_img, classifiers):\n",
        "  if np.array([c.get_vote(int_img) for c in classifiers]).sum() >= 0:\n",
        "    return 1\n",
        "  else:\n",
        "    return 0\n",
        "\n",
        "def ensemble_vote_all(int_imgs, classifiers):\n",
        "  vote_list = []\n",
        "  for img in int_imgs:\n",
        "    vote_list.append(ensemble_vote(img, classifiers))\n",
        "  return vote_list\n"
      ],
      "execution_count": 94,
      "outputs": []
    },
    {
      "cell_type": "markdown",
      "metadata": {
        "id": "fgn_vG0e1aFs"
      },
      "source": [
        "*   Use the functions to compute the train and test acurracies for faces and non faces.\n",
        "*   Print the results in the following format:\n",
        "\n",
        "```\n",
        "train results:\n",
        "Correctly identified Faces: 2129/2429  (87.64923836969946%)\n",
        "Correctly identified non-Faces: 4276/8548  (50.02339728591484%)\n",
        "\n",
        "test results:\n",
        "Correctly identified Faces: 300/472  (63.559322033898304%)\n",
        "Correctly identified non-Faces: 74/128  (57.8125%)\n",
        "```\n",
        "\n",
        "*   It is not required to get this exact results but print the information in this format. It facilitates understanding the results."
      ]
    },
    {
      "cell_type": "code",
      "metadata": {
        "id": "_eCiAycJ1yCT",
        "colab": {
          "base_uri": "https://localhost:8080/"
        },
        "outputId": "dbf450fa-6f9c-479a-f7bf-e516e602229b"
      },
      "source": [
        "# solution\n",
        "print('train results:')\n",
        "positive_training = ensemble_vote_all(pos_training_ii, classifiers)\n",
        "print('Correctly identified Faces: {}/{}  ({}%)'.format(positive_training.count(1), len(positive_training), (positive_training.count(1)/len(positive_training)*100)))\n",
        "negative_training = ensemble_vote_all(neg_training_ii, classifiers)\n",
        "print('Correctly identified non-faces: {}/{}  ({}%)'.format(negative_training.count(1), len(negative_training), (negative_training.count(1)/len(negative_training)*100)))\n",
        "print('')\n",
        "print('test results:')\n",
        "positive_testing = ensemble_vote_all(pos_testing_ii, classifiers)\n",
        "print('Correctly identified Faces: {}/{}  ({}%)'.format(positive_testing.count(1), len(positive_testing), (positive_testing.count(1)/len(positive_testing)*100)))\n",
        "negative_testing = ensemble_vote_all(neg_testing_ii, classifiers)\n",
        "print('Correctly identified non-faces: {}/{}  ({}%)'.format(negative_testing.count(1), len(negative_testing), (negative_testing.count(1)/len(negative_testing)*100)))\n"
      ],
      "execution_count": 110,
      "outputs": [
        {
          "output_type": "stream",
          "name": "stdout",
          "text": [
            "train results:\n",
            "Correctly identified Faces: 2129/2429  (87.64923836969946%)\n",
            "Correctly identified non-faces: 4280/8555  (50.02922267679719%)\n",
            "\n",
            "test results:\n",
            "Correctly identified Faces: 299/472  (63.347457627118644%)\n",
            "Correctly identified non-faces: 53/128  (41.40625%)\n"
          ]
        }
      ]
    },
    {
      "cell_type": "markdown",
      "metadata": {
        "id": "GzNiYc-g13n_"
      },
      "source": [
        "### Exercise #7\n",
        "\n",
        "*   Make another test with 20 classifiers instead of 2.\n",
        "*   Inspect the classification results if you use adaboost with 20 classifiers. *   Use the same hyperameters for the features. Print the results as in the previous exercise."
      ]
    },
    {
      "cell_type": "code",
      "metadata": {
        "id": "SYbr5B7Q14yM"
      },
      "source": [
        "num_classifiers = 20\n",
        "min_feature_height = 8\n",
        "max_feature_height = 10\n",
        "min_feature_width = 8\n",
        "max_feature_width = 10"
      ],
      "execution_count": 105,
      "outputs": []
    },
    {
      "cell_type": "code",
      "metadata": {
        "id": "G4n9iv_T16_n",
        "colab": {
          "base_uri": "https://localhost:8080/"
        },
        "outputId": "97820a5a-60b8-4b04-9785-23803628c737"
      },
      "source": [
        "# solution\n",
        "\n",
        "%%time \n",
        "\n",
        "classifiers_20 = learn(pos_training_ii, neg_training_ii, num_classifiers, min_feature_width, max_feature_width, min_feature_height, max_feature_height)"
      ],
      "execution_count": 106,
      "outputs": [
        {
          "output_type": "stream",
          "name": "stdout",
          "text": [
            "Creating Haar-like features..\n",
            "\t2496 features created.\n",
            "\tTime needed for calculating Haar-like features: 0.003056049346923828\n",
            "Calculating scores for images..\n",
            "\tTime needed for calculating scores: 272.04607343673706\n",
            "Selecting classifiers..\n",
            "\tTime needed for Selecting Classifiers: 320.48704648017883 \n",
            "\n",
            "CPU times: user 6min 39s, sys: 8.39 s, total: 6min 47s\n",
            "Wall time: 9min 52s\n"
          ]
        }
      ]
    },
    {
      "cell_type": "markdown",
      "metadata": {
        "id": "lx7pAdkt2Las"
      },
      "source": [
        "*   Discuss if the classification results improved in the train data.\n"
      ]
    },
    {
      "cell_type": "code",
      "source": [
        "# solution\n",
        "print('train results:')\n",
        "positive_training = ensemble_vote_all(pos_training_ii, classifiers_20)\n",
        "print('Correctly identified Faces: {}/{}  ({}%)'.format(positive_training.count(1), len(positive_training), (positive_training.count(1)/len(positive_training)*100)))\n",
        "negative_training = ensemble_vote_all(neg_training_ii, classifiers_20)\n",
        "print('Correctly identified non-faces: {}/{}  ({}%)'.format(negative_training.count(1), len(negative_training), (negative_training.count(1)/len(negative_training)*100)))\n",
        "print('')\n",
        "print('test results:')\n",
        "positive_testing = ensemble_vote_all(pos_testing_ii, classifiers_20)\n",
        "print('Correctly identified Faces: {}/{}  ({}%)'.format(positive_testing.count(1), len(positive_testing), (positive_testing.count(1)/len(positive_testing)*100)))\n",
        "negative_testing = ensemble_vote_all(neg_testing_ii, classifiers_20)\n",
        "print('Correctly identified non-faces: {}/{}  ({}%)'.format(negative_testing.count(1), len(negative_testing), (negative_testing.count(1)/len(negative_testing)*100)))\n"
      ],
      "metadata": {
        "id": "VKxBXJ_HWqRr",
        "outputId": "55ca84f2-1d1f-4bc3-f56a-598a42e52116",
        "colab": {
          "base_uri": "https://localhost:8080/"
        }
      },
      "execution_count": 108,
      "outputs": [
        {
          "output_type": "stream",
          "name": "stdout",
          "text": [
            "train results:\n",
            "Correctly identified Faces: 2224/2429  (91.56031288596131%)\n",
            "Correctly identified non-faces: 1440/8555  (16.832261835184102%)\n",
            "\n",
            "test results:\n",
            "Correctly identified Faces: 246/472  (52.118644067796616%)\n",
            "Correctly identified non-faces: 25/128  (19.53125%)\n"
          ]
        }
      ]
    },
    {
      "cell_type": "markdown",
      "metadata": {
        "id": "uIDiUnYy2Sd_"
      },
      "source": [
        "**Solution**\n",
        "\n",
        "*(Double-click or enter to edit)*\n",
        "\n",
        "..."
      ]
    },
    {
      "cell_type": "markdown",
      "metadata": {
        "id": "KVRDrIVq2Uqc"
      },
      "source": [
        "### Exercise #8\n",
        "\n",
        "*   Change the voting functions so that you can set a threshold for deciding a prediction.\n",
        "*   The threshold value indicates the minimum score for assigning a \"positive\" label (detect a face).\n",
        "*   Create the following functions\n",
        "    *   ensemble_vote_t: returns the final decision of a list of classifiers for a given threshold.\n",
        "    *   ensemble_vote_all_t: Iterates over a list of integral images and returns the final decision of a list of classifiers for each of the images (for a given threshold)."
      ]
    },
    {
      "cell_type": "code",
      "metadata": {
        "id": "dVKa6Ou12jo9"
      },
      "source": [
        "# solution\n",
        "def ensemble_vote_t(int_img, classifiers, threshold):\n",
        "  if np.array([c.get_vote(int_img) for c in classifiers]).sum() >= threshold:    \n",
        "    return 1\n",
        "  else:\n",
        "    return 0\n",
        "\n",
        "def ensemble_vote_all_t(int_imgs, classifiers, threshold):\n",
        "  vote_list = []\n",
        "  for img in int_imgs:\n",
        "    vote_list.append(ensemble_vote_t(img, classifiers, threshold))\n",
        "  return vote_list\n"
      ],
      "execution_count": 120,
      "outputs": []
    },
    {
      "cell_type": "markdown",
      "metadata": {
        "id": "xurLySYg2kIL"
      },
      "source": [
        "*   Using the list of 20 classifiers compute the following:\n",
        "\n",
        "    1.   number of correct faces over all faces (in the train data)\n",
        "    2.   number of correct non faces over all non faces (in the train data)\n",
        "    3.   number of correct faces over all faces (in the test data)\n",
        "    4.   number of correct non faces over all non faces (in the test data)\n",
        "\n",
        "*   The quantities have to be computed for each of the following thresholds:\n",
        "```\n",
        "thresholds = np.array([x for x in range(-5,5,1)])/10.\n",
        "```"
      ]
    },
    {
      "cell_type": "code",
      "source": [
        "thresholds"
      ],
      "metadata": {
        "id": "m3jODs98a1Wd",
        "outputId": "b4f1a1c6-53c9-43a8-8672-8df185a5c2be",
        "colab": {
          "base_uri": "https://localhost:8080/"
        }
      },
      "execution_count": 119,
      "outputs": [
        {
          "output_type": "execute_result",
          "data": {
            "text/plain": [
              "array([-0.5, -0.4, -0.3, -0.2, -0.1,  0. ,  0.1,  0.2,  0.3,  0.4])"
            ]
          },
          "metadata": {},
          "execution_count": 119
        }
      ]
    },
    {
      "cell_type": "code",
      "metadata": {
        "id": "qdzWEiPc3FDd",
        "colab": {
          "base_uri": "https://localhost:8080/"
        },
        "outputId": "352aa4fd-934b-49fb-f713-6fcda39fae73"
      },
      "source": [
        "# solution\n",
        "thresholds = np.array([x for x in range(-5,5,1)])/10.\n",
        "ptr,ntr,pts,nts = [],[],[],[]\n",
        "for threshold in thresholds:\n",
        "  print('######################## Threshold = {} ########################'.format(threshold))\n",
        "  print('train results:')\n",
        "  positive_training = ensemble_vote_all_t(pos_training_ii, classifiers_20, threshold)\n",
        "  ptr.append((positive_training.count(1)/len(positive_training)*100))\n",
        "  print('Correctly identified Faces: {}/{}  ({}%)'.format(positive_training.count(1), len(positive_training), (positive_training.count(1)/len(positive_training)*100)))\n",
        "  negative_training = ensemble_vote_all_t(neg_training_ii, classifiers_20, threshold)\n",
        "  ntr.append((negative_training.count(1)/len(negative_training)*100))\n",
        "  print('Correctly identified non-faces: {}/{}  ({}%)'.format(negative_training.count(1), len(negative_training), (negative_training.count(1)/len(negative_training)*100)))\n",
        "  print('')\n",
        "  print('test results:')\n",
        "  positive_testing = ensemble_vote_all_t(pos_testing_ii, classifiers_20, threshold)\n",
        "  pts.append((positive_testing.count(1)/len(positive_testing)*100))\n",
        "  print('Correctly identified Faces: {}/{}  ({}%)'.format(positive_testing.count(1), len(positive_testing), (positive_testing.count(1)/len(positive_testing)*100)))\n",
        "  negative_testing = ensemble_vote_all_t(neg_testing_ii, classifiers_20, threshold)\n",
        "  nts.append((negative_testing.count(1)/len(negative_testing)*100))\n",
        "  print('Correctly identified non-faces: {}/{}  ({}%)'.format(negative_testing.count(1), len(negative_testing), (negative_testing.count(1)/len(negative_testing)*100)))\n",
        "  print('')\n"
      ],
      "execution_count": 127,
      "outputs": [
        {
          "output_type": "stream",
          "name": "stdout",
          "text": [
            "######################## Threshold = -0.5 ########################\n",
            "train results:\n",
            "Correctly identified Faces: 2370/2429  (97.57101687937423%)\n",
            "Correctly identified non-faces: 2673/8555  (31.244886031560494%)\n",
            "\n",
            "test results:\n",
            "Correctly identified Faces: 346/472  (73.30508474576271%)\n",
            "Correctly identified non-faces: 44/128  (34.375%)\n",
            "\n",
            "######################## Threshold = -0.4 ########################\n",
            "train results:\n",
            "Correctly identified Faces: 2344/2429  (96.50061753808151%)\n",
            "Correctly identified non-faces: 2348/8555  (27.44593804792519%)\n",
            "\n",
            "test results:\n",
            "Correctly identified Faces: 325/472  (68.85593220338984%)\n",
            "Correctly identified non-faces: 39/128  (30.46875%)\n",
            "\n",
            "######################## Threshold = -0.3 ########################\n",
            "train results:\n",
            "Correctly identified Faces: 2319/2429  (95.47138740222314%)\n",
            "Correctly identified non-faces: 2118/8555  (24.757451782583285%)\n",
            "\n",
            "test results:\n",
            "Correctly identified Faces: 311/472  (65.88983050847457%)\n",
            "Correctly identified non-faces: 34/128  (26.5625%)\n",
            "\n",
            "######################## Threshold = -0.2 ########################\n",
            "train results:\n",
            "Correctly identified Faces: 2291/2429  (94.31864965006176%)\n",
            "Correctly identified non-faces: 1900/8555  (22.209234365867914%)\n",
            "\n",
            "test results:\n",
            "Correctly identified Faces: 295/472  (62.5%)\n",
            "Correctly identified non-faces: 34/128  (26.5625%)\n",
            "\n",
            "######################## Threshold = -0.1 ########################\n",
            "train results:\n",
            "Correctly identified Faces: 2252/2429  (92.71305063812268%)\n",
            "Correctly identified non-faces: 1682/8555  (19.661016949152543%)\n",
            "\n",
            "test results:\n",
            "Correctly identified Faces: 275/472  (58.26271186440678%)\n",
            "Correctly identified non-faces: 28/128  (21.875%)\n",
            "\n",
            "######################## Threshold = 0.0 ########################\n",
            "train results:\n",
            "Correctly identified Faces: 2224/2429  (91.56031288596131%)\n",
            "Correctly identified non-faces: 1440/8555  (16.832261835184102%)\n",
            "\n",
            "test results:\n",
            "Correctly identified Faces: 246/472  (52.118644067796616%)\n",
            "Correctly identified non-faces: 25/128  (19.53125%)\n",
            "\n",
            "######################## Threshold = 0.1 ########################\n",
            "train results:\n",
            "Correctly identified Faces: 2168/2429  (89.25483738163852%)\n",
            "Correctly identified non-faces: 1215/8555  (14.202220923436586%)\n",
            "\n",
            "test results:\n",
            "Correctly identified Faces: 232/472  (49.152542372881356%)\n",
            "Correctly identified non-faces: 22/128  (17.1875%)\n",
            "\n",
            "######################## Threshold = 0.2 ########################\n",
            "train results:\n",
            "Correctly identified Faces: 2118/2429  (87.19637710992177%)\n",
            "Correctly identified non-faces: 1019/8555  (11.911163062536529%)\n",
            "\n",
            "test results:\n",
            "Correctly identified Faces: 209/472  (44.27966101694915%)\n",
            "Correctly identified non-faces: 17/128  (13.28125%)\n",
            "\n",
            "######################## Threshold = 0.3 ########################\n",
            "train results:\n",
            "Correctly identified Faces: 2073/2429  (85.34376286537669%)\n",
            "Correctly identified non-faces: 891/8555  (10.414962010520163%)\n",
            "\n",
            "test results:\n",
            "Correctly identified Faces: 201/472  (42.58474576271186%)\n",
            "Correctly identified non-faces: 13/128  (10.15625%)\n",
            "\n",
            "######################## Threshold = 0.4 ########################\n",
            "train results:\n",
            "Correctly identified Faces: 1970/2429  (81.10333470564018%)\n",
            "Correctly identified non-faces: 739/8555  (8.638223261250731%)\n",
            "\n",
            "test results:\n",
            "Correctly identified Faces: 183/472  (38.771186440677965%)\n",
            "Correctly identified non-faces: 11/128  (8.59375%)\n",
            "\n"
          ]
        }
      ]
    },
    {
      "cell_type": "markdown",
      "metadata": {
        "id": "wg8-nXwc3GCu"
      },
      "source": [
        "*   Make a bar plot for 1-4. In the x axis write the threshold value."
      ]
    },
    {
      "cell_type": "code",
      "metadata": {
        "id": "guWtTfnN3NwQ"
      },
      "source": [
        "# solution\n",
        "plt.bar(list(range(0, )), self.explained_variance_ratio, color=colors[2])\n"
      ],
      "execution_count": null,
      "outputs": []
    },
    {
      "cell_type": "markdown",
      "metadata": {
        "id": "Ed954GYs3IwK"
      },
      "source": [
        "*   Discuss what happens when you increase the threshold value."
      ]
    },
    {
      "cell_type": "code",
      "source": [
        "data = {'positive_training':ptr,\n",
        "        'negative_training':ntr,\n",
        "        'positive_testing':pts,\n",
        "        'negative_testing':nts}\n",
        "xtic=thresholds\n",
        "title = 'Classification succes by tresholds'"
      ],
      "metadata": {
        "id": "CuoW65Bkffhz"
      },
      "execution_count": 138,
      "outputs": []
    },
    {
      "cell_type": "code",
      "source": [
        "len(xtic)"
      ],
      "metadata": {
        "id": "4UFwupA0iWYV",
        "outputId": "b7f8a854-8c44-4565-ed60-42269b10206a",
        "colab": {
          "base_uri": "https://localhost:8080/"
        }
      },
      "execution_count": 139,
      "outputs": [
        {
          "output_type": "execute_result",
          "data": {
            "text/plain": [
              "10"
            ]
          },
          "metadata": {},
          "execution_count": 139
        }
      ]
    },
    {
      "cell_type": "code",
      "source": [
        "groupedBarPlot(data, xtic, title, colors=plt.cm.Set2.colors, width = 0.2)"
      ],
      "metadata": {
        "id": "bii5m6lUfTrW",
        "outputId": "8cd61dec-1579-4cd9-9240-d5f643f028a2",
        "colab": {
          "base_uri": "https://localhost:8080/",
          "height": 799
        }
      },
      "execution_count": 142,
      "outputs": [
        {
          "output_type": "error",
          "ename": "AttributeError",
          "evalue": "ignored",
          "traceback": [
            "\u001b[0;31m---------------------------------------------------------------------------\u001b[0m",
            "\u001b[0;31mAttributeError\u001b[0m                            Traceback (most recent call last)",
            "\u001b[0;32m<ipython-input-142-bf768686a4a1>\u001b[0m in \u001b[0;36m<module>\u001b[0;34m\u001b[0m\n\u001b[0;32m----> 1\u001b[0;31m \u001b[0mgroupedBarPlot\u001b[0m\u001b[0;34m(\u001b[0m\u001b[0mdata\u001b[0m\u001b[0;34m,\u001b[0m \u001b[0mxtic\u001b[0m\u001b[0;34m,\u001b[0m \u001b[0mtitle\u001b[0m\u001b[0;34m,\u001b[0m \u001b[0mcolors\u001b[0m\u001b[0;34m=\u001b[0m\u001b[0mplt\u001b[0m\u001b[0;34m.\u001b[0m\u001b[0mcm\u001b[0m\u001b[0;34m.\u001b[0m\u001b[0mSet2\u001b[0m\u001b[0;34m.\u001b[0m\u001b[0mcolors\u001b[0m\u001b[0;34m,\u001b[0m \u001b[0mwidth\u001b[0m \u001b[0;34m=\u001b[0m \u001b[0;36m0.2\u001b[0m\u001b[0;34m)\u001b[0m\u001b[0;34m\u001b[0m\u001b[0;34m\u001b[0m\u001b[0m\n\u001b[0m",
            "\u001b[0;32m<ipython-input-135-91caf0e36c0a>\u001b[0m in \u001b[0;36mgroupedBarPlot\u001b[0;34m(data, xticks, title, legend, axislabels, width, figsize, barLabel, png, pdf, colors, fsizes, axisLim, xtick_rot, bLconfs)\u001b[0m\n\u001b[1;32m    103\u001b[0m     \u001b[0;32melse\u001b[0m\u001b[0;34m:\u001b[0m\u001b[0;34m\u001b[0m\u001b[0;34m\u001b[0m\u001b[0m\n\u001b[1;32m    104\u001b[0m         \u001b[0;32mfor\u001b[0m \u001b[0mi\u001b[0m \u001b[0;32min\u001b[0m \u001b[0mrects\u001b[0m\u001b[0;34m.\u001b[0m\u001b[0mvalues\u001b[0m\u001b[0;34m(\u001b[0m\u001b[0;34m)\u001b[0m\u001b[0;34m:\u001b[0m\u001b[0;34m\u001b[0m\u001b[0;34m\u001b[0m\u001b[0m\n\u001b[0;32m--> 105\u001b[0;31m             \u001b[0max\u001b[0m\u001b[0;34m.\u001b[0m\u001b[0mbar_label\u001b[0m\u001b[0;34m(\u001b[0m\u001b[0mi\u001b[0m\u001b[0;34m,\u001b[0m \u001b[0mpadding\u001b[0m\u001b[0;34m=\u001b[0m\u001b[0;36m3\u001b[0m\u001b[0;34m,\u001b[0m \u001b[0mfmt\u001b[0m \u001b[0;34m=\u001b[0m \u001b[0mbLconfs\u001b[0m\u001b[0;34m[\u001b[0m\u001b[0;36m0\u001b[0m\u001b[0;34m]\u001b[0m\u001b[0;34m,\u001b[0m \u001b[0mfontsize\u001b[0m \u001b[0;34m=\u001b[0m \u001b[0mbLconfs\u001b[0m\u001b[0;34m[\u001b[0m\u001b[0;36m1\u001b[0m\u001b[0;34m]\u001b[0m\u001b[0;34m)\u001b[0m\u001b[0;34m\u001b[0m\u001b[0;34m\u001b[0m\u001b[0m\n\u001b[0m\u001b[1;32m    106\u001b[0m \u001b[0;34m\u001b[0m\u001b[0m\n\u001b[1;32m    107\u001b[0m     \u001b[0mfig\u001b[0m\u001b[0;34m.\u001b[0m\u001b[0mtight_layout\u001b[0m\u001b[0;34m(\u001b[0m\u001b[0;34m)\u001b[0m\u001b[0;34m\u001b[0m\u001b[0;34m\u001b[0m\u001b[0m\n",
            "\u001b[0;31mAttributeError\u001b[0m: 'AxesSubplot' object has no attribute 'bar_label'"
          ]
        },
        {
          "output_type": "display_data",
          "data": {
            "text/plain": [
              "<Figure size 1800x720 with 1 Axes>"
            ],
            "image/png": "[encoded data removed]"
          },
          "metadata": {
            "needs_background": "light"
          }
        }
      ]
    },
    {
      "cell_type": "markdown",
      "metadata": {
        "id": "Ri9kU3wa3Rei"
      },
      "source": [
        "**Solution**\n",
        "\n",
        "*(Double-click or enter to edit)*\n",
        "\n",
        "..."
      ]
    },
    {
      "cell_type": "markdown",
      "metadata": {
        "id": "b0o_rbZ5bl42"
      },
      "source": [
        "# Face Recognition using PCA\n"
      ]
    },
    {
      "cell_type": "code",
      "metadata": {
        "id": "MAayTY19blQt"
      },
      "source": [
        "# Loading necessary libraries (Feel free to add new libraries if you need for any computation)\n",
        "\n",
        "from time import time\n",
        "import logging\n",
        "import matplotlib.pyplot as plt\n",
        "import numpy as np\n",
        "import os\n",
        "\n",
        "from sklearn.model_selection import train_test_split\n",
        "from sklearn.model_selection import GridSearchCV\n",
        "from sklearn.datasets import fetch_lfw_people\n",
        "from sklearn.metrics import accuracy_score, classification_report, confusion_matrix\n",
        "from sklearn.decomposition import PCA\n",
        "from sklearn.svm import SVC\n",
        "from sklearn.neighbors import KNeighborsClassifier"
      ],
      "execution_count": null,
      "outputs": []
    },
    {
      "cell_type": "markdown",
      "metadata": {
        "id": "nERZ0O4UVxcB"
      },
      "source": [
        "*   Loading the dataset"
      ]
    },
    {
      "cell_type": "code",
      "metadata": {
        "id": "mm9ASG8Cbt8S"
      },
      "source": [
        "# Download the data, if not already on disk and load it as numpy arrays\n",
        "\n",
        "lfw_people = fetch_lfw_people(min_faces_per_person=70, resize=0.4)\n",
        "\n",
        "# introspect the images arrays to find the shapes\n",
        "n_samples, h, w = lfw_people.images.shape\n",
        "\n",
        "# for machine learning we use the 2 data directly (as relative pixel\n",
        "# positions info is ignored by this model)\n",
        "X = lfw_people.data\n",
        "n_features = X.shape[1]\n",
        "\n",
        "# the label to predict is the id of the person\n",
        "y = lfw_people.target\n",
        "target_names = lfw_people.target_names\n",
        "n_classes = target_names.shape[0]\n",
        "\n",
        "print(\"Total dataset size:\")\n",
        "print(\"n_samples: %d\" % n_samples)\n",
        "print(\"n_features: %d\" % n_features)\n",
        "print(\"n_classes: %d\" % n_classes)"
      ],
      "execution_count": null,
      "outputs": []
    },
    {
      "cell_type": "markdown",
      "metadata": {
        "id": "0F0uLOBYV064"
      },
      "source": [
        "*   Creating training and testing set"
      ]
    },
    {
      "cell_type": "code",
      "metadata": {
        "id": "bZDOq5L9byIc"
      },
      "source": [
        "# split into a training and testing set\n",
        "X_train, X_test, y_train, y_test = train_test_split(X, y, test_size=0.25, random_state=42)\n",
        "\n",
        "print('Train data shape:', X_train.shape)\n",
        "print('Test data shape:', X_test.shape)\n",
        "print('Number of classes in Train set:', np.unique(y_train).shape[0])"
      ],
      "execution_count": null,
      "outputs": []
    },
    {
      "cell_type": "markdown",
      "metadata": {
        "id": "oMxf0qqgV884"
      },
      "source": [
        "### Exercise #1: PCA Computation\n",
        "*   Compute a PCA (eigenfaces) on the face dataset\n",
        "    *   *Set* number of components to 100"
      ]
    },
    {
      "cell_type": "code",
      "metadata": {
        "id": "6Fk3-1LWb0NM"
      },
      "source": [
        "# solution\n",
        "\n"
      ],
      "execution_count": null,
      "outputs": []
    },
    {
      "cell_type": "markdown",
      "metadata": {
        "id": "QNKh2ENIw-Er"
      },
      "source": [
        "*   Reshape the components output of pca to obtain the eigen faces"
      ]
    },
    {
      "cell_type": "code",
      "metadata": {
        "id": "0Sg-LFp0xNfj"
      },
      "source": [
        "# solution\n",
        "\n"
      ],
      "execution_count": null,
      "outputs": []
    },
    {
      "cell_type": "markdown",
      "metadata": {
        "id": "G-vVnAknxTMr"
      },
      "source": [
        "*   Project the training and testing faces data on the orthonormal basis"
      ]
    },
    {
      "cell_type": "code",
      "metadata": {
        "id": "PCxUQ13FscJN"
      },
      "source": [
        "# solution\n",
        "\n"
      ],
      "execution_count": null,
      "outputs": []
    },
    {
      "cell_type": "markdown",
      "metadata": {
        "id": "_QUnMNiXx_a_"
      },
      "source": [
        "*   Plot the most significative eigenfaces (Show the top 12 eigenfaces) as a matplotlib"
      ]
    },
    {
      "cell_type": "code",
      "metadata": {
        "id": "dhRvTppZs0I1"
      },
      "source": [
        "# solution\n",
        "\n"
      ],
      "execution_count": null,
      "outputs": []
    },
    {
      "cell_type": "markdown",
      "metadata": {
        "id": "PGE2CDmeprup"
      },
      "source": [
        "*   Show the total percentage of variance explained by the selected components of the PCA.\n"
      ]
    },
    {
      "cell_type": "code",
      "metadata": {
        "id": "iun4uPF7MVIj"
      },
      "source": [
        "# solution\n",
        "\n"
      ],
      "execution_count": null,
      "outputs": []
    },
    {
      "cell_type": "markdown",
      "metadata": {
        "id": "bmmCKAv52xxo"
      },
      "source": [
        "*   What are the shortcomings of PCA?"
      ]
    },
    {
      "cell_type": "markdown",
      "metadata": {
        "id": "X9gVxCuS230e"
      },
      "source": [
        "**Solution**\n",
        "\n",
        "*(Double-click or enter to edit)*\n",
        "\n",
        "..."
      ]
    },
    {
      "cell_type": "markdown",
      "metadata": {
        "id": "4Ggw9mNLksIP"
      },
      "source": [
        "### Exercise #2: k-NN Classification\n",
        "\n",
        "*   Train a k-nearest neighbor model with the eigenfaces using the default parameters"
      ]
    },
    {
      "cell_type": "code",
      "metadata": {
        "id": "s0_Q7bEJb2Rk"
      },
      "source": [
        "# solution\n",
        "\n"
      ],
      "execution_count": null,
      "outputs": []
    },
    {
      "cell_type": "markdown",
      "metadata": {
        "id": "VTgCFhdnljlN"
      },
      "source": [
        "*   Predict the test data using the trained classifier"
      ]
    },
    {
      "cell_type": "code",
      "metadata": {
        "id": "GWpJTUmFb39U"
      },
      "source": [
        "# Quantitative evaluation of the model quality on the test set\n",
        "\n"
      ],
      "execution_count": null,
      "outputs": []
    },
    {
      "cell_type": "markdown",
      "metadata": {
        "id": "prk7DAVglthc"
      },
      "source": [
        "### Exercise #3: Quantitative results\n",
        "\n",
        "*   Compute accuracy, classification report and confusion matrix of the trained classifier"
      ]
    },
    {
      "cell_type": "code",
      "metadata": {
        "id": "FgWoxEbEge1H"
      },
      "source": [
        "# solution\n",
        "\n"
      ],
      "execution_count": null,
      "outputs": []
    },
    {
      "cell_type": "code",
      "metadata": {
        "id": "400D8Q50ssMu"
      },
      "source": [
        "# solution\n",
        "\n"
      ],
      "execution_count": null,
      "outputs": []
    },
    {
      "cell_type": "code",
      "metadata": {
        "id": "-fxqArN9st78"
      },
      "source": [
        "# solution\n",
        "\n"
      ],
      "execution_count": null,
      "outputs": []
    },
    {
      "cell_type": "markdown",
      "metadata": {
        "id": "SA7zSojX0Qit"
      },
      "source": [
        "*   Explain the measures showed in the classification report.\n",
        "*   Discuss the obtained classification results, both the quantitative as well as the qualitative results."
      ]
    },
    {
      "cell_type": "markdown",
      "metadata": {
        "id": "zAkZUb370TlZ"
      },
      "source": [
        "**Solution**\n",
        "\n",
        "*(Double-click or enter to edit)*\n",
        "\n",
        "..."
      ]
    },
    {
      "cell_type": "markdown",
      "metadata": {
        "id": "dKx5nTPhzeI1"
      },
      "source": [
        "### Exercise #4\n",
        "\n",
        "*   How is the optimal value of 'k' found?"
      ]
    },
    {
      "cell_type": "markdown",
      "metadata": {
        "id": "CzU6y9kKzlq3"
      },
      "source": [
        "**Solution**\n",
        "\n",
        "*(Double-click or enter to edit)*\n",
        "\n",
        "..."
      ]
    },
    {
      "cell_type": "markdown",
      "metadata": {
        "id": "Ce45YY2z4f4A"
      },
      "source": [
        "*   Use GridSearch to find the optimal value of 'k'.\n",
        "    *   *Hint: GridSearchCV is available in sklearn.model_selection*\n",
        "*   What is the accuracy of the best estimator?"
      ]
    },
    {
      "cell_type": "code",
      "metadata": {
        "id": "Ge-VPK1U4yGD"
      },
      "source": [
        "# solution\n",
        "\n"
      ],
      "execution_count": null,
      "outputs": []
    },
    {
      "cell_type": "markdown",
      "metadata": {
        "id": "HFsb6Hgpl6t4"
      },
      "source": [
        "### Exercise #5: Qualitative evaluation\n",
        "\n",
        "*   Plot some of the prediction images using matplotlib subplots (4 x 4). Show the true label and predicted label as the title of each sub plot."
      ]
    },
    {
      "cell_type": "code",
      "metadata": {
        "id": "8v3p-cffb6Pb"
      },
      "source": [
        "# solution\n",
        "\n"
      ],
      "execution_count": null,
      "outputs": []
    },
    {
      "cell_type": "markdown",
      "metadata": {
        "id": "FzBM0cRZ2_nN"
      },
      "source": [
        "*   What are the disadvantages of using kNN"
      ]
    },
    {
      "cell_type": "markdown",
      "metadata": {
        "id": "cGzVaVwD3E8i"
      },
      "source": [
        "**Solution**\n",
        "\n",
        "*(Double-click or enter to edit)*\n",
        "\n",
        "..."
      ]
    },
    {
      "cell_type": "markdown",
      "metadata": {
        "id": "4MjirnTw--8r"
      },
      "source": [
        "\n",
        "---\n",
        "\n",
        "# **End of L3_1: Face Detection and Recognition**\n",
        "Deadline for L3_1 submission in CampusVirtual is: **Thursday, the 10th of November, 2022**"
      ]
    }
  ]
}