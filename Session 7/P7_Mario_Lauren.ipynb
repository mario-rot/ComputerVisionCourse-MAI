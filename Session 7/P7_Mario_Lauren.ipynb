{
  "nbformat": 4,
  "nbformat_minor": 0,
  "metadata": {
    "colab": {
      "provenance": [],
      "include_colab_link": true
    },
    "kernelspec": {
      "display_name": "Python 3",
      "name": "python3"
    }
  },
  "cells": [
    {
      "cell_type": "markdown",
      "metadata": {
        "id": "view-in-github",
        "colab_type": "text"
      },
      "source": [
        "<a href=\"https://colab.research.google.com/github/mario-rot/ComputerVisionCourse-MAI/blob/main/Session%207/P7_Mario_Lauren.ipynb\" target=\"_parent\"><img src=\"https://colab.research.google.com/assets/colab-badge.svg\" alt=\"Open In Colab\"/></a>"
      ]
    },
    {
      "cell_type": "markdown",
      "metadata": {
        "id": "Sk0eYw8ojrFq"
      },
      "source": [
        "# Laboratory #3_2 : Image Classification using Bag of Visual Words\n",
        "\n",
        "At the end of this laboratory, you would get familiarized with\n",
        "\n",
        "*   Creating Bag of Visual Words\n",
        "    *   Feature Extraction\n",
        "    *   Codebook construction\n",
        "    *   Classification\n",
        "\n",
        "**Remember this is a graded exercise.**\n",
        "\n",
        "*   For every plot, make sure you provide appropriate titles, axis labels, legends, wherever applicable.\n",
        "*   Create reusable functions where ever possible, so that the code could be reused at different places.\n",
        "*   Mount your drive to access the images.\n",
        "*   Add sufficient comments and explanations wherever necessary.\n",
        "\n",
        "---"
      ]
    },
    {
      "cell_type": "code",
      "source": [
        "%load_ext autoreload\n",
        "%autoreload 2"
      ],
      "metadata": {
        "id": "AIX_61vv777d"
      },
      "execution_count": 1,
      "outputs": []
    },
    {
      "cell_type": "code",
      "metadata": {
        "id": "sYHw1lSBldl-",
        "colab": {
          "base_uri": "https://localhost:8080/",
          "height": 485
        },
        "outputId": "61ba2d0b-8fe1-4118-e129-4687b8f94e72"
      },
      "source": [
        "%%shell\n",
        "git clone https://github.com/mario-rot/ComputerVisionCourse-MAI.git\n",
        "cd 'ComputerVisionCourse-MAI'\n",
        "mv 'Session 7/Caltech_101_subset' /content/\n",
        "mv 'customplots.py' /content/\n",
        "mv 'utils.py' /content/"
      ],
      "execution_count": 8,
      "outputs": [
        {
          "output_type": "stream",
          "name": "stdout",
          "text": [
            "fatal: destination path 'ComputerVisionCourse-MAI' already exists and is not an empty directory.\n",
            "mv: cannot stat 'Session 7/Caltech_101_subset': No such file or directory\n",
            "mv: cannot stat 'customplots.py': No such file or directory\n",
            "mv: cannot stat 'utils.py': No such file or directory\n"
          ]
        },
        {
          "output_type": "error",
          "ename": "CalledProcessError",
          "evalue": "ignored",
          "traceback": [
            "\u001b[0;31m---------------------------------------------------------------------------\u001b[0m",
            "\u001b[0;31mCalledProcessError\u001b[0m                        Traceback (most recent call last)",
            "\u001b[0;32m<ipython-input-8-5054c1ccac0c>\u001b[0m in \u001b[0;36m<module>\u001b[0;34m\u001b[0m\n\u001b[0;32m----> 1\u001b[0;31m \u001b[0mget_ipython\u001b[0m\u001b[0;34m(\u001b[0m\u001b[0;34m)\u001b[0m\u001b[0;34m.\u001b[0m\u001b[0mrun_cell_magic\u001b[0m\u001b[0;34m(\u001b[0m\u001b[0;34m'shell'\u001b[0m\u001b[0;34m,\u001b[0m \u001b[0;34m''\u001b[0m\u001b[0;34m,\u001b[0m \u001b[0;34m\"git clone https://github.com/mario-rot/ComputerVisionCourse-MAI.git\\ncd 'ComputerVisionCourse-MAI'\\nmv 'Session 7/Caltech_101_subset' /content/\\nmv 'customplots.py' /content/\\nmv 'utils.py' /content/\\n\"\u001b[0m\u001b[0;34m)\u001b[0m\u001b[0;34m\u001b[0m\u001b[0;34m\u001b[0m\u001b[0m\n\u001b[0m",
            "\u001b[0;32m/usr/local/lib/python3.7/dist-packages/IPython/core/interactiveshell.py\u001b[0m in \u001b[0;36mrun_cell_magic\u001b[0;34m(self, magic_name, line, cell)\u001b[0m\n\u001b[1;32m   2357\u001b[0m             \u001b[0;32mwith\u001b[0m \u001b[0mself\u001b[0m\u001b[0;34m.\u001b[0m\u001b[0mbuiltin_trap\u001b[0m\u001b[0;34m:\u001b[0m\u001b[0;34m\u001b[0m\u001b[0;34m\u001b[0m\u001b[0m\n\u001b[1;32m   2358\u001b[0m                 \u001b[0margs\u001b[0m \u001b[0;34m=\u001b[0m \u001b[0;34m(\u001b[0m\u001b[0mmagic_arg_s\u001b[0m\u001b[0;34m,\u001b[0m \u001b[0mcell\u001b[0m\u001b[0;34m)\u001b[0m\u001b[0;34m\u001b[0m\u001b[0;34m\u001b[0m\u001b[0m\n\u001b[0;32m-> 2359\u001b[0;31m                 \u001b[0mresult\u001b[0m \u001b[0;34m=\u001b[0m \u001b[0mfn\u001b[0m\u001b[0;34m(\u001b[0m\u001b[0;34m*\u001b[0m\u001b[0margs\u001b[0m\u001b[0;34m,\u001b[0m \u001b[0;34m**\u001b[0m\u001b[0mkwargs\u001b[0m\u001b[0;34m)\u001b[0m\u001b[0;34m\u001b[0m\u001b[0;34m\u001b[0m\u001b[0m\n\u001b[0m\u001b[1;32m   2360\u001b[0m             \u001b[0;32mreturn\u001b[0m \u001b[0mresult\u001b[0m\u001b[0;34m\u001b[0m\u001b[0;34m\u001b[0m\u001b[0m\n\u001b[1;32m   2361\u001b[0m \u001b[0;34m\u001b[0m\u001b[0m\n",
            "\u001b[0;32m/usr/local/lib/python3.7/dist-packages/google/colab/_system_commands.py\u001b[0m in \u001b[0;36m_shell_cell_magic\u001b[0;34m(args, cmd)\u001b[0m\n\u001b[1;32m    107\u001b[0m   \u001b[0mresult\u001b[0m \u001b[0;34m=\u001b[0m \u001b[0m_run_command\u001b[0m\u001b[0;34m(\u001b[0m\u001b[0mcmd\u001b[0m\u001b[0;34m,\u001b[0m \u001b[0mclear_streamed_output\u001b[0m\u001b[0;34m=\u001b[0m\u001b[0;32mFalse\u001b[0m\u001b[0;34m)\u001b[0m\u001b[0;34m\u001b[0m\u001b[0;34m\u001b[0m\u001b[0m\n\u001b[1;32m    108\u001b[0m   \u001b[0;32mif\u001b[0m \u001b[0;32mnot\u001b[0m \u001b[0mparsed_args\u001b[0m\u001b[0;34m.\u001b[0m\u001b[0mignore_errors\u001b[0m\u001b[0;34m:\u001b[0m\u001b[0;34m\u001b[0m\u001b[0;34m\u001b[0m\u001b[0m\n\u001b[0;32m--> 109\u001b[0;31m     \u001b[0mresult\u001b[0m\u001b[0;34m.\u001b[0m\u001b[0mcheck_returncode\u001b[0m\u001b[0;34m(\u001b[0m\u001b[0;34m)\u001b[0m\u001b[0;34m\u001b[0m\u001b[0;34m\u001b[0m\u001b[0m\n\u001b[0m\u001b[1;32m    110\u001b[0m   \u001b[0;32mreturn\u001b[0m \u001b[0mresult\u001b[0m\u001b[0;34m\u001b[0m\u001b[0;34m\u001b[0m\u001b[0m\n\u001b[1;32m    111\u001b[0m \u001b[0;34m\u001b[0m\u001b[0m\n",
            "\u001b[0;32m/usr/local/lib/python3.7/dist-packages/google/colab/_system_commands.py\u001b[0m in \u001b[0;36mcheck_returncode\u001b[0;34m(self)\u001b[0m\n\u001b[1;32m    133\u001b[0m     \u001b[0;32mif\u001b[0m \u001b[0mself\u001b[0m\u001b[0;34m.\u001b[0m\u001b[0mreturncode\u001b[0m\u001b[0;34m:\u001b[0m\u001b[0;34m\u001b[0m\u001b[0;34m\u001b[0m\u001b[0m\n\u001b[1;32m    134\u001b[0m       raise subprocess.CalledProcessError(\n\u001b[0;32m--> 135\u001b[0;31m           returncode=self.returncode, cmd=self.args, output=self.output)\n\u001b[0m\u001b[1;32m    136\u001b[0m \u001b[0;34m\u001b[0m\u001b[0m\n\u001b[1;32m    137\u001b[0m   \u001b[0;32mdef\u001b[0m \u001b[0m_repr_pretty_\u001b[0m\u001b[0;34m(\u001b[0m\u001b[0mself\u001b[0m\u001b[0;34m,\u001b[0m \u001b[0mp\u001b[0m\u001b[0;34m,\u001b[0m \u001b[0mcycle\u001b[0m\u001b[0;34m)\u001b[0m\u001b[0;34m:\u001b[0m  \u001b[0;31m# pylint:disable=unused-argument\u001b[0m\u001b[0;34m\u001b[0m\u001b[0;34m\u001b[0m\u001b[0m\n",
            "\u001b[0;31mCalledProcessError\u001b[0m: Command 'git clone https://github.com/mario-rot/ComputerVisionCourse-MAI.git\ncd 'ComputerVisionCourse-MAI'\nmv 'Session 7/Caltech_101_subset' /content/\nmv 'customplots.py' /content/\nmv 'utils.py' /content/\n' returned non-zero exit status 1."
          ]
        }
      ]
    },
    {
      "cell_type": "code",
      "metadata": {
        "id": "aD5-E8PuaQ5P"
      },
      "source": [
        "# Loading necessary libraries (Feel free to add new libraries if you need for any computation)\n",
        "\n",
        "import os\n",
        "import numpy as np\n",
        "\n",
        "from skimage.feature import ORB\n",
        "from skimage import feature\n",
        "from skimage.color import rgb2gray\n",
        "from skimage.io import imread, imread_collection\n",
        "from scipy.cluster.vq import vq\n",
        "from sklearn.model_selection import train_test_split\n",
        "from utils import get_multi_ORB\n",
        "from sklearn.cluster import MiniBatchKMeans\n",
        "import collections\n",
        "import skimage.exposure as ske\n",
        "\n",
        "from matplotlib import pyplot as plt\n",
        "import pandas as pd\n",
        "\n",
        "from sklearn.metrics import accuracy_score, classification_report, confusion_matrix\n",
        "from customplots import plot_confusion_matrix"
      ],
      "execution_count": 7,
      "outputs": []
    },
    {
      "cell_type": "markdown",
      "metadata": {
        "id": "ampx9DIJiuGN"
      },
      "source": [
        "## Loading dataset\n",
        "\n",
        "We will use 3 categories from Caltech 101 objects dataset for this experiment. Upload the dataset to the drive and mount it."
      ]
    },
    {
      "cell_type": "code",
      "metadata": {
        "id": "PRSJP1XbG6-a"
      },
      "source": [
        "# modify the dataset variable with the path from your drive\n",
        "\n",
        "dataset_path = r'/content/Caltech_101_subset/'"
      ],
      "execution_count": 9,
      "outputs": []
    },
    {
      "cell_type": "code",
      "metadata": {
        "id": "fNoe7u755X6Q"
      },
      "source": [
        "categories = ['butterfly', 'kangaroo', 'dalmatian']\n",
        "ncl = len(categories) * 10"
      ],
      "execution_count": 10,
      "outputs": []
    },
    {
      "cell_type": "markdown",
      "metadata": {
        "id": "gxY0mDoK5EQj"
      },
      "source": [
        "*   Create a list of file and the corresponding labels"
      ]
    },
    {
      "cell_type": "code",
      "source": [
        "data = [(cat, i) for cat in categories for i in imread_collection(dataset_path+ cat +'/*')]"
      ],
      "metadata": {
        "id": "klut3nIf1EIH"
      },
      "execution_count": 11,
      "outputs": []
    },
    {
      "cell_type": "code",
      "metadata": {
        "id": "3x42veHz5LDt",
        "colab": {
          "base_uri": "https://localhost:8080/"
        },
        "outputId": "c4d8d93e-878d-4b57-c72b-dd0af4ddce4d"
      },
      "source": [
        "print('Total number of images:', len(data))"
      ],
      "execution_count": 12,
      "outputs": [
        {
          "output_type": "stream",
          "name": "stdout",
          "text": [
            "Total number of images: 244\n"
          ]
        }
      ]
    },
    {
      "cell_type": "markdown",
      "metadata": {
        "id": "XgVhdjYz5Zhs"
      },
      "source": [
        "*   Create a train / test split where the test is 10% of the total data"
      ]
    },
    {
      "cell_type": "code",
      "metadata": {
        "id": "QzYnjzXBZXXt"
      },
      "source": [
        "# solution\n",
        "X = [i for cat in categories for i in imread_collection(dataset_path+ cat +'/*')]\n",
        "y = [cat for cat in categories for i in imread_collection(dataset_path+ cat +'/*')]\n",
        "x_train,x_test,y_train,y_test = train_test_split(X,y, test_size=0.1, random_state=25, stratify=y)"
      ],
      "execution_count": 56,
      "outputs": []
    },
    {
      "cell_type": "code",
      "metadata": {
        "id": "gd057lAc5jze",
        "colab": {
          "base_uri": "https://localhost:8080/"
        },
        "outputId": "b2ffe8e4-39e6-4a93-805c-843e4af2e10c"
      },
      "source": [
        "print('Train set:', len(x_train))\n",
        "print('Test set:', len(x_test))"
      ],
      "execution_count": 57,
      "outputs": [
        {
          "output_type": "stream",
          "name": "stdout",
          "text": [
            "Train set: 219\n",
            "Test set: 25\n"
          ]
        }
      ]
    },
    {
      "cell_type": "markdown",
      "metadata": {
        "id": "_Hl36Ej_5k6Y"
      },
      "source": [
        "*   How do you select the train/test split?"
      ]
    },
    {
      "cell_type": "markdown",
      "metadata": {
        "id": "-aOe27Kx5vtd"
      },
      "source": [
        "**Solution**\n",
        "\n",
        "*We used the train_test_split function from sklearn to split the data into a testing set and a training set. This selects the data randomly to split based off the percentage provided. We also set the 'stratify' parameter to ensure that there was a representative balance of images in each split.*\n",
        "\n",
        "..."
      ]
    },
    {
      "cell_type": "markdown",
      "metadata": {
        "id": "18OZf2kfkVNB"
      },
      "source": [
        "## Feature Extraction using ORB\n",
        "\n",
        "The first step is to extract descriptors for each image in our dataset. We will use ORB to extract descriptors.\n",
        "\n",
        "*   Create ORB detector with 64 keypoints.\n"
      ]
    },
    {
      "cell_type": "code",
      "source": [
        "descriptor_extractor = feature.ORB(n_keypoints=64)"
      ],
      "metadata": {
        "id": "V5UVcN7l9hyR"
      },
      "execution_count": 15,
      "outputs": []
    },
    {
      "cell_type": "markdown",
      "metadata": {
        "id": "3yinPkL8brow"
      },
      "source": [
        "*   Extract ORB descriptors from all the images in the train set.\n"
      ]
    },
    {
      "cell_type": "code",
      "metadata": {
        "id": "PCiXJeLFxGtP"
      },
      "source": [
        "# solution\n",
        "kps_train,dcs_train = get_multi_ORB(descriptor_extractor, x_train)"
      ],
      "execution_count": 16,
      "outputs": []
    },
    {
      "cell_type": "markdown",
      "metadata": {
        "id": "GJehFdyt583b"
      },
      "source": [
        "*   What is the size of the feature descriptors? What does each dimension represent in the feature descriptors?"
      ]
    },
    {
      "cell_type": "code",
      "metadata": {
        "id": "bzTspvF96LeC",
        "colab": {
          "base_uri": "https://localhost:8080/"
        },
        "outputId": "0c9069b1-2627-44c9-c920-f4f38e3ea9a7"
      },
      "source": [
        "# solution\n",
        "print('The size of each feature descriptors matrix per image is {}, where {} represents the number \\n of keypoints identified and {} is a vector with values either being True or False representing\\n the outcome of the intensity comparison for each keypoint on a decision pixel-pair.'.format(dcs_train[1].shape, dcs_train[1].shape[0], dcs_train[1].shape[1]))\n"
      ],
      "execution_count": 17,
      "outputs": [
        {
          "output_type": "stream",
          "name": "stdout",
          "text": [
            "The size of each feature descriptors matrix per image is (64, 256), where 64 represents the number \n",
            " of keypoints identified and 256 is a vector with values either being True or False representing\n",
            " the outcome of the intensity comparison for each keypoint on a decision pixel-pair.\n"
          ]
        }
      ]
    },
    {
      "cell_type": "markdown",
      "metadata": {
        "id": "MNFOjsRj6PGk"
      },
      "source": [
        "**Solution**\n",
        "\n",
        "*See code cell above for solution*\n",
        "\n",
        "..."
      ]
    },
    {
      "cell_type": "markdown",
      "metadata": {
        "id": "420YQkAzleTQ"
      },
      "source": [
        "## Codebook Construction\n",
        "\n",
        "Codewords are nothing but vector representation of similar patches. This codeword produces a codebook similar to a word dictionary. We will create the codebook using K-Means algorithm\n",
        "\n",
        "*   Create a codebook using K-Means with k=number_of_classes*10\n",
        "*   Hint: Use sklearn.cluster.MiniBatchKMeans for K-Means"
      ]
    },
    {
      "cell_type": "code",
      "metadata": {
        "id": "iO0e4718ppJt",
        "colab": {
          "base_uri": "https://localhost:8080/"
        },
        "outputId": "5eb027dc-5f39-4d01-ba60-157159498838"
      },
      "source": [
        "# solution\n",
        "dcs_flatten = np.reshape(dcs_train, (len(dcs_train)*dcs_train.shape[1],dcs_train.shape[2]))\n",
        "print(dcs_flatten.shape)\n",
        "kmeans = MiniBatchKMeans(n_clusters=len(categories)*10, random_state = 25).fit(dcs_flatten)\n",
        "kmeans.cluster_centers_.shape"
      ],
      "execution_count": 20,
      "outputs": [
        {
          "output_type": "stream",
          "name": "stdout",
          "text": [
            "(14016, 256)\n"
          ]
        },
        {
          "output_type": "execute_result",
          "data": {
            "text/plain": [
              "(30, 256)"
            ]
          },
          "metadata": {},
          "execution_count": 20
        }
      ]
    },
    {
      "cell_type": "code",
      "source": [
        "vwr_img = []\n",
        "for img_dsc in dcs_train:\n",
        "  vwr_img.append(kmeans.predict(img_dsc))"
      ],
      "metadata": {
        "id": "Bf0AvzXGpaMI"
      },
      "execution_count": 21,
      "outputs": []
    },
    {
      "cell_type": "code",
      "source": [
        "vwr_img = np.array(vwr_img)\n",
        "\n",
        "np.concatenate(vwr_img)"
      ],
      "metadata": {
        "id": "ms7gmL9PqpEH",
        "outputId": "3972cc0a-7b2b-4fd1-dda4-036eafcef6f2",
        "colab": {
          "base_uri": "https://localhost:8080/"
        }
      },
      "execution_count": 22,
      "outputs": [
        {
          "output_type": "execute_result",
          "data": {
            "text/plain": [
              "array([ 8, 15,  5, ..., 21, 16, 19], dtype=int32)"
            ]
          },
          "metadata": {},
          "execution_count": 22
        }
      ]
    },
    {
      "cell_type": "markdown",
      "metadata": {
        "id": "0GAD_JuNpqMt"
      },
      "source": [
        "*   Create a histogram using the cluster centers for each image descriptor.\n",
        "    *   Remember the histogram would be of size *n_images x n_clusters*."
      ]
    },
    {
      "cell_type": "code",
      "source": [
        "plt.bar(list(range(30)),ske.histogram(np.concatenate(vwr_img), 30)[0])\n",
        "plt.title('Frequency of Visual Words Training Data')\n",
        "plt.ylabel('Number of visual words')\n",
        "plt.xlabel('Clusters')"
      ],
      "metadata": {
        "id": "lfUFu7TrrXeG",
        "outputId": "b62913ce-af6a-4bf6-cbfe-f51592c7eb9c",
        "colab": {
          "base_uri": "https://localhost:8080/",
          "height": 312
        }
      },
      "execution_count": 23,
      "outputs": [
        {
          "output_type": "execute_result",
          "data": {
            "text/plain": [
              "Text(0.5, 0, 'Clusters')"
            ]
          },
          "metadata": {},
          "execution_count": 23
        },
        {
          "output_type": "display_data",
          "data": {
            "text/plain": [
              "<Figure size 432x288 with 1 Axes>"
            ],
            "image/png": "[encoded data removed]"
          },
          "metadata": {
            "needs_background": "light"
          }
        }
      ]
    },
    {
      "cell_type": "code",
      "source": [
        "plt.bar(list(range(30)),ske.histogram(kmeans.labels_, 30)[0])\n",
        "plt.title('Frequency of Visual Words Training Data')\n",
        "plt.ylabel('Number of visual words')\n",
        "plt.xlabel('Clusters')"
      ],
      "metadata": {
        "colab": {
          "base_uri": "https://localhost:8080/",
          "height": 312
        },
        "id": "sNd3rPW8qiXs",
        "outputId": "7da17855-447a-422d-eb14-f01b48b50fe9"
      },
      "execution_count": 24,
      "outputs": [
        {
          "output_type": "execute_result",
          "data": {
            "text/plain": [
              "Text(0.5, 0, 'Clusters')"
            ]
          },
          "metadata": {},
          "execution_count": 24
        },
        {
          "output_type": "display_data",
          "data": {
            "text/plain": [
              "<Figure size 432x288 with 1 Axes>"
            ],
            "image/png": "[encoded data removed]"
          },
          "metadata": {
            "needs_background": "light"
          }
        }
      ]
    },
    {
      "cell_type": "markdown",
      "metadata": {
        "id": "jmRO7dfLjgZa"
      },
      "source": [
        "\n",
        "# Creating Classification Model\n",
        "\n",
        "*   The next step is to create a classification model. We will use a C-Support Vector Classification for creating the model.\n",
        "\n"
      ]
    },
    {
      "cell_type": "code",
      "metadata": {
        "id": "K7VTBz1Oimtz"
      },
      "source": [
        "from sklearn.svm import SVC\n",
        "from sklearn.model_selection import GridSearchCV"
      ],
      "execution_count": 25,
      "outputs": []
    },
    {
      "cell_type": "markdown",
      "metadata": {
        "id": "lrit95Ud6pUU"
      },
      "source": [
        "*   Use GridSearchCV to find the optimal value of C and Gamma."
      ]
    },
    {
      "cell_type": "code",
      "source": [
        "dcs_flatten.shape"
      ],
      "metadata": {
        "id": "otT8O_nxfw7A",
        "outputId": "7a7b5d8b-519f-414b-f4fb-f417c545bcb4",
        "colab": {
          "base_uri": "https://localhost:8080/"
        }
      },
      "execution_count": 26,
      "outputs": [
        {
          "output_type": "execute_result",
          "data": {
            "text/plain": [
              "(14016, 256)"
            ]
          },
          "metadata": {},
          "execution_count": 26
        }
      ]
    },
    {
      "cell_type": "code",
      "metadata": {
        "id": "IjFFpykV-GOI",
        "colab": {
          "base_uri": "https://localhost:8080/"
        },
        "outputId": "e1c6967d-1380-40f4-e8d2-de030ab76766"
      },
      "source": [
        "# solution\n",
        "svc = SVC()\n",
        "clf = GridSearchCV(svc,{'C':[0.5,1,5,8,10,15], 'gamma':['scale','auto']})\n",
        "clf.fit(vwr_img,y_train)\n"
      ],
      "execution_count": 27,
      "outputs": [
        {
          "output_type": "execute_result",
          "data": {
            "text/plain": [
              "GridSearchCV(estimator=SVC(),\n",
              "             param_grid={'C': [0.5, 1, 5, 8, 10, 15],\n",
              "                         'gamma': ['scale', 'auto']})"
            ]
          },
          "metadata": {},
          "execution_count": 27
        }
      ]
    },
    {
      "cell_type": "code",
      "source": [
        "pd.DataFrame(clf.cv_results_)"
      ],
      "metadata": {
        "colab": {
          "base_uri": "https://localhost:8080/",
          "height": 906
        },
        "id": "V6nONAVghywZ",
        "outputId": "f3160851-1b48-4a87-b62a-44ff010815f0"
      },
      "execution_count": 28,
      "outputs": [
        {
          "output_type": "execute_result",
          "data": {
            "text/plain": [
              "    mean_fit_time  std_fit_time  mean_score_time  std_score_time param_C  \\\n",
              "0        0.005249      0.001192         0.001618        0.000242     0.5   \n",
              "1        0.004324      0.000581         0.001476        0.000045     0.5   \n",
              "2        0.004437      0.000518         0.001386        0.000055       1   \n",
              "3        0.004016      0.000082         0.001398        0.000029       1   \n",
              "4        0.004373      0.000125         0.001402        0.000067       5   \n",
              "5        0.004502      0.000278         0.001412        0.000068       5   \n",
              "6        0.004577      0.000374         0.001538        0.000207       8   \n",
              "7        0.004274      0.000074         0.001467        0.000160       8   \n",
              "8        0.004459      0.000095         0.001391        0.000028      10   \n",
              "9        0.004736      0.000762         0.002189        0.001475      10   \n",
              "10       0.004234      0.000032         0.001351        0.000038      15   \n",
              "11       0.004158      0.000062         0.001334        0.000057      15   \n",
              "\n",
              "   param_gamma                        params  split0_test_score  \\\n",
              "0        scale  {'C': 0.5, 'gamma': 'scale'}           0.386364   \n",
              "1         auto   {'C': 0.5, 'gamma': 'auto'}           0.386364   \n",
              "2        scale    {'C': 1, 'gamma': 'scale'}           0.409091   \n",
              "3         auto     {'C': 1, 'gamma': 'auto'}           0.386364   \n",
              "4        scale    {'C': 5, 'gamma': 'scale'}           0.454545   \n",
              "5         auto     {'C': 5, 'gamma': 'auto'}           0.386364   \n",
              "6        scale    {'C': 8, 'gamma': 'scale'}           0.454545   \n",
              "7         auto     {'C': 8, 'gamma': 'auto'}           0.386364   \n",
              "8        scale   {'C': 10, 'gamma': 'scale'}           0.454545   \n",
              "9         auto    {'C': 10, 'gamma': 'auto'}           0.386364   \n",
              "10       scale   {'C': 15, 'gamma': 'scale'}           0.454545   \n",
              "11        auto    {'C': 15, 'gamma': 'auto'}           0.386364   \n",
              "\n",
              "    split1_test_score  split2_test_score  split3_test_score  \\\n",
              "0            0.454545           0.386364           0.363636   \n",
              "1            0.386364           0.363636           0.363636   \n",
              "2            0.363636           0.431818           0.409091   \n",
              "3            0.386364           0.363636           0.363636   \n",
              "4            0.318182           0.431818           0.500000   \n",
              "5            0.386364           0.363636           0.363636   \n",
              "6            0.318182           0.431818           0.500000   \n",
              "7            0.386364           0.363636           0.363636   \n",
              "8            0.318182           0.431818           0.500000   \n",
              "9            0.386364           0.363636           0.363636   \n",
              "10           0.318182           0.431818           0.500000   \n",
              "11           0.386364           0.363636           0.363636   \n",
              "\n",
              "    split4_test_score  mean_test_score  std_test_score  rank_test_score  \n",
              "0            0.372093         0.392600        0.032170                6  \n",
              "1            0.372093         0.374419        0.010230                7  \n",
              "2            0.418605         0.406448        0.022971                5  \n",
              "3            0.372093         0.374419        0.010230                7  \n",
              "4            0.418605         0.424630        0.059991                1  \n",
              "5            0.372093         0.374419        0.010230                7  \n",
              "6            0.418605         0.424630        0.059991                1  \n",
              "7            0.372093         0.374419        0.010230                7  \n",
              "8            0.418605         0.424630        0.059991                1  \n",
              "9            0.372093         0.374419        0.010230                7  \n",
              "10           0.418605         0.424630        0.059991                1  \n",
              "11           0.372093         0.374419        0.010230                7  "
            ],
            "text/html": [
              "\n",
              "  <div id=\"df-89f887c0-59be-4696-a7b7-30c34309dd36\">\n",
              "    <div class=\"colab-df-container\">\n",
              "      <div>\n",
              "<style scoped>\n",
              "    .dataframe tbody tr th:only-of-type {\n",
              "        vertical-align: middle;\n",
              "    }\n",
              "\n",
              "    .dataframe tbody tr th {\n",
              "        vertical-align: top;\n",
              "    }\n",
              "\n",
              "    .dataframe thead th {\n",
              "        text-align: right;\n",
              "    }\n",
              "</style>\n",
              "<table border=\"1\" class=\"dataframe\">\n",
              "  <thead>\n",
              "    <tr style=\"text-align: right;\">\n",
              "      <th></th>\n",
              "      <th>mean_fit_time</th>\n",
              "      <th>std_fit_time</th>\n",
              "      <th>mean_score_time</th>\n",
              "      <th>std_score_time</th>\n",
              "      <th>param_C</th>\n",
              "      <th>param_gamma</th>\n",
              "      <th>params</th>\n",
              "      <th>split0_test_score</th>\n",
              "      <th>split1_test_score</th>\n",
              "      <th>split2_test_score</th>\n",
              "      <th>split3_test_score</th>\n",
              "      <th>split4_test_score</th>\n",
              "      <th>mean_test_score</th>\n",
              "      <th>std_test_score</th>\n",
              "      <th>rank_test_score</th>\n",
              "    </tr>\n",
              "  </thead>\n",
              "  <tbody>\n",
              "    <tr>\n",
              "      <th>0</th>\n",
              "      <td>0.005249</td>\n",
              "      <td>0.001192</td>\n",
              "      <td>0.001618</td>\n",
              "      <td>0.000242</td>\n",
              "      <td>0.5</td>\n",
              "      <td>scale</td>\n",
              "      <td>{'C': 0.5, 'gamma': 'scale'}</td>\n",
              "      <td>0.386364</td>\n",
              "      <td>0.454545</td>\n",
              "      <td>0.386364</td>\n",
              "      <td>0.363636</td>\n",
              "      <td>0.372093</td>\n",
              "      <td>0.392600</td>\n",
              "      <td>0.032170</td>\n",
              "      <td>6</td>\n",
              "    </tr>\n",
              "    <tr>\n",
              "      <th>1</th>\n",
              "      <td>0.004324</td>\n",
              "      <td>0.000581</td>\n",
              "      <td>0.001476</td>\n",
              "      <td>0.000045</td>\n",
              "      <td>0.5</td>\n",
              "      <td>auto</td>\n",
              "      <td>{'C': 0.5, 'gamma': 'auto'}</td>\n",
              "      <td>0.386364</td>\n",
              "      <td>0.386364</td>\n",
              "      <td>0.363636</td>\n",
              "      <td>0.363636</td>\n",
              "      <td>0.372093</td>\n",
              "      <td>0.374419</td>\n",
              "      <td>0.010230</td>\n",
              "      <td>7</td>\n",
              "    </tr>\n",
              "    <tr>\n",
              "      <th>2</th>\n",
              "      <td>0.004437</td>\n",
              "      <td>0.000518</td>\n",
              "      <td>0.001386</td>\n",
              "      <td>0.000055</td>\n",
              "      <td>1</td>\n",
              "      <td>scale</td>\n",
              "      <td>{'C': 1, 'gamma': 'scale'}</td>\n",
              "      <td>0.409091</td>\n",
              "      <td>0.363636</td>\n",
              "      <td>0.431818</td>\n",
              "      <td>0.409091</td>\n",
              "      <td>0.418605</td>\n",
              "      <td>0.406448</td>\n",
              "      <td>0.022971</td>\n",
              "      <td>5</td>\n",
              "    </tr>\n",
              "    <tr>\n",
              "      <th>3</th>\n",
              "      <td>0.004016</td>\n",
              "      <td>0.000082</td>\n",
              "      <td>0.001398</td>\n",
              "      <td>0.000029</td>\n",
              "      <td>1</td>\n",
              "      <td>auto</td>\n",
              "      <td>{'C': 1, 'gamma': 'auto'}</td>\n",
              "      <td>0.386364</td>\n",
              "      <td>0.386364</td>\n",
              "      <td>0.363636</td>\n",
              "      <td>0.363636</td>\n",
              "      <td>0.372093</td>\n",
              "      <td>0.374419</td>\n",
              "      <td>0.010230</td>\n",
              "      <td>7</td>\n",
              "    </tr>\n",
              "    <tr>\n",
              "      <th>4</th>\n",
              "      <td>0.004373</td>\n",
              "      <td>0.000125</td>\n",
              "      <td>0.001402</td>\n",
              "      <td>0.000067</td>\n",
              "      <td>5</td>\n",
              "      <td>scale</td>\n",
              "      <td>{'C': 5, 'gamma': 'scale'}</td>\n",
              "      <td>0.454545</td>\n",
              "      <td>0.318182</td>\n",
              "      <td>0.431818</td>\n",
              "      <td>0.500000</td>\n",
              "      <td>0.418605</td>\n",
              "      <td>0.424630</td>\n",
              "      <td>0.059991</td>\n",
              "      <td>1</td>\n",
              "    </tr>\n",
              "    <tr>\n",
              "      <th>5</th>\n",
              "      <td>0.004502</td>\n",
              "      <td>0.000278</td>\n",
              "      <td>0.001412</td>\n",
              "      <td>0.000068</td>\n",
              "      <td>5</td>\n",
              "      <td>auto</td>\n",
              "      <td>{'C': 5, 'gamma': 'auto'}</td>\n",
              "      <td>0.386364</td>\n",
              "      <td>0.386364</td>\n",
              "      <td>0.363636</td>\n",
              "      <td>0.363636</td>\n",
              "      <td>0.372093</td>\n",
              "      <td>0.374419</td>\n",
              "      <td>0.010230</td>\n",
              "      <td>7</td>\n",
              "    </tr>\n",
              "    <tr>\n",
              "      <th>6</th>\n",
              "      <td>0.004577</td>\n",
              "      <td>0.000374</td>\n",
              "      <td>0.001538</td>\n",
              "      <td>0.000207</td>\n",
              "      <td>8</td>\n",
              "      <td>scale</td>\n",
              "      <td>{'C': 8, 'gamma': 'scale'}</td>\n",
              "      <td>0.454545</td>\n",
              "      <td>0.318182</td>\n",
              "      <td>0.431818</td>\n",
              "      <td>0.500000</td>\n",
              "      <td>0.418605</td>\n",
              "      <td>0.424630</td>\n",
              "      <td>0.059991</td>\n",
              "      <td>1</td>\n",
              "    </tr>\n",
              "    <tr>\n",
              "      <th>7</th>\n",
              "      <td>0.004274</td>\n",
              "      <td>0.000074</td>\n",
              "      <td>0.001467</td>\n",
              "      <td>0.000160</td>\n",
              "      <td>8</td>\n",
              "      <td>auto</td>\n",
              "      <td>{'C': 8, 'gamma': 'auto'}</td>\n",
              "      <td>0.386364</td>\n",
              "      <td>0.386364</td>\n",
              "      <td>0.363636</td>\n",
              "      <td>0.363636</td>\n",
              "      <td>0.372093</td>\n",
              "      <td>0.374419</td>\n",
              "      <td>0.010230</td>\n",
              "      <td>7</td>\n",
              "    </tr>\n",
              "    <tr>\n",
              "      <th>8</th>\n",
              "      <td>0.004459</td>\n",
              "      <td>0.000095</td>\n",
              "      <td>0.001391</td>\n",
              "      <td>0.000028</td>\n",
              "      <td>10</td>\n",
              "      <td>scale</td>\n",
              "      <td>{'C': 10, 'gamma': 'scale'}</td>\n",
              "      <td>0.454545</td>\n",
              "      <td>0.318182</td>\n",
              "      <td>0.431818</td>\n",
              "      <td>0.500000</td>\n",
              "      <td>0.418605</td>\n",
              "      <td>0.424630</td>\n",
              "      <td>0.059991</td>\n",
              "      <td>1</td>\n",
              "    </tr>\n",
              "    <tr>\n",
              "      <th>9</th>\n",
              "      <td>0.004736</td>\n",
              "      <td>0.000762</td>\n",
              "      <td>0.002189</td>\n",
              "      <td>0.001475</td>\n",
              "      <td>10</td>\n",
              "      <td>auto</td>\n",
              "      <td>{'C': 10, 'gamma': 'auto'}</td>\n",
              "      <td>0.386364</td>\n",
              "      <td>0.386364</td>\n",
              "      <td>0.363636</td>\n",
              "      <td>0.363636</td>\n",
              "      <td>0.372093</td>\n",
              "      <td>0.374419</td>\n",
              "      <td>0.010230</td>\n",
              "      <td>7</td>\n",
              "    </tr>\n",
              "    <tr>\n",
              "      <th>10</th>\n",
              "      <td>0.004234</td>\n",
              "      <td>0.000032</td>\n",
              "      <td>0.001351</td>\n",
              "      <td>0.000038</td>\n",
              "      <td>15</td>\n",
              "      <td>scale</td>\n",
              "      <td>{'C': 15, 'gamma': 'scale'}</td>\n",
              "      <td>0.454545</td>\n",
              "      <td>0.318182</td>\n",
              "      <td>0.431818</td>\n",
              "      <td>0.500000</td>\n",
              "      <td>0.418605</td>\n",
              "      <td>0.424630</td>\n",
              "      <td>0.059991</td>\n",
              "      <td>1</td>\n",
              "    </tr>\n",
              "    <tr>\n",
              "      <th>11</th>\n",
              "      <td>0.004158</td>\n",
              "      <td>0.000062</td>\n",
              "      <td>0.001334</td>\n",
              "      <td>0.000057</td>\n",
              "      <td>15</td>\n",
              "      <td>auto</td>\n",
              "      <td>{'C': 15, 'gamma': 'auto'}</td>\n",
              "      <td>0.386364</td>\n",
              "      <td>0.386364</td>\n",
              "      <td>0.363636</td>\n",
              "      <td>0.363636</td>\n",
              "      <td>0.372093</td>\n",
              "      <td>0.374419</td>\n",
              "      <td>0.010230</td>\n",
              "      <td>7</td>\n",
              "    </tr>\n",
              "  </tbody>\n",
              "</table>\n",
              "</div>\n",
              "      <button class=\"colab-df-convert\" onclick=\"convertToInteractive('df-89f887c0-59be-4696-a7b7-30c34309dd36')\"\n",
              "              title=\"Convert this dataframe to an interactive table.\"\n",
              "              style=\"display:none;\">\n",
              "        \n",
              "  <svg xmlns=\"http://www.w3.org/2000/svg\" height=\"24px\"viewBox=\"0 0 24 24\"\n",
              "       width=\"24px\">\n",
              "    <path d=\"M0 0h24v24H0V0z\" fill=\"none\"/>\n",
              "    <path d=\"M18.56 5.44l.94 2.06.94-2.06 2.06-.94-2.06-.94-.94-2.06-.94 2.06-2.06.94zm-11 1L8.5 8.5l.94-2.06 2.06-.94-2.06-.94L8.5 2.5l-.94 2.06-2.06.94zm10 10l.94 2.06.94-2.06 2.06-.94-2.06-.94-.94-2.06-.94 2.06-2.06.94z\"/><path d=\"M17.41 7.96l-1.37-1.37c-.4-.4-.92-.59-1.43-.59-.52 0-1.04.2-1.43.59L10.3 9.45l-7.72 7.72c-.78.78-.78 2.05 0 2.83L4 21.41c.39.39.9.59 1.41.59.51 0 1.02-.2 1.41-.59l7.78-7.78 2.81-2.81c.8-.78.8-2.07 0-2.86zM5.41 20L4 18.59l7.72-7.72 1.47 1.35L5.41 20z\"/>\n",
              "  </svg>\n",
              "      </button>\n",
              "      \n",
              "  <style>\n",
              "    .colab-df-container {\n",
              "      display:flex;\n",
              "      flex-wrap:wrap;\n",
              "      gap: 12px;\n",
              "    }\n",
              "\n",
              "    .colab-df-convert {\n",
              "      background-color: #E8F0FE;\n",
              "      border: none;\n",
              "      border-radius: 50%;\n",
              "      cursor: pointer;\n",
              "      display: none;\n",
              "      fill: #1967D2;\n",
              "      height: 32px;\n",
              "      padding: 0 0 0 0;\n",
              "      width: 32px;\n",
              "    }\n",
              "\n",
              "    .colab-df-convert:hover {\n",
              "      background-color: #E2EBFA;\n",
              "      box-shadow: 0px 1px 2px rgba(60, 64, 67, 0.3), 0px 1px 3px 1px rgba(60, 64, 67, 0.15);\n",
              "      fill: #174EA6;\n",
              "    }\n",
              "\n",
              "    [theme=dark] .colab-df-convert {\n",
              "      background-color: #3B4455;\n",
              "      fill: #D2E3FC;\n",
              "    }\n",
              "\n",
              "    [theme=dark] .colab-df-convert:hover {\n",
              "      background-color: #434B5C;\n",
              "      box-shadow: 0px 1px 3px 1px rgba(0, 0, 0, 0.15);\n",
              "      filter: drop-shadow(0px 1px 2px rgba(0, 0, 0, 0.3));\n",
              "      fill: #FFFFFF;\n",
              "    }\n",
              "  </style>\n",
              "\n",
              "      <script>\n",
              "        const buttonEl =\n",
              "          document.querySelector('#df-89f887c0-59be-4696-a7b7-30c34309dd36 button.colab-df-convert');\n",
              "        buttonEl.style.display =\n",
              "          google.colab.kernel.accessAllowed ? 'block' : 'none';\n",
              "\n",
              "        async function convertToInteractive(key) {\n",
              "          const element = document.querySelector('#df-89f887c0-59be-4696-a7b7-30c34309dd36');\n",
              "          const dataTable =\n",
              "            await google.colab.kernel.invokeFunction('convertToInteractive',\n",
              "                                                     [key], {});\n",
              "          if (!dataTable) return;\n",
              "\n",
              "          const docLinkHtml = 'Like what you see? Visit the ' +\n",
              "            '<a target=\"_blank\" href=https://colab.research.google.com/notebooks/data_table.ipynb>data table notebook</a>'\n",
              "            + ' to learn more about interactive tables.';\n",
              "          element.innerHTML = '';\n",
              "          dataTable['output_type'] = 'display_data';\n",
              "          await google.colab.output.renderOutput(dataTable, element);\n",
              "          const docLink = document.createElement('div');\n",
              "          docLink.innerHTML = docLinkHtml;\n",
              "          element.appendChild(docLink);\n",
              "        }\n",
              "      </script>\n",
              "    </div>\n",
              "  </div>\n",
              "  "
            ]
          },
          "metadata": {},
          "execution_count": 28
        }
      ]
    },
    {
      "cell_type": "code",
      "source": [
        "print('The scale mode of SVC would use a gamma of {}, then using auto mode would use -> {}'.format(1/(256*dcs_flatten.var()),1/256))"
      ],
      "metadata": {
        "colab": {
          "base_uri": "https://localhost:8080/"
        },
        "id": "gX2dvWpnLC_r",
        "outputId": "340980ae-a07c-41a5-a826-d495f3c6103f"
      },
      "execution_count": 29,
      "outputs": [
        {
          "output_type": "stream",
          "name": "stdout",
          "text": [
            "The scale mode of SVC would use a gamma of 0.015658588643871877, then using auto mode would use -> 0.00390625\n"
          ]
        }
      ]
    },
    {
      "cell_type": "code",
      "source": [
        "# solution\n",
        "svc2 = SVC()\n",
        "clf2 = GridSearchCV(svc2,{'C':[1,5,10], 'gamma':[0.005,0.1,0.25,0.5,1.0]})\n",
        "clf2.fit(vwr_img,y_train)"
      ],
      "metadata": {
        "colab": {
          "base_uri": "https://localhost:8080/"
        },
        "id": "s1p2fj4twGaG",
        "outputId": "e528af33-4a36-43a3-da1e-9c841570af1f"
      },
      "execution_count": 30,
      "outputs": [
        {
          "output_type": "execute_result",
          "data": {
            "text/plain": [
              "GridSearchCV(estimator=SVC(),\n",
              "             param_grid={'C': [1, 5, 10],\n",
              "                         'gamma': [0.005, 0.1, 0.25, 0.5, 1.0]})"
            ]
          },
          "metadata": {},
          "execution_count": 30
        }
      ]
    },
    {
      "cell_type": "code",
      "source": [
        "import pandas as pd\n",
        "pd.DataFrame(clf2.cv_results_)"
      ],
      "metadata": {
        "colab": {
          "base_uri": "https://localhost:8080/",
          "height": 1000
        },
        "id": "-F5S1hVdwSbz",
        "outputId": "385d29c9-86bc-43d6-f0e6-8fd635b6b7e2"
      },
      "execution_count": 31,
      "outputs": [
        {
          "output_type": "execute_result",
          "data": {
            "text/plain": [
              "    mean_fit_time  std_fit_time  mean_score_time  std_score_time param_C  \\\n",
              "0        0.005159      0.001396         0.001866        0.000620       1   \n",
              "1        0.004011      0.000164         0.001476        0.000134       1   \n",
              "2        0.003453      0.000135         0.001263        0.000042       1   \n",
              "3        0.003750      0.000303         0.001459        0.000142       1   \n",
              "4        0.003401      0.000066         0.001357        0.000218       1   \n",
              "5        0.004537      0.000116         0.001513        0.000134       5   \n",
              "6        0.005916      0.001453         0.002151        0.000539       5   \n",
              "7        0.003885      0.000131         0.001412        0.000132       5   \n",
              "8        0.004267      0.000894         0.001361        0.000065       5   \n",
              "9        0.003703      0.000043         0.001988        0.001484       5   \n",
              "10       0.005136      0.001254         0.001508        0.000119      10   \n",
              "11       0.004173      0.000123         0.001414        0.000061      10   \n",
              "12       0.004201      0.000500         0.001541        0.000284      10   \n",
              "13       0.004430      0.001128         0.001537        0.000452      10   \n",
              "14       0.003858      0.000257         0.001280        0.000024      10   \n",
              "\n",
              "   param_gamma                     params  split0_test_score  \\\n",
              "0        0.005   {'C': 1, 'gamma': 0.005}           0.386364   \n",
              "1          0.1     {'C': 1, 'gamma': 0.1}           0.386364   \n",
              "2         0.25    {'C': 1, 'gamma': 0.25}           0.386364   \n",
              "3          0.5     {'C': 1, 'gamma': 0.5}           0.386364   \n",
              "4          1.0     {'C': 1, 'gamma': 1.0}           0.386364   \n",
              "5        0.005   {'C': 5, 'gamma': 0.005}           0.386364   \n",
              "6          0.1     {'C': 5, 'gamma': 0.1}           0.386364   \n",
              "7         0.25    {'C': 5, 'gamma': 0.25}           0.386364   \n",
              "8          0.5     {'C': 5, 'gamma': 0.5}           0.386364   \n",
              "9          1.0     {'C': 5, 'gamma': 1.0}           0.386364   \n",
              "10       0.005  {'C': 10, 'gamma': 0.005}           0.386364   \n",
              "11         0.1    {'C': 10, 'gamma': 0.1}           0.386364   \n",
              "12        0.25   {'C': 10, 'gamma': 0.25}           0.386364   \n",
              "13         0.5    {'C': 10, 'gamma': 0.5}           0.386364   \n",
              "14         1.0    {'C': 10, 'gamma': 1.0}           0.386364   \n",
              "\n",
              "    split1_test_score  split2_test_score  split3_test_score  \\\n",
              "0            0.386364           0.363636           0.363636   \n",
              "1            0.386364           0.363636           0.363636   \n",
              "2            0.386364           0.363636           0.363636   \n",
              "3            0.386364           0.363636           0.363636   \n",
              "4            0.386364           0.363636           0.363636   \n",
              "5            0.386364           0.363636           0.363636   \n",
              "6            0.386364           0.363636           0.363636   \n",
              "7            0.386364           0.363636           0.363636   \n",
              "8            0.386364           0.363636           0.363636   \n",
              "9            0.386364           0.363636           0.363636   \n",
              "10           0.386364           0.363636           0.363636   \n",
              "11           0.386364           0.363636           0.363636   \n",
              "12           0.386364           0.363636           0.363636   \n",
              "13           0.386364           0.363636           0.363636   \n",
              "14           0.386364           0.363636           0.363636   \n",
              "\n",
              "    split4_test_score  mean_test_score  std_test_score  rank_test_score  \n",
              "0            0.372093         0.374419         0.01023                1  \n",
              "1            0.372093         0.374419         0.01023                1  \n",
              "2            0.372093         0.374419         0.01023                1  \n",
              "3            0.372093         0.374419         0.01023                1  \n",
              "4            0.372093         0.374419         0.01023                1  \n",
              "5            0.372093         0.374419         0.01023                1  \n",
              "6            0.372093         0.374419         0.01023                1  \n",
              "7            0.372093         0.374419         0.01023                1  \n",
              "8            0.372093         0.374419         0.01023                1  \n",
              "9            0.372093         0.374419         0.01023                1  \n",
              "10           0.372093         0.374419         0.01023                1  \n",
              "11           0.372093         0.374419         0.01023                1  \n",
              "12           0.372093         0.374419         0.01023                1  \n",
              "13           0.372093         0.374419         0.01023                1  \n",
              "14           0.372093         0.374419         0.01023                1  "
            ],
            "text/html": [
              "\n",
              "  <div id=\"df-bf85663b-fee8-4ebb-8464-6b833d7cad32\">\n",
              "    <div class=\"colab-df-container\">\n",
              "      <div>\n",
              "<style scoped>\n",
              "    .dataframe tbody tr th:only-of-type {\n",
              "        vertical-align: middle;\n",
              "    }\n",
              "\n",
              "    .dataframe tbody tr th {\n",
              "        vertical-align: top;\n",
              "    }\n",
              "\n",
              "    .dataframe thead th {\n",
              "        text-align: right;\n",
              "    }\n",
              "</style>\n",
              "<table border=\"1\" class=\"dataframe\">\n",
              "  <thead>\n",
              "    <tr style=\"text-align: right;\">\n",
              "      <th></th>\n",
              "      <th>mean_fit_time</th>\n",
              "      <th>std_fit_time</th>\n",
              "      <th>mean_score_time</th>\n",
              "      <th>std_score_time</th>\n",
              "      <th>param_C</th>\n",
              "      <th>param_gamma</th>\n",
              "      <th>params</th>\n",
              "      <th>split0_test_score</th>\n",
              "      <th>split1_test_score</th>\n",
              "      <th>split2_test_score</th>\n",
              "      <th>split3_test_score</th>\n",
              "      <th>split4_test_score</th>\n",
              "      <th>mean_test_score</th>\n",
              "      <th>std_test_score</th>\n",
              "      <th>rank_test_score</th>\n",
              "    </tr>\n",
              "  </thead>\n",
              "  <tbody>\n",
              "    <tr>\n",
              "      <th>0</th>\n",
              "      <td>0.005159</td>\n",
              "      <td>0.001396</td>\n",
              "      <td>0.001866</td>\n",
              "      <td>0.000620</td>\n",
              "      <td>1</td>\n",
              "      <td>0.005</td>\n",
              "      <td>{'C': 1, 'gamma': 0.005}</td>\n",
              "      <td>0.386364</td>\n",
              "      <td>0.386364</td>\n",
              "      <td>0.363636</td>\n",
              "      <td>0.363636</td>\n",
              "      <td>0.372093</td>\n",
              "      <td>0.374419</td>\n",
              "      <td>0.01023</td>\n",
              "      <td>1</td>\n",
              "    </tr>\n",
              "    <tr>\n",
              "      <th>1</th>\n",
              "      <td>0.004011</td>\n",
              "      <td>0.000164</td>\n",
              "      <td>0.001476</td>\n",
              "      <td>0.000134</td>\n",
              "      <td>1</td>\n",
              "      <td>0.1</td>\n",
              "      <td>{'C': 1, 'gamma': 0.1}</td>\n",
              "      <td>0.386364</td>\n",
              "      <td>0.386364</td>\n",
              "      <td>0.363636</td>\n",
              "      <td>0.363636</td>\n",
              "      <td>0.372093</td>\n",
              "      <td>0.374419</td>\n",
              "      <td>0.01023</td>\n",
              "      <td>1</td>\n",
              "    </tr>\n",
              "    <tr>\n",
              "      <th>2</th>\n",
              "      <td>0.003453</td>\n",
              "      <td>0.000135</td>\n",
              "      <td>0.001263</td>\n",
              "      <td>0.000042</td>\n",
              "      <td>1</td>\n",
              "      <td>0.25</td>\n",
              "      <td>{'C': 1, 'gamma': 0.25}</td>\n",
              "      <td>0.386364</td>\n",
              "      <td>0.386364</td>\n",
              "      <td>0.363636</td>\n",
              "      <td>0.363636</td>\n",
              "      <td>0.372093</td>\n",
              "      <td>0.374419</td>\n",
              "      <td>0.01023</td>\n",
              "      <td>1</td>\n",
              "    </tr>\n",
              "    <tr>\n",
              "      <th>3</th>\n",
              "      <td>0.003750</td>\n",
              "      <td>0.000303</td>\n",
              "      <td>0.001459</td>\n",
              "      <td>0.000142</td>\n",
              "      <td>1</td>\n",
              "      <td>0.5</td>\n",
              "      <td>{'C': 1, 'gamma': 0.5}</td>\n",
              "      <td>0.386364</td>\n",
              "      <td>0.386364</td>\n",
              "      <td>0.363636</td>\n",
              "      <td>0.363636</td>\n",
              "      <td>0.372093</td>\n",
              "      <td>0.374419</td>\n",
              "      <td>0.01023</td>\n",
              "      <td>1</td>\n",
              "    </tr>\n",
              "    <tr>\n",
              "      <th>4</th>\n",
              "      <td>0.003401</td>\n",
              "      <td>0.000066</td>\n",
              "      <td>0.001357</td>\n",
              "      <td>0.000218</td>\n",
              "      <td>1</td>\n",
              "      <td>1.0</td>\n",
              "      <td>{'C': 1, 'gamma': 1.0}</td>\n",
              "      <td>0.386364</td>\n",
              "      <td>0.386364</td>\n",
              "      <td>0.363636</td>\n",
              "      <td>0.363636</td>\n",
              "      <td>0.372093</td>\n",
              "      <td>0.374419</td>\n",
              "      <td>0.01023</td>\n",
              "      <td>1</td>\n",
              "    </tr>\n",
              "    <tr>\n",
              "      <th>5</th>\n",
              "      <td>0.004537</td>\n",
              "      <td>0.000116</td>\n",
              "      <td>0.001513</td>\n",
              "      <td>0.000134</td>\n",
              "      <td>5</td>\n",
              "      <td>0.005</td>\n",
              "      <td>{'C': 5, 'gamma': 0.005}</td>\n",
              "      <td>0.386364</td>\n",
              "      <td>0.386364</td>\n",
              "      <td>0.363636</td>\n",
              "      <td>0.363636</td>\n",
              "      <td>0.372093</td>\n",
              "      <td>0.374419</td>\n",
              "      <td>0.01023</td>\n",
              "      <td>1</td>\n",
              "    </tr>\n",
              "    <tr>\n",
              "      <th>6</th>\n",
              "      <td>0.005916</td>\n",
              "      <td>0.001453</td>\n",
              "      <td>0.002151</td>\n",
              "      <td>0.000539</td>\n",
              "      <td>5</td>\n",
              "      <td>0.1</td>\n",
              "      <td>{'C': 5, 'gamma': 0.1}</td>\n",
              "      <td>0.386364</td>\n",
              "      <td>0.386364</td>\n",
              "      <td>0.363636</td>\n",
              "      <td>0.363636</td>\n",
              "      <td>0.372093</td>\n",
              "      <td>0.374419</td>\n",
              "      <td>0.01023</td>\n",
              "      <td>1</td>\n",
              "    </tr>\n",
              "    <tr>\n",
              "      <th>7</th>\n",
              "      <td>0.003885</td>\n",
              "      <td>0.000131</td>\n",
              "      <td>0.001412</td>\n",
              "      <td>0.000132</td>\n",
              "      <td>5</td>\n",
              "      <td>0.25</td>\n",
              "      <td>{'C': 5, 'gamma': 0.25}</td>\n",
              "      <td>0.386364</td>\n",
              "      <td>0.386364</td>\n",
              "      <td>0.363636</td>\n",
              "      <td>0.363636</td>\n",
              "      <td>0.372093</td>\n",
              "      <td>0.374419</td>\n",
              "      <td>0.01023</td>\n",
              "      <td>1</td>\n",
              "    </tr>\n",
              "    <tr>\n",
              "      <th>8</th>\n",
              "      <td>0.004267</td>\n",
              "      <td>0.000894</td>\n",
              "      <td>0.001361</td>\n",
              "      <td>0.000065</td>\n",
              "      <td>5</td>\n",
              "      <td>0.5</td>\n",
              "      <td>{'C': 5, 'gamma': 0.5}</td>\n",
              "      <td>0.386364</td>\n",
              "      <td>0.386364</td>\n",
              "      <td>0.363636</td>\n",
              "      <td>0.363636</td>\n",
              "      <td>0.372093</td>\n",
              "      <td>0.374419</td>\n",
              "      <td>0.01023</td>\n",
              "      <td>1</td>\n",
              "    </tr>\n",
              "    <tr>\n",
              "      <th>9</th>\n",
              "      <td>0.003703</td>\n",
              "      <td>0.000043</td>\n",
              "      <td>0.001988</td>\n",
              "      <td>0.001484</td>\n",
              "      <td>5</td>\n",
              "      <td>1.0</td>\n",
              "      <td>{'C': 5, 'gamma': 1.0}</td>\n",
              "      <td>0.386364</td>\n",
              "      <td>0.386364</td>\n",
              "      <td>0.363636</td>\n",
              "      <td>0.363636</td>\n",
              "      <td>0.372093</td>\n",
              "      <td>0.374419</td>\n",
              "      <td>0.01023</td>\n",
              "      <td>1</td>\n",
              "    </tr>\n",
              "    <tr>\n",
              "      <th>10</th>\n",
              "      <td>0.005136</td>\n",
              "      <td>0.001254</td>\n",
              "      <td>0.001508</td>\n",
              "      <td>0.000119</td>\n",
              "      <td>10</td>\n",
              "      <td>0.005</td>\n",
              "      <td>{'C': 10, 'gamma': 0.005}</td>\n",
              "      <td>0.386364</td>\n",
              "      <td>0.386364</td>\n",
              "      <td>0.363636</td>\n",
              "      <td>0.363636</td>\n",
              "      <td>0.372093</td>\n",
              "      <td>0.374419</td>\n",
              "      <td>0.01023</td>\n",
              "      <td>1</td>\n",
              "    </tr>\n",
              "    <tr>\n",
              "      <th>11</th>\n",
              "      <td>0.004173</td>\n",
              "      <td>0.000123</td>\n",
              "      <td>0.001414</td>\n",
              "      <td>0.000061</td>\n",
              "      <td>10</td>\n",
              "      <td>0.1</td>\n",
              "      <td>{'C': 10, 'gamma': 0.1}</td>\n",
              "      <td>0.386364</td>\n",
              "      <td>0.386364</td>\n",
              "      <td>0.363636</td>\n",
              "      <td>0.363636</td>\n",
              "      <td>0.372093</td>\n",
              "      <td>0.374419</td>\n",
              "      <td>0.01023</td>\n",
              "      <td>1</td>\n",
              "    </tr>\n",
              "    <tr>\n",
              "      <th>12</th>\n",
              "      <td>0.004201</td>\n",
              "      <td>0.000500</td>\n",
              "      <td>0.001541</td>\n",
              "      <td>0.000284</td>\n",
              "      <td>10</td>\n",
              "      <td>0.25</td>\n",
              "      <td>{'C': 10, 'gamma': 0.25}</td>\n",
              "      <td>0.386364</td>\n",
              "      <td>0.386364</td>\n",
              "      <td>0.363636</td>\n",
              "      <td>0.363636</td>\n",
              "      <td>0.372093</td>\n",
              "      <td>0.374419</td>\n",
              "      <td>0.01023</td>\n",
              "      <td>1</td>\n",
              "    </tr>\n",
              "    <tr>\n",
              "      <th>13</th>\n",
              "      <td>0.004430</td>\n",
              "      <td>0.001128</td>\n",
              "      <td>0.001537</td>\n",
              "      <td>0.000452</td>\n",
              "      <td>10</td>\n",
              "      <td>0.5</td>\n",
              "      <td>{'C': 10, 'gamma': 0.5}</td>\n",
              "      <td>0.386364</td>\n",
              "      <td>0.386364</td>\n",
              "      <td>0.363636</td>\n",
              "      <td>0.363636</td>\n",
              "      <td>0.372093</td>\n",
              "      <td>0.374419</td>\n",
              "      <td>0.01023</td>\n",
              "      <td>1</td>\n",
              "    </tr>\n",
              "    <tr>\n",
              "      <th>14</th>\n",
              "      <td>0.003858</td>\n",
              "      <td>0.000257</td>\n",
              "      <td>0.001280</td>\n",
              "      <td>0.000024</td>\n",
              "      <td>10</td>\n",
              "      <td>1.0</td>\n",
              "      <td>{'C': 10, 'gamma': 1.0}</td>\n",
              "      <td>0.386364</td>\n",
              "      <td>0.386364</td>\n",
              "      <td>0.363636</td>\n",
              "      <td>0.363636</td>\n",
              "      <td>0.372093</td>\n",
              "      <td>0.374419</td>\n",
              "      <td>0.01023</td>\n",
              "      <td>1</td>\n",
              "    </tr>\n",
              "  </tbody>\n",
              "</table>\n",
              "</div>\n",
              "      <button class=\"colab-df-convert\" onclick=\"convertToInteractive('df-bf85663b-fee8-4ebb-8464-6b833d7cad32')\"\n",
              "              title=\"Convert this dataframe to an interactive table.\"\n",
              "              style=\"display:none;\">\n",
              "        \n",
              "  <svg xmlns=\"http://www.w3.org/2000/svg\" height=\"24px\"viewBox=\"0 0 24 24\"\n",
              "       width=\"24px\">\n",
              "    <path d=\"M0 0h24v24H0V0z\" fill=\"none\"/>\n",
              "    <path d=\"M18.56 5.44l.94 2.06.94-2.06 2.06-.94-2.06-.94-.94-2.06-.94 2.06-2.06.94zm-11 1L8.5 8.5l.94-2.06 2.06-.94-2.06-.94L8.5 2.5l-.94 2.06-2.06.94zm10 10l.94 2.06.94-2.06 2.06-.94-2.06-.94-.94-2.06-.94 2.06-2.06.94z\"/><path d=\"M17.41 7.96l-1.37-1.37c-.4-.4-.92-.59-1.43-.59-.52 0-1.04.2-1.43.59L10.3 9.45l-7.72 7.72c-.78.78-.78 2.05 0 2.83L4 21.41c.39.39.9.59 1.41.59.51 0 1.02-.2 1.41-.59l7.78-7.78 2.81-2.81c.8-.78.8-2.07 0-2.86zM5.41 20L4 18.59l7.72-7.72 1.47 1.35L5.41 20z\"/>\n",
              "  </svg>\n",
              "      </button>\n",
              "      \n",
              "  <style>\n",
              "    .colab-df-container {\n",
              "      display:flex;\n",
              "      flex-wrap:wrap;\n",
              "      gap: 12px;\n",
              "    }\n",
              "\n",
              "    .colab-df-convert {\n",
              "      background-color: #E8F0FE;\n",
              "      border: none;\n",
              "      border-radius: 50%;\n",
              "      cursor: pointer;\n",
              "      display: none;\n",
              "      fill: #1967D2;\n",
              "      height: 32px;\n",
              "      padding: 0 0 0 0;\n",
              "      width: 32px;\n",
              "    }\n",
              "\n",
              "    .colab-df-convert:hover {\n",
              "      background-color: #E2EBFA;\n",
              "      box-shadow: 0px 1px 2px rgba(60, 64, 67, 0.3), 0px 1px 3px 1px rgba(60, 64, 67, 0.15);\n",
              "      fill: #174EA6;\n",
              "    }\n",
              "\n",
              "    [theme=dark] .colab-df-convert {\n",
              "      background-color: #3B4455;\n",
              "      fill: #D2E3FC;\n",
              "    }\n",
              "\n",
              "    [theme=dark] .colab-df-convert:hover {\n",
              "      background-color: #434B5C;\n",
              "      box-shadow: 0px 1px 3px 1px rgba(0, 0, 0, 0.15);\n",
              "      filter: drop-shadow(0px 1px 2px rgba(0, 0, 0, 0.3));\n",
              "      fill: #FFFFFF;\n",
              "    }\n",
              "  </style>\n",
              "\n",
              "      <script>\n",
              "        const buttonEl =\n",
              "          document.querySelector('#df-bf85663b-fee8-4ebb-8464-6b833d7cad32 button.colab-df-convert');\n",
              "        buttonEl.style.display =\n",
              "          google.colab.kernel.accessAllowed ? 'block' : 'none';\n",
              "\n",
              "        async function convertToInteractive(key) {\n",
              "          const element = document.querySelector('#df-bf85663b-fee8-4ebb-8464-6b833d7cad32');\n",
              "          const dataTable =\n",
              "            await google.colab.kernel.invokeFunction('convertToInteractive',\n",
              "                                                     [key], {});\n",
              "          if (!dataTable) return;\n",
              "\n",
              "          const docLinkHtml = 'Like what you see? Visit the ' +\n",
              "            '<a target=\"_blank\" href=https://colab.research.google.com/notebooks/data_table.ipynb>data table notebook</a>'\n",
              "            + ' to learn more about interactive tables.';\n",
              "          element.innerHTML = '';\n",
              "          dataTable['output_type'] = 'display_data';\n",
              "          await google.colab.output.renderOutput(dataTable, element);\n",
              "          const docLink = document.createElement('div');\n",
              "          docLink.innerHTML = docLinkHtml;\n",
              "          element.appendChild(docLink);\n",
              "        }\n",
              "      </script>\n",
              "    </div>\n",
              "  </div>\n",
              "  "
            ]
          },
          "metadata": {},
          "execution_count": 31
        }
      ]
    },
    {
      "cell_type": "code",
      "source": [
        "# solution\n",
        "svc3 = SVC()\n",
        "clf3 = GridSearchCV(svc3,{'C':[0.1,0.5,1,1.5], 'gamma':[0.0005,0.005,0.05,0.5]})\n",
        "clf3.fit(vwr_img,y_train)\n",
        "pd.DataFrame(clf3.cv_results_)"
      ],
      "metadata": {
        "colab": {
          "base_uri": "https://localhost:8080/",
          "height": 1000
        },
        "id": "7yc-FXWjM_q6",
        "outputId": "cba7de84-e49d-4a3a-ed4b-a9cb5a911b7a"
      },
      "execution_count": 32,
      "outputs": [
        {
          "output_type": "execute_result",
          "data": {
            "text/plain": [
              "    mean_fit_time  std_fit_time  mean_score_time  std_score_time param_C  \\\n",
              "0        0.003970      0.000122         0.001432        0.000085     0.1   \n",
              "1        0.004086      0.000140         0.001433        0.000059     0.1   \n",
              "2        0.003927      0.000057         0.001551        0.000302     0.1   \n",
              "3        0.003932      0.000699         0.001400        0.000138     0.1   \n",
              "4        0.004614      0.000475         0.001582        0.000347     0.5   \n",
              "5        0.004143      0.000079         0.001456        0.000090     0.5   \n",
              "6        0.003966      0.000071         0.001347        0.000018     0.5   \n",
              "7        0.004201      0.000803         0.001557        0.000383     0.5   \n",
              "8        0.004464      0.000546         0.001430        0.000105       1   \n",
              "9        0.004263      0.000173         0.001495        0.000098       1   \n",
              "10       0.004082      0.000146         0.001456        0.000072       1   \n",
              "11       0.003467      0.000083         0.001287        0.000042       1   \n",
              "12       0.004118      0.000090         0.001356        0.000037     1.5   \n",
              "13       0.004365      0.000159         0.001422        0.000107     1.5   \n",
              "14       0.004639      0.000516         0.001529        0.000292     1.5   \n",
              "15       0.003684      0.000015         0.001293        0.000095     1.5   \n",
              "\n",
              "   param_gamma                       params  split0_test_score  \\\n",
              "0       0.0005  {'C': 0.1, 'gamma': 0.0005}           0.386364   \n",
              "1        0.005   {'C': 0.1, 'gamma': 0.005}           0.386364   \n",
              "2         0.05    {'C': 0.1, 'gamma': 0.05}           0.386364   \n",
              "3          0.5     {'C': 0.1, 'gamma': 0.5}           0.386364   \n",
              "4       0.0005  {'C': 0.5, 'gamma': 0.0005}           0.386364   \n",
              "5        0.005   {'C': 0.5, 'gamma': 0.005}           0.386364   \n",
              "6         0.05    {'C': 0.5, 'gamma': 0.05}           0.386364   \n",
              "7          0.5     {'C': 0.5, 'gamma': 0.5}           0.386364   \n",
              "8       0.0005    {'C': 1, 'gamma': 0.0005}           0.431818   \n",
              "9        0.005     {'C': 1, 'gamma': 0.005}           0.386364   \n",
              "10        0.05      {'C': 1, 'gamma': 0.05}           0.386364   \n",
              "11         0.5       {'C': 1, 'gamma': 0.5}           0.386364   \n",
              "12      0.0005  {'C': 1.5, 'gamma': 0.0005}           0.409091   \n",
              "13       0.005   {'C': 1.5, 'gamma': 0.005}           0.386364   \n",
              "14        0.05    {'C': 1.5, 'gamma': 0.05}           0.386364   \n",
              "15         0.5     {'C': 1.5, 'gamma': 0.5}           0.386364   \n",
              "\n",
              "    split1_test_score  split2_test_score  split3_test_score  \\\n",
              "0            0.386364           0.363636           0.363636   \n",
              "1            0.386364           0.363636           0.363636   \n",
              "2            0.386364           0.363636           0.363636   \n",
              "3            0.386364           0.363636           0.363636   \n",
              "4            0.386364           0.363636           0.363636   \n",
              "5            0.386364           0.363636           0.363636   \n",
              "6            0.386364           0.363636           0.363636   \n",
              "7            0.386364           0.363636           0.363636   \n",
              "8            0.454545           0.409091           0.363636   \n",
              "9            0.386364           0.363636           0.363636   \n",
              "10           0.386364           0.363636           0.363636   \n",
              "11           0.386364           0.363636           0.363636   \n",
              "12           0.363636           0.454545           0.386364   \n",
              "13           0.386364           0.363636           0.363636   \n",
              "14           0.386364           0.363636           0.363636   \n",
              "15           0.386364           0.363636           0.363636   \n",
              "\n",
              "    split4_test_score  mean_test_score  std_test_score  rank_test_score  \n",
              "0            0.372093         0.374419        0.010230                3  \n",
              "1            0.372093         0.374419        0.010230                3  \n",
              "2            0.372093         0.374419        0.010230                3  \n",
              "3            0.372093         0.374419        0.010230                3  \n",
              "4            0.372093         0.374419        0.010230                3  \n",
              "5            0.372093         0.374419        0.010230                3  \n",
              "6            0.372093         0.374419        0.010230                3  \n",
              "7            0.372093         0.374419        0.010230                3  \n",
              "8            0.441860         0.420190        0.031958                1  \n",
              "9            0.372093         0.374419        0.010230                3  \n",
              "10           0.372093         0.374419        0.010230                3  \n",
              "11           0.372093         0.374419        0.010230                3  \n",
              "12           0.418605         0.406448        0.030674                2  \n",
              "13           0.372093         0.374419        0.010230                3  \n",
              "14           0.372093         0.374419        0.010230                3  \n",
              "15           0.372093         0.374419        0.010230                3  "
            ],
            "text/html": [
              "\n",
              "  <div id=\"df-50ac66c0-1212-441c-b6db-7b57a4ad51fc\">\n",
              "    <div class=\"colab-df-container\">\n",
              "      <div>\n",
              "<style scoped>\n",
              "    .dataframe tbody tr th:only-of-type {\n",
              "        vertical-align: middle;\n",
              "    }\n",
              "\n",
              "    .dataframe tbody tr th {\n",
              "        vertical-align: top;\n",
              "    }\n",
              "\n",
              "    .dataframe thead th {\n",
              "        text-align: right;\n",
              "    }\n",
              "</style>\n",
              "<table border=\"1\" class=\"dataframe\">\n",
              "  <thead>\n",
              "    <tr style=\"text-align: right;\">\n",
              "      <th></th>\n",
              "      <th>mean_fit_time</th>\n",
              "      <th>std_fit_time</th>\n",
              "      <th>mean_score_time</th>\n",
              "      <th>std_score_time</th>\n",
              "      <th>param_C</th>\n",
              "      <th>param_gamma</th>\n",
              "      <th>params</th>\n",
              "      <th>split0_test_score</th>\n",
              "      <th>split1_test_score</th>\n",
              "      <th>split2_test_score</th>\n",
              "      <th>split3_test_score</th>\n",
              "      <th>split4_test_score</th>\n",
              "      <th>mean_test_score</th>\n",
              "      <th>std_test_score</th>\n",
              "      <th>rank_test_score</th>\n",
              "    </tr>\n",
              "  </thead>\n",
              "  <tbody>\n",
              "    <tr>\n",
              "      <th>0</th>\n",
              "      <td>0.003970</td>\n",
              "      <td>0.000122</td>\n",
              "      <td>0.001432</td>\n",
              "      <td>0.000085</td>\n",
              "      <td>0.1</td>\n",
              "      <td>0.0005</td>\n",
              "      <td>{'C': 0.1, 'gamma': 0.0005}</td>\n",
              "      <td>0.386364</td>\n",
              "      <td>0.386364</td>\n",
              "      <td>0.363636</td>\n",
              "      <td>0.363636</td>\n",
              "      <td>0.372093</td>\n",
              "      <td>0.374419</td>\n",
              "      <td>0.010230</td>\n",
              "      <td>3</td>\n",
              "    </tr>\n",
              "    <tr>\n",
              "      <th>1</th>\n",
              "      <td>0.004086</td>\n",
              "      <td>0.000140</td>\n",
              "      <td>0.001433</td>\n",
              "      <td>0.000059</td>\n",
              "      <td>0.1</td>\n",
              "      <td>0.005</td>\n",
              "      <td>{'C': 0.1, 'gamma': 0.005}</td>\n",
              "      <td>0.386364</td>\n",
              "      <td>0.386364</td>\n",
              "      <td>0.363636</td>\n",
              "      <td>0.363636</td>\n",
              "      <td>0.372093</td>\n",
              "      <td>0.374419</td>\n",
              "      <td>0.010230</td>\n",
              "      <td>3</td>\n",
              "    </tr>\n",
              "    <tr>\n",
              "      <th>2</th>\n",
              "      <td>0.003927</td>\n",
              "      <td>0.000057</td>\n",
              "      <td>0.001551</td>\n",
              "      <td>0.000302</td>\n",
              "      <td>0.1</td>\n",
              "      <td>0.05</td>\n",
              "      <td>{'C': 0.1, 'gamma': 0.05}</td>\n",
              "      <td>0.386364</td>\n",
              "      <td>0.386364</td>\n",
              "      <td>0.363636</td>\n",
              "      <td>0.363636</td>\n",
              "      <td>0.372093</td>\n",
              "      <td>0.374419</td>\n",
              "      <td>0.010230</td>\n",
              "      <td>3</td>\n",
              "    </tr>\n",
              "    <tr>\n",
              "      <th>3</th>\n",
              "      <td>0.003932</td>\n",
              "      <td>0.000699</td>\n",
              "      <td>0.001400</td>\n",
              "      <td>0.000138</td>\n",
              "      <td>0.1</td>\n",
              "      <td>0.5</td>\n",
              "      <td>{'C': 0.1, 'gamma': 0.5}</td>\n",
              "      <td>0.386364</td>\n",
              "      <td>0.386364</td>\n",
              "      <td>0.363636</td>\n",
              "      <td>0.363636</td>\n",
              "      <td>0.372093</td>\n",
              "      <td>0.374419</td>\n",
              "      <td>0.010230</td>\n",
              "      <td>3</td>\n",
              "    </tr>\n",
              "    <tr>\n",
              "      <th>4</th>\n",
              "      <td>0.004614</td>\n",
              "      <td>0.000475</td>\n",
              "      <td>0.001582</td>\n",
              "      <td>0.000347</td>\n",
              "      <td>0.5</td>\n",
              "      <td>0.0005</td>\n",
              "      <td>{'C': 0.5, 'gamma': 0.0005}</td>\n",
              "      <td>0.386364</td>\n",
              "      <td>0.386364</td>\n",
              "      <td>0.363636</td>\n",
              "      <td>0.363636</td>\n",
              "      <td>0.372093</td>\n",
              "      <td>0.374419</td>\n",
              "      <td>0.010230</td>\n",
              "      <td>3</td>\n",
              "    </tr>\n",
              "    <tr>\n",
              "      <th>5</th>\n",
              "      <td>0.004143</td>\n",
              "      <td>0.000079</td>\n",
              "      <td>0.001456</td>\n",
              "      <td>0.000090</td>\n",
              "      <td>0.5</td>\n",
              "      <td>0.005</td>\n",
              "      <td>{'C': 0.5, 'gamma': 0.005}</td>\n",
              "      <td>0.386364</td>\n",
              "      <td>0.386364</td>\n",
              "      <td>0.363636</td>\n",
              "      <td>0.363636</td>\n",
              "      <td>0.372093</td>\n",
              "      <td>0.374419</td>\n",
              "      <td>0.010230</td>\n",
              "      <td>3</td>\n",
              "    </tr>\n",
              "    <tr>\n",
              "      <th>6</th>\n",
              "      <td>0.003966</td>\n",
              "      <td>0.000071</td>\n",
              "      <td>0.001347</td>\n",
              "      <td>0.000018</td>\n",
              "      <td>0.5</td>\n",
              "      <td>0.05</td>\n",
              "      <td>{'C': 0.5, 'gamma': 0.05}</td>\n",
              "      <td>0.386364</td>\n",
              "      <td>0.386364</td>\n",
              "      <td>0.363636</td>\n",
              "      <td>0.363636</td>\n",
              "      <td>0.372093</td>\n",
              "      <td>0.374419</td>\n",
              "      <td>0.010230</td>\n",
              "      <td>3</td>\n",
              "    </tr>\n",
              "    <tr>\n",
              "      <th>7</th>\n",
              "      <td>0.004201</td>\n",
              "      <td>0.000803</td>\n",
              "      <td>0.001557</td>\n",
              "      <td>0.000383</td>\n",
              "      <td>0.5</td>\n",
              "      <td>0.5</td>\n",
              "      <td>{'C': 0.5, 'gamma': 0.5}</td>\n",
              "      <td>0.386364</td>\n",
              "      <td>0.386364</td>\n",
              "      <td>0.363636</td>\n",
              "      <td>0.363636</td>\n",
              "      <td>0.372093</td>\n",
              "      <td>0.374419</td>\n",
              "      <td>0.010230</td>\n",
              "      <td>3</td>\n",
              "    </tr>\n",
              "    <tr>\n",
              "      <th>8</th>\n",
              "      <td>0.004464</td>\n",
              "      <td>0.000546</td>\n",
              "      <td>0.001430</td>\n",
              "      <td>0.000105</td>\n",
              "      <td>1</td>\n",
              "      <td>0.0005</td>\n",
              "      <td>{'C': 1, 'gamma': 0.0005}</td>\n",
              "      <td>0.431818</td>\n",
              "      <td>0.454545</td>\n",
              "      <td>0.409091</td>\n",
              "      <td>0.363636</td>\n",
              "      <td>0.441860</td>\n",
              "      <td>0.420190</td>\n",
              "      <td>0.031958</td>\n",
              "      <td>1</td>\n",
              "    </tr>\n",
              "    <tr>\n",
              "      <th>9</th>\n",
              "      <td>0.004263</td>\n",
              "      <td>0.000173</td>\n",
              "      <td>0.001495</td>\n",
              "      <td>0.000098</td>\n",
              "      <td>1</td>\n",
              "      <td>0.005</td>\n",
              "      <td>{'C': 1, 'gamma': 0.005}</td>\n",
              "      <td>0.386364</td>\n",
              "      <td>0.386364</td>\n",
              "      <td>0.363636</td>\n",
              "      <td>0.363636</td>\n",
              "      <td>0.372093</td>\n",
              "      <td>0.374419</td>\n",
              "      <td>0.010230</td>\n",
              "      <td>3</td>\n",
              "    </tr>\n",
              "    <tr>\n",
              "      <th>10</th>\n",
              "      <td>0.004082</td>\n",
              "      <td>0.000146</td>\n",
              "      <td>0.001456</td>\n",
              "      <td>0.000072</td>\n",
              "      <td>1</td>\n",
              "      <td>0.05</td>\n",
              "      <td>{'C': 1, 'gamma': 0.05}</td>\n",
              "      <td>0.386364</td>\n",
              "      <td>0.386364</td>\n",
              "      <td>0.363636</td>\n",
              "      <td>0.363636</td>\n",
              "      <td>0.372093</td>\n",
              "      <td>0.374419</td>\n",
              "      <td>0.010230</td>\n",
              "      <td>3</td>\n",
              "    </tr>\n",
              "    <tr>\n",
              "      <th>11</th>\n",
              "      <td>0.003467</td>\n",
              "      <td>0.000083</td>\n",
              "      <td>0.001287</td>\n",
              "      <td>0.000042</td>\n",
              "      <td>1</td>\n",
              "      <td>0.5</td>\n",
              "      <td>{'C': 1, 'gamma': 0.5}</td>\n",
              "      <td>0.386364</td>\n",
              "      <td>0.386364</td>\n",
              "      <td>0.363636</td>\n",
              "      <td>0.363636</td>\n",
              "      <td>0.372093</td>\n",
              "      <td>0.374419</td>\n",
              "      <td>0.010230</td>\n",
              "      <td>3</td>\n",
              "    </tr>\n",
              "    <tr>\n",
              "      <th>12</th>\n",
              "      <td>0.004118</td>\n",
              "      <td>0.000090</td>\n",
              "      <td>0.001356</td>\n",
              "      <td>0.000037</td>\n",
              "      <td>1.5</td>\n",
              "      <td>0.0005</td>\n",
              "      <td>{'C': 1.5, 'gamma': 0.0005}</td>\n",
              "      <td>0.409091</td>\n",
              "      <td>0.363636</td>\n",
              "      <td>0.454545</td>\n",
              "      <td>0.386364</td>\n",
              "      <td>0.418605</td>\n",
              "      <td>0.406448</td>\n",
              "      <td>0.030674</td>\n",
              "      <td>2</td>\n",
              "    </tr>\n",
              "    <tr>\n",
              "      <th>13</th>\n",
              "      <td>0.004365</td>\n",
              "      <td>0.000159</td>\n",
              "      <td>0.001422</td>\n",
              "      <td>0.000107</td>\n",
              "      <td>1.5</td>\n",
              "      <td>0.005</td>\n",
              "      <td>{'C': 1.5, 'gamma': 0.005}</td>\n",
              "      <td>0.386364</td>\n",
              "      <td>0.386364</td>\n",
              "      <td>0.363636</td>\n",
              "      <td>0.363636</td>\n",
              "      <td>0.372093</td>\n",
              "      <td>0.374419</td>\n",
              "      <td>0.010230</td>\n",
              "      <td>3</td>\n",
              "    </tr>\n",
              "    <tr>\n",
              "      <th>14</th>\n",
              "      <td>0.004639</td>\n",
              "      <td>0.000516</td>\n",
              "      <td>0.001529</td>\n",
              "      <td>0.000292</td>\n",
              "      <td>1.5</td>\n",
              "      <td>0.05</td>\n",
              "      <td>{'C': 1.5, 'gamma': 0.05}</td>\n",
              "      <td>0.386364</td>\n",
              "      <td>0.386364</td>\n",
              "      <td>0.363636</td>\n",
              "      <td>0.363636</td>\n",
              "      <td>0.372093</td>\n",
              "      <td>0.374419</td>\n",
              "      <td>0.010230</td>\n",
              "      <td>3</td>\n",
              "    </tr>\n",
              "    <tr>\n",
              "      <th>15</th>\n",
              "      <td>0.003684</td>\n",
              "      <td>0.000015</td>\n",
              "      <td>0.001293</td>\n",
              "      <td>0.000095</td>\n",
              "      <td>1.5</td>\n",
              "      <td>0.5</td>\n",
              "      <td>{'C': 1.5, 'gamma': 0.5}</td>\n",
              "      <td>0.386364</td>\n",
              "      <td>0.386364</td>\n",
              "      <td>0.363636</td>\n",
              "      <td>0.363636</td>\n",
              "      <td>0.372093</td>\n",
              "      <td>0.374419</td>\n",
              "      <td>0.010230</td>\n",
              "      <td>3</td>\n",
              "    </tr>\n",
              "  </tbody>\n",
              "</table>\n",
              "</div>\n",
              "      <button class=\"colab-df-convert\" onclick=\"convertToInteractive('df-50ac66c0-1212-441c-b6db-7b57a4ad51fc')\"\n",
              "              title=\"Convert this dataframe to an interactive table.\"\n",
              "              style=\"display:none;\">\n",
              "        \n",
              "  <svg xmlns=\"http://www.w3.org/2000/svg\" height=\"24px\"viewBox=\"0 0 24 24\"\n",
              "       width=\"24px\">\n",
              "    <path d=\"M0 0h24v24H0V0z\" fill=\"none\"/>\n",
              "    <path d=\"M18.56 5.44l.94 2.06.94-2.06 2.06-.94-2.06-.94-.94-2.06-.94 2.06-2.06.94zm-11 1L8.5 8.5l.94-2.06 2.06-.94-2.06-.94L8.5 2.5l-.94 2.06-2.06.94zm10 10l.94 2.06.94-2.06 2.06-.94-2.06-.94-.94-2.06-.94 2.06-2.06.94z\"/><path d=\"M17.41 7.96l-1.37-1.37c-.4-.4-.92-.59-1.43-.59-.52 0-1.04.2-1.43.59L10.3 9.45l-7.72 7.72c-.78.78-.78 2.05 0 2.83L4 21.41c.39.39.9.59 1.41.59.51 0 1.02-.2 1.41-.59l7.78-7.78 2.81-2.81c.8-.78.8-2.07 0-2.86zM5.41 20L4 18.59l7.72-7.72 1.47 1.35L5.41 20z\"/>\n",
              "  </svg>\n",
              "      </button>\n",
              "      \n",
              "  <style>\n",
              "    .colab-df-container {\n",
              "      display:flex;\n",
              "      flex-wrap:wrap;\n",
              "      gap: 12px;\n",
              "    }\n",
              "\n",
              "    .colab-df-convert {\n",
              "      background-color: #E8F0FE;\n",
              "      border: none;\n",
              "      border-radius: 50%;\n",
              "      cursor: pointer;\n",
              "      display: none;\n",
              "      fill: #1967D2;\n",
              "      height: 32px;\n",
              "      padding: 0 0 0 0;\n",
              "      width: 32px;\n",
              "    }\n",
              "\n",
              "    .colab-df-convert:hover {\n",
              "      background-color: #E2EBFA;\n",
              "      box-shadow: 0px 1px 2px rgba(60, 64, 67, 0.3), 0px 1px 3px 1px rgba(60, 64, 67, 0.15);\n",
              "      fill: #174EA6;\n",
              "    }\n",
              "\n",
              "    [theme=dark] .colab-df-convert {\n",
              "      background-color: #3B4455;\n",
              "      fill: #D2E3FC;\n",
              "    }\n",
              "\n",
              "    [theme=dark] .colab-df-convert:hover {\n",
              "      background-color: #434B5C;\n",
              "      box-shadow: 0px 1px 3px 1px rgba(0, 0, 0, 0.15);\n",
              "      filter: drop-shadow(0px 1px 2px rgba(0, 0, 0, 0.3));\n",
              "      fill: #FFFFFF;\n",
              "    }\n",
              "  </style>\n",
              "\n",
              "      <script>\n",
              "        const buttonEl =\n",
              "          document.querySelector('#df-50ac66c0-1212-441c-b6db-7b57a4ad51fc button.colab-df-convert');\n",
              "        buttonEl.style.display =\n",
              "          google.colab.kernel.accessAllowed ? 'block' : 'none';\n",
              "\n",
              "        async function convertToInteractive(key) {\n",
              "          const element = document.querySelector('#df-50ac66c0-1212-441c-b6db-7b57a4ad51fc');\n",
              "          const dataTable =\n",
              "            await google.colab.kernel.invokeFunction('convertToInteractive',\n",
              "                                                     [key], {});\n",
              "          if (!dataTable) return;\n",
              "\n",
              "          const docLinkHtml = 'Like what you see? Visit the ' +\n",
              "            '<a target=\"_blank\" href=https://colab.research.google.com/notebooks/data_table.ipynb>data table notebook</a>'\n",
              "            + ' to learn more about interactive tables.';\n",
              "          element.innerHTML = '';\n",
              "          dataTable['output_type'] = 'display_data';\n",
              "          await google.colab.output.renderOutput(dataTable, element);\n",
              "          const docLink = document.createElement('div');\n",
              "          docLink.innerHTML = docLinkHtml;\n",
              "          element.appendChild(docLink);\n",
              "        }\n",
              "      </script>\n",
              "    </div>\n",
              "  </div>\n",
              "  "
            ]
          },
          "metadata": {},
          "execution_count": 32
        }
      ]
    },
    {
      "cell_type": "code",
      "source": [
        "clf3"
      ],
      "metadata": {
        "colab": {
          "base_uri": "https://localhost:8080/"
        },
        "id": "snOeP9aIi1yU",
        "outputId": "fd545fd4-44f0-478e-d873-19569d039ddf"
      },
      "execution_count": 33,
      "outputs": [
        {
          "output_type": "execute_result",
          "data": {
            "text/plain": [
              "GridSearchCV(estimator=SVC(),\n",
              "             param_grid={'C': [0.1, 0.5, 1, 1.5],\n",
              "                         'gamma': [0.0005, 0.005, 0.05, 0.5]})"
            ]
          },
          "metadata": {},
          "execution_count": 33
        }
      ]
    },
    {
      "cell_type": "markdown",
      "metadata": {
        "id": "eqThTmO5j1-p"
      },
      "source": [
        "# Testing the Classification Model\n",
        "\n",
        "*   Extract descriptors using ORB for the test split\n",
        "*   Use the previously trained k-means to generate the histogram\n",
        "*   Use the classifier to predict the label\n"
      ]
    },
    {
      "cell_type": "code",
      "metadata": {
        "id": "x2Gzbww9e0pP",
        "colab": {
          "base_uri": "https://localhost:8080/",
          "height": 295
        },
        "outputId": "e50aa58f-dc44-4c39-aebe-92797b2a397c"
      },
      "source": [
        "# solution\n",
        "kps_test,dcs_test = get_multi_ORB(descriptor_extractor,x_test)\n",
        "vwr_img_test = []\n",
        "for img_dsc in dcs_test:\n",
        "  vwr_img_test.append(kmeans.predict(img_dsc))\n",
        "vwr_img_test = np.array(vwr_img_test)\n",
        "\n",
        "plt.bar(list(range(30)),ske.histogram(np.concatenate(vwr_img_test), 30)[0])\n",
        "plt.title('Frequency of Visual Words Test Data')\n",
        "plt.ylabel('Number of visual words')\n",
        "plt.xlabel('Clusters')\n",
        "\n",
        "preds = clf3.predict(vwr_img_test)\n"
      ],
      "execution_count": 34,
      "outputs": [
        {
          "output_type": "display_data",
          "data": {
            "text/plain": [
              "<Figure size 432x288 with 1 Axes>"
            ],
            "image/png": "[encoded data removed]"
          },
          "metadata": {
            "needs_background": "light"
          }
        }
      ]
    },
    {
      "cell_type": "markdown",
      "metadata": {
        "id": "gGyQUtU3lAEz"
      },
      "source": [
        "*   Calculate the accuracy score for the classification model"
      ]
    },
    {
      "cell_type": "code",
      "source": [
        "preds"
      ],
      "metadata": {
        "id": "Bze3xctjt812",
        "outputId": "6e63e218-77c4-44d2-f76f-e8899b45c121",
        "colab": {
          "base_uri": "https://localhost:8080/"
        }
      },
      "execution_count": 35,
      "outputs": [
        {
          "output_type": "execute_result",
          "data": {
            "text/plain": [
              "array(['butterfly', 'kangaroo', 'kangaroo', 'butterfly', 'kangaroo',\n",
              "       'butterfly', 'butterfly', 'butterfly', 'butterfly', 'butterfly',\n",
              "       'butterfly', 'kangaroo', 'kangaroo', 'kangaroo', 'kangaroo',\n",
              "       'butterfly', 'butterfly', 'butterfly', 'butterfly', 'kangaroo',\n",
              "       'kangaroo', 'butterfly', 'butterfly', 'kangaroo', 'butterfly'],\n",
              "      dtype='<U9')"
            ]
          },
          "metadata": {},
          "execution_count": 35
        }
      ]
    },
    {
      "cell_type": "code",
      "source": [
        "y_test"
      ],
      "metadata": {
        "id": "GSwxNfZIuAwI",
        "outputId": "5a5f56e3-ec6b-45a1-c9f0-f6b2c4d9fc8f",
        "colab": {
          "base_uri": "https://localhost:8080/"
        }
      },
      "execution_count": 36,
      "outputs": [
        {
          "output_type": "execute_result",
          "data": {
            "text/plain": [
              "['dalmatian',\n",
              " 'kangaroo',\n",
              " 'butterfly',\n",
              " 'kangaroo',\n",
              " 'kangaroo',\n",
              " 'butterfly',\n",
              " 'dalmatian',\n",
              " 'butterfly',\n",
              " 'dalmatian',\n",
              " 'kangaroo',\n",
              " 'kangaroo',\n",
              " 'dalmatian',\n",
              " 'kangaroo',\n",
              " 'butterfly',\n",
              " 'kangaroo',\n",
              " 'butterfly',\n",
              " 'butterfly',\n",
              " 'dalmatian',\n",
              " 'butterfly',\n",
              " 'butterfly',\n",
              " 'dalmatian',\n",
              " 'kangaroo',\n",
              " 'butterfly',\n",
              " 'kangaroo',\n",
              " 'dalmatian']"
            ]
          },
          "metadata": {},
          "execution_count": 36
        }
      ]
    },
    {
      "cell_type": "code",
      "metadata": {
        "id": "PszxSB0Ek_Lt",
        "colab": {
          "base_uri": "https://localhost:8080/"
        },
        "outputId": "86ff15d0-3658-4292-8207-652573cbfcba"
      },
      "source": [
        "# solution\n",
        "print(accuracy_score(y_test, preds))"
      ],
      "execution_count": 37,
      "outputs": [
        {
          "output_type": "stream",
          "name": "stdout",
          "text": [
            "0.44\n"
          ]
        }
      ]
    },
    {
      "cell_type": "markdown",
      "metadata": {
        "id": "drlq-5AM615_"
      },
      "source": [
        "*   Generate the confusion matrix for the classification model"
      ]
    },
    {
      "cell_type": "code",
      "metadata": {
        "id": "NpqXVYrw61OG",
        "colab": {
          "base_uri": "https://localhost:8080/",
          "height": 855
        },
        "outputId": "c159923b-0a9f-4f56-81c7-58e208812796"
      },
      "source": [
        "# solution\n",
        "from customplots import plot_confusion_matrix\n",
        "target_names  = list(range(30))\n",
        "plot_confusion_matrix(confusion_matrix(y_test, preds),categories,False,'YlGnBu', 'Confusion matrix of visual words classification')"
      ],
      "execution_count": 38,
      "outputs": [
        {
          "output_type": "display_data",
          "data": {
            "text/plain": [
              "<Figure size 1008x1008 with 2 Axes>"
            ],
            "image/png": "[encoded data removed]"
          },
          "metadata": {
            "needs_background": "light"
          }
        }
      ]
    },
    {
      "cell_type": "code",
      "source": [
        "# solution\n",
        "from customplots import plot_confusion_matrix\n",
        "target_names  = list(range(30))\n",
        "plot_confusion_matrix(confusion_matrix(y_test, preds),categories,True,'YlGnBu', 'Normalized confusion matrix of visual words classification',fsizes={'font':15})"
      ],
      "metadata": {
        "colab": {
          "base_uri": "https://localhost:8080/",
          "height": 855
        },
        "id": "qXc6gpyJsXui",
        "outputId": "ed0c2b7c-06f2-41d2-b9cc-be5a5d591027"
      },
      "execution_count": 39,
      "outputs": [
        {
          "output_type": "display_data",
          "data": {
            "text/plain": [
              "<Figure size 1008x1008 with 2 Axes>"
            ],
            "image/png": "[encoded data removed]"
          },
          "metadata": {
            "needs_background": "light"
          }
        }
      ]
    },
    {
      "cell_type": "markdown",
      "metadata": {
        "id": "7TN4rRra9yv_"
      },
      "source": [
        "*   Why do we use Clustering to create the codebook? \n",
        "*   What are the other techniques that can be used to create the codebook?"
      ]
    },
    {
      "cell_type": "markdown",
      "metadata": {
        "id": "Ri9kU3wa3Rei"
      },
      "source": [
        "**Solution**\n",
        "\n",
        "*K-means clustering is the most commonly used technique for codebook creation based on exisiting literature.*\n",
        "\n",
        "*Some other techniques that could be used to create the codebook could be hierarchical clustering, Self-Organizing Maps, mean-shift, or other clustering methods.*\n",
        "\n",
        "..."
      ]
    },
    {
      "cell_type": "markdown",
      "source": [
        "# Increased Feature Dimensions\n",
        "\n",
        "*   Repeat the classification using features of 256 ORB keypoints."
      ],
      "metadata": {
        "id": "b47OqebCOXpq"
      }
    },
    {
      "cell_type": "code",
      "source": [
        "descriptor_extractor256 = feature.ORB(n_keypoints=256)\n",
        "kps_train256,dcs_train256 = get_multi_ORB(descriptor_extractor256, x_train)"
      ],
      "metadata": {
        "colab": {
          "base_uri": "https://localhost:8080/"
        },
        "id": "TFvrOaievczw",
        "outputId": "1dee4d77-9531-417a-8d57-06e5986eef33"
      },
      "execution_count": 58,
      "outputs": [
        {
          "output_type": "stream",
          "name": "stderr",
          "text": [
            "/content/utils.py:28: VisibleDeprecationWarning: Creating an ndarray from ragged nested sequences (which is a list-or-tuple of lists-or-tuples-or ndarrays with different lengths or shapes) is deprecated. If you meant to do this, you must specify 'dtype=object' when creating the ndarray.\n",
            "  return np.array(keypoints), np.array(descriptors)\n"
          ]
        }
      ]
    },
    {
      "cell_type": "code",
      "source": [
        "set([item.shape for item in dcs_train256])"
      ],
      "metadata": {
        "colab": {
          "base_uri": "https://localhost:8080/"
        },
        "id": "nobYrijJxqSJ",
        "outputId": "fb79dbee-17f3-4669-e1c5-79d6238a8d05"
      },
      "execution_count": 51,
      "outputs": [
        {
          "output_type": "execute_result",
          "data": {
            "text/plain": [
              "{(231, 256), (256, 256)}"
            ]
          },
          "metadata": {},
          "execution_count": 51
        }
      ]
    },
    {
      "cell_type": "code",
      "source": [
        "bad_image = [n for n, item in enumerate(dcs_train256) if item.shape != (256,256)]\n",
        "bad_image"
      ],
      "metadata": {
        "colab": {
          "base_uri": "https://localhost:8080/"
        },
        "id": "QVInj9PJyhdW",
        "outputId": "b00cd9e0-fe15-4588-fae2-bf164fe92293"
      },
      "execution_count": 52,
      "outputs": [
        {
          "output_type": "execute_result",
          "data": {
            "text/plain": [
              "[109]"
            ]
          },
          "metadata": {},
          "execution_count": 52
        }
      ]
    },
    {
      "cell_type": "code",
      "source": [
        "x_train[bad_image[0]].shape"
      ],
      "metadata": {
        "colab": {
          "base_uri": "https://localhost:8080/"
        },
        "id": "jXe80CGTzC5Q",
        "outputId": "2ae18c7b-b6c6-426b-f765-1ff6a1a22e53"
      },
      "execution_count": null,
      "outputs": [
        {
          "output_type": "execute_result",
          "data": {
            "text/plain": [
              "(232, 300, 3)"
            ]
          },
          "metadata": {},
          "execution_count": 102
        }
      ]
    },
    {
      "cell_type": "code",
      "source": [
        "dcs_train256[bad_image[0]].shape"
      ],
      "metadata": {
        "colab": {
          "base_uri": "https://localhost:8080/"
        },
        "id": "FGdvF557y5-m",
        "outputId": "f2e5e4a0-9997-41fe-e91a-8e08784e4245"
      },
      "execution_count": null,
      "outputs": [
        {
          "output_type": "execute_result",
          "data": {
            "text/plain": [
              "(231, 256)"
            ]
          },
          "metadata": {},
          "execution_count": 103
        }
      ]
    },
    {
      "cell_type": "code",
      "source": [
        "r = list(np.array(dcs_train256))\n",
        "s = r.pop(bad_image[0])"
      ],
      "metadata": {
        "id": "ghC5Isd31-5t"
      },
      "execution_count": null,
      "outputs": []
    },
    {
      "cell_type": "code",
      "source": [
        "218*256"
      ],
      "metadata": {
        "colab": {
          "base_uri": "https://localhost:8080/"
        },
        "id": "momikQ534sn8",
        "outputId": "253e5d3f-73b6-4da2-e1f0-1e9fac0fdf0d"
      },
      "execution_count": null,
      "outputs": [
        {
          "output_type": "execute_result",
          "data": {
            "text/plain": [
              "55808"
            ]
          },
          "metadata": {},
          "execution_count": 117
        }
      ]
    },
    {
      "cell_type": "code",
      "source": [
        "np.concatenate((np.reshape(np.array(r), (218*256,256)),s)).shape"
      ],
      "metadata": {
        "colab": {
          "base_uri": "https://localhost:8080/"
        },
        "id": "CfFWLklZ2eRT",
        "outputId": "62f8ea8b-16ab-4b09-da10-52441e63394f"
      },
      "execution_count": null,
      "outputs": [
        {
          "output_type": "execute_result",
          "data": {
            "text/plain": [
              "(56039, 256)"
            ]
          },
          "metadata": {},
          "execution_count": 115
        }
      ]
    },
    {
      "cell_type": "code",
      "source": [
        "np.delete(list(np.array(dcs_train256)),bad_image[0]).shape"
      ],
      "metadata": {
        "colab": {
          "base_uri": "https://localhost:8080/"
        },
        "id": "j-I5RHGrzT32",
        "outputId": "eb595e31-970a-4d61-f115-cc70a1096ddc"
      },
      "execution_count": null,
      "outputs": [
        {
          "output_type": "stream",
          "name": "stderr",
          "text": [
            "/usr/local/lib/python3.7/dist-packages/ipykernel_launcher.py:1: VisibleDeprecationWarning: Creating an ndarray from ragged nested sequences (which is a list-or-tuple of lists-or-tuples-or ndarrays with different lengths or shapes) is deprecated. If you meant to do this, you must specify 'dtype=object' when creating the ndarray.\n",
            "  \"\"\"Entry point for launching an IPython kernel.\n"
          ]
        },
        {
          "output_type": "execute_result",
          "data": {
            "text/plain": [
              "(218,)"
            ]
          },
          "metadata": {},
          "execution_count": 85
        }
      ]
    },
    {
      "cell_type": "code",
      "source": [
        "# Creating the descriptor ectractor for 256 keypoints\n",
        "descriptor_extractor256 = feature.ORB(n_keypoints=256)\n",
        "\n",
        "# # Getting keypoints and descriptors of train data \n",
        "kps_train256,dcs_train256 = get_multi_ORB(descriptor_extractor256, x_train)\n",
        "\n",
        "# # One image has shape (232*300) the dimension (232) does not allow us to get \n",
        "# # 256 descriptors, we can get just 231 descriptors, this produces an error to \n",
        "# # # reshape the array, so we make a movement to extract it and add it at the end\n",
        "dcs_train256 = list(dcs_train256)\n",
        "deleted = dcs_train256.pop(bad_image[0])\n",
        "dcs_train256 = np.array(dcs_train256)\n",
        "y_train.pop(bad_image[0])\n",
        "\n",
        "# Flattening the data and applying clustering with k-means - 30 clusters (codewords)\n",
        "dcs_flatten256 = np.reshape(dcs_train256, (len(dcs_train256)*dcs_train256[0].shape[0],dcs_train256[0].shape[1]))\n",
        "dcs_flatten256 = np.concatenate((dcs_flatten256,deleted)) # Adding the deleted group of image descriptors\n",
        "print(dcs_flatten256.shape)\n",
        "kmeans256 = MiniBatchKMeans(n_clusters=len(categories)*10).fit(dcs_flatten256)\n",
        "\n",
        "vwr_img256 = []\n",
        "# dcs_train256 = list(dcs_train256)\n",
        "# dcs_train256.append(deleted)\n",
        "# dcs_train256 = np.array(dcs_train256, dtype=object)\n",
        "for img_dsc in dcs_train256:\n",
        "  vwr_img256.append(kmeans.predict(img_dsc))\n",
        "vwr_img256 = np.array(vwr_img256)\n",
        "\n",
        "# Plotting the histogram of visual words frequencies\n",
        "fig1 = plt.figure()\n",
        "plt.bar(list(range(30)),ske.histogram(np.concatenate(vwr_img256), 30)[0])\n",
        "plt.title('Frequency of Visual Words Training Data (256)')\n",
        "plt.ylabel('Number of visual words')\n",
        "plt.xlabel('Clusters')\n",
        "\n",
        "\n",
        "# Looking for the best classifier model in this task\n",
        "svc256 = SVC()\n",
        "clf256 = GridSearchCV(svc256,{'C':[0.5,1,5,10], 'gamma':['scale','auto',0.005,0.5]}, n_jobs=4, verbose=3)\n",
        "clf256.fit(vwr_img256,y_train)\n",
        "\n",
        "# Getting keypoints and descriptors of test data, flattening & applying k-means\n",
        "kps_test256,dcs_test256 = get_multi_ORB(descriptor_extractor256,x_test)\n",
        "dcs_test_flatten256 =  np.reshape(dcs_test256, (len(dcs_test256)*dcs_test256.shape[1],dcs_test256.shape[2]))\n",
        "tst_labs256 = kmeans256.predict(dcs_test_flatten256)\n",
        "\n",
        "vwr_img256_test = []\n",
        "for img_dsc in dcs_test256:\n",
        "  vwr_img256_test.append(kmeans.predict(img_dsc))\n",
        "vwr_img256_test = np.array(vwr_img256_test)\n",
        "\n",
        "# Plotting the histogram of visual words frequencies (test data)\n",
        "fig2 = plt.figure()\n",
        "plt.bar(list(range(30)),ske.histogram(np.concatenate(vwr_img256_test), 30)[0])\n",
        "plt.title('Frequency of Visual Words Test Data (256)')\n",
        "plt.ylabel('Number of visual words')\n",
        "plt.xlabel('Clusters')\n",
        "\n",
        "# Using the trained model get predictions \n",
        "preds256 = clf256.predict(vwr_img256_test)\n",
        "\n",
        "# Evaluate the model with accuracy and confusion\n",
        "print('\\n\\n#----------Accuracy on test data: {} \\n\\n\\n'.format(accuracy_score(y_test, preds256)))\n",
        "\n",
        "plot_confusion_matrix(confusion_matrix(y_test, preds256),categories,False,'YlGnBu', 'Confusion matrix of visual words classification (256)', fsizes={'font':15})\n",
        "plot_confusion_matrix(confusion_matrix(y_test, preds256),categories,True,'YlGnBu', 'Normalized confusion matrix of visual words classification (256)', fsizes={'font':15})"
      ],
      "metadata": {
        "id": "CiY8GERXOxbB",
        "colab": {
          "base_uri": "https://localhost:8080/",
          "height": 1000
        },
        "outputId": "2869a420-e31c-4cb3-8a73-980fd5adf43d"
      },
      "execution_count": 55,
      "outputs": [
        {
          "output_type": "stream",
          "name": "stderr",
          "text": [
            "/content/utils.py:28: VisibleDeprecationWarning: Creating an ndarray from ragged nested sequences (which is a list-or-tuple of lists-or-tuples-or ndarrays with different lengths or shapes) is deprecated. If you meant to do this, you must specify 'dtype=object' when creating the ndarray.\n",
            "  return np.array(keypoints), np.array(descriptors)\n"
          ]
        },
        {
          "output_type": "stream",
          "name": "stdout",
          "text": [
            "(56039, 256)\n",
            "Fitting 5 folds for each of 16 candidates, totalling 80 fits\n",
            "\n",
            "\n",
            "#----------Accuracy on test data: 0.32 \n",
            "\n",
            "\n",
            "\n"
          ]
        },
        {
          "output_type": "display_data",
          "data": {
            "text/plain": [
              "<Figure size 432x288 with 1 Axes>"
            ],
            "image/png": "[encoded data removed]"
          },
          "metadata": {
            "needs_background": "light"
          }
        },
        {
          "output_type": "display_data",
          "data": {
            "text/plain": [
              "<Figure size 432x288 with 1 Axes>"
            ],
            "image/png": "[encoded data removed]"
          },
          "metadata": {
            "needs_background": "light"
          }
        },
        {
          "output_type": "display_data",
          "data": {
            "text/plain": [
              "<Figure size 1008x1008 with 2 Axes>"
            ],
            "image/png": "[encoded data removed]"
          },
          "metadata": {
            "needs_background": "light"
          }
        },
        {
          "output_type": "display_data",
          "data": {
            "text/plain": [
              "<Figure size 1008x1008 with 2 Axes>"
            ],
            "image/png": "[encoded data removed]"
          },
          "metadata": {
            "needs_background": "light"
          }
        }
      ]
    },
    {
      "cell_type": "code",
      "source": [
        "pd.DataFrame(clf256.cv_results_)"
      ],
      "metadata": {
        "id": "L62ZAtGSvz4S",
        "outputId": "154a857b-0c4d-4bc2-dd2e-539a0074af19",
        "colab": {
          "base_uri": "https://localhost:8080/",
          "height": 1000
        }
      },
      "execution_count": 119,
      "outputs": [
        {
          "output_type": "execute_result",
          "data": {
            "text/plain": [
              "    mean_fit_time  std_fit_time  mean_score_time  std_score_time param_C  \\\n",
              "0        0.011637      0.002247         0.004229        0.000223     0.5   \n",
              "1        0.012548      0.003271         0.008600        0.007732     0.5   \n",
              "2        0.021616      0.009987         0.007489        0.006487     0.5   \n",
              "3        0.022113      0.012065         0.005761        0.003754     0.5   \n",
              "4        0.029732      0.009007         0.005693        0.002495       1   \n",
              "5        0.023219      0.008798         0.009212        0.004560       1   \n",
              "6        0.020554      0.003094         0.008522        0.004818       1   \n",
              "7        0.019142      0.010503         0.007670        0.003250       1   \n",
              "8        0.023315      0.013264         0.006365        0.003865       5   \n",
              "9        0.023685      0.013830         0.006629        0.003887       5   \n",
              "10       0.029044      0.008409         0.011471        0.007068       5   \n",
              "11       0.014865      0.007495         0.007306        0.004088       5   \n",
              "12       0.028885      0.007659         0.005696        0.002714      10   \n",
              "13       0.016117      0.005023         0.004251        0.000292      10   \n",
              "14       0.010600      0.001114         0.004218        0.000270      10   \n",
              "15       0.009356      0.000806         0.003642        0.000684      10   \n",
              "\n",
              "   param_gamma                        params  split0_test_score  \\\n",
              "0        scale  {'C': 0.5, 'gamma': 'scale'}           0.386364   \n",
              "1         auto   {'C': 0.5, 'gamma': 'auto'}           0.386364   \n",
              "2        0.005    {'C': 0.5, 'gamma': 0.005}           0.386364   \n",
              "3          0.5      {'C': 0.5, 'gamma': 0.5}           0.386364   \n",
              "4        scale    {'C': 1, 'gamma': 'scale'}           0.431818   \n",
              "5         auto     {'C': 1, 'gamma': 'auto'}           0.386364   \n",
              "6        0.005      {'C': 1, 'gamma': 0.005}           0.386364   \n",
              "7          0.5        {'C': 1, 'gamma': 0.5}           0.386364   \n",
              "8        scale    {'C': 5, 'gamma': 'scale'}           0.477273   \n",
              "9         auto     {'C': 5, 'gamma': 'auto'}           0.386364   \n",
              "10       0.005      {'C': 5, 'gamma': 0.005}           0.386364   \n",
              "11         0.5        {'C': 5, 'gamma': 0.5}           0.386364   \n",
              "12       scale   {'C': 10, 'gamma': 'scale'}           0.477273   \n",
              "13        auto    {'C': 10, 'gamma': 'auto'}           0.386364   \n",
              "14       0.005     {'C': 10, 'gamma': 0.005}           0.386364   \n",
              "15         0.5       {'C': 10, 'gamma': 0.5}           0.386364   \n",
              "\n",
              "    split1_test_score  split2_test_score  split3_test_score  \\\n",
              "0            0.363636           0.363636           0.372093   \n",
              "1            0.363636           0.363636           0.372093   \n",
              "2            0.363636           0.363636           0.372093   \n",
              "3            0.363636           0.363636           0.372093   \n",
              "4            0.340909           0.477273           0.441860   \n",
              "5            0.363636           0.363636           0.372093   \n",
              "6            0.363636           0.363636           0.372093   \n",
              "7            0.363636           0.363636           0.372093   \n",
              "8            0.363636           0.500000           0.488372   \n",
              "9            0.363636           0.363636           0.372093   \n",
              "10           0.363636           0.363636           0.372093   \n",
              "11           0.363636           0.363636           0.372093   \n",
              "12           0.363636           0.500000           0.488372   \n",
              "13           0.363636           0.363636           0.372093   \n",
              "14           0.363636           0.363636           0.372093   \n",
              "15           0.363636           0.363636           0.372093   \n",
              "\n",
              "    split4_test_score  mean_test_score  std_test_score  rank_test_score  \n",
              "0            0.372093         0.371564        0.008310                4  \n",
              "1            0.372093         0.371564        0.008310                4  \n",
              "2            0.372093         0.371564        0.008310                4  \n",
              "3            0.372093         0.371564        0.008310                4  \n",
              "4            0.465116         0.431395        0.048040                3  \n",
              "5            0.372093         0.371564        0.008310                4  \n",
              "6            0.372093         0.371564        0.008310                4  \n",
              "7            0.372093         0.371564        0.008310                4  \n",
              "8            0.395349         0.444926        0.054832                1  \n",
              "9            0.372093         0.371564        0.008310                4  \n",
              "10           0.372093         0.371564        0.008310                4  \n",
              "11           0.372093         0.371564        0.008310                4  \n",
              "12           0.395349         0.444926        0.054832                1  \n",
              "13           0.372093         0.371564        0.008310                4  \n",
              "14           0.372093         0.371564        0.008310                4  \n",
              "15           0.372093         0.371564        0.008310                4  "
            ],
            "text/html": [
              "\n",
              "  <div id=\"df-b171fe3f-9683-4c4b-8230-ca86079bc69d\">\n",
              "    <div class=\"colab-df-container\">\n",
              "      <div>\n",
              "<style scoped>\n",
              "    .dataframe tbody tr th:only-of-type {\n",
              "        vertical-align: middle;\n",
              "    }\n",
              "\n",
              "    .dataframe tbody tr th {\n",
              "        vertical-align: top;\n",
              "    }\n",
              "\n",
              "    .dataframe thead th {\n",
              "        text-align: right;\n",
              "    }\n",
              "</style>\n",
              "<table border=\"1\" class=\"dataframe\">\n",
              "  <thead>\n",
              "    <tr style=\"text-align: right;\">\n",
              "      <th></th>\n",
              "      <th>mean_fit_time</th>\n",
              "      <th>std_fit_time</th>\n",
              "      <th>mean_score_time</th>\n",
              "      <th>std_score_time</th>\n",
              "      <th>param_C</th>\n",
              "      <th>param_gamma</th>\n",
              "      <th>params</th>\n",
              "      <th>split0_test_score</th>\n",
              "      <th>split1_test_score</th>\n",
              "      <th>split2_test_score</th>\n",
              "      <th>split3_test_score</th>\n",
              "      <th>split4_test_score</th>\n",
              "      <th>mean_test_score</th>\n",
              "      <th>std_test_score</th>\n",
              "      <th>rank_test_score</th>\n",
              "    </tr>\n",
              "  </thead>\n",
              "  <tbody>\n",
              "    <tr>\n",
              "      <th>0</th>\n",
              "      <td>0.011637</td>\n",
              "      <td>0.002247</td>\n",
              "      <td>0.004229</td>\n",
              "      <td>0.000223</td>\n",
              "      <td>0.5</td>\n",
              "      <td>scale</td>\n",
              "      <td>{'C': 0.5, 'gamma': 'scale'}</td>\n",
              "      <td>0.386364</td>\n",
              "      <td>0.363636</td>\n",
              "      <td>0.363636</td>\n",
              "      <td>0.372093</td>\n",
              "      <td>0.372093</td>\n",
              "      <td>0.371564</td>\n",
              "      <td>0.008310</td>\n",
              "      <td>4</td>\n",
              "    </tr>\n",
              "    <tr>\n",
              "      <th>1</th>\n",
              "      <td>0.012548</td>\n",
              "      <td>0.003271</td>\n",
              "      <td>0.008600</td>\n",
              "      <td>0.007732</td>\n",
              "      <td>0.5</td>\n",
              "      <td>auto</td>\n",
              "      <td>{'C': 0.5, 'gamma': 'auto'}</td>\n",
              "      <td>0.386364</td>\n",
              "      <td>0.363636</td>\n",
              "      <td>0.363636</td>\n",
              "      <td>0.372093</td>\n",
              "      <td>0.372093</td>\n",
              "      <td>0.371564</td>\n",
              "      <td>0.008310</td>\n",
              "      <td>4</td>\n",
              "    </tr>\n",
              "    <tr>\n",
              "      <th>2</th>\n",
              "      <td>0.021616</td>\n",
              "      <td>0.009987</td>\n",
              "      <td>0.007489</td>\n",
              "      <td>0.006487</td>\n",
              "      <td>0.5</td>\n",
              "      <td>0.005</td>\n",
              "      <td>{'C': 0.5, 'gamma': 0.005}</td>\n",
              "      <td>0.386364</td>\n",
              "      <td>0.363636</td>\n",
              "      <td>0.363636</td>\n",
              "      <td>0.372093</td>\n",
              "      <td>0.372093</td>\n",
              "      <td>0.371564</td>\n",
              "      <td>0.008310</td>\n",
              "      <td>4</td>\n",
              "    </tr>\n",
              "    <tr>\n",
              "      <th>3</th>\n",
              "      <td>0.022113</td>\n",
              "      <td>0.012065</td>\n",
              "      <td>0.005761</td>\n",
              "      <td>0.003754</td>\n",
              "      <td>0.5</td>\n",
              "      <td>0.5</td>\n",
              "      <td>{'C': 0.5, 'gamma': 0.5}</td>\n",
              "      <td>0.386364</td>\n",
              "      <td>0.363636</td>\n",
              "      <td>0.363636</td>\n",
              "      <td>0.372093</td>\n",
              "      <td>0.372093</td>\n",
              "      <td>0.371564</td>\n",
              "      <td>0.008310</td>\n",
              "      <td>4</td>\n",
              "    </tr>\n",
              "    <tr>\n",
              "      <th>4</th>\n",
              "      <td>0.029732</td>\n",
              "      <td>0.009007</td>\n",
              "      <td>0.005693</td>\n",
              "      <td>0.002495</td>\n",
              "      <td>1</td>\n",
              "      <td>scale</td>\n",
              "      <td>{'C': 1, 'gamma': 'scale'}</td>\n",
              "      <td>0.431818</td>\n",
              "      <td>0.340909</td>\n",
              "      <td>0.477273</td>\n",
              "      <td>0.441860</td>\n",
              "      <td>0.465116</td>\n",
              "      <td>0.431395</td>\n",
              "      <td>0.048040</td>\n",
              "      <td>3</td>\n",
              "    </tr>\n",
              "    <tr>\n",
              "      <th>5</th>\n",
              "      <td>0.023219</td>\n",
              "      <td>0.008798</td>\n",
              "      <td>0.009212</td>\n",
              "      <td>0.004560</td>\n",
              "      <td>1</td>\n",
              "      <td>auto</td>\n",
              "      <td>{'C': 1, 'gamma': 'auto'}</td>\n",
              "      <td>0.386364</td>\n",
              "      <td>0.363636</td>\n",
              "      <td>0.363636</td>\n",
              "      <td>0.372093</td>\n",
              "      <td>0.372093</td>\n",
              "      <td>0.371564</td>\n",
              "      <td>0.008310</td>\n",
              "      <td>4</td>\n",
              "    </tr>\n",
              "    <tr>\n",
              "      <th>6</th>\n",
              "      <td>0.020554</td>\n",
              "      <td>0.003094</td>\n",
              "      <td>0.008522</td>\n",
              "      <td>0.004818</td>\n",
              "      <td>1</td>\n",
              "      <td>0.005</td>\n",
              "      <td>{'C': 1, 'gamma': 0.005}</td>\n",
              "      <td>0.386364</td>\n",
              "      <td>0.363636</td>\n",
              "      <td>0.363636</td>\n",
              "      <td>0.372093</td>\n",
              "      <td>0.372093</td>\n",
              "      <td>0.371564</td>\n",
              "      <td>0.008310</td>\n",
              "      <td>4</td>\n",
              "    </tr>\n",
              "    <tr>\n",
              "      <th>7</th>\n",
              "      <td>0.019142</td>\n",
              "      <td>0.010503</td>\n",
              "      <td>0.007670</td>\n",
              "      <td>0.003250</td>\n",
              "      <td>1</td>\n",
              "      <td>0.5</td>\n",
              "      <td>{'C': 1, 'gamma': 0.5}</td>\n",
              "      <td>0.386364</td>\n",
              "      <td>0.363636</td>\n",
              "      <td>0.363636</td>\n",
              "      <td>0.372093</td>\n",
              "      <td>0.372093</td>\n",
              "      <td>0.371564</td>\n",
              "      <td>0.008310</td>\n",
              "      <td>4</td>\n",
              "    </tr>\n",
              "    <tr>\n",
              "      <th>8</th>\n",
              "      <td>0.023315</td>\n",
              "      <td>0.013264</td>\n",
              "      <td>0.006365</td>\n",
              "      <td>0.003865</td>\n",
              "      <td>5</td>\n",
              "      <td>scale</td>\n",
              "      <td>{'C': 5, 'gamma': 'scale'}</td>\n",
              "      <td>0.477273</td>\n",
              "      <td>0.363636</td>\n",
              "      <td>0.500000</td>\n",
              "      <td>0.488372</td>\n",
              "      <td>0.395349</td>\n",
              "      <td>0.444926</td>\n",
              "      <td>0.054832</td>\n",
              "      <td>1</td>\n",
              "    </tr>\n",
              "    <tr>\n",
              "      <th>9</th>\n",
              "      <td>0.023685</td>\n",
              "      <td>0.013830</td>\n",
              "      <td>0.006629</td>\n",
              "      <td>0.003887</td>\n",
              "      <td>5</td>\n",
              "      <td>auto</td>\n",
              "      <td>{'C': 5, 'gamma': 'auto'}</td>\n",
              "      <td>0.386364</td>\n",
              "      <td>0.363636</td>\n",
              "      <td>0.363636</td>\n",
              "      <td>0.372093</td>\n",
              "      <td>0.372093</td>\n",
              "      <td>0.371564</td>\n",
              "      <td>0.008310</td>\n",
              "      <td>4</td>\n",
              "    </tr>\n",
              "    <tr>\n",
              "      <th>10</th>\n",
              "      <td>0.029044</td>\n",
              "      <td>0.008409</td>\n",
              "      <td>0.011471</td>\n",
              "      <td>0.007068</td>\n",
              "      <td>5</td>\n",
              "      <td>0.005</td>\n",
              "      <td>{'C': 5, 'gamma': 0.005}</td>\n",
              "      <td>0.386364</td>\n",
              "      <td>0.363636</td>\n",
              "      <td>0.363636</td>\n",
              "      <td>0.372093</td>\n",
              "      <td>0.372093</td>\n",
              "      <td>0.371564</td>\n",
              "      <td>0.008310</td>\n",
              "      <td>4</td>\n",
              "    </tr>\n",
              "    <tr>\n",
              "      <th>11</th>\n",
              "      <td>0.014865</td>\n",
              "      <td>0.007495</td>\n",
              "      <td>0.007306</td>\n",
              "      <td>0.004088</td>\n",
              "      <td>5</td>\n",
              "      <td>0.5</td>\n",
              "      <td>{'C': 5, 'gamma': 0.5}</td>\n",
              "      <td>0.386364</td>\n",
              "      <td>0.363636</td>\n",
              "      <td>0.363636</td>\n",
              "      <td>0.372093</td>\n",
              "      <td>0.372093</td>\n",
              "      <td>0.371564</td>\n",
              "      <td>0.008310</td>\n",
              "      <td>4</td>\n",
              "    </tr>\n",
              "    <tr>\n",
              "      <th>12</th>\n",
              "      <td>0.028885</td>\n",
              "      <td>0.007659</td>\n",
              "      <td>0.005696</td>\n",
              "      <td>0.002714</td>\n",
              "      <td>10</td>\n",
              "      <td>scale</td>\n",
              "      <td>{'C': 10, 'gamma': 'scale'}</td>\n",
              "      <td>0.477273</td>\n",
              "      <td>0.363636</td>\n",
              "      <td>0.500000</td>\n",
              "      <td>0.488372</td>\n",
              "      <td>0.395349</td>\n",
              "      <td>0.444926</td>\n",
              "      <td>0.054832</td>\n",
              "      <td>1</td>\n",
              "    </tr>\n",
              "    <tr>\n",
              "      <th>13</th>\n",
              "      <td>0.016117</td>\n",
              "      <td>0.005023</td>\n",
              "      <td>0.004251</td>\n",
              "      <td>0.000292</td>\n",
              "      <td>10</td>\n",
              "      <td>auto</td>\n",
              "      <td>{'C': 10, 'gamma': 'auto'}</td>\n",
              "      <td>0.386364</td>\n",
              "      <td>0.363636</td>\n",
              "      <td>0.363636</td>\n",
              "      <td>0.372093</td>\n",
              "      <td>0.372093</td>\n",
              "      <td>0.371564</td>\n",
              "      <td>0.008310</td>\n",
              "      <td>4</td>\n",
              "    </tr>\n",
              "    <tr>\n",
              "      <th>14</th>\n",
              "      <td>0.010600</td>\n",
              "      <td>0.001114</td>\n",
              "      <td>0.004218</td>\n",
              "      <td>0.000270</td>\n",
              "      <td>10</td>\n",
              "      <td>0.005</td>\n",
              "      <td>{'C': 10, 'gamma': 0.005}</td>\n",
              "      <td>0.386364</td>\n",
              "      <td>0.363636</td>\n",
              "      <td>0.363636</td>\n",
              "      <td>0.372093</td>\n",
              "      <td>0.372093</td>\n",
              "      <td>0.371564</td>\n",
              "      <td>0.008310</td>\n",
              "      <td>4</td>\n",
              "    </tr>\n",
              "    <tr>\n",
              "      <th>15</th>\n",
              "      <td>0.009356</td>\n",
              "      <td>0.000806</td>\n",
              "      <td>0.003642</td>\n",
              "      <td>0.000684</td>\n",
              "      <td>10</td>\n",
              "      <td>0.5</td>\n",
              "      <td>{'C': 10, 'gamma': 0.5}</td>\n",
              "      <td>0.386364</td>\n",
              "      <td>0.363636</td>\n",
              "      <td>0.363636</td>\n",
              "      <td>0.372093</td>\n",
              "      <td>0.372093</td>\n",
              "      <td>0.371564</td>\n",
              "      <td>0.008310</td>\n",
              "      <td>4</td>\n",
              "    </tr>\n",
              "  </tbody>\n",
              "</table>\n",
              "</div>\n",
              "      <button class=\"colab-df-convert\" onclick=\"convertToInteractive('df-b171fe3f-9683-4c4b-8230-ca86079bc69d')\"\n",
              "              title=\"Convert this dataframe to an interactive table.\"\n",
              "              style=\"display:none;\">\n",
              "        \n",
              "  <svg xmlns=\"http://www.w3.org/2000/svg\" height=\"24px\"viewBox=\"0 0 24 24\"\n",
              "       width=\"24px\">\n",
              "    <path d=\"M0 0h24v24H0V0z\" fill=\"none\"/>\n",
              "    <path d=\"M18.56 5.44l.94 2.06.94-2.06 2.06-.94-2.06-.94-.94-2.06-.94 2.06-2.06.94zm-11 1L8.5 8.5l.94-2.06 2.06-.94-2.06-.94L8.5 2.5l-.94 2.06-2.06.94zm10 10l.94 2.06.94-2.06 2.06-.94-2.06-.94-.94-2.06-.94 2.06-2.06.94z\"/><path d=\"M17.41 7.96l-1.37-1.37c-.4-.4-.92-.59-1.43-.59-.52 0-1.04.2-1.43.59L10.3 9.45l-7.72 7.72c-.78.78-.78 2.05 0 2.83L4 21.41c.39.39.9.59 1.41.59.51 0 1.02-.2 1.41-.59l7.78-7.78 2.81-2.81c.8-.78.8-2.07 0-2.86zM5.41 20L4 18.59l7.72-7.72 1.47 1.35L5.41 20z\"/>\n",
              "  </svg>\n",
              "      </button>\n",
              "      \n",
              "  <style>\n",
              "    .colab-df-container {\n",
              "      display:flex;\n",
              "      flex-wrap:wrap;\n",
              "      gap: 12px;\n",
              "    }\n",
              "\n",
              "    .colab-df-convert {\n",
              "      background-color: #E8F0FE;\n",
              "      border: none;\n",
              "      border-radius: 50%;\n",
              "      cursor: pointer;\n",
              "      display: none;\n",
              "      fill: #1967D2;\n",
              "      height: 32px;\n",
              "      padding: 0 0 0 0;\n",
              "      width: 32px;\n",
              "    }\n",
              "\n",
              "    .colab-df-convert:hover {\n",
              "      background-color: #E2EBFA;\n",
              "      box-shadow: 0px 1px 2px rgba(60, 64, 67, 0.3), 0px 1px 3px 1px rgba(60, 64, 67, 0.15);\n",
              "      fill: #174EA6;\n",
              "    }\n",
              "\n",
              "    [theme=dark] .colab-df-convert {\n",
              "      background-color: #3B4455;\n",
              "      fill: #D2E3FC;\n",
              "    }\n",
              "\n",
              "    [theme=dark] .colab-df-convert:hover {\n",
              "      background-color: #434B5C;\n",
              "      box-shadow: 0px 1px 3px 1px rgba(0, 0, 0, 0.15);\n",
              "      filter: drop-shadow(0px 1px 2px rgba(0, 0, 0, 0.3));\n",
              "      fill: #FFFFFF;\n",
              "    }\n",
              "  </style>\n",
              "\n",
              "      <script>\n",
              "        const buttonEl =\n",
              "          document.querySelector('#df-b171fe3f-9683-4c4b-8230-ca86079bc69d button.colab-df-convert');\n",
              "        buttonEl.style.display =\n",
              "          google.colab.kernel.accessAllowed ? 'block' : 'none';\n",
              "\n",
              "        async function convertToInteractive(key) {\n",
              "          const element = document.querySelector('#df-b171fe3f-9683-4c4b-8230-ca86079bc69d');\n",
              "          const dataTable =\n",
              "            await google.colab.kernel.invokeFunction('convertToInteractive',\n",
              "                                                     [key], {});\n",
              "          if (!dataTable) return;\n",
              "\n",
              "          const docLinkHtml = 'Like what you see? Visit the ' +\n",
              "            '<a target=\"_blank\" href=https://colab.research.google.com/notebooks/data_table.ipynb>data table notebook</a>'\n",
              "            + ' to learn more about interactive tables.';\n",
              "          element.innerHTML = '';\n",
              "          dataTable['output_type'] = 'display_data';\n",
              "          await google.colab.output.renderOutput(dataTable, element);\n",
              "          const docLink = document.createElement('div');\n",
              "          docLink.innerHTML = docLinkHtml;\n",
              "          element.appendChild(docLink);\n",
              "        }\n",
              "      </script>\n",
              "    </div>\n",
              "  </div>\n",
              "  "
            ]
          },
          "metadata": {},
          "execution_count": 119
        }
      ]
    },
    {
      "cell_type": "markdown",
      "source": [
        "*   What is the difference in classifier performance between using 64 keypoints and 256 keypoints?"
      ],
      "metadata": {
        "id": "Ucf5mIeHOzBf"
      }
    },
    {
      "cell_type": "markdown",
      "metadata": {
        "id": "AJt7kpHcO5nV"
      },
      "source": [
        "**Solution**\n",
        "\n",
        "*The accuracy does not improve when using 256 keypoints, with an accuracy score of about 35%, as opposed to the accuracy score when using 64 keypoints, which was about 45%. The accuracy value will vary based on the values set for the k-means random_state and the data split random seed. In addition, using 256 keypoints is also more computationally expensive. According to the sklearn documentation, the fit time scales quadratically with the number of samples, so when there are too many samples to fit, the computational time increases.*\n",
        "\n",
        "..."
      ]
    },
    {
      "cell_type": "markdown",
      "metadata": {
        "id": "ll0j8G-oIaHd"
      },
      "source": [
        "*   Will further adding more keypoints increase the performance of the algorithm?"
      ]
    },
    {
      "cell_type": "markdown",
      "metadata": {
        "id": "ka3z1sJVInS5"
      },
      "source": [
        "**Solution**\n",
        "\n",
        "*When using this dataset, adding more keypoints is not feasible, since the number of keypoints cannot exceed the number of pixels in one dimension of the image. This can be seen with one image in this dataset, which had a dimension of (232 x 300) so the maximum number of descriptors that could have been used would be 231. Therefore, in this case, increasing the number of keypoints would not increase the performance of the algorithm. However, even if we add images to our dataset that have a dimension larger than 256, we would not see any significant improvement in accuracy, but would still see the increase in computational cost. To counter this increase in computational cost, it may be possible to use another classification algorithm, such as LinearSVC or SGDClassifier. Although increasing the number of keypoints will not improve accuracy, increasing the number of images in the dataset would help improve this measure.*\n",
        "\n",
        "..."
      ]
    },
    {
      "cell_type": "markdown",
      "metadata": {
        "id": "NnN_t5Me7N5O"
      },
      "source": [
        "\n",
        "---\n",
        "\n",
        "## **End of P3_2: Image Classification using Bag of Visual Words**\n",
        "Deadline for P3_2 submission in CampusVirtual is: **Thursday, the 17th of November, 2022**"
      ]
    }
  ]
}