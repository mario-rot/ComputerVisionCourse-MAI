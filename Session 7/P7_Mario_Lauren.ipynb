{
  "nbformat": 4,
  "nbformat_minor": 0,
  "metadata": {
    "colab": {
      "provenance": [],
      "collapsed_sections": [],
      "include_colab_link": true
    },
    "kernelspec": {
      "display_name": "Python 3",
      "name": "python3"
    }
  },
  "cells": [
    {
      "cell_type": "markdown",
      "metadata": {
        "id": "view-in-github",
        "colab_type": "text"
      },
      "source": [
        "<a href=\"https://colab.research.google.com/github/mario-rot/ComputerVisionCourse-MAI/blob/main/Session%207/P7_Mario_Lauren.ipynb\" target=\"_parent\"><img src=\"https://colab.research.google.com/assets/colab-badge.svg\" alt=\"Open In Colab\"/></a>"
      ]
    },
    {
      "cell_type": "markdown",
      "metadata": {
        "id": "Sk0eYw8ojrFq"
      },
      "source": [
        "# Laboratory #3_2 : Image Classification using Bag of Visual Words\n",
        "\n",
        "At the end of this laboratory, you would get familiarized with\n",
        "\n",
        "*   Creating Bag of Visual Words\n",
        "    *   Feature Extraction\n",
        "    *   Codebook construction\n",
        "    *   Classification\n",
        "\n",
        "**Remember this is a graded exercise.**\n",
        "\n",
        "*   For every plot, make sure you provide appropriate titles, axis labels, legends, wherever applicable.\n",
        "*   Create reusable functions where ever possible, so that the code could be reused at different places.\n",
        "*   Mount your drive to access the images.\n",
        "*   Add sufficient comments and explanations wherever necessary.\n",
        "\n",
        "---"
      ]
    },
    {
      "cell_type": "code",
      "source": [
        "%load_ext autoreload\n",
        "%autoreload 2"
      ],
      "metadata": {
        "id": "AIX_61vv777d"
      },
      "execution_count": 1,
      "outputs": []
    },
    {
      "cell_type": "code",
      "metadata": {
        "id": "sYHw1lSBldl-",
        "colab": {
          "base_uri": "https://localhost:8080/"
        },
        "outputId": "4df4b573-9c96-48d6-a0fe-9b9bce967fd0"
      },
      "source": [
        "%%shell\n",
        "git clone https://github.com/mario-rot/ComputerVisionCourse-MAI.git\n",
        "cd 'ComputerVisionCourse-MAI'\n",
        "mv 'Session 7/Caltech_101_subset' /content/\n",
        "mv 'customplots.py' /content/\n",
        "mv 'utils.py' /content/"
      ],
      "execution_count": 2,
      "outputs": [
        {
          "output_type": "stream",
          "name": "stdout",
          "text": [
            "Cloning into 'ComputerVisionCourse-MAI'...\n",
            "remote: Enumerating objects: 12147, done.\u001b[K\n",
            "remote: Counting objects: 100% (568/568), done.\u001b[K\n",
            "remote: Compressing objects: 100% (441/441), done.\u001b[K\n",
            "remote: Total 12147 (delta 122), reused 561 (delta 119), pack-reused 11579\u001b[K\n",
            "Receiving objects: 100% (12147/12147), 78.54 MiB | 19.71 MiB/s, done.\n",
            "Resolving deltas: 100% (125/125), done.\n"
          ]
        },
        {
          "output_type": "execute_result",
          "data": {
            "text/plain": []
          },
          "metadata": {},
          "execution_count": 2
        }
      ]
    },
    {
      "cell_type": "code",
      "metadata": {
        "id": "aD5-E8PuaQ5P"
      },
      "source": [
        "# Loading necessary libraries (Feel free to add new libraries if you need for any computation)\n",
        "\n",
        "import os\n",
        "import numpy as np\n",
        "\n",
        "from skimage.feature import ORB\n",
        "from skimage import feature\n",
        "from skimage.color import rgb2gray\n",
        "from skimage.io import imread, imread_collection\n",
        "from scipy.cluster.vq import vq\n",
        "from sklearn.model_selection import train_test_split\n",
        "from utils import get_multi_ORB\n",
        "from sklearn.cluster import MiniBatchKMeans\n",
        "import collections\n",
        "\n",
        "from matplotlib import pyplot as plt"
      ],
      "execution_count": 116,
      "outputs": []
    },
    {
      "cell_type": "markdown",
      "metadata": {
        "id": "ampx9DIJiuGN"
      },
      "source": [
        "## Loading dataset\n",
        "\n",
        "We will use 3 categories from Caltech 101 objects dataset for this experiment. Upload the dataset to the drive and mount it."
      ]
    },
    {
      "cell_type": "code",
      "metadata": {
        "id": "PRSJP1XbG6-a"
      },
      "source": [
        "# modify the dataset variable with the path from your drive\n",
        "\n",
        "dataset_path = r'/content/Caltech_101_subset/'"
      ],
      "execution_count": 5,
      "outputs": []
    },
    {
      "cell_type": "code",
      "metadata": {
        "id": "fNoe7u755X6Q"
      },
      "source": [
        "categories = ['butterfly', 'kangaroo', 'dalmatian']\n",
        "ncl = len(categories) * 10"
      ],
      "execution_count": 6,
      "outputs": []
    },
    {
      "cell_type": "markdown",
      "metadata": {
        "id": "gxY0mDoK5EQj"
      },
      "source": [
        "*   Create a list of file and the corresponding labels"
      ]
    },
    {
      "cell_type": "code",
      "source": [
        "data = [(cat, i) for cat in categories for i in imread_collection(dataset_path+ cat +'/*')]"
      ],
      "metadata": {
        "id": "klut3nIf1EIH"
      },
      "execution_count": 7,
      "outputs": []
    },
    {
      "cell_type": "code",
      "metadata": {
        "id": "3x42veHz5LDt",
        "colab": {
          "base_uri": "https://localhost:8080/"
        },
        "outputId": "96d21bb0-0f45-464f-cd03-6c2183f2f4c7"
      },
      "source": [
        "print('Total number of images:', len(data))"
      ],
      "execution_count": 8,
      "outputs": [
        {
          "output_type": "stream",
          "name": "stdout",
          "text": [
            "Total number of images: 244\n"
          ]
        }
      ]
    },
    {
      "cell_type": "markdown",
      "metadata": {
        "id": "XgVhdjYz5Zhs"
      },
      "source": [
        "*   Create a train / test split where the test is 10% of the total data"
      ]
    },
    {
      "cell_type": "code",
      "metadata": {
        "id": "QzYnjzXBZXXt"
      },
      "source": [
        "# solution\n",
        "X = [i for cat in categories for i in imread_collection(dataset_path+ cat +'/*')]\n",
        "y = [cat for cat in categories for i in imread_collection(dataset_path+ cat +'/*')]\n",
        "x_train,x_test,y_train,y_test = train_test_split(X,y, test_size=0.1, random_state=25) #, stratify=y)\n",
        "# X_train,X_test,Y_train,Y_test = iterative_train_test_split(np.array(X),np.array(y)[:,np.newaxis], test_size=0.1)\n",
        "\n"
      ],
      "execution_count": 9,
      "outputs": []
    },
    {
      "cell_type": "code",
      "metadata": {
        "id": "gd057lAc5jze",
        "colab": {
          "base_uri": "https://localhost:8080/"
        },
        "outputId": "66e75277-782a-4d4a-b83d-053a3035263a"
      },
      "source": [
        "print('Train set:', len(x_train))\n",
        "print('Test set:', len(x_test))"
      ],
      "execution_count": 10,
      "outputs": [
        {
          "output_type": "stream",
          "name": "stdout",
          "text": [
            "Train set: 219\n",
            "Test set: 25\n"
          ]
        }
      ]
    },
    {
      "cell_type": "markdown",
      "metadata": {
        "id": "_Hl36Ej_5k6Y"
      },
      "source": [
        "*   How do you select the train/test split?"
      ]
    },
    {
      "cell_type": "markdown",
      "metadata": {
        "id": "-aOe27Kx5vtd"
      },
      "source": [
        "**Solution**\n",
        "\n",
        "*(Double-click or enter to edit)*\n",
        "\n",
        "..."
      ]
    },
    {
      "cell_type": "markdown",
      "metadata": {
        "id": "18OZf2kfkVNB"
      },
      "source": [
        "## Feature Extraction using ORB\n",
        "\n",
        "The first step is to extract descriptors for each image in our dataset. We will use ORB to extract descriptors.\n",
        "\n",
        "*   Create ORB detector with 64 keypoints.\n"
      ]
    },
    {
      "cell_type": "code",
      "source": [
        "descriptor_extractor = feature.ORB(n_keypoints=64)"
      ],
      "metadata": {
        "id": "V5UVcN7l9hyR"
      },
      "execution_count": 11,
      "outputs": []
    },
    {
      "cell_type": "markdown",
      "metadata": {
        "id": "3yinPkL8brow"
      },
      "source": [
        "*   Extract ORB descriptors from all the images in the train set.\n"
      ]
    },
    {
      "cell_type": "code",
      "metadata": {
        "id": "PCiXJeLFxGtP"
      },
      "source": [
        "# solution\n",
        "kps_train,dcs_train = get_multi_ORB(descriptor_extractor, x_train)"
      ],
      "execution_count": 12,
      "outputs": []
    },
    {
      "cell_type": "markdown",
      "metadata": {
        "id": "GJehFdyt583b"
      },
      "source": [
        "*   What is the size of the feature descriptors? What does each dimension represent in the feature descriptors?"
      ]
    },
    {
      "cell_type": "code",
      "metadata": {
        "id": "bzTspvF96LeC",
        "colab": {
          "base_uri": "https://localhost:8080/"
        },
        "outputId": "f408444b-0cea-47dd-9614-b4656ffb2b0f"
      },
      "source": [
        "# solution\n",
        "print('The size of each feature descriptors matrix per image is {}, where {} represents the number \\n of keypoints identified and {} is a vector with values either being True or False representing\\n the outcome of the intensity comparison for each keypoint on a decision pixel-pair.'.format(dcs_train[1].shape, dcs_train[1].shape[0], dcs_train[1].shape[1]))\n"
      ],
      "execution_count": 13,
      "outputs": [
        {
          "output_type": "stream",
          "name": "stdout",
          "text": [
            "The size of each feature descriptors matrix per image is (64, 256), where 64 represents the number \n",
            " of keypoints identified and 256 is a vector with values either being True or False representing\n",
            " the outcome of the intensity comparison for each keypoint on a decision pixel-pair.\n"
          ]
        }
      ]
    },
    {
      "cell_type": "markdown",
      "metadata": {
        "id": "MNFOjsRj6PGk"
      },
      "source": [
        "**Solution**\n",
        "\n",
        "*(Double-click or enter to edit)*\n",
        "\n",
        "..."
      ]
    },
    {
      "cell_type": "markdown",
      "metadata": {
        "id": "420YQkAzleTQ"
      },
      "source": [
        "## Codebook Construction\n",
        "\n",
        "Codewords are nothing but vector representation of similar patches. This codeword produces a codebook similar to a word dictionary. We will create the codebook using K-Means algorithm\n",
        "\n",
        "*   Create a codebook using K-Means with k=number_of_classes*10\n",
        "*   Hint: Use sklearn.cluster.MiniBatchKMeans for K-Means"
      ]
    },
    {
      "cell_type": "code",
      "metadata": {
        "id": "iO0e4718ppJt",
        "colab": {
          "base_uri": "https://localhost:8080/"
        },
        "outputId": "2b65718d-fe3e-451a-c965-cdd2fdbb271a"
      },
      "source": [
        "# solution\n",
        "dcs_flatten = np.reshape(dcs_train, (len(dcs_train)*dcs_train.shape[1],dcs_train.shape[2]))\n",
        "print(dcs_flatten.shape)\n",
        "kmeans = MiniBatchKMeans(n_clusters=len(categories)*10).fit(dcs_flatten)\n"
      ],
      "execution_count": 81,
      "outputs": [
        {
          "output_type": "stream",
          "name": "stdout",
          "text": [
            "(14016, 256)\n"
          ]
        }
      ]
    },
    {
      "cell_type": "markdown",
      "metadata": {
        "id": "0GAD_JuNpqMt"
      },
      "source": [
        "*   Create a histogram using the cluster centers for each image descriptor.\n",
        "    *   Remember the histogram would be of size *n_images x n_clusters*."
      ]
    },
    {
      "cell_type": "code",
      "source": [
        "counts_ord = np.array([collections.Counter(kmeans.labels_)[i] for i in range(len(collections.Counter(kmeans.labels_)))])\n",
        "plt.bar(list(range(30)),counts_ord)\n",
        "plt.title('Frequency of Visual Words')\n",
        "plt.ylabel('Number of visual words')\n",
        "plt.xlabel('Clusters')"
      ],
      "metadata": {
        "colab": {
          "base_uri": "https://localhost:8080/",
          "height": 312
        },
        "id": "P9wP-hTqUJYW",
        "outputId": "e8af47e0-1ad5-463c-9d09-f74abf82868f"
      },
      "execution_count": 117,
      "outputs": [
        {
          "output_type": "execute_result",
          "data": {
            "text/plain": [
              "Text(0.5, 0, 'Clusters')"
            ]
          },
          "metadata": {},
          "execution_count": 117
        },
        {
          "output_type": "display_data",
          "data": {
            "text/plain": [
              "<Figure size 432x288 with 1 Axes>"
            ],
            "image/png": "[encoded data removed]"
          },
          "metadata": {
            "needs_background": "light"
          }
        }
      ]
    },
    {
      "cell_type": "code",
      "source": [
        "plt.bar(list(range(30)),ske.histogram(kmeans.labels_, 30)[0])\n",
        "plt.title('Frequency of Visual Words Training Data')\n",
        "plt.ylabel('Number of visual words')\n",
        "plt.xlabel('Clusters')"
      ],
      "metadata": {
        "colab": {
          "base_uri": "https://localhost:8080/",
          "height": 312
        },
        "id": "sNd3rPW8qiXs",
        "outputId": "5138fedd-d2ed-4acb-d222-9b2ea3db5208"
      },
      "execution_count": 119,
      "outputs": [
        {
          "output_type": "execute_result",
          "data": {
            "text/plain": [
              "Text(0.5, 0, 'Clusters')"
            ]
          },
          "metadata": {},
          "execution_count": 119
        },
        {
          "output_type": "display_data",
          "data": {
            "text/plain": [
              "<Figure size 432x288 with 1 Axes>"
            ],
            "image/png": "[encoded data removed]"
          },
          "metadata": {
            "needs_background": "light"
          }
        }
      ]
    },
    {
      "cell_type": "markdown",
      "metadata": {
        "id": "jmRO7dfLjgZa"
      },
      "source": [
        "\n",
        "# Creating Classification Model\n",
        "\n",
        "*   The next step is to create a classification model. We will use a C-Support Vector Classification for creating the model.\n",
        "\n"
      ]
    },
    {
      "cell_type": "code",
      "metadata": {
        "id": "K7VTBz1Oimtz"
      },
      "source": [
        "from sklearn.svm import SVC\n",
        "from sklearn.model_selection import GridSearchCV"
      ],
      "execution_count": 120,
      "outputs": []
    },
    {
      "cell_type": "markdown",
      "metadata": {
        "id": "lrit95Ud6pUU"
      },
      "source": [
        "*   Use GridSearchCV to find the optimal value of C and Gamma."
      ]
    },
    {
      "cell_type": "code",
      "metadata": {
        "id": "IjFFpykV-GOI",
        "colab": {
          "base_uri": "https://localhost:8080/"
        },
        "outputId": "93bf1c60-46b3-445e-be12-32284ec72f41"
      },
      "source": [
        "# solution\n",
        "svc = SVC()\n",
        "clf = GridSearchCV(svc,{'C':[0.5,1,5,8,10,15], 'gamma':['scale','auto']})\n",
        "clf.fit(dcs_flatten,kmeans.labels_)\n"
      ],
      "execution_count": 131,
      "outputs": [
        {
          "output_type": "execute_result",
          "data": {
            "text/plain": [
              "GridSearchCV(estimator=SVC(),\n",
              "             param_grid={'C': [0.5, 1, 5, 8, 10, 15],\n",
              "                         'gamma': ['scale', 'auto']})"
            ]
          },
          "metadata": {},
          "execution_count": 131
        }
      ]
    },
    {
      "cell_type": "code",
      "source": [
        "# solution\n",
        "svc = SVC()\n",
        "clf = GridSearchCV(svc,{'C':[0.5], 'gamma':[0.05,0.1,0.25,0.5,1.0]})\n",
        "clf.fit(dcs_flatten,kmeans.labels_)"
      ],
      "metadata": {
        "id": "s1p2fj4twGaG"
      },
      "execution_count": null,
      "outputs": []
    },
    {
      "cell_type": "code",
      "source": [
        "import pandas as pd\n",
        "pd.DataFrame(clf.cv_results_)"
      ],
      "metadata": {
        "id": "-F5S1hVdwSbz"
      },
      "execution_count": null,
      "outputs": []
    },
    {
      "cell_type": "code",
      "source": [
        "import pandas as pd\n",
        "pd.DataFrame(clf.cv_results_)"
      ],
      "metadata": {
        "colab": {
          "base_uri": "https://localhost:8080/",
          "height": 906
        },
        "id": "V6nONAVghywZ",
        "outputId": "506f8257-fe88-472a-8418-c91044e96b8f"
      },
      "execution_count": 132,
      "outputs": [
        {
          "output_type": "execute_result",
          "data": {
            "text/plain": [
              "    mean_fit_time  std_fit_time  mean_score_time  std_score_time param_C  \\\n",
              "0       12.421539      0.500014         8.320751        0.335116     0.5   \n",
              "1       10.170822      0.192544         8.144817        0.143075     0.5   \n",
              "2       11.106180      0.085688         8.265793        0.265134       1   \n",
              "3        8.081412      0.177837         7.840521        0.259681       1   \n",
              "4       11.230964      0.254698         7.865633        0.125779       5   \n",
              "5        6.312872      0.050853         7.554730        0.269025       5   \n",
              "6       11.401425      0.255435         7.844263        0.110400       8   \n",
              "7        6.410118      0.267059         7.349828        0.070058       8   \n",
              "8       11.529120      0.523737         7.852545        0.064007      10   \n",
              "9        6.491310      0.244303         7.552966        0.257010      10   \n",
              "10      11.358138      0.293999         7.873113        0.040966      15   \n",
              "11       6.306884      0.026209         7.430763        0.320070      15   \n",
              "\n",
              "   param_gamma                        params  split0_test_score  \\\n",
              "0        scale  {'C': 0.5, 'gamma': 'scale'}           0.845221   \n",
              "1         auto   {'C': 0.5, 'gamma': 'auto'}           0.851997   \n",
              "2        scale    {'C': 1, 'gamma': 'scale'}           0.844508   \n",
              "3         auto     {'C': 1, 'gamma': 'auto'}           0.839515   \n",
              "4        scale    {'C': 5, 'gamma': 'scale'}           0.840585   \n",
              "5         auto     {'C': 5, 'gamma': 'auto'}           0.814551   \n",
              "6        scale    {'C': 8, 'gamma': 'scale'}           0.840585   \n",
              "7         auto     {'C': 8, 'gamma': 'auto'}           0.812054   \n",
              "8        scale   {'C': 10, 'gamma': 'scale'}           0.840585   \n",
              "9         auto    {'C': 10, 'gamma': 'auto'}           0.812767   \n",
              "10       scale   {'C': 15, 'gamma': 'scale'}           0.840585   \n",
              "11        auto    {'C': 15, 'gamma': 'auto'}           0.814194   \n",
              "\n",
              "    split1_test_score  split2_test_score  split3_test_score  \\\n",
              "0            0.855155           0.840885           0.848733   \n",
              "1            0.854442           0.844809           0.848020   \n",
              "2            0.851231           0.836247           0.837317   \n",
              "3            0.849447           0.833393           0.831966   \n",
              "4            0.850161           0.842312           0.836247   \n",
              "5            0.814128           0.810917           0.801641   \n",
              "6            0.850161           0.842312           0.836247   \n",
              "7            0.809847           0.806279           0.799857   \n",
              "8            0.850161           0.842312           0.836247   \n",
              "9            0.812344           0.805922           0.799144   \n",
              "10           0.850161           0.842312           0.836247   \n",
              "11           0.811630           0.806279           0.800571   \n",
              "\n",
              "    split4_test_score  mean_test_score  std_test_score  rank_test_score  \n",
              "0            0.859080         0.849815        0.006578                2  \n",
              "1            0.861220         0.852098        0.005630                1  \n",
              "2            0.851588         0.844178        0.006553                7  \n",
              "3            0.848733         0.840611        0.007377                8  \n",
              "4            0.851944         0.844250        0.005922                3  \n",
              "5            0.815198         0.811287        0.005044                9  \n",
              "6            0.851944         0.844250        0.005922                3  \n",
              "7            0.813057         0.808219        0.004784               12  \n",
              "8            0.851944         0.844250        0.005922                3  \n",
              "9            0.811274         0.808290        0.005189               11  \n",
              "10           0.851944         0.844250        0.005922                3  \n",
              "11           0.811630         0.808861        0.004882               10  "
            ],
            "text/html": [
              "\n",
              "  <div id=\"df-7ad4c49d-790a-404e-a8c2-c6c19b9c6215\">\n",
              "    <div class=\"colab-df-container\">\n",
              "      <div>\n",
              "<style scoped>\n",
              "    .dataframe tbody tr th:only-of-type {\n",
              "        vertical-align: middle;\n",
              "    }\n",
              "\n",
              "    .dataframe tbody tr th {\n",
              "        vertical-align: top;\n",
              "    }\n",
              "\n",
              "    .dataframe thead th {\n",
              "        text-align: right;\n",
              "    }\n",
              "</style>\n",
              "<table border=\"1\" class=\"dataframe\">\n",
              "  <thead>\n",
              "    <tr style=\"text-align: right;\">\n",
              "      <th></th>\n",
              "      <th>mean_fit_time</th>\n",
              "      <th>std_fit_time</th>\n",
              "      <th>mean_score_time</th>\n",
              "      <th>std_score_time</th>\n",
              "      <th>param_C</th>\n",
              "      <th>param_gamma</th>\n",
              "      <th>params</th>\n",
              "      <th>split0_test_score</th>\n",
              "      <th>split1_test_score</th>\n",
              "      <th>split2_test_score</th>\n",
              "      <th>split3_test_score</th>\n",
              "      <th>split4_test_score</th>\n",
              "      <th>mean_test_score</th>\n",
              "      <th>std_test_score</th>\n",
              "      <th>rank_test_score</th>\n",
              "    </tr>\n",
              "  </thead>\n",
              "  <tbody>\n",
              "    <tr>\n",
              "      <th>0</th>\n",
              "      <td>12.421539</td>\n",
              "      <td>0.500014</td>\n",
              "      <td>8.320751</td>\n",
              "      <td>0.335116</td>\n",
              "      <td>0.5</td>\n",
              "      <td>scale</td>\n",
              "      <td>{'C': 0.5, 'gamma': 'scale'}</td>\n",
              "      <td>0.845221</td>\n",
              "      <td>0.855155</td>\n",
              "      <td>0.840885</td>\n",
              "      <td>0.848733</td>\n",
              "      <td>0.859080</td>\n",
              "      <td>0.849815</td>\n",
              "      <td>0.006578</td>\n",
              "      <td>2</td>\n",
              "    </tr>\n",
              "    <tr>\n",
              "      <th>1</th>\n",
              "      <td>10.170822</td>\n",
              "      <td>0.192544</td>\n",
              "      <td>8.144817</td>\n",
              "      <td>0.143075</td>\n",
              "      <td>0.5</td>\n",
              "      <td>auto</td>\n",
              "      <td>{'C': 0.5, 'gamma': 'auto'}</td>\n",
              "      <td>0.851997</td>\n",
              "      <td>0.854442</td>\n",
              "      <td>0.844809</td>\n",
              "      <td>0.848020</td>\n",
              "      <td>0.861220</td>\n",
              "      <td>0.852098</td>\n",
              "      <td>0.005630</td>\n",
              "      <td>1</td>\n",
              "    </tr>\n",
              "    <tr>\n",
              "      <th>2</th>\n",
              "      <td>11.106180</td>\n",
              "      <td>0.085688</td>\n",
              "      <td>8.265793</td>\n",
              "      <td>0.265134</td>\n",
              "      <td>1</td>\n",
              "      <td>scale</td>\n",
              "      <td>{'C': 1, 'gamma': 'scale'}</td>\n",
              "      <td>0.844508</td>\n",
              "      <td>0.851231</td>\n",
              "      <td>0.836247</td>\n",
              "      <td>0.837317</td>\n",
              "      <td>0.851588</td>\n",
              "      <td>0.844178</td>\n",
              "      <td>0.006553</td>\n",
              "      <td>7</td>\n",
              "    </tr>\n",
              "    <tr>\n",
              "      <th>3</th>\n",
              "      <td>8.081412</td>\n",
              "      <td>0.177837</td>\n",
              "      <td>7.840521</td>\n",
              "      <td>0.259681</td>\n",
              "      <td>1</td>\n",
              "      <td>auto</td>\n",
              "      <td>{'C': 1, 'gamma': 'auto'}</td>\n",
              "      <td>0.839515</td>\n",
              "      <td>0.849447</td>\n",
              "      <td>0.833393</td>\n",
              "      <td>0.831966</td>\n",
              "      <td>0.848733</td>\n",
              "      <td>0.840611</td>\n",
              "      <td>0.007377</td>\n",
              "      <td>8</td>\n",
              "    </tr>\n",
              "    <tr>\n",
              "      <th>4</th>\n",
              "      <td>11.230964</td>\n",
              "      <td>0.254698</td>\n",
              "      <td>7.865633</td>\n",
              "      <td>0.125779</td>\n",
              "      <td>5</td>\n",
              "      <td>scale</td>\n",
              "      <td>{'C': 5, 'gamma': 'scale'}</td>\n",
              "      <td>0.840585</td>\n",
              "      <td>0.850161</td>\n",
              "      <td>0.842312</td>\n",
              "      <td>0.836247</td>\n",
              "      <td>0.851944</td>\n",
              "      <td>0.844250</td>\n",
              "      <td>0.005922</td>\n",
              "      <td>3</td>\n",
              "    </tr>\n",
              "    <tr>\n",
              "      <th>5</th>\n",
              "      <td>6.312872</td>\n",
              "      <td>0.050853</td>\n",
              "      <td>7.554730</td>\n",
              "      <td>0.269025</td>\n",
              "      <td>5</td>\n",
              "      <td>auto</td>\n",
              "      <td>{'C': 5, 'gamma': 'auto'}</td>\n",
              "      <td>0.814551</td>\n",
              "      <td>0.814128</td>\n",
              "      <td>0.810917</td>\n",
              "      <td>0.801641</td>\n",
              "      <td>0.815198</td>\n",
              "      <td>0.811287</td>\n",
              "      <td>0.005044</td>\n",
              "      <td>9</td>\n",
              "    </tr>\n",
              "    <tr>\n",
              "      <th>6</th>\n",
              "      <td>11.401425</td>\n",
              "      <td>0.255435</td>\n",
              "      <td>7.844263</td>\n",
              "      <td>0.110400</td>\n",
              "      <td>8</td>\n",
              "      <td>scale</td>\n",
              "      <td>{'C': 8, 'gamma': 'scale'}</td>\n",
              "      <td>0.840585</td>\n",
              "      <td>0.850161</td>\n",
              "      <td>0.842312</td>\n",
              "      <td>0.836247</td>\n",
              "      <td>0.851944</td>\n",
              "      <td>0.844250</td>\n",
              "      <td>0.005922</td>\n",
              "      <td>3</td>\n",
              "    </tr>\n",
              "    <tr>\n",
              "      <th>7</th>\n",
              "      <td>6.410118</td>\n",
              "      <td>0.267059</td>\n",
              "      <td>7.349828</td>\n",
              "      <td>0.070058</td>\n",
              "      <td>8</td>\n",
              "      <td>auto</td>\n",
              "      <td>{'C': 8, 'gamma': 'auto'}</td>\n",
              "      <td>0.812054</td>\n",
              "      <td>0.809847</td>\n",
              "      <td>0.806279</td>\n",
              "      <td>0.799857</td>\n",
              "      <td>0.813057</td>\n",
              "      <td>0.808219</td>\n",
              "      <td>0.004784</td>\n",
              "      <td>12</td>\n",
              "    </tr>\n",
              "    <tr>\n",
              "      <th>8</th>\n",
              "      <td>11.529120</td>\n",
              "      <td>0.523737</td>\n",
              "      <td>7.852545</td>\n",
              "      <td>0.064007</td>\n",
              "      <td>10</td>\n",
              "      <td>scale</td>\n",
              "      <td>{'C': 10, 'gamma': 'scale'}</td>\n",
              "      <td>0.840585</td>\n",
              "      <td>0.850161</td>\n",
              "      <td>0.842312</td>\n",
              "      <td>0.836247</td>\n",
              "      <td>0.851944</td>\n",
              "      <td>0.844250</td>\n",
              "      <td>0.005922</td>\n",
              "      <td>3</td>\n",
              "    </tr>\n",
              "    <tr>\n",
              "      <th>9</th>\n",
              "      <td>6.491310</td>\n",
              "      <td>0.244303</td>\n",
              "      <td>7.552966</td>\n",
              "      <td>0.257010</td>\n",
              "      <td>10</td>\n",
              "      <td>auto</td>\n",
              "      <td>{'C': 10, 'gamma': 'auto'}</td>\n",
              "      <td>0.812767</td>\n",
              "      <td>0.812344</td>\n",
              "      <td>0.805922</td>\n",
              "      <td>0.799144</td>\n",
              "      <td>0.811274</td>\n",
              "      <td>0.808290</td>\n",
              "      <td>0.005189</td>\n",
              "      <td>11</td>\n",
              "    </tr>\n",
              "    <tr>\n",
              "      <th>10</th>\n",
              "      <td>11.358138</td>\n",
              "      <td>0.293999</td>\n",
              "      <td>7.873113</td>\n",
              "      <td>0.040966</td>\n",
              "      <td>15</td>\n",
              "      <td>scale</td>\n",
              "      <td>{'C': 15, 'gamma': 'scale'}</td>\n",
              "      <td>0.840585</td>\n",
              "      <td>0.850161</td>\n",
              "      <td>0.842312</td>\n",
              "      <td>0.836247</td>\n",
              "      <td>0.851944</td>\n",
              "      <td>0.844250</td>\n",
              "      <td>0.005922</td>\n",
              "      <td>3</td>\n",
              "    </tr>\n",
              "    <tr>\n",
              "      <th>11</th>\n",
              "      <td>6.306884</td>\n",
              "      <td>0.026209</td>\n",
              "      <td>7.430763</td>\n",
              "      <td>0.320070</td>\n",
              "      <td>15</td>\n",
              "      <td>auto</td>\n",
              "      <td>{'C': 15, 'gamma': 'auto'}</td>\n",
              "      <td>0.814194</td>\n",
              "      <td>0.811630</td>\n",
              "      <td>0.806279</td>\n",
              "      <td>0.800571</td>\n",
              "      <td>0.811630</td>\n",
              "      <td>0.808861</td>\n",
              "      <td>0.004882</td>\n",
              "      <td>10</td>\n",
              "    </tr>\n",
              "  </tbody>\n",
              "</table>\n",
              "</div>\n",
              "      <button class=\"colab-df-convert\" onclick=\"convertToInteractive('df-7ad4c49d-790a-404e-a8c2-c6c19b9c6215')\"\n",
              "              title=\"Convert this dataframe to an interactive table.\"\n",
              "              style=\"display:none;\">\n",
              "        \n",
              "  <svg xmlns=\"http://www.w3.org/2000/svg\" height=\"24px\"viewBox=\"0 0 24 24\"\n",
              "       width=\"24px\">\n",
              "    <path d=\"M0 0h24v24H0V0z\" fill=\"none\"/>\n",
              "    <path d=\"M18.56 5.44l.94 2.06.94-2.06 2.06-.94-2.06-.94-.94-2.06-.94 2.06-2.06.94zm-11 1L8.5 8.5l.94-2.06 2.06-.94-2.06-.94L8.5 2.5l-.94 2.06-2.06.94zm10 10l.94 2.06.94-2.06 2.06-.94-2.06-.94-.94-2.06-.94 2.06-2.06.94z\"/><path d=\"M17.41 7.96l-1.37-1.37c-.4-.4-.92-.59-1.43-.59-.52 0-1.04.2-1.43.59L10.3 9.45l-7.72 7.72c-.78.78-.78 2.05 0 2.83L4 21.41c.39.39.9.59 1.41.59.51 0 1.02-.2 1.41-.59l7.78-7.78 2.81-2.81c.8-.78.8-2.07 0-2.86zM5.41 20L4 18.59l7.72-7.72 1.47 1.35L5.41 20z\"/>\n",
              "  </svg>\n",
              "      </button>\n",
              "      \n",
              "  <style>\n",
              "    .colab-df-container {\n",
              "      display:flex;\n",
              "      flex-wrap:wrap;\n",
              "      gap: 12px;\n",
              "    }\n",
              "\n",
              "    .colab-df-convert {\n",
              "      background-color: #E8F0FE;\n",
              "      border: none;\n",
              "      border-radius: 50%;\n",
              "      cursor: pointer;\n",
              "      display: none;\n",
              "      fill: #1967D2;\n",
              "      height: 32px;\n",
              "      padding: 0 0 0 0;\n",
              "      width: 32px;\n",
              "    }\n",
              "\n",
              "    .colab-df-convert:hover {\n",
              "      background-color: #E2EBFA;\n",
              "      box-shadow: 0px 1px 2px rgba(60, 64, 67, 0.3), 0px 1px 3px 1px rgba(60, 64, 67, 0.15);\n",
              "      fill: #174EA6;\n",
              "    }\n",
              "\n",
              "    [theme=dark] .colab-df-convert {\n",
              "      background-color: #3B4455;\n",
              "      fill: #D2E3FC;\n",
              "    }\n",
              "\n",
              "    [theme=dark] .colab-df-convert:hover {\n",
              "      background-color: #434B5C;\n",
              "      box-shadow: 0px 1px 3px 1px rgba(0, 0, 0, 0.15);\n",
              "      filter: drop-shadow(0px 1px 2px rgba(0, 0, 0, 0.3));\n",
              "      fill: #FFFFFF;\n",
              "    }\n",
              "  </style>\n",
              "\n",
              "      <script>\n",
              "        const buttonEl =\n",
              "          document.querySelector('#df-7ad4c49d-790a-404e-a8c2-c6c19b9c6215 button.colab-df-convert');\n",
              "        buttonEl.style.display =\n",
              "          google.colab.kernel.accessAllowed ? 'block' : 'none';\n",
              "\n",
              "        async function convertToInteractive(key) {\n",
              "          const element = document.querySelector('#df-7ad4c49d-790a-404e-a8c2-c6c19b9c6215');\n",
              "          const dataTable =\n",
              "            await google.colab.kernel.invokeFunction('convertToInteractive',\n",
              "                                                     [key], {});\n",
              "          if (!dataTable) return;\n",
              "\n",
              "          const docLinkHtml = 'Like what you see? Visit the ' +\n",
              "            '<a target=\"_blank\" href=https://colab.research.google.com/notebooks/data_table.ipynb>data table notebook</a>'\n",
              "            + ' to learn more about interactive tables.';\n",
              "          element.innerHTML = '';\n",
              "          dataTable['output_type'] = 'display_data';\n",
              "          await google.colab.output.renderOutput(dataTable, element);\n",
              "          const docLink = document.createElement('div');\n",
              "          docLink.innerHTML = docLinkHtml;\n",
              "          element.appendChild(docLink);\n",
              "        }\n",
              "      </script>\n",
              "    </div>\n",
              "  </div>\n",
              "  "
            ]
          },
          "metadata": {},
          "execution_count": 132
        }
      ]
    },
    {
      "cell_type": "markdown",
      "metadata": {
        "id": "eqThTmO5j1-p"
      },
      "source": [
        "# Testing the Classification Model\n",
        "\n",
        "*   Extract descriptors using ORB for the test split\n",
        "*   Use the previously trained k-means to generate the histogram\n",
        "*   Use the classifier to predict the label\n"
      ]
    },
    {
      "cell_type": "code",
      "metadata": {
        "id": "x2Gzbww9e0pP"
      },
      "source": [
        "# solution\n",
        "dcs_test = get_multi_ORB(descriptor_extractor,x_test)\n",
        "dcs_test_flatten =  np.reshape(dcs_test, (len(dcs_test)*dcs_test.shape[1],dcs_test.shape[2]))\n",
        "tst_labs = kmeans.predict(dcs_test_flatten)\n",
        "\n",
        "plt.bar(list(range(30)),ske.histogram(tst_labs, 30)[0])\n",
        "plt.title('Frequency of Visual Words Test Data')\n",
        "plt.ylabel('Number of visual words')\n",
        "plt.xlabel('Clusters')\n",
        "\n",
        "preds = clf.predict(dcs_test_flatten =  np.reshape(dcs_test, (len(dcs_test)*dcs_test.shape[1],dcs_test.shape[2])))\n"
      ],
      "execution_count": null,
      "outputs": []
    },
    {
      "cell_type": "markdown",
      "metadata": {
        "id": "gGyQUtU3lAEz"
      },
      "source": [
        "*   Calculate the accuracy score for the classification model"
      ]
    },
    {
      "cell_type": "code",
      "metadata": {
        "id": "PszxSB0Ek_Lt"
      },
      "source": [
        "# solution\n",
        "from sklearn.metrics import accuracy_score, classification_report, confusion_matrix\n",
        "print(accuracy_score(tst_labs, preds))"
      ],
      "execution_count": null,
      "outputs": []
    },
    {
      "cell_type": "markdown",
      "metadata": {
        "id": "drlq-5AM615_"
      },
      "source": [
        "*   Generate the confusion matrix for the classification model"
      ]
    },
    {
      "cell_type": "code",
      "source": [
        "list(range(30))"
      ],
      "metadata": {
        "id": "RWwkEIfFzeYt"
      },
      "execution_count": null,
      "outputs": []
    },
    {
      "cell_type": "code",
      "metadata": {
        "id": "NpqXVYrw61OG"
      },
      "source": [
        "# solution\n",
        "from customplots import plot_confusion_matrix\n",
        "target_names  = list(range(30))\n",
        "plot_confusion_matrix(confusion_matrix(y_test, pred),target_names, colors='YlGnBu', normalize=False)\n",
        "\n"
      ],
      "execution_count": null,
      "outputs": []
    },
    {
      "cell_type": "markdown",
      "metadata": {
        "id": "7TN4rRra9yv_"
      },
      "source": [
        "*   Why do we use Clustering to create the codebook? \n",
        "*   What are the other techniques that can be used to create the codebook?"
      ]
    },
    {
      "cell_type": "markdown",
      "metadata": {
        "id": "Ri9kU3wa3Rei"
      },
      "source": [
        "**Solution**\n",
        "\n",
        "*(Double-click or enter to edit)*\n",
        "\n",
        "..."
      ]
    },
    {
      "cell_type": "markdown",
      "source": [
        "# Increased Feature Dimensions\n",
        "\n",
        "*   Repeat the classification using features of 256 ORB keypoints."
      ],
      "metadata": {
        "id": "b47OqebCOXpq"
      }
    },
    {
      "cell_type": "code",
      "source": [
        "# Creating the descriptor ectractor for 256 keypoints\n",
        "descriptor_extractor = feature.ORB(n_keypoints=256)\n",
        "\n",
        "# Getting keypoints and descriptors of train data \n",
        "kps_train,dcs_train = get_multi_ORB(descriptor_extractor, x_train)\n",
        "\n",
        "# Flattening the data and applying clustering with k-means - 30 clusters (codewords)\n",
        "dcs_flatten = np.reshape(dcs_train, (len(dcs_train)*dcs_train.shape[1],dcs_train.shape[2]))\n",
        "kmeans = MiniBatchKMeans(n_clusters=len(categories)*10).fit(dcs_flatten)\n",
        "\n",
        "#Plotting the histogram of visual words frequencies\n",
        "plt.bar(list(range(30)),ske.histogram(kmeans.labels_, 30)[0])\n",
        "plt.title('Frequency of Visual Words Training Data')\n",
        "plt.ylabel('Number of visual words')\n",
        "plt.xlabel('Clusters')\n",
        "\n",
        "\n",
        "# Looking for the best classifier model in this task\n",
        "svc = SVC()\n",
        "clf = GridSearchCV(svc,{'C':[0.5,1,5,8,10,15], 'gamma':['scale','auto']})\n",
        "clf.fit(dcs_flatten,kmeans.labels_)\n",
        "\n",
        "# Getting keypoints and descriptors of test data, flattening & applying k-means\n",
        "dcs_test = get_multi_ORB(descriptor_extractor,x_test)\n",
        "dcs_test_flatten =  np.reshape(dcs_test, (len(dcs_test)*dcs_test.shape[1],dcs_test.shape[2]))\n",
        "tst_labs = kmeans.predict(dcs_test_flatten)\n",
        "\n",
        "#Plotting the histogram of visual words frequencies (test data)\n",
        "plt.bar(list(range(30)),ske.histogram(tst_labs, 30)[0])\n",
        "plt.title('Frequency of Visual Words Test Data')\n",
        "plt.ylabel('Number of visual words')\n",
        "plt.xlabel('Clusters')\n",
        "\n",
        "# Using the trained model get predictions \n",
        "preds = clf.predict(dcs_test_flatten =  np.reshape(dcs_test, (len(dcs_test)*dcs_test.shape[1],dcs_test.shape[2])))\n",
        "\n",
        "# Evaluate the model with accuracy and confusion\n",
        "print(accuracy_score(tst_labs, preds))\n",
        "target_names  = list(range(30))\n",
        "plot_confusion_matrix(confusion_matrix(y_test, pred),target_names, colors='YlGnBu', normalize=False)"
      ],
      "metadata": {
        "id": "CiY8GERXOxbB"
      },
      "execution_count": null,
      "outputs": []
    },
    {
      "cell_type": "markdown",
      "source": [
        "*   What is the difference in classifier performance between using 64 keypoints and 256 keypoints?"
      ],
      "metadata": {
        "id": "Ucf5mIeHOzBf"
      }
    },
    {
      "cell_type": "markdown",
      "metadata": {
        "id": "AJt7kpHcO5nV"
      },
      "source": [
        "**Solution**\n",
        "\n",
        "*(Double-click or enter to edit)*\n",
        "\n",
        "..."
      ]
    },
    {
      "cell_type": "markdown",
      "metadata": {
        "id": "ll0j8G-oIaHd"
      },
      "source": [
        "*   Will further adding more keypoints increase the performance of the algorithm?"
      ]
    },
    {
      "cell_type": "markdown",
      "metadata": {
        "id": "ka3z1sJVInS5"
      },
      "source": [
        "**Solution**\n",
        "\n",
        "*(Double-click or enter to edit)*\n",
        "\n",
        "..."
      ]
    },
    {
      "cell_type": "markdown",
      "metadata": {
        "id": "NnN_t5Me7N5O"
      },
      "source": [
        "\n",
        "---\n",
        "\n",
        "## **End of P3_2: Image Classification using Bag of Visual Words**\n",
        "Deadline for P3_2 submission in CampusVirtual is: **Thursday, the 17th of November, 2022**"
      ]
    }
  ]
}