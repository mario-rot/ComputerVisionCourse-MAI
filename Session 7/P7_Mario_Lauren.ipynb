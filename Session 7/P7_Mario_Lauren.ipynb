{
  "nbformat": 4,
  "nbformat_minor": 0,
  "metadata": {
    "colab": {
      "provenance": [],
      "collapsed_sections": [],
      "include_colab_link": true
    },
    "kernelspec": {
      "display_name": "Python 3",
      "name": "python3"
    }
  },
  "cells": [
    {
      "cell_type": "markdown",
      "metadata": {
        "id": "view-in-github",
        "colab_type": "text"
      },
      "source": [
        "<a href=\"https://colab.research.google.com/github/mario-rot/ComputerVisionCourse-MAI/blob/main/Session%207/P7_Mario_Lauren.ipynb\" target=\"_parent\"><img src=\"https://colab.research.google.com/assets/colab-badge.svg\" alt=\"Open In Colab\"/></a>"
      ]
    },
    {
      "cell_type": "markdown",
      "metadata": {
        "id": "Sk0eYw8ojrFq"
      },
      "source": [
        "# Laboratory #3_2 : Image Classification using Bag of Visual Words\n",
        "\n",
        "At the end of this laboratory, you would get familiarized with\n",
        "\n",
        "*   Creating Bag of Visual Words\n",
        "    *   Feature Extraction\n",
        "    *   Codebook construction\n",
        "    *   Classification\n",
        "\n",
        "**Remember this is a graded exercise.**\n",
        "\n",
        "*   For every plot, make sure you provide appropriate titles, axis labels, legends, wherever applicable.\n",
        "*   Create reusable functions where ever possible, so that the code could be reused at different places.\n",
        "*   Mount your drive to access the images.\n",
        "*   Add sufficient comments and explanations wherever necessary.\n",
        "\n",
        "---"
      ]
    },
    {
      "cell_type": "code",
      "source": [
        "%load_ext autoreload\n",
        "%autoreload 2"
      ],
      "metadata": {
        "id": "AIX_61vv777d"
      },
      "execution_count": 1,
      "outputs": []
    },
    {
      "cell_type": "code",
      "metadata": {
        "id": "sYHw1lSBldl-",
        "colab": {
          "base_uri": "https://localhost:8080/"
        },
        "outputId": "df68df0b-fd01-404b-de5d-818f73b3d3b9"
      },
      "source": [
        "%%shell\n",
        "git clone https://github.com/mario-rot/ComputerVisionCourse-MAI.git\n",
        "cd 'ComputerVisionCourse-MAI'\n",
        "mv 'Session 7/Caltech_101_subset' /content/\n",
        "mv 'customplots.py' /content/\n",
        "mv 'utils.py' /content/"
      ],
      "execution_count": 2,
      "outputs": [
        {
          "output_type": "stream",
          "name": "stdout",
          "text": [
            "Cloning into 'ComputerVisionCourse-MAI'...\n",
            "remote: Enumerating objects: 12154, done.\u001b[K\n",
            "remote: Counting objects: 100% (575/575), done.\u001b[K\n",
            "remote: Compressing objects: 100% (448/448), done.\u001b[K\n",
            "remote: Total 12154 (delta 126), reused 561 (delta 119), pack-reused 11579\u001b[K\n",
            "Receiving objects: 100% (12154/12154), 78.56 MiB | 42.81 MiB/s, done.\n",
            "Resolving deltas: 100% (129/129), done.\n"
          ]
        },
        {
          "output_type": "execute_result",
          "data": {
            "text/plain": []
          },
          "metadata": {},
          "execution_count": 2
        }
      ]
    },
    {
      "cell_type": "code",
      "metadata": {
        "id": "aD5-E8PuaQ5P"
      },
      "source": [
        "# Loading necessary libraries (Feel free to add new libraries if you need for any computation)\n",
        "\n",
        "import os\n",
        "import numpy as np\n",
        "\n",
        "from skimage.feature import ORB\n",
        "from skimage import feature\n",
        "from skimage.color import rgb2gray\n",
        "from skimage.io import imread, imread_collection\n",
        "from scipy.cluster.vq import vq\n",
        "from sklearn.model_selection import train_test_split\n",
        "from utils import get_multi_ORB\n",
        "from sklearn.cluster import MiniBatchKMeans\n",
        "import collections\n",
        "import skimage.exposure as ske\n",
        "\n",
        "from matplotlib import pyplot as plt\n",
        "import pandas as pd"
      ],
      "execution_count": 3,
      "outputs": []
    },
    {
      "cell_type": "markdown",
      "metadata": {
        "id": "ampx9DIJiuGN"
      },
      "source": [
        "## Loading dataset\n",
        "\n",
        "We will use 3 categories from Caltech 101 objects dataset for this experiment. Upload the dataset to the drive and mount it."
      ]
    },
    {
      "cell_type": "code",
      "metadata": {
        "id": "PRSJP1XbG6-a"
      },
      "source": [
        "# modify the dataset variable with the path from your drive\n",
        "\n",
        "dataset_path = r'/content/Caltech_101_subset/'"
      ],
      "execution_count": 4,
      "outputs": []
    },
    {
      "cell_type": "code",
      "metadata": {
        "id": "fNoe7u755X6Q"
      },
      "source": [
        "categories = ['butterfly', 'kangaroo', 'dalmatian']\n",
        "ncl = len(categories) * 10"
      ],
      "execution_count": 5,
      "outputs": []
    },
    {
      "cell_type": "markdown",
      "metadata": {
        "id": "gxY0mDoK5EQj"
      },
      "source": [
        "*   Create a list of file and the corresponding labels"
      ]
    },
    {
      "cell_type": "code",
      "source": [
        "data = [(cat, i) for cat in categories for i in imread_collection(dataset_path+ cat +'/*')]"
      ],
      "metadata": {
        "id": "klut3nIf1EIH"
      },
      "execution_count": 6,
      "outputs": []
    },
    {
      "cell_type": "code",
      "metadata": {
        "id": "3x42veHz5LDt",
        "colab": {
          "base_uri": "https://localhost:8080/"
        },
        "outputId": "b035ca2a-f189-47f2-bc07-8b5f89136b43"
      },
      "source": [
        "print('Total number of images:', len(data))"
      ],
      "execution_count": 7,
      "outputs": [
        {
          "output_type": "stream",
          "name": "stdout",
          "text": [
            "Total number of images: 244\n"
          ]
        }
      ]
    },
    {
      "cell_type": "markdown",
      "metadata": {
        "id": "XgVhdjYz5Zhs"
      },
      "source": [
        "*   Create a train / test split where the test is 10% of the total data"
      ]
    },
    {
      "cell_type": "code",
      "metadata": {
        "id": "QzYnjzXBZXXt"
      },
      "source": [
        "# solution\n",
        "X = [i for cat in categories for i in imread_collection(dataset_path+ cat +'/*')]\n",
        "y = [cat for cat in categories for i in imread_collection(dataset_path+ cat +'/*')]\n",
        "x_train,x_test,y_train,y_test = train_test_split(X,y, test_size=0.1, random_state=25) #, stratify=y)\n",
        "# X_train,X_test,Y_train,Y_test = iterative_train_test_split(np.array(X),np.array(y)[:,np.newaxis], test_size=0.1)\n",
        "\n"
      ],
      "execution_count": 8,
      "outputs": []
    },
    {
      "cell_type": "code",
      "metadata": {
        "id": "gd057lAc5jze",
        "colab": {
          "base_uri": "https://localhost:8080/"
        },
        "outputId": "6dd991ca-8775-4afb-fd01-f139522f9880"
      },
      "source": [
        "print('Train set:', len(x_train))\n",
        "print('Test set:', len(x_test))"
      ],
      "execution_count": 9,
      "outputs": [
        {
          "output_type": "stream",
          "name": "stdout",
          "text": [
            "Train set: 219\n",
            "Test set: 25\n"
          ]
        }
      ]
    },
    {
      "cell_type": "markdown",
      "metadata": {
        "id": "_Hl36Ej_5k6Y"
      },
      "source": [
        "*   How do you select the train/test split?"
      ]
    },
    {
      "cell_type": "markdown",
      "metadata": {
        "id": "-aOe27Kx5vtd"
      },
      "source": [
        "**Solution**\n",
        "\n",
        "*(Double-click or enter to edit)*\n",
        "\n",
        "..."
      ]
    },
    {
      "cell_type": "markdown",
      "metadata": {
        "id": "18OZf2kfkVNB"
      },
      "source": [
        "## Feature Extraction using ORB\n",
        "\n",
        "The first step is to extract descriptors for each image in our dataset. We will use ORB to extract descriptors.\n",
        "\n",
        "*   Create ORB detector with 64 keypoints.\n"
      ]
    },
    {
      "cell_type": "code",
      "source": [
        "descriptor_extractor = feature.ORB(n_keypoints=64)"
      ],
      "metadata": {
        "id": "V5UVcN7l9hyR"
      },
      "execution_count": 10,
      "outputs": []
    },
    {
      "cell_type": "markdown",
      "metadata": {
        "id": "3yinPkL8brow"
      },
      "source": [
        "*   Extract ORB descriptors from all the images in the train set.\n"
      ]
    },
    {
      "cell_type": "code",
      "metadata": {
        "id": "PCiXJeLFxGtP"
      },
      "source": [
        "# solution\n",
        "kps_train,dcs_train = get_multi_ORB(descriptor_extractor, x_train)"
      ],
      "execution_count": 11,
      "outputs": []
    },
    {
      "cell_type": "markdown",
      "metadata": {
        "id": "GJehFdyt583b"
      },
      "source": [
        "*   What is the size of the feature descriptors? What does each dimension represent in the feature descriptors?"
      ]
    },
    {
      "cell_type": "code",
      "metadata": {
        "id": "bzTspvF96LeC",
        "colab": {
          "base_uri": "https://localhost:8080/"
        },
        "outputId": "a199923f-09cd-4c41-8622-bc7b6f3768bc"
      },
      "source": [
        "# solution\n",
        "print('The size of each feature descriptors matrix per image is {}, where {} represents the number \\n of keypoints identified and {} is a vector with values either being True or False representing\\n the outcome of the intensity comparison for each keypoint on a decision pixel-pair.'.format(dcs_train[1].shape, dcs_train[1].shape[0], dcs_train[1].shape[1]))\n"
      ],
      "execution_count": 12,
      "outputs": [
        {
          "output_type": "stream",
          "name": "stdout",
          "text": [
            "The size of each feature descriptors matrix per image is (64, 256), where 64 represents the number \n",
            " of keypoints identified and 256 is a vector with values either being True or False representing\n",
            " the outcome of the intensity comparison for each keypoint on a decision pixel-pair.\n"
          ]
        }
      ]
    },
    {
      "cell_type": "markdown",
      "metadata": {
        "id": "MNFOjsRj6PGk"
      },
      "source": [
        "**Solution**\n",
        "\n",
        "*(Double-click or enter to edit)*\n",
        "\n",
        "..."
      ]
    },
    {
      "cell_type": "markdown",
      "metadata": {
        "id": "420YQkAzleTQ"
      },
      "source": [
        "## Codebook Construction\n",
        "\n",
        "Codewords are nothing but vector representation of similar patches. This codeword produces a codebook similar to a word dictionary. We will create the codebook using K-Means algorithm\n",
        "\n",
        "*   Create a codebook using K-Means with k=number_of_classes*10\n",
        "*   Hint: Use sklearn.cluster.MiniBatchKMeans for K-Means"
      ]
    },
    {
      "cell_type": "code",
      "metadata": {
        "id": "iO0e4718ppJt",
        "colab": {
          "base_uri": "https://localhost:8080/"
        },
        "outputId": "e6f71863-61bd-471e-d9f9-a76967c0d478"
      },
      "source": [
        "# solution\n",
        "dcs_flatten = np.reshape(dcs_train, (len(dcs_train)*dcs_train.shape[1],dcs_train.shape[2]))\n",
        "print(dcs_flatten.shape)\n",
        "kmeans = MiniBatchKMeans(n_clusters=len(categories)*10).fit(dcs_flatten)\n"
      ],
      "execution_count": 13,
      "outputs": [
        {
          "output_type": "stream",
          "name": "stdout",
          "text": [
            "(14016, 256)\n"
          ]
        }
      ]
    },
    {
      "cell_type": "markdown",
      "metadata": {
        "id": "0GAD_JuNpqMt"
      },
      "source": [
        "*   Create a histogram using the cluster centers for each image descriptor.\n",
        "    *   Remember the histogram would be of size *n_images x n_clusters*."
      ]
    },
    {
      "cell_type": "code",
      "source": [
        "counts_ord = np.array([collections.Counter(kmeans.labels_)[i] for i in range(len(collections.Counter(kmeans.labels_)))])\n",
        "plt.bar(list(range(30)),counts_ord)\n",
        "plt.title('Frequency of Visual Words')\n",
        "plt.ylabel('Number of visual words')\n",
        "plt.xlabel('Clusters')"
      ],
      "metadata": {
        "colab": {
          "base_uri": "https://localhost:8080/",
          "height": 312
        },
        "id": "P9wP-hTqUJYW",
        "outputId": "ed6199aa-8cbf-4f9f-af3b-352681755b30"
      },
      "execution_count": 14,
      "outputs": [
        {
          "output_type": "execute_result",
          "data": {
            "text/plain": [
              "Text(0.5, 0, 'Clusters')"
            ]
          },
          "metadata": {},
          "execution_count": 14
        },
        {
          "output_type": "display_data",
          "data": {
            "text/plain": [
              "<Figure size 432x288 with 1 Axes>"
            ],
            "image/png": "[encoded data removed]"
          },
          "metadata": {
            "needs_background": "light"
          }
        }
      ]
    },
    {
      "cell_type": "code",
      "source": [
        "plt.bar(list(range(30)),ske.histogram(kmeans.labels_, 30)[0])\n",
        "plt.title('Frequency of Visual Words Training Data')\n",
        "plt.ylabel('Number of visual words')\n",
        "plt.xlabel('Clusters')"
      ],
      "metadata": {
        "colab": {
          "base_uri": "https://localhost:8080/",
          "height": 312
        },
        "id": "sNd3rPW8qiXs",
        "outputId": "50f03d50-4954-42b4-e997-290bfe5d7261"
      },
      "execution_count": 15,
      "outputs": [
        {
          "output_type": "execute_result",
          "data": {
            "text/plain": [
              "Text(0.5, 0, 'Clusters')"
            ]
          },
          "metadata": {},
          "execution_count": 15
        },
        {
          "output_type": "display_data",
          "data": {
            "text/plain": [
              "<Figure size 432x288 with 1 Axes>"
            ],
            "image/png": "[encoded data removed]"
          },
          "metadata": {
            "needs_background": "light"
          }
        }
      ]
    },
    {
      "cell_type": "markdown",
      "metadata": {
        "id": "jmRO7dfLjgZa"
      },
      "source": [
        "\n",
        "# Creating Classification Model\n",
        "\n",
        "*   The next step is to create a classification model. We will use a C-Support Vector Classification for creating the model.\n",
        "\n"
      ]
    },
    {
      "cell_type": "code",
      "metadata": {
        "id": "K7VTBz1Oimtz"
      },
      "source": [
        "from sklearn.svm import SVC\n",
        "from sklearn.model_selection import GridSearchCV"
      ],
      "execution_count": 16,
      "outputs": []
    },
    {
      "cell_type": "markdown",
      "metadata": {
        "id": "lrit95Ud6pUU"
      },
      "source": [
        "*   Use GridSearchCV to find the optimal value of C and Gamma."
      ]
    },
    {
      "cell_type": "code",
      "metadata": {
        "id": "IjFFpykV-GOI",
        "colab": {
          "base_uri": "https://localhost:8080/"
        },
        "outputId": "673446c6-5932-4fce-e6f2-106b39dc9418"
      },
      "source": [
        "# solution\n",
        "svc = SVC()\n",
        "clf = GridSearchCV(svc,{'C':[0.5,1,5,8,10,15], 'gamma':['scale','auto']})\n",
        "clf.fit(dcs_flatten,kmeans.labels_)\n"
      ],
      "execution_count": 23,
      "outputs": [
        {
          "output_type": "execute_result",
          "data": {
            "text/plain": [
              "GridSearchCV(estimator=SVC(),\n",
              "             param_grid={'C': [0.5, 1, 5, 8, 10, 15],\n",
              "                         'gamma': ['scale', 'auto']})"
            ]
          },
          "metadata": {},
          "execution_count": 23
        }
      ]
    },
    {
      "cell_type": "code",
      "source": [
        "\n",
        "pd.DataFrame(clf.cv_results_)"
      ],
      "metadata": {
        "colab": {
          "base_uri": "https://localhost:8080/",
          "height": 906
        },
        "id": "V6nONAVghywZ",
        "outputId": "f52e14a4-16df-434b-861c-239c6a78d8dc"
      },
      "execution_count": 24,
      "outputs": [
        {
          "output_type": "execute_result",
          "data": {
            "text/plain": [
              "    mean_fit_time  std_fit_time  mean_score_time  std_score_time param_C  \\\n",
              "0       11.066651      0.625370         6.581388        0.676250     0.5   \n",
              "1        9.057382      0.210031         7.214585        1.985683     0.5   \n",
              "2       10.122351      0.361141         6.101371        0.037946       1   \n",
              "3        7.243533      0.056205         6.017543        0.024848       1   \n",
              "4       10.070873      0.067888         6.082171        0.042022       5   \n",
              "5        5.684614      0.030493         5.746521        0.154679       5   \n",
              "6       10.102688      0.045866         6.128669        0.044276       8   \n",
              "7        5.659103      0.023158         5.599892        0.042936       8   \n",
              "8       10.103552      0.057860         6.085808        0.035691      10   \n",
              "9        5.642869      0.046805         5.589537        0.018720      10   \n",
              "10      10.075003      0.053864         6.085816        0.039833      15   \n",
              "11       5.619420      0.063298         5.619438        0.024070      15   \n",
              "\n",
              "   param_gamma                        params  split0_test_score  \\\n",
              "0        scale  {'C': 0.5, 'gamma': 'scale'}           0.828816   \n",
              "1         auto   {'C': 0.5, 'gamma': 'auto'}           0.834879   \n",
              "2        scale    {'C': 1, 'gamma': 'scale'}           0.828103   \n",
              "3         auto     {'C': 1, 'gamma': 'auto'}           0.825963   \n",
              "4        scale    {'C': 5, 'gamma': 'scale'}           0.832026   \n",
              "5         auto     {'C': 5, 'gamma': 'auto'}           0.802782   \n",
              "6        scale    {'C': 8, 'gamma': 'scale'}           0.832026   \n",
              "7         auto     {'C': 8, 'gamma': 'auto'}           0.799572   \n",
              "8        scale   {'C': 10, 'gamma': 'scale'}           0.832026   \n",
              "9         auto    {'C': 10, 'gamma': 'auto'}           0.799572   \n",
              "10       scale   {'C': 15, 'gamma': 'scale'}           0.832026   \n",
              "11        auto    {'C': 15, 'gamma': 'auto'}           0.799572   \n",
              "\n",
              "    split1_test_score  split2_test_score  split3_test_score  \\\n",
              "0            0.843382           0.826258           0.829112   \n",
              "1            0.840885           0.830182           0.834820   \n",
              "2            0.840171           0.827685           0.834820   \n",
              "3            0.835533           0.825901           0.826614   \n",
              "4            0.843739           0.826258           0.830182   \n",
              "5            0.809490           0.798787           0.807706   \n",
              "6            0.843739           0.826258           0.830182   \n",
              "7            0.812344           0.795219           0.804138   \n",
              "8            0.843739           0.826258           0.830182   \n",
              "9            0.812701           0.793792           0.802355   \n",
              "10           0.843739           0.826258           0.830182   \n",
              "11           0.810917           0.795219           0.801641   \n",
              "\n",
              "    split4_test_score  mean_test_score  std_test_score  rank_test_score  \n",
              "0            0.838031         0.833120        0.006498                7  \n",
              "1            0.848733         0.837900        0.006395                1  \n",
              "2            0.838744         0.833905        0.005213                6  \n",
              "3            0.835890         0.829980        0.004688                8  \n",
              "4            0.838031         0.834047        0.006156                2  \n",
              "5            0.797717         0.803296        0.004681                9  \n",
              "6            0.838031         0.834047        0.006156                2  \n",
              "7            0.794149         0.801085        0.006647               10  \n",
              "8            0.838031         0.834047        0.006156                2  \n",
              "9            0.793079         0.800300        0.007114               11  \n",
              "10           0.838031         0.834047        0.006156                2  \n",
              "11           0.793079         0.800086        0.006209               12  "
            ],
            "text/html": [
              "\n",
              "  <div id=\"df-49347977-181a-438a-8b28-0113c37c8a86\">\n",
              "    <div class=\"colab-df-container\">\n",
              "      <div>\n",
              "<style scoped>\n",
              "    .dataframe tbody tr th:only-of-type {\n",
              "        vertical-align: middle;\n",
              "    }\n",
              "\n",
              "    .dataframe tbody tr th {\n",
              "        vertical-align: top;\n",
              "    }\n",
              "\n",
              "    .dataframe thead th {\n",
              "        text-align: right;\n",
              "    }\n",
              "</style>\n",
              "<table border=\"1\" class=\"dataframe\">\n",
              "  <thead>\n",
              "    <tr style=\"text-align: right;\">\n",
              "      <th></th>\n",
              "      <th>mean_fit_time</th>\n",
              "      <th>std_fit_time</th>\n",
              "      <th>mean_score_time</th>\n",
              "      <th>std_score_time</th>\n",
              "      <th>param_C</th>\n",
              "      <th>param_gamma</th>\n",
              "      <th>params</th>\n",
              "      <th>split0_test_score</th>\n",
              "      <th>split1_test_score</th>\n",
              "      <th>split2_test_score</th>\n",
              "      <th>split3_test_score</th>\n",
              "      <th>split4_test_score</th>\n",
              "      <th>mean_test_score</th>\n",
              "      <th>std_test_score</th>\n",
              "      <th>rank_test_score</th>\n",
              "    </tr>\n",
              "  </thead>\n",
              "  <tbody>\n",
              "    <tr>\n",
              "      <th>0</th>\n",
              "      <td>11.066651</td>\n",
              "      <td>0.625370</td>\n",
              "      <td>6.581388</td>\n",
              "      <td>0.676250</td>\n",
              "      <td>0.5</td>\n",
              "      <td>scale</td>\n",
              "      <td>{'C': 0.5, 'gamma': 'scale'}</td>\n",
              "      <td>0.828816</td>\n",
              "      <td>0.843382</td>\n",
              "      <td>0.826258</td>\n",
              "      <td>0.829112</td>\n",
              "      <td>0.838031</td>\n",
              "      <td>0.833120</td>\n",
              "      <td>0.006498</td>\n",
              "      <td>7</td>\n",
              "    </tr>\n",
              "    <tr>\n",
              "      <th>1</th>\n",
              "      <td>9.057382</td>\n",
              "      <td>0.210031</td>\n",
              "      <td>7.214585</td>\n",
              "      <td>1.985683</td>\n",
              "      <td>0.5</td>\n",
              "      <td>auto</td>\n",
              "      <td>{'C': 0.5, 'gamma': 'auto'}</td>\n",
              "      <td>0.834879</td>\n",
              "      <td>0.840885</td>\n",
              "      <td>0.830182</td>\n",
              "      <td>0.834820</td>\n",
              "      <td>0.848733</td>\n",
              "      <td>0.837900</td>\n",
              "      <td>0.006395</td>\n",
              "      <td>1</td>\n",
              "    </tr>\n",
              "    <tr>\n",
              "      <th>2</th>\n",
              "      <td>10.122351</td>\n",
              "      <td>0.361141</td>\n",
              "      <td>6.101371</td>\n",
              "      <td>0.037946</td>\n",
              "      <td>1</td>\n",
              "      <td>scale</td>\n",
              "      <td>{'C': 1, 'gamma': 'scale'}</td>\n",
              "      <td>0.828103</td>\n",
              "      <td>0.840171</td>\n",
              "      <td>0.827685</td>\n",
              "      <td>0.834820</td>\n",
              "      <td>0.838744</td>\n",
              "      <td>0.833905</td>\n",
              "      <td>0.005213</td>\n",
              "      <td>6</td>\n",
              "    </tr>\n",
              "    <tr>\n",
              "      <th>3</th>\n",
              "      <td>7.243533</td>\n",
              "      <td>0.056205</td>\n",
              "      <td>6.017543</td>\n",
              "      <td>0.024848</td>\n",
              "      <td>1</td>\n",
              "      <td>auto</td>\n",
              "      <td>{'C': 1, 'gamma': 'auto'}</td>\n",
              "      <td>0.825963</td>\n",
              "      <td>0.835533</td>\n",
              "      <td>0.825901</td>\n",
              "      <td>0.826614</td>\n",
              "      <td>0.835890</td>\n",
              "      <td>0.829980</td>\n",
              "      <td>0.004688</td>\n",
              "      <td>8</td>\n",
              "    </tr>\n",
              "    <tr>\n",
              "      <th>4</th>\n",
              "      <td>10.070873</td>\n",
              "      <td>0.067888</td>\n",
              "      <td>6.082171</td>\n",
              "      <td>0.042022</td>\n",
              "      <td>5</td>\n",
              "      <td>scale</td>\n",
              "      <td>{'C': 5, 'gamma': 'scale'}</td>\n",
              "      <td>0.832026</td>\n",
              "      <td>0.843739</td>\n",
              "      <td>0.826258</td>\n",
              "      <td>0.830182</td>\n",
              "      <td>0.838031</td>\n",
              "      <td>0.834047</td>\n",
              "      <td>0.006156</td>\n",
              "      <td>2</td>\n",
              "    </tr>\n",
              "    <tr>\n",
              "      <th>5</th>\n",
              "      <td>5.684614</td>\n",
              "      <td>0.030493</td>\n",
              "      <td>5.746521</td>\n",
              "      <td>0.154679</td>\n",
              "      <td>5</td>\n",
              "      <td>auto</td>\n",
              "      <td>{'C': 5, 'gamma': 'auto'}</td>\n",
              "      <td>0.802782</td>\n",
              "      <td>0.809490</td>\n",
              "      <td>0.798787</td>\n",
              "      <td>0.807706</td>\n",
              "      <td>0.797717</td>\n",
              "      <td>0.803296</td>\n",
              "      <td>0.004681</td>\n",
              "      <td>9</td>\n",
              "    </tr>\n",
              "    <tr>\n",
              "      <th>6</th>\n",
              "      <td>10.102688</td>\n",
              "      <td>0.045866</td>\n",
              "      <td>6.128669</td>\n",
              "      <td>0.044276</td>\n",
              "      <td>8</td>\n",
              "      <td>scale</td>\n",
              "      <td>{'C': 8, 'gamma': 'scale'}</td>\n",
              "      <td>0.832026</td>\n",
              "      <td>0.843739</td>\n",
              "      <td>0.826258</td>\n",
              "      <td>0.830182</td>\n",
              "      <td>0.838031</td>\n",
              "      <td>0.834047</td>\n",
              "      <td>0.006156</td>\n",
              "      <td>2</td>\n",
              "    </tr>\n",
              "    <tr>\n",
              "      <th>7</th>\n",
              "      <td>5.659103</td>\n",
              "      <td>0.023158</td>\n",
              "      <td>5.599892</td>\n",
              "      <td>0.042936</td>\n",
              "      <td>8</td>\n",
              "      <td>auto</td>\n",
              "      <td>{'C': 8, 'gamma': 'auto'}</td>\n",
              "      <td>0.799572</td>\n",
              "      <td>0.812344</td>\n",
              "      <td>0.795219</td>\n",
              "      <td>0.804138</td>\n",
              "      <td>0.794149</td>\n",
              "      <td>0.801085</td>\n",
              "      <td>0.006647</td>\n",
              "      <td>10</td>\n",
              "    </tr>\n",
              "    <tr>\n",
              "      <th>8</th>\n",
              "      <td>10.103552</td>\n",
              "      <td>0.057860</td>\n",
              "      <td>6.085808</td>\n",
              "      <td>0.035691</td>\n",
              "      <td>10</td>\n",
              "      <td>scale</td>\n",
              "      <td>{'C': 10, 'gamma': 'scale'}</td>\n",
              "      <td>0.832026</td>\n",
              "      <td>0.843739</td>\n",
              "      <td>0.826258</td>\n",
              "      <td>0.830182</td>\n",
              "      <td>0.838031</td>\n",
              "      <td>0.834047</td>\n",
              "      <td>0.006156</td>\n",
              "      <td>2</td>\n",
              "    </tr>\n",
              "    <tr>\n",
              "      <th>9</th>\n",
              "      <td>5.642869</td>\n",
              "      <td>0.046805</td>\n",
              "      <td>5.589537</td>\n",
              "      <td>0.018720</td>\n",
              "      <td>10</td>\n",
              "      <td>auto</td>\n",
              "      <td>{'C': 10, 'gamma': 'auto'}</td>\n",
              "      <td>0.799572</td>\n",
              "      <td>0.812701</td>\n",
              "      <td>0.793792</td>\n",
              "      <td>0.802355</td>\n",
              "      <td>0.793079</td>\n",
              "      <td>0.800300</td>\n",
              "      <td>0.007114</td>\n",
              "      <td>11</td>\n",
              "    </tr>\n",
              "    <tr>\n",
              "      <th>10</th>\n",
              "      <td>10.075003</td>\n",
              "      <td>0.053864</td>\n",
              "      <td>6.085816</td>\n",
              "      <td>0.039833</td>\n",
              "      <td>15</td>\n",
              "      <td>scale</td>\n",
              "      <td>{'C': 15, 'gamma': 'scale'}</td>\n",
              "      <td>0.832026</td>\n",
              "      <td>0.843739</td>\n",
              "      <td>0.826258</td>\n",
              "      <td>0.830182</td>\n",
              "      <td>0.838031</td>\n",
              "      <td>0.834047</td>\n",
              "      <td>0.006156</td>\n",
              "      <td>2</td>\n",
              "    </tr>\n",
              "    <tr>\n",
              "      <th>11</th>\n",
              "      <td>5.619420</td>\n",
              "      <td>0.063298</td>\n",
              "      <td>5.619438</td>\n",
              "      <td>0.024070</td>\n",
              "      <td>15</td>\n",
              "      <td>auto</td>\n",
              "      <td>{'C': 15, 'gamma': 'auto'}</td>\n",
              "      <td>0.799572</td>\n",
              "      <td>0.810917</td>\n",
              "      <td>0.795219</td>\n",
              "      <td>0.801641</td>\n",
              "      <td>0.793079</td>\n",
              "      <td>0.800086</td>\n",
              "      <td>0.006209</td>\n",
              "      <td>12</td>\n",
              "    </tr>\n",
              "  </tbody>\n",
              "</table>\n",
              "</div>\n",
              "      <button class=\"colab-df-convert\" onclick=\"convertToInteractive('df-49347977-181a-438a-8b28-0113c37c8a86')\"\n",
              "              title=\"Convert this dataframe to an interactive table.\"\n",
              "              style=\"display:none;\">\n",
              "        \n",
              "  <svg xmlns=\"http://www.w3.org/2000/svg\" height=\"24px\"viewBox=\"0 0 24 24\"\n",
              "       width=\"24px\">\n",
              "    <path d=\"M0 0h24v24H0V0z\" fill=\"none\"/>\n",
              "    <path d=\"M18.56 5.44l.94 2.06.94-2.06 2.06-.94-2.06-.94-.94-2.06-.94 2.06-2.06.94zm-11 1L8.5 8.5l.94-2.06 2.06-.94-2.06-.94L8.5 2.5l-.94 2.06-2.06.94zm10 10l.94 2.06.94-2.06 2.06-.94-2.06-.94-.94-2.06-.94 2.06-2.06.94z\"/><path d=\"M17.41 7.96l-1.37-1.37c-.4-.4-.92-.59-1.43-.59-.52 0-1.04.2-1.43.59L10.3 9.45l-7.72 7.72c-.78.78-.78 2.05 0 2.83L4 21.41c.39.39.9.59 1.41.59.51 0 1.02-.2 1.41-.59l7.78-7.78 2.81-2.81c.8-.78.8-2.07 0-2.86zM5.41 20L4 18.59l7.72-7.72 1.47 1.35L5.41 20z\"/>\n",
              "  </svg>\n",
              "      </button>\n",
              "      \n",
              "  <style>\n",
              "    .colab-df-container {\n",
              "      display:flex;\n",
              "      flex-wrap:wrap;\n",
              "      gap: 12px;\n",
              "    }\n",
              "\n",
              "    .colab-df-convert {\n",
              "      background-color: #E8F0FE;\n",
              "      border: none;\n",
              "      border-radius: 50%;\n",
              "      cursor: pointer;\n",
              "      display: none;\n",
              "      fill: #1967D2;\n",
              "      height: 32px;\n",
              "      padding: 0 0 0 0;\n",
              "      width: 32px;\n",
              "    }\n",
              "\n",
              "    .colab-df-convert:hover {\n",
              "      background-color: #E2EBFA;\n",
              "      box-shadow: 0px 1px 2px rgba(60, 64, 67, 0.3), 0px 1px 3px 1px rgba(60, 64, 67, 0.15);\n",
              "      fill: #174EA6;\n",
              "    }\n",
              "\n",
              "    [theme=dark] .colab-df-convert {\n",
              "      background-color: #3B4455;\n",
              "      fill: #D2E3FC;\n",
              "    }\n",
              "\n",
              "    [theme=dark] .colab-df-convert:hover {\n",
              "      background-color: #434B5C;\n",
              "      box-shadow: 0px 1px 3px 1px rgba(0, 0, 0, 0.15);\n",
              "      filter: drop-shadow(0px 1px 2px rgba(0, 0, 0, 0.3));\n",
              "      fill: #FFFFFF;\n",
              "    }\n",
              "  </style>\n",
              "\n",
              "      <script>\n",
              "        const buttonEl =\n",
              "          document.querySelector('#df-49347977-181a-438a-8b28-0113c37c8a86 button.colab-df-convert');\n",
              "        buttonEl.style.display =\n",
              "          google.colab.kernel.accessAllowed ? 'block' : 'none';\n",
              "\n",
              "        async function convertToInteractive(key) {\n",
              "          const element = document.querySelector('#df-49347977-181a-438a-8b28-0113c37c8a86');\n",
              "          const dataTable =\n",
              "            await google.colab.kernel.invokeFunction('convertToInteractive',\n",
              "                                                     [key], {});\n",
              "          if (!dataTable) return;\n",
              "\n",
              "          const docLinkHtml = 'Like what you see? Visit the ' +\n",
              "            '<a target=\"_blank\" href=https://colab.research.google.com/notebooks/data_table.ipynb>data table notebook</a>'\n",
              "            + ' to learn more about interactive tables.';\n",
              "          element.innerHTML = '';\n",
              "          dataTable['output_type'] = 'display_data';\n",
              "          await google.colab.output.renderOutput(dataTable, element);\n",
              "          const docLink = document.createElement('div');\n",
              "          docLink.innerHTML = docLinkHtml;\n",
              "          element.appendChild(docLink);\n",
              "        }\n",
              "      </script>\n",
              "    </div>\n",
              "  </div>\n",
              "  "
            ]
          },
          "metadata": {},
          "execution_count": 24
        }
      ]
    },
    {
      "cell_type": "code",
      "source": [
        "print('The scale mode of SVC would use a gamma of {}, then using auto mode would use -> {}'.format(1/(256*dcs_flatten.var()),1/256))"
      ],
      "metadata": {
        "id": "gX2dvWpnLC_r",
        "outputId": "7930be94-1d38-4461-c9b0-b7d1b15ca197",
        "colab": {
          "base_uri": "https://localhost:8080/"
        }
      },
      "execution_count": 21,
      "outputs": [
        {
          "output_type": "stream",
          "name": "stdout",
          "text": [
            "The scale mode of SVC would use a gamma of 0.01565681734634834, then using auto mode would use -> 0.00390625\n"
          ]
        }
      ]
    },
    {
      "cell_type": "code",
      "source": [
        "# solution\n",
        "svc2 = SVC()\n",
        "clf2 = GridSearchCV(svc2,{'C':[1,5,10], 'gamma':[0.005,0.1,0.25,0.5,1.0]})\n",
        "clf2.fit(dcs_flatten,kmeans.labels_)"
      ],
      "metadata": {
        "colab": {
          "base_uri": "https://localhost:8080/"
        },
        "id": "s1p2fj4twGaG",
        "outputId": "7d78ec94-0304-4aa7-978b-286b55b01703"
      },
      "execution_count": 18,
      "outputs": [
        {
          "data": {
            "text/plain": [
              "GridSearchCV(estimator=SVC(),\n",
              "             param_grid={'C': [1, 5, 10],\n",
              "                         'gamma': [0.005, 0.1, 0.25, 0.5, 1.0]})"
            ]
          },
          "execution_count": 18,
          "metadata": {},
          "output_type": "execute_result"
        }
      ]
    },
    {
      "cell_type": "code",
      "source": [
        "import pandas as pd\n",
        "pd.DataFrame(clf2.cv_results_)"
      ],
      "metadata": {
        "colab": {
          "base_uri": "https://localhost:8080/",
          "height": 1000
        },
        "id": "-F5S1hVdwSbz",
        "outputId": "6b4e7eba-b7a3-4afb-eabd-9f7491784e40"
      },
      "execution_count": 19,
      "outputs": [
        {
          "output_type": "execute_result",
          "data": {
            "text/plain": [
              "    mean_fit_time  std_fit_time  mean_score_time  std_score_time param_C  \\\n",
              "0        7.284802      0.157517         6.157013        0.263024       1   \n",
              "1       24.823688      0.359127         6.426312        0.175977       1   \n",
              "2       24.722136      0.161811         6.457196        0.301892       1   \n",
              "3       24.406835      0.147270         6.393900        0.121121       1   \n",
              "4       24.220857      0.238730         6.270762        0.025728       1   \n",
              "5        5.990174      0.038118         5.705932        0.307316       5   \n",
              "6       25.005063      0.189516         6.430455        0.275241       5   \n",
              "7       25.358097      0.246644         6.326386        0.026353       5   \n",
              "8       25.312688      0.211726         6.466430        0.294086       5   \n",
              "9       25.037134      0.231236         6.374895        0.199523       5   \n",
              "10       5.946035      0.117626         5.603495        0.041160      10   \n",
              "11      24.850518      0.109931         6.375179        0.185772      10   \n",
              "12      25.050252      0.129290         6.324252        0.171770      10   \n",
              "13      25.259374      0.183701         6.232667        0.035313      10   \n",
              "14      25.430464      0.468372         6.220887        0.012784      10   \n",
              "\n",
              "   param_gamma                     params  split0_test_score  \\\n",
              "0        0.005   {'C': 1, 'gamma': 0.005}           0.825250   \n",
              "1          0.1     {'C': 1, 'gamma': 0.1}           0.051712   \n",
              "2         0.25    {'C': 1, 'gamma': 0.25}           0.051355   \n",
              "3          0.5     {'C': 1, 'gamma': 0.5}           0.051355   \n",
              "4          1.0     {'C': 1, 'gamma': 1.0}           0.051355   \n",
              "5        0.005   {'C': 5, 'gamma': 0.005}           0.802068   \n",
              "6          0.1     {'C': 5, 'gamma': 0.1}           0.053138   \n",
              "7         0.25    {'C': 5, 'gamma': 0.25}           0.051355   \n",
              "8          0.5     {'C': 5, 'gamma': 0.5}           0.051355   \n",
              "9          1.0     {'C': 5, 'gamma': 1.0}           0.051355   \n",
              "10       0.005  {'C': 10, 'gamma': 0.005}           0.802425   \n",
              "11         0.1    {'C': 10, 'gamma': 0.1}           0.053138   \n",
              "12        0.25   {'C': 10, 'gamma': 0.25}           0.051355   \n",
              "13         0.5    {'C': 10, 'gamma': 0.5}           0.051355   \n",
              "14         1.0    {'C': 10, 'gamma': 1.0}           0.051355   \n",
              "\n",
              "    split1_test_score  split2_test_score  split3_test_score  \\\n",
              "0            0.831966           0.824831           0.824831   \n",
              "1            0.051374           0.051730           0.051374   \n",
              "2            0.051374           0.051374           0.051374   \n",
              "3            0.051374           0.051374           0.051374   \n",
              "4            0.051374           0.051374           0.051374   \n",
              "5            0.813057           0.800928           0.805922   \n",
              "6            0.051730           0.052087           0.053514   \n",
              "7            0.051374           0.051374           0.051374   \n",
              "8            0.051374           0.051374           0.051374   \n",
              "9            0.051374           0.051374           0.051374   \n",
              "10           0.813057           0.798430           0.803425   \n",
              "11           0.051730           0.052087           0.053514   \n",
              "12           0.051374           0.051374           0.051374   \n",
              "13           0.051374           0.051374           0.051374   \n",
              "14           0.051374           0.051374           0.051374   \n",
              "\n",
              "    split4_test_score  mean_test_score  std_test_score  rank_test_score  \n",
              "0            0.832679         0.827911        0.003612                1  \n",
              "1            0.051730         0.051584        0.000172                6  \n",
              "2            0.051374         0.051370        0.000007                7  \n",
              "3            0.051374         0.051370        0.000007                7  \n",
              "4            0.051374         0.051370        0.000007                7  \n",
              "5            0.798430         0.804081        0.005097                2  \n",
              "6            0.053157         0.052725        0.000689                4  \n",
              "7            0.051374         0.051370        0.000007                7  \n",
              "8            0.051374         0.051370        0.000007                7  \n",
              "9            0.051374         0.051370        0.000007                7  \n",
              "10           0.798787         0.803225        0.005292                3  \n",
              "11           0.053157         0.052725        0.000689                4  \n",
              "12           0.051374         0.051370        0.000007                7  \n",
              "13           0.051374         0.051370        0.000007                7  \n",
              "14           0.051374         0.051370        0.000007                7  "
            ],
            "text/html": [
              "\n",
              "  <div id=\"df-75d3f507-a479-4482-83a8-0cb4e916b4ba\">\n",
              "    <div class=\"colab-df-container\">\n",
              "      <div>\n",
              "<style scoped>\n",
              "    .dataframe tbody tr th:only-of-type {\n",
              "        vertical-align: middle;\n",
              "    }\n",
              "\n",
              "    .dataframe tbody tr th {\n",
              "        vertical-align: top;\n",
              "    }\n",
              "\n",
              "    .dataframe thead th {\n",
              "        text-align: right;\n",
              "    }\n",
              "</style>\n",
              "<table border=\"1\" class=\"dataframe\">\n",
              "  <thead>\n",
              "    <tr style=\"text-align: right;\">\n",
              "      <th></th>\n",
              "      <th>mean_fit_time</th>\n",
              "      <th>std_fit_time</th>\n",
              "      <th>mean_score_time</th>\n",
              "      <th>std_score_time</th>\n",
              "      <th>param_C</th>\n",
              "      <th>param_gamma</th>\n",
              "      <th>params</th>\n",
              "      <th>split0_test_score</th>\n",
              "      <th>split1_test_score</th>\n",
              "      <th>split2_test_score</th>\n",
              "      <th>split3_test_score</th>\n",
              "      <th>split4_test_score</th>\n",
              "      <th>mean_test_score</th>\n",
              "      <th>std_test_score</th>\n",
              "      <th>rank_test_score</th>\n",
              "    </tr>\n",
              "  </thead>\n",
              "  <tbody>\n",
              "    <tr>\n",
              "      <th>0</th>\n",
              "      <td>7.284802</td>\n",
              "      <td>0.157517</td>\n",
              "      <td>6.157013</td>\n",
              "      <td>0.263024</td>\n",
              "      <td>1</td>\n",
              "      <td>0.005</td>\n",
              "      <td>{'C': 1, 'gamma': 0.005}</td>\n",
              "      <td>0.825250</td>\n",
              "      <td>0.831966</td>\n",
              "      <td>0.824831</td>\n",
              "      <td>0.824831</td>\n",
              "      <td>0.832679</td>\n",
              "      <td>0.827911</td>\n",
              "      <td>0.003612</td>\n",
              "      <td>1</td>\n",
              "    </tr>\n",
              "    <tr>\n",
              "      <th>1</th>\n",
              "      <td>24.823688</td>\n",
              "      <td>0.359127</td>\n",
              "      <td>6.426312</td>\n",
              "      <td>0.175977</td>\n",
              "      <td>1</td>\n",
              "      <td>0.1</td>\n",
              "      <td>{'C': 1, 'gamma': 0.1}</td>\n",
              "      <td>0.051712</td>\n",
              "      <td>0.051374</td>\n",
              "      <td>0.051730</td>\n",
              "      <td>0.051374</td>\n",
              "      <td>0.051730</td>\n",
              "      <td>0.051584</td>\n",
              "      <td>0.000172</td>\n",
              "      <td>6</td>\n",
              "    </tr>\n",
              "    <tr>\n",
              "      <th>2</th>\n",
              "      <td>24.722136</td>\n",
              "      <td>0.161811</td>\n",
              "      <td>6.457196</td>\n",
              "      <td>0.301892</td>\n",
              "      <td>1</td>\n",
              "      <td>0.25</td>\n",
              "      <td>{'C': 1, 'gamma': 0.25}</td>\n",
              "      <td>0.051355</td>\n",
              "      <td>0.051374</td>\n",
              "      <td>0.051374</td>\n",
              "      <td>0.051374</td>\n",
              "      <td>0.051374</td>\n",
              "      <td>0.051370</td>\n",
              "      <td>0.000007</td>\n",
              "      <td>7</td>\n",
              "    </tr>\n",
              "    <tr>\n",
              "      <th>3</th>\n",
              "      <td>24.406835</td>\n",
              "      <td>0.147270</td>\n",
              "      <td>6.393900</td>\n",
              "      <td>0.121121</td>\n",
              "      <td>1</td>\n",
              "      <td>0.5</td>\n",
              "      <td>{'C': 1, 'gamma': 0.5}</td>\n",
              "      <td>0.051355</td>\n",
              "      <td>0.051374</td>\n",
              "      <td>0.051374</td>\n",
              "      <td>0.051374</td>\n",
              "      <td>0.051374</td>\n",
              "      <td>0.051370</td>\n",
              "      <td>0.000007</td>\n",
              "      <td>7</td>\n",
              "    </tr>\n",
              "    <tr>\n",
              "      <th>4</th>\n",
              "      <td>24.220857</td>\n",
              "      <td>0.238730</td>\n",
              "      <td>6.270762</td>\n",
              "      <td>0.025728</td>\n",
              "      <td>1</td>\n",
              "      <td>1.0</td>\n",
              "      <td>{'C': 1, 'gamma': 1.0}</td>\n",
              "      <td>0.051355</td>\n",
              "      <td>0.051374</td>\n",
              "      <td>0.051374</td>\n",
              "      <td>0.051374</td>\n",
              "      <td>0.051374</td>\n",
              "      <td>0.051370</td>\n",
              "      <td>0.000007</td>\n",
              "      <td>7</td>\n",
              "    </tr>\n",
              "    <tr>\n",
              "      <th>5</th>\n",
              "      <td>5.990174</td>\n",
              "      <td>0.038118</td>\n",
              "      <td>5.705932</td>\n",
              "      <td>0.307316</td>\n",
              "      <td>5</td>\n",
              "      <td>0.005</td>\n",
              "      <td>{'C': 5, 'gamma': 0.005}</td>\n",
              "      <td>0.802068</td>\n",
              "      <td>0.813057</td>\n",
              "      <td>0.800928</td>\n",
              "      <td>0.805922</td>\n",
              "      <td>0.798430</td>\n",
              "      <td>0.804081</td>\n",
              "      <td>0.005097</td>\n",
              "      <td>2</td>\n",
              "    </tr>\n",
              "    <tr>\n",
              "      <th>6</th>\n",
              "      <td>25.005063</td>\n",
              "      <td>0.189516</td>\n",
              "      <td>6.430455</td>\n",
              "      <td>0.275241</td>\n",
              "      <td>5</td>\n",
              "      <td>0.1</td>\n",
              "      <td>{'C': 5, 'gamma': 0.1}</td>\n",
              "      <td>0.053138</td>\n",
              "      <td>0.051730</td>\n",
              "      <td>0.052087</td>\n",
              "      <td>0.053514</td>\n",
              "      <td>0.053157</td>\n",
              "      <td>0.052725</td>\n",
              "      <td>0.000689</td>\n",
              "      <td>4</td>\n",
              "    </tr>\n",
              "    <tr>\n",
              "      <th>7</th>\n",
              "      <td>25.358097</td>\n",
              "      <td>0.246644</td>\n",
              "      <td>6.326386</td>\n",
              "      <td>0.026353</td>\n",
              "      <td>5</td>\n",
              "      <td>0.25</td>\n",
              "      <td>{'C': 5, 'gamma': 0.25}</td>\n",
              "      <td>0.051355</td>\n",
              "      <td>0.051374</td>\n",
              "      <td>0.051374</td>\n",
              "      <td>0.051374</td>\n",
              "      <td>0.051374</td>\n",
              "      <td>0.051370</td>\n",
              "      <td>0.000007</td>\n",
              "      <td>7</td>\n",
              "    </tr>\n",
              "    <tr>\n",
              "      <th>8</th>\n",
              "      <td>25.312688</td>\n",
              "      <td>0.211726</td>\n",
              "      <td>6.466430</td>\n",
              "      <td>0.294086</td>\n",
              "      <td>5</td>\n",
              "      <td>0.5</td>\n",
              "      <td>{'C': 5, 'gamma': 0.5}</td>\n",
              "      <td>0.051355</td>\n",
              "      <td>0.051374</td>\n",
              "      <td>0.051374</td>\n",
              "      <td>0.051374</td>\n",
              "      <td>0.051374</td>\n",
              "      <td>0.051370</td>\n",
              "      <td>0.000007</td>\n",
              "      <td>7</td>\n",
              "    </tr>\n",
              "    <tr>\n",
              "      <th>9</th>\n",
              "      <td>25.037134</td>\n",
              "      <td>0.231236</td>\n",
              "      <td>6.374895</td>\n",
              "      <td>0.199523</td>\n",
              "      <td>5</td>\n",
              "      <td>1.0</td>\n",
              "      <td>{'C': 5, 'gamma': 1.0}</td>\n",
              "      <td>0.051355</td>\n",
              "      <td>0.051374</td>\n",
              "      <td>0.051374</td>\n",
              "      <td>0.051374</td>\n",
              "      <td>0.051374</td>\n",
              "      <td>0.051370</td>\n",
              "      <td>0.000007</td>\n",
              "      <td>7</td>\n",
              "    </tr>\n",
              "    <tr>\n",
              "      <th>10</th>\n",
              "      <td>5.946035</td>\n",
              "      <td>0.117626</td>\n",
              "      <td>5.603495</td>\n",
              "      <td>0.041160</td>\n",
              "      <td>10</td>\n",
              "      <td>0.005</td>\n",
              "      <td>{'C': 10, 'gamma': 0.005}</td>\n",
              "      <td>0.802425</td>\n",
              "      <td>0.813057</td>\n",
              "      <td>0.798430</td>\n",
              "      <td>0.803425</td>\n",
              "      <td>0.798787</td>\n",
              "      <td>0.803225</td>\n",
              "      <td>0.005292</td>\n",
              "      <td>3</td>\n",
              "    </tr>\n",
              "    <tr>\n",
              "      <th>11</th>\n",
              "      <td>24.850518</td>\n",
              "      <td>0.109931</td>\n",
              "      <td>6.375179</td>\n",
              "      <td>0.185772</td>\n",
              "      <td>10</td>\n",
              "      <td>0.1</td>\n",
              "      <td>{'C': 10, 'gamma': 0.1}</td>\n",
              "      <td>0.053138</td>\n",
              "      <td>0.051730</td>\n",
              "      <td>0.052087</td>\n",
              "      <td>0.053514</td>\n",
              "      <td>0.053157</td>\n",
              "      <td>0.052725</td>\n",
              "      <td>0.000689</td>\n",
              "      <td>4</td>\n",
              "    </tr>\n",
              "    <tr>\n",
              "      <th>12</th>\n",
              "      <td>25.050252</td>\n",
              "      <td>0.129290</td>\n",
              "      <td>6.324252</td>\n",
              "      <td>0.171770</td>\n",
              "      <td>10</td>\n",
              "      <td>0.25</td>\n",
              "      <td>{'C': 10, 'gamma': 0.25}</td>\n",
              "      <td>0.051355</td>\n",
              "      <td>0.051374</td>\n",
              "      <td>0.051374</td>\n",
              "      <td>0.051374</td>\n",
              "      <td>0.051374</td>\n",
              "      <td>0.051370</td>\n",
              "      <td>0.000007</td>\n",
              "      <td>7</td>\n",
              "    </tr>\n",
              "    <tr>\n",
              "      <th>13</th>\n",
              "      <td>25.259374</td>\n",
              "      <td>0.183701</td>\n",
              "      <td>6.232667</td>\n",
              "      <td>0.035313</td>\n",
              "      <td>10</td>\n",
              "      <td>0.5</td>\n",
              "      <td>{'C': 10, 'gamma': 0.5}</td>\n",
              "      <td>0.051355</td>\n",
              "      <td>0.051374</td>\n",
              "      <td>0.051374</td>\n",
              "      <td>0.051374</td>\n",
              "      <td>0.051374</td>\n",
              "      <td>0.051370</td>\n",
              "      <td>0.000007</td>\n",
              "      <td>7</td>\n",
              "    </tr>\n",
              "    <tr>\n",
              "      <th>14</th>\n",
              "      <td>25.430464</td>\n",
              "      <td>0.468372</td>\n",
              "      <td>6.220887</td>\n",
              "      <td>0.012784</td>\n",
              "      <td>10</td>\n",
              "      <td>1.0</td>\n",
              "      <td>{'C': 10, 'gamma': 1.0}</td>\n",
              "      <td>0.051355</td>\n",
              "      <td>0.051374</td>\n",
              "      <td>0.051374</td>\n",
              "      <td>0.051374</td>\n",
              "      <td>0.051374</td>\n",
              "      <td>0.051370</td>\n",
              "      <td>0.000007</td>\n",
              "      <td>7</td>\n",
              "    </tr>\n",
              "  </tbody>\n",
              "</table>\n",
              "</div>\n",
              "      <button class=\"colab-df-convert\" onclick=\"convertToInteractive('df-75d3f507-a479-4482-83a8-0cb4e916b4ba')\"\n",
              "              title=\"Convert this dataframe to an interactive table.\"\n",
              "              style=\"display:none;\">\n",
              "        \n",
              "  <svg xmlns=\"http://www.w3.org/2000/svg\" height=\"24px\"viewBox=\"0 0 24 24\"\n",
              "       width=\"24px\">\n",
              "    <path d=\"M0 0h24v24H0V0z\" fill=\"none\"/>\n",
              "    <path d=\"M18.56 5.44l.94 2.06.94-2.06 2.06-.94-2.06-.94-.94-2.06-.94 2.06-2.06.94zm-11 1L8.5 8.5l.94-2.06 2.06-.94-2.06-.94L8.5 2.5l-.94 2.06-2.06.94zm10 10l.94 2.06.94-2.06 2.06-.94-2.06-.94-.94-2.06-.94 2.06-2.06.94z\"/><path d=\"M17.41 7.96l-1.37-1.37c-.4-.4-.92-.59-1.43-.59-.52 0-1.04.2-1.43.59L10.3 9.45l-7.72 7.72c-.78.78-.78 2.05 0 2.83L4 21.41c.39.39.9.59 1.41.59.51 0 1.02-.2 1.41-.59l7.78-7.78 2.81-2.81c.8-.78.8-2.07 0-2.86zM5.41 20L4 18.59l7.72-7.72 1.47 1.35L5.41 20z\"/>\n",
              "  </svg>\n",
              "      </button>\n",
              "      \n",
              "  <style>\n",
              "    .colab-df-container {\n",
              "      display:flex;\n",
              "      flex-wrap:wrap;\n",
              "      gap: 12px;\n",
              "    }\n",
              "\n",
              "    .colab-df-convert {\n",
              "      background-color: #E8F0FE;\n",
              "      border: none;\n",
              "      border-radius: 50%;\n",
              "      cursor: pointer;\n",
              "      display: none;\n",
              "      fill: #1967D2;\n",
              "      height: 32px;\n",
              "      padding: 0 0 0 0;\n",
              "      width: 32px;\n",
              "    }\n",
              "\n",
              "    .colab-df-convert:hover {\n",
              "      background-color: #E2EBFA;\n",
              "      box-shadow: 0px 1px 2px rgba(60, 64, 67, 0.3), 0px 1px 3px 1px rgba(60, 64, 67, 0.15);\n",
              "      fill: #174EA6;\n",
              "    }\n",
              "\n",
              "    [theme=dark] .colab-df-convert {\n",
              "      background-color: #3B4455;\n",
              "      fill: #D2E3FC;\n",
              "    }\n",
              "\n",
              "    [theme=dark] .colab-df-convert:hover {\n",
              "      background-color: #434B5C;\n",
              "      box-shadow: 0px 1px 3px 1px rgba(0, 0, 0, 0.15);\n",
              "      filter: drop-shadow(0px 1px 2px rgba(0, 0, 0, 0.3));\n",
              "      fill: #FFFFFF;\n",
              "    }\n",
              "  </style>\n",
              "\n",
              "      <script>\n",
              "        const buttonEl =\n",
              "          document.querySelector('#df-75d3f507-a479-4482-83a8-0cb4e916b4ba button.colab-df-convert');\n",
              "        buttonEl.style.display =\n",
              "          google.colab.kernel.accessAllowed ? 'block' : 'none';\n",
              "\n",
              "        async function convertToInteractive(key) {\n",
              "          const element = document.querySelector('#df-75d3f507-a479-4482-83a8-0cb4e916b4ba');\n",
              "          const dataTable =\n",
              "            await google.colab.kernel.invokeFunction('convertToInteractive',\n",
              "                                                     [key], {});\n",
              "          if (!dataTable) return;\n",
              "\n",
              "          const docLinkHtml = 'Like what you see? Visit the ' +\n",
              "            '<a target=\"_blank\" href=https://colab.research.google.com/notebooks/data_table.ipynb>data table notebook</a>'\n",
              "            + ' to learn more about interactive tables.';\n",
              "          element.innerHTML = '';\n",
              "          dataTable['output_type'] = 'display_data';\n",
              "          await google.colab.output.renderOutput(dataTable, element);\n",
              "          const docLink = document.createElement('div');\n",
              "          docLink.innerHTML = docLinkHtml;\n",
              "          element.appendChild(docLink);\n",
              "        }\n",
              "      </script>\n",
              "    </div>\n",
              "  </div>\n",
              "  "
            ]
          },
          "metadata": {},
          "execution_count": 19
        }
      ]
    },
    {
      "cell_type": "code",
      "source": [
        "# solution\n",
        "svc3 = SVC()\n",
        "clf3 = GridSearchCV(svc3,{'C':[0.1,0.5,1,1.5], 'gamma':[0.0005,0.005,0.05,0.5]})\n",
        "clf3.fit(dcs_flatten,kmeans.labels_)\n",
        "pd.DataFrame(clf3.cv_results_)"
      ],
      "metadata": {
        "id": "7yc-FXWjM_q6",
        "outputId": "47f53b8f-7276-4be5-f6f8-362463bf7e3a",
        "colab": {
          "base_uri": "https://localhost:8080/",
          "height": 1000
        }
      },
      "execution_count": 22,
      "outputs": [
        {
          "data": {
            "text/html": [
              "\n",
              "  <div id=\"df-d17da187-225a-48cd-a601-3c4e63393eb6\">\n",
              "    <div class=\"colab-df-container\">\n",
              "      <div>\n",
              "<style scoped>\n",
              "    .dataframe tbody tr th:only-of-type {\n",
              "        vertical-align: middle;\n",
              "    }\n",
              "\n",
              "    .dataframe tbody tr th {\n",
              "        vertical-align: top;\n",
              "    }\n",
              "\n",
              "    .dataframe thead th {\n",
              "        text-align: right;\n",
              "    }\n",
              "</style>\n",
              "<table border=\"1\" class=\"dataframe\">\n",
              "  <thead>\n",
              "    <tr style=\"text-align: right;\">\n",
              "      <th></th>\n",
              "      <th>mean_fit_time</th>\n",
              "      <th>std_fit_time</th>\n",
              "      <th>mean_score_time</th>\n",
              "      <th>std_score_time</th>\n",
              "      <th>param_C</th>\n",
              "      <th>param_gamma</th>\n",
              "      <th>params</th>\n",
              "      <th>split0_test_score</th>\n",
              "      <th>split1_test_score</th>\n",
              "      <th>split2_test_score</th>\n",
              "      <th>split3_test_score</th>\n",
              "      <th>split4_test_score</th>\n",
              "      <th>mean_test_score</th>\n",
              "      <th>std_test_score</th>\n",
              "      <th>rank_test_score</th>\n",
              "    </tr>\n",
              "  </thead>\n",
              "  <tbody>\n",
              "    <tr>\n",
              "      <th>0</th>\n",
              "      <td>20.659192</td>\n",
              "      <td>0.090272</td>\n",
              "      <td>6.736756</td>\n",
              "      <td>0.403427</td>\n",
              "      <td>0.1</td>\n",
              "      <td>0.0005</td>\n",
              "      <td>{'C': 0.1, 'gamma': 0.0005}</td>\n",
              "      <td>0.051355</td>\n",
              "      <td>0.051374</td>\n",
              "      <td>0.051374</td>\n",
              "      <td>0.051374</td>\n",
              "      <td>0.051374</td>\n",
              "      <td>0.051370</td>\n",
              "      <td>0.000007</td>\n",
              "      <td>11</td>\n",
              "    </tr>\n",
              "    <tr>\n",
              "      <th>1</th>\n",
              "      <td>15.661459</td>\n",
              "      <td>0.073185</td>\n",
              "      <td>6.443017</td>\n",
              "      <td>0.044005</td>\n",
              "      <td>0.1</td>\n",
              "      <td>0.005</td>\n",
              "      <td>{'C': 0.1, 'gamma': 0.005}</td>\n",
              "      <td>0.716120</td>\n",
              "      <td>0.727435</td>\n",
              "      <td>0.713164</td>\n",
              "      <td>0.713521</td>\n",
              "      <td>0.710310</td>\n",
              "      <td>0.716110</td>\n",
              "      <td>0.005954</td>\n",
              "      <td>6</td>\n",
              "    </tr>\n",
              "    <tr>\n",
              "      <th>2</th>\n",
              "      <td>23.072471</td>\n",
              "      <td>0.296814</td>\n",
              "      <td>6.500485</td>\n",
              "      <td>0.109883</td>\n",
              "      <td>0.1</td>\n",
              "      <td>0.05</td>\n",
              "      <td>{'C': 0.1, 'gamma': 0.05}</td>\n",
              "      <td>0.051355</td>\n",
              "      <td>0.051374</td>\n",
              "      <td>0.051374</td>\n",
              "      <td>0.051374</td>\n",
              "      <td>0.051374</td>\n",
              "      <td>0.051370</td>\n",
              "      <td>0.000007</td>\n",
              "      <td>11</td>\n",
              "    </tr>\n",
              "    <tr>\n",
              "      <th>3</th>\n",
              "      <td>23.981224</td>\n",
              "      <td>0.048564</td>\n",
              "      <td>6.414092</td>\n",
              "      <td>0.012426</td>\n",
              "      <td>0.1</td>\n",
              "      <td>0.5</td>\n",
              "      <td>{'C': 0.1, 'gamma': 0.5}</td>\n",
              "      <td>0.051355</td>\n",
              "      <td>0.051374</td>\n",
              "      <td>0.051374</td>\n",
              "      <td>0.051374</td>\n",
              "      <td>0.051374</td>\n",
              "      <td>0.051370</td>\n",
              "      <td>0.000007</td>\n",
              "      <td>11</td>\n",
              "    </tr>\n",
              "    <tr>\n",
              "      <th>4</th>\n",
              "      <td>16.614043</td>\n",
              "      <td>0.097056</td>\n",
              "      <td>6.440758</td>\n",
              "      <td>0.031025</td>\n",
              "      <td>0.5</td>\n",
              "      <td>0.0005</td>\n",
              "      <td>{'C': 0.5, 'gamma': 0.0005}</td>\n",
              "      <td>0.677960</td>\n",
              "      <td>0.680342</td>\n",
              "      <td>0.665359</td>\n",
              "      <td>0.668569</td>\n",
              "      <td>0.665715</td>\n",
              "      <td>0.671589</td>\n",
              "      <td>0.006319</td>\n",
              "      <td>7</td>\n",
              "    </tr>\n",
              "    <tr>\n",
              "      <th>5</th>\n",
              "      <td>8.803315</td>\n",
              "      <td>0.035563</td>\n",
              "      <td>6.199280</td>\n",
              "      <td>0.031132</td>\n",
              "      <td>0.5</td>\n",
              "      <td>0.005</td>\n",
              "      <td>{'C': 0.5, 'gamma': 0.005}</td>\n",
              "      <td>0.835949</td>\n",
              "      <td>0.838744</td>\n",
              "      <td>0.825901</td>\n",
              "      <td>0.838031</td>\n",
              "      <td>0.848020</td>\n",
              "      <td>0.837329</td>\n",
              "      <td>0.007061</td>\n",
              "      <td>1</td>\n",
              "    </tr>\n",
              "    <tr>\n",
              "      <th>6</th>\n",
              "      <td>23.251704</td>\n",
              "      <td>0.086269</td>\n",
              "      <td>6.520862</td>\n",
              "      <td>0.079423</td>\n",
              "      <td>0.5</td>\n",
              "      <td>0.05</td>\n",
              "      <td>{'C': 0.5, 'gamma': 0.05}</td>\n",
              "      <td>0.274251</td>\n",
              "      <td>0.268284</td>\n",
              "      <td>0.263646</td>\n",
              "      <td>0.270068</td>\n",
              "      <td>0.254014</td>\n",
              "      <td>0.266052</td>\n",
              "      <td>0.006914</td>\n",
              "      <td>10</td>\n",
              "    </tr>\n",
              "    <tr>\n",
              "      <th>7</th>\n",
              "      <td>24.219927</td>\n",
              "      <td>0.072435</td>\n",
              "      <td>6.477829</td>\n",
              "      <td>0.052315</td>\n",
              "      <td>0.5</td>\n",
              "      <td>0.5</td>\n",
              "      <td>{'C': 0.5, 'gamma': 0.5}</td>\n",
              "      <td>0.051355</td>\n",
              "      <td>0.051374</td>\n",
              "      <td>0.051374</td>\n",
              "      <td>0.051374</td>\n",
              "      <td>0.051374</td>\n",
              "      <td>0.051370</td>\n",
              "      <td>0.000007</td>\n",
              "      <td>11</td>\n",
              "    </tr>\n",
              "    <tr>\n",
              "      <th>8</th>\n",
              "      <td>12.914760</td>\n",
              "      <td>0.054265</td>\n",
              "      <td>6.429727</td>\n",
              "      <td>0.045351</td>\n",
              "      <td>1</td>\n",
              "      <td>0.0005</td>\n",
              "      <td>{'C': 1, 'gamma': 0.0005}</td>\n",
              "      <td>0.801712</td>\n",
              "      <td>0.818409</td>\n",
              "      <td>0.797717</td>\n",
              "      <td>0.794863</td>\n",
              "      <td>0.810560</td>\n",
              "      <td>0.804652</td>\n",
              "      <td>0.008680</td>\n",
              "      <td>5</td>\n",
              "    </tr>\n",
              "    <tr>\n",
              "      <th>9</th>\n",
              "      <td>7.196459</td>\n",
              "      <td>0.081837</td>\n",
              "      <td>6.014275</td>\n",
              "      <td>0.024317</td>\n",
              "      <td>1</td>\n",
              "      <td>0.005</td>\n",
              "      <td>{'C': 1, 'gamma': 0.005}</td>\n",
              "      <td>0.825250</td>\n",
              "      <td>0.831966</td>\n",
              "      <td>0.824831</td>\n",
              "      <td>0.824831</td>\n",
              "      <td>0.832679</td>\n",
              "      <td>0.827911</td>\n",
              "      <td>0.003612</td>\n",
              "      <td>3</td>\n",
              "    </tr>\n",
              "    <tr>\n",
              "      <th>10</th>\n",
              "      <td>24.290317</td>\n",
              "      <td>0.055686</td>\n",
              "      <td>6.379492</td>\n",
              "      <td>0.027034</td>\n",
              "      <td>1</td>\n",
              "      <td>0.05</td>\n",
              "      <td>{'C': 1, 'gamma': 0.05}</td>\n",
              "      <td>0.657989</td>\n",
              "      <td>0.661077</td>\n",
              "      <td>0.656796</td>\n",
              "      <td>0.648234</td>\n",
              "      <td>0.635747</td>\n",
              "      <td>0.651969</td>\n",
              "      <td>0.009161</td>\n",
              "      <td>9</td>\n",
              "    </tr>\n",
              "    <tr>\n",
              "      <th>11</th>\n",
              "      <td>24.448543</td>\n",
              "      <td>0.038836</td>\n",
              "      <td>6.409127</td>\n",
              "      <td>0.053932</td>\n",
              "      <td>1</td>\n",
              "      <td>0.5</td>\n",
              "      <td>{'C': 1, 'gamma': 0.5}</td>\n",
              "      <td>0.051355</td>\n",
              "      <td>0.051374</td>\n",
              "      <td>0.051374</td>\n",
              "      <td>0.051374</td>\n",
              "      <td>0.051374</td>\n",
              "      <td>0.051370</td>\n",
              "      <td>0.000007</td>\n",
              "      <td>11</td>\n",
              "    </tr>\n",
              "    <tr>\n",
              "      <th>12</th>\n",
              "      <td>11.039303</td>\n",
              "      <td>0.043720</td>\n",
              "      <td>6.317743</td>\n",
              "      <td>0.018269</td>\n",
              "      <td>1.5</td>\n",
              "      <td>0.0005</td>\n",
              "      <td>{'C': 1.5, 'gamma': 0.0005}</td>\n",
              "      <td>0.823466</td>\n",
              "      <td>0.841598</td>\n",
              "      <td>0.822690</td>\n",
              "      <td>0.816982</td>\n",
              "      <td>0.837317</td>\n",
              "      <td>0.828411</td>\n",
              "      <td>0.009392</td>\n",
              "      <td>2</td>\n",
              "    </tr>\n",
              "    <tr>\n",
              "      <th>13</th>\n",
              "      <td>6.671070</td>\n",
              "      <td>0.091215</td>\n",
              "      <td>5.958079</td>\n",
              "      <td>0.021926</td>\n",
              "      <td>1.5</td>\n",
              "      <td>0.005</td>\n",
              "      <td>{'C': 1.5, 'gamma': 0.005}</td>\n",
              "      <td>0.814907</td>\n",
              "      <td>0.827328</td>\n",
              "      <td>0.816268</td>\n",
              "      <td>0.817339</td>\n",
              "      <td>0.816982</td>\n",
              "      <td>0.818565</td>\n",
              "      <td>0.004460</td>\n",
              "      <td>4</td>\n",
              "    </tr>\n",
              "    <tr>\n",
              "      <th>14</th>\n",
              "      <td>24.212603</td>\n",
              "      <td>0.077457</td>\n",
              "      <td>6.461634</td>\n",
              "      <td>0.082069</td>\n",
              "      <td>1.5</td>\n",
              "      <td>0.05</td>\n",
              "      <td>{'C': 1.5, 'gamma': 0.05}</td>\n",
              "      <td>0.671541</td>\n",
              "      <td>0.677132</td>\n",
              "      <td>0.675705</td>\n",
              "      <td>0.660721</td>\n",
              "      <td>0.653942</td>\n",
              "      <td>0.667808</td>\n",
              "      <td>0.009008</td>\n",
              "      <td>8</td>\n",
              "    </tr>\n",
              "    <tr>\n",
              "      <th>15</th>\n",
              "      <td>25.385698</td>\n",
              "      <td>0.100710</td>\n",
              "      <td>6.446384</td>\n",
              "      <td>0.036079</td>\n",
              "      <td>1.5</td>\n",
              "      <td>0.5</td>\n",
              "      <td>{'C': 1.5, 'gamma': 0.5}</td>\n",
              "      <td>0.051355</td>\n",
              "      <td>0.051374</td>\n",
              "      <td>0.051374</td>\n",
              "      <td>0.051374</td>\n",
              "      <td>0.051374</td>\n",
              "      <td>0.051370</td>\n",
              "      <td>0.000007</td>\n",
              "      <td>11</td>\n",
              "    </tr>\n",
              "  </tbody>\n",
              "</table>\n",
              "</div>\n",
              "      <button class=\"colab-df-convert\" onclick=\"convertToInteractive('df-d17da187-225a-48cd-a601-3c4e63393eb6')\"\n",
              "              title=\"Convert this dataframe to an interactive table.\"\n",
              "              style=\"display:none;\">\n",
              "        \n",
              "  <svg xmlns=\"http://www.w3.org/2000/svg\" height=\"24px\"viewBox=\"0 0 24 24\"\n",
              "       width=\"24px\">\n",
              "    <path d=\"M0 0h24v24H0V0z\" fill=\"none\"/>\n",
              "    <path d=\"M18.56 5.44l.94 2.06.94-2.06 2.06-.94-2.06-.94-.94-2.06-.94 2.06-2.06.94zm-11 1L8.5 8.5l.94-2.06 2.06-.94-2.06-.94L8.5 2.5l-.94 2.06-2.06.94zm10 10l.94 2.06.94-2.06 2.06-.94-2.06-.94-.94-2.06-.94 2.06-2.06.94z\"/><path d=\"M17.41 7.96l-1.37-1.37c-.4-.4-.92-.59-1.43-.59-.52 0-1.04.2-1.43.59L10.3 9.45l-7.72 7.72c-.78.78-.78 2.05 0 2.83L4 21.41c.39.39.9.59 1.41.59.51 0 1.02-.2 1.41-.59l7.78-7.78 2.81-2.81c.8-.78.8-2.07 0-2.86zM5.41 20L4 18.59l7.72-7.72 1.47 1.35L5.41 20z\"/>\n",
              "  </svg>\n",
              "      </button>\n",
              "      \n",
              "  <style>\n",
              "    .colab-df-container {\n",
              "      display:flex;\n",
              "      flex-wrap:wrap;\n",
              "      gap: 12px;\n",
              "    }\n",
              "\n",
              "    .colab-df-convert {\n",
              "      background-color: #E8F0FE;\n",
              "      border: none;\n",
              "      border-radius: 50%;\n",
              "      cursor: pointer;\n",
              "      display: none;\n",
              "      fill: #1967D2;\n",
              "      height: 32px;\n",
              "      padding: 0 0 0 0;\n",
              "      width: 32px;\n",
              "    }\n",
              "\n",
              "    .colab-df-convert:hover {\n",
              "      background-color: #E2EBFA;\n",
              "      box-shadow: 0px 1px 2px rgba(60, 64, 67, 0.3), 0px 1px 3px 1px rgba(60, 64, 67, 0.15);\n",
              "      fill: #174EA6;\n",
              "    }\n",
              "\n",
              "    [theme=dark] .colab-df-convert {\n",
              "      background-color: #3B4455;\n",
              "      fill: #D2E3FC;\n",
              "    }\n",
              "\n",
              "    [theme=dark] .colab-df-convert:hover {\n",
              "      background-color: #434B5C;\n",
              "      box-shadow: 0px 1px 3px 1px rgba(0, 0, 0, 0.15);\n",
              "      filter: drop-shadow(0px 1px 2px rgba(0, 0, 0, 0.3));\n",
              "      fill: #FFFFFF;\n",
              "    }\n",
              "  </style>\n",
              "\n",
              "      <script>\n",
              "        const buttonEl =\n",
              "          document.querySelector('#df-d17da187-225a-48cd-a601-3c4e63393eb6 button.colab-df-convert');\n",
              "        buttonEl.style.display =\n",
              "          google.colab.kernel.accessAllowed ? 'block' : 'none';\n",
              "\n",
              "        async function convertToInteractive(key) {\n",
              "          const element = document.querySelector('#df-d17da187-225a-48cd-a601-3c4e63393eb6');\n",
              "          const dataTable =\n",
              "            await google.colab.kernel.invokeFunction('convertToInteractive',\n",
              "                                                     [key], {});\n",
              "          if (!dataTable) return;\n",
              "\n",
              "          const docLinkHtml = 'Like what you see? Visit the ' +\n",
              "            '<a target=\"_blank\" href=https://colab.research.google.com/notebooks/data_table.ipynb>data table notebook</a>'\n",
              "            + ' to learn more about interactive tables.';\n",
              "          element.innerHTML = '';\n",
              "          dataTable['output_type'] = 'display_data';\n",
              "          await google.colab.output.renderOutput(dataTable, element);\n",
              "          const docLink = document.createElement('div');\n",
              "          docLink.innerHTML = docLinkHtml;\n",
              "          element.appendChild(docLink);\n",
              "        }\n",
              "      </script>\n",
              "    </div>\n",
              "  </div>\n",
              "  "
            ],
            "text/plain": [
              "    mean_fit_time  std_fit_time  mean_score_time  std_score_time param_C  \\\n",
              "0       20.659192      0.090272         6.736756        0.403427     0.1   \n",
              "1       15.661459      0.073185         6.443017        0.044005     0.1   \n",
              "2       23.072471      0.296814         6.500485        0.109883     0.1   \n",
              "3       23.981224      0.048564         6.414092        0.012426     0.1   \n",
              "4       16.614043      0.097056         6.440758        0.031025     0.5   \n",
              "5        8.803315      0.035563         6.199280        0.031132     0.5   \n",
              "6       23.251704      0.086269         6.520862        0.079423     0.5   \n",
              "7       24.219927      0.072435         6.477829        0.052315     0.5   \n",
              "8       12.914760      0.054265         6.429727        0.045351       1   \n",
              "9        7.196459      0.081837         6.014275        0.024317       1   \n",
              "10      24.290317      0.055686         6.379492        0.027034       1   \n",
              "11      24.448543      0.038836         6.409127        0.053932       1   \n",
              "12      11.039303      0.043720         6.317743        0.018269     1.5   \n",
              "13       6.671070      0.091215         5.958079        0.021926     1.5   \n",
              "14      24.212603      0.077457         6.461634        0.082069     1.5   \n",
              "15      25.385698      0.100710         6.446384        0.036079     1.5   \n",
              "\n",
              "   param_gamma                       params  split0_test_score  \\\n",
              "0       0.0005  {'C': 0.1, 'gamma': 0.0005}           0.051355   \n",
              "1        0.005   {'C': 0.1, 'gamma': 0.005}           0.716120   \n",
              "2         0.05    {'C': 0.1, 'gamma': 0.05}           0.051355   \n",
              "3          0.5     {'C': 0.1, 'gamma': 0.5}           0.051355   \n",
              "4       0.0005  {'C': 0.5, 'gamma': 0.0005}           0.677960   \n",
              "5        0.005   {'C': 0.5, 'gamma': 0.005}           0.835949   \n",
              "6         0.05    {'C': 0.5, 'gamma': 0.05}           0.274251   \n",
              "7          0.5     {'C': 0.5, 'gamma': 0.5}           0.051355   \n",
              "8       0.0005    {'C': 1, 'gamma': 0.0005}           0.801712   \n",
              "9        0.005     {'C': 1, 'gamma': 0.005}           0.825250   \n",
              "10        0.05      {'C': 1, 'gamma': 0.05}           0.657989   \n",
              "11         0.5       {'C': 1, 'gamma': 0.5}           0.051355   \n",
              "12      0.0005  {'C': 1.5, 'gamma': 0.0005}           0.823466   \n",
              "13       0.005   {'C': 1.5, 'gamma': 0.005}           0.814907   \n",
              "14        0.05    {'C': 1.5, 'gamma': 0.05}           0.671541   \n",
              "15         0.5     {'C': 1.5, 'gamma': 0.5}           0.051355   \n",
              "\n",
              "    split1_test_score  split2_test_score  split3_test_score  \\\n",
              "0            0.051374           0.051374           0.051374   \n",
              "1            0.727435           0.713164           0.713521   \n",
              "2            0.051374           0.051374           0.051374   \n",
              "3            0.051374           0.051374           0.051374   \n",
              "4            0.680342           0.665359           0.668569   \n",
              "5            0.838744           0.825901           0.838031   \n",
              "6            0.268284           0.263646           0.270068   \n",
              "7            0.051374           0.051374           0.051374   \n",
              "8            0.818409           0.797717           0.794863   \n",
              "9            0.831966           0.824831           0.824831   \n",
              "10           0.661077           0.656796           0.648234   \n",
              "11           0.051374           0.051374           0.051374   \n",
              "12           0.841598           0.822690           0.816982   \n",
              "13           0.827328           0.816268           0.817339   \n",
              "14           0.677132           0.675705           0.660721   \n",
              "15           0.051374           0.051374           0.051374   \n",
              "\n",
              "    split4_test_score  mean_test_score  std_test_score  rank_test_score  \n",
              "0            0.051374         0.051370        0.000007               11  \n",
              "1            0.710310         0.716110        0.005954                6  \n",
              "2            0.051374         0.051370        0.000007               11  \n",
              "3            0.051374         0.051370        0.000007               11  \n",
              "4            0.665715         0.671589        0.006319                7  \n",
              "5            0.848020         0.837329        0.007061                1  \n",
              "6            0.254014         0.266052        0.006914               10  \n",
              "7            0.051374         0.051370        0.000007               11  \n",
              "8            0.810560         0.804652        0.008680                5  \n",
              "9            0.832679         0.827911        0.003612                3  \n",
              "10           0.635747         0.651969        0.009161                9  \n",
              "11           0.051374         0.051370        0.000007               11  \n",
              "12           0.837317         0.828411        0.009392                2  \n",
              "13           0.816982         0.818565        0.004460                4  \n",
              "14           0.653942         0.667808        0.009008                8  \n",
              "15           0.051374         0.051370        0.000007               11  "
            ]
          },
          "execution_count": 22,
          "metadata": {},
          "output_type": "execute_result"
        }
      ]
    },
    {
      "cell_type": "code",
      "source": [
        "clf3"
      ],
      "metadata": {
        "id": "snOeP9aIi1yU",
        "outputId": "a90911df-7da3-4596-ec8e-a0e65ee53177",
        "colab": {
          "base_uri": "https://localhost:8080/"
        }
      },
      "execution_count": 26,
      "outputs": [
        {
          "output_type": "execute_result",
          "data": {
            "text/plain": [
              "GridSearchCV(estimator=SVC(),\n",
              "             param_grid={'C': [0.1, 0.5, 1, 1.5],\n",
              "                         'gamma': [0.0005, 0.005, 0.05, 0.5]})"
            ]
          },
          "metadata": {},
          "execution_count": 26
        }
      ]
    },
    {
      "cell_type": "markdown",
      "metadata": {
        "id": "eqThTmO5j1-p"
      },
      "source": [
        "# Testing the Classification Model\n",
        "\n",
        "*   Extract descriptors using ORB for the test split\n",
        "*   Use the previously trained k-means to generate the histogram\n",
        "*   Use the classifier to predict the label\n"
      ]
    },
    {
      "cell_type": "code",
      "metadata": {
        "id": "x2Gzbww9e0pP",
        "colab": {
          "base_uri": "https://localhost:8080/",
          "height": 295
        },
        "outputId": "de871a5f-a397-4193-802e-8dfc4c8dcd94"
      },
      "source": [
        "# solution\n",
        "kps_test,dcs_test = get_multi_ORB(descriptor_extractor,x_test)\n",
        "dcs_test_flatten =  np.reshape(dcs_test, (len(dcs_test)*dcs_test.shape[1],dcs_test.shape[2]))\n",
        "tst_labs = kmeans.predict(dcs_test_flatten)\n",
        "\n",
        "plt.bar(list(range(30)),ske.histogram(tst_labs, 30)[0])\n",
        "plt.title('Frequency of Visual Words Test Data')\n",
        "plt.ylabel('Number of visual words')\n",
        "plt.xlabel('Clusters')\n",
        "\n",
        "preds = clf3.predict(dcs_test_flatten)\n"
      ],
      "execution_count": 29,
      "outputs": [
        {
          "output_type": "display_data",
          "data": {
            "text/plain": [
              "<Figure size 432x288 with 1 Axes>"
            ],
            "image/png": "[encoded data removed]"
          },
          "metadata": {
            "needs_background": "light"
          }
        }
      ]
    },
    {
      "cell_type": "markdown",
      "metadata": {
        "id": "gGyQUtU3lAEz"
      },
      "source": [
        "*   Calculate the accuracy score for the classification model"
      ]
    },
    {
      "cell_type": "code",
      "metadata": {
        "id": "PszxSB0Ek_Lt",
        "colab": {
          "base_uri": "https://localhost:8080/"
        },
        "outputId": "97860a30-bfe3-478d-992e-cefdb65890f2"
      },
      "source": [
        "# solution\n",
        "from sklearn.metrics import accuracy_score, classification_report, confusion_matrix\n",
        "print(accuracy_score(tst_labs, preds))"
      ],
      "execution_count": 30,
      "outputs": [
        {
          "output_type": "stream",
          "name": "stdout",
          "text": [
            "0.8425\n"
          ]
        }
      ]
    },
    {
      "cell_type": "markdown",
      "metadata": {
        "id": "drlq-5AM615_"
      },
      "source": [
        "*   Generate the confusion matrix for the classification model"
      ]
    },
    {
      "cell_type": "code",
      "metadata": {
        "id": "NpqXVYrw61OG",
        "colab": {
          "base_uri": "https://localhost:8080/",
          "height": 861
        },
        "outputId": "f752acfc-b64f-4547-e14e-d8c6792ff887"
      },
      "source": [
        "# solution\n",
        "from customplots import plot_confusion_matrix\n",
        "target_names  = list(range(30))\n",
        "plot_confusion_matrix(confusion_matrix(tst_labs, preds),target_names,False,'YlGnBu', 'Confusion matrix of visual words classification')"
      ],
      "execution_count": 40,
      "outputs": [
        {
          "output_type": "display_data",
          "data": {
            "text/plain": [
              "<Figure size 1008x1008 with 2 Axes>"
            ],
            "image/png": "[encoded data removed]"
          },
          "metadata": {
            "needs_background": "light"
          }
        }
      ]
    },
    {
      "cell_type": "code",
      "source": [
        "# solution\n",
        "from customplots import plot_confusion_matrix\n",
        "target_names  = list(range(30))\n",
        "plot_confusion_matrix(confusion_matrix(tst_labs, preds),target_names,True,'YlGnBu', 'Normalized confusion matrix of visual words classification',fsizes={'font':8})"
      ],
      "metadata": {
        "id": "qXc6gpyJsXui",
        "outputId": "86590c96-6b84-407e-fba1-25ade4ad701f",
        "colab": {
          "base_uri": "https://localhost:8080/",
          "height": 857
        }
      },
      "execution_count": 42,
      "outputs": [
        {
          "output_type": "display_data",
          "data": {
            "text/plain": [
              "<Figure size 1008x1008 with 2 Axes>"
            ],
            "image/png": "[encoded data removed]"
          },
          "metadata": {
            "needs_background": "light"
          }
        }
      ]
    },
    {
      "cell_type": "markdown",
      "metadata": {
        "id": "7TN4rRra9yv_"
      },
      "source": [
        "*   Why do we use Clustering to create the codebook? \n",
        "*   What are the other techniques that can be used to create the codebook?"
      ]
    },
    {
      "cell_type": "markdown",
      "metadata": {
        "id": "Ri9kU3wa3Rei"
      },
      "source": [
        "**Solution**\n",
        "\n",
        "*(Double-click or enter to edit)*\n",
        "\n",
        "..."
      ]
    },
    {
      "cell_type": "markdown",
      "source": [
        "# Increased Feature Dimensions\n",
        "\n",
        "*   Repeat the classification using features of 256 ORB keypoints."
      ],
      "metadata": {
        "id": "b47OqebCOXpq"
      }
    },
    {
      "cell_type": "code",
      "source": [
        "kps_train256,dcs_train256 = get_multi_ORB(descriptor_extractor256, x_train)"
      ],
      "metadata": {
        "id": "TFvrOaievczw",
        "outputId": "330b389b-a40f-41a3-976a-30ed9da2bdc0",
        "colab": {
          "base_uri": "https://localhost:8080/"
        }
      },
      "execution_count": 99,
      "outputs": [
        {
          "output_type": "stream",
          "name": "stderr",
          "text": [
            "/content/utils.py:28: VisibleDeprecationWarning: Creating an ndarray from ragged nested sequences (which is a list-or-tuple of lists-or-tuples-or ndarrays with different lengths or shapes) is deprecated. If you meant to do this, you must specify 'dtype=object' when creating the ndarray.\n",
            "  return np.array(keypoints), descriptors\n"
          ]
        }
      ]
    },
    {
      "cell_type": "code",
      "source": [
        "set([item.shape for item in dcs_train256])"
      ],
      "metadata": {
        "id": "nobYrijJxqSJ",
        "outputId": "9a4359b8-a32e-4ee7-8fab-b83ada8e1a8b",
        "colab": {
          "base_uri": "https://localhost:8080/"
        }
      },
      "execution_count": 100,
      "outputs": [
        {
          "output_type": "execute_result",
          "data": {
            "text/plain": [
              "{(231, 256), (256, 256)}"
            ]
          },
          "metadata": {},
          "execution_count": 100
        }
      ]
    },
    {
      "cell_type": "code",
      "source": [
        "[n for n, item in enumerate(dcs_train256) if item.shape != (256,256)]"
      ],
      "metadata": {
        "id": "QVInj9PJyhdW",
        "outputId": "8a4b50b3-98b3-4403-9300-5916456f4384",
        "colab": {
          "base_uri": "https://localhost:8080/"
        }
      },
      "execution_count": 101,
      "outputs": [
        {
          "output_type": "execute_result",
          "data": {
            "text/plain": [
              "[42]"
            ]
          },
          "metadata": {},
          "execution_count": 101
        }
      ]
    },
    {
      "cell_type": "code",
      "source": [
        "x_train[42].shape"
      ],
      "metadata": {
        "id": "jXe80CGTzC5Q",
        "outputId": "2ae18c7b-b6c6-426b-f765-1ff6a1a22e53",
        "colab": {
          "base_uri": "https://localhost:8080/"
        }
      },
      "execution_count": 102,
      "outputs": [
        {
          "output_type": "execute_result",
          "data": {
            "text/plain": [
              "(232, 300, 3)"
            ]
          },
          "metadata": {},
          "execution_count": 102
        }
      ]
    },
    {
      "cell_type": "code",
      "source": [
        "dcs_train256[42].shape"
      ],
      "metadata": {
        "id": "FGdvF557y5-m",
        "outputId": "f2e5e4a0-9997-41fe-e91a-8e08784e4245",
        "colab": {
          "base_uri": "https://localhost:8080/"
        }
      },
      "execution_count": 103,
      "outputs": [
        {
          "output_type": "execute_result",
          "data": {
            "text/plain": [
              "(231, 256)"
            ]
          },
          "metadata": {},
          "execution_count": 103
        }
      ]
    },
    {
      "cell_type": "code",
      "source": [
        "r = list(np.array(dcs_train256))\n",
        "s = r.pop(42)"
      ],
      "metadata": {
        "id": "ghC5Isd31-5t"
      },
      "execution_count": 104,
      "outputs": []
    },
    {
      "cell_type": "code",
      "source": [
        "218*256"
      ],
      "metadata": {
        "id": "momikQ534sn8",
        "outputId": "253e5d3f-73b6-4da2-e1f0-1e9fac0fdf0d",
        "colab": {
          "base_uri": "https://localhost:8080/"
        }
      },
      "execution_count": 117,
      "outputs": [
        {
          "output_type": "execute_result",
          "data": {
            "text/plain": [
              "55808"
            ]
          },
          "metadata": {},
          "execution_count": 117
        }
      ]
    },
    {
      "cell_type": "code",
      "source": [
        "np.concatenate((np.reshape(np.array(r), (218*256,256)),s)).shape"
      ],
      "metadata": {
        "id": "CfFWLklZ2eRT",
        "outputId": "62f8ea8b-16ab-4b09-da10-52441e63394f",
        "colab": {
          "base_uri": "https://localhost:8080/"
        }
      },
      "execution_count": 115,
      "outputs": [
        {
          "output_type": "execute_result",
          "data": {
            "text/plain": [
              "(56039, 256)"
            ]
          },
          "metadata": {},
          "execution_count": 115
        }
      ]
    },
    {
      "cell_type": "code",
      "source": [
        "np.delete(list(np.array(dcs_train256)),42).shape"
      ],
      "metadata": {
        "id": "j-I5RHGrzT32",
        "outputId": "eb595e31-970a-4d61-f115-cc70a1096ddc",
        "colab": {
          "base_uri": "https://localhost:8080/"
        }
      },
      "execution_count": 85,
      "outputs": [
        {
          "output_type": "stream",
          "name": "stderr",
          "text": [
            "/usr/local/lib/python3.7/dist-packages/ipykernel_launcher.py:1: VisibleDeprecationWarning: Creating an ndarray from ragged nested sequences (which is a list-or-tuple of lists-or-tuples-or ndarrays with different lengths or shapes) is deprecated. If you meant to do this, you must specify 'dtype=object' when creating the ndarray.\n",
            "  \"\"\"Entry point for launching an IPython kernel.\n"
          ]
        },
        {
          "output_type": "execute_result",
          "data": {
            "text/plain": [
              "(218,)"
            ]
          },
          "metadata": {},
          "execution_count": 85
        }
      ]
    },
    {
      "cell_type": "code",
      "source": [
        "# Creating the descriptor ectractor for 256 keypoints\n",
        "descriptor_extractor256 = feature.ORB(n_keypoints=256)\n",
        "\n",
        "# Getting keypoints and descriptors of train data \n",
        "kps_train256,dcs_train256 = get_multi_ORB(descriptor_extractor256, x_train)\n",
        "\n",
        "# One image has shape (232*300) the dimension (232) does not allow us to get \n",
        "# 256 descriptors, we can get just 231 descriptors, this produces an error to \n",
        "# reshape the array, so we make a movement to extract it and add it at the end\n",
        "dcs_train256 = list(dcs_train256)\n",
        "deleted = dcs_train256.pop(42)\n",
        "dcs_train256 = np.array(dcs_train256)\n",
        "\n",
        "# Flattening the data and applying clustering with k-means - 30 clusters (codewords)\n",
        "dcs_flatten256 = np.reshape(dcs_train256, (len(dcs_train256)*dcs_train256[0].shape[0],dcs_train256[0].shape[1]))\n",
        "dcs_flatten256 = np.concatenate((dcs_flatten256,deleted)) # Adding the deleted group of image descriptors\n",
        "print(dcs_flatten256.shape)\n",
        "kmeans256 = MiniBatchKMeans(n_clusters=len(categories)*10).fit(dcs_flatten256)\n",
        "\n",
        "#Plotting the histogram of visual words frequencies\n",
        "plt.bar(list(range(30)),ske.histogram(kmeans256.labels_, 30)[0])\n",
        "plt.title('Frequency of Visual Words Training Data (256)')\n",
        "plt.ylabel('Number of visual words')\n",
        "plt.xlabel('Clusters')\n",
        "\n",
        "\n",
        "# Looking for the best classifier model in this task\n",
        "svc256 = SVC()\n",
        "clf256 = GridSearchCV(svc256,{'C':[0.5,1,5,8,10,15], 'gamma':['scale','auto',0.005]})\n",
        "clf256.fit(dcs_flatten256,kmeans256.labels_)\n",
        "\n",
        "# Getting keypoints and descriptors of test data, flattening & applying k-means\n",
        "kps_test256,dcs_test256 = get_multi_ORB(descriptor_extractor256,x_test)\n",
        "dcs_test_flatten256 =  np.reshape(dcs_test256, (len(dcs_test256)*dcs_test256.shape[1],dcs_test256.shape[2]))\n",
        "tst_labs256 = kmeans256.predict(dcs_test_flatten256)\n",
        "\n",
        "#Plotting the histogram of visual words frequencies (test data)\n",
        "plt.bar(list(range(30)),ske.histogram(tst_labs256, 30)[0])\n",
        "plt.title('Frequency of Visual Words Test Data (256)')\n",
        "plt.ylabel('Number of visual words')\n",
        "plt.xlabel('Clusters')\n",
        "\n",
        "# Using the trained model get predictions \n",
        "preds256 = clf.predict(dcs_test_flatten256)\n",
        "\n",
        "# Evaluate the model with accuracy and confusion\n",
        "print(accuracy_score(tst_labs256, preds256))\n",
        "target_names  = list(range(30))\n",
        "plot_confusion_matrix(confusion_matrix(tst_labs256, preds256),target_names,False,'YlG,nBu', 'Confusion matrix of visual words classification (256)', fsizes={'font':12})\n",
        "plot_confusion_matrix(confusion_matrix(tst_labs256, preds256),target_names,True,'YlG,nBu', 'Normalized confusion matrix of visual words classification (256)', fsizes={'font':8})"
      ],
      "metadata": {
        "id": "CiY8GERXOxbB",
        "colab": {
          "base_uri": "https://localhost:8080/"
        },
        "outputId": "b3fdbf46-04d9-448d-d2ba-972543365a44"
      },
      "execution_count": null,
      "outputs": [
        {
          "output_type": "stream",
          "name": "stderr",
          "text": [
            "/content/utils.py:28: VisibleDeprecationWarning: Creating an ndarray from ragged nested sequences (which is a list-or-tuple of lists-or-tuples-or ndarrays with different lengths or shapes) is deprecated. If you meant to do this, you must specify 'dtype=object' when creating the ndarray.\n",
            "  return np.array(keypoints), descriptors\n"
          ]
        },
        {
          "output_type": "stream",
          "name": "stdout",
          "text": [
            "(56039, 256)\n"
          ]
        }
      ]
    },
    {
      "cell_type": "markdown",
      "source": [
        "*   What is the difference in classifier performance between using 64 keypoints and 256 keypoints?"
      ],
      "metadata": {
        "id": "Ucf5mIeHOzBf"
      }
    },
    {
      "cell_type": "markdown",
      "metadata": {
        "id": "AJt7kpHcO5nV"
      },
      "source": [
        "**Solution**\n",
        "\n",
        "*(Double-click or enter to edit)*\n",
        "\n",
        "..."
      ]
    },
    {
      "cell_type": "markdown",
      "metadata": {
        "id": "ll0j8G-oIaHd"
      },
      "source": [
        "*   Will further adding more keypoints increase the performance of the algorithm?"
      ]
    },
    {
      "cell_type": "markdown",
      "metadata": {
        "id": "ka3z1sJVInS5"
      },
      "source": [
        "**Solution**\n",
        "\n",
        "*(Double-click or enter to edit)*\n",
        "\n",
        "..."
      ]
    },
    {
      "cell_type": "markdown",
      "metadata": {
        "id": "NnN_t5Me7N5O"
      },
      "source": [
        "\n",
        "---\n",
        "\n",
        "## **End of P3_2: Image Classification using Bag of Visual Words**\n",
        "Deadline for P3_2 submission in CampusVirtual is: **Thursday, the 17th of November, 2022**"
      ]
    }
  ]
}