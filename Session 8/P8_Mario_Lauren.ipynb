{
  "nbformat": 4,
  "nbformat_minor": 0,
  "metadata": {
    "colab": {
      "provenance": [],
      "include_colab_link": true
    },
    "kernelspec": {
      "name": "python3",
      "display_name": "Python 3"
    },
    "accelerator": "GPU"
  },
  "cells": [
    {
      "cell_type": "markdown",
      "metadata": {
        "id": "view-in-github",
        "colab_type": "text"
      },
      "source": [
        "<a href=\"https://colab.research.google.com/github/mario-rot/ComputerVisionCourse-MAI/blob/main/Session%208/P8_Mario_Lauren.ipynb\" target=\"_parent\"><img src=\"https://colab.research.google.com/assets/colab-badge.svg\" alt=\"Open In Colab\"/></a>"
      ]
    },
    {
      "cell_type": "markdown",
      "metadata": {
        "id": "r4rCKcndPybL"
      },
      "source": [
        "# Laboratory #4_1 : Image Classification using CNN\n",
        "\n",
        "At the end of this laboratory, you would get familiarized with\n",
        "\n",
        "*   Creating deep networks using Keras\n",
        "*   Steps necessary in training a neural network\n",
        "*   Prediction and performance analysis using neural networks\n",
        "*   Using pre-trained networks\n",
        "*   Feature visualizations\n",
        "\n",
        "**Remember this is a graded exercise.**\n",
        "\n",
        "*   For every plot, make sure you provide appropriate titles, axis labels, legends, wherever applicable.\n",
        "*   Create reusable functions where ever possible, so that the code could be reused at different places.\n",
        "*   Mount your drive to access the images.\n",
        "*   Add sufficient comments and explanations wherever necessary.\n",
        "\n",
        "---"
      ]
    },
    {
      "cell_type": "markdown",
      "metadata": {
        "id": "KdglSzOi4Cp-"
      },
      "source": [
        "# **Colaboratory environment**\n",
        "By default, Colab notebooks run on CPU.\n",
        "You can switch your notebook to run with GPU.\n",
        "\n",
        "In order to obtain access to the GPU, you need to choose the tab Runtime and then select “Change runtime type” as shown in the following figure:\n",
        "\n",
        "![Changing runtime](https://miro.medium.com/max/747/1*euE7nGZ0uJQcgvkpgvkoQg.png)\n",
        "\n",
        "When a pop-up window appears select GPU. Ensure “Hardware accelerator” is set to GPU."
      ]
    },
    {
      "cell_type": "code",
      "source": [
        "%load_ext autoreload\n",
        "%autoreload 2"
      ],
      "metadata": {
        "id": "xCVuDt_K5vnq"
      },
      "execution_count": 1,
      "outputs": []
    },
    {
      "cell_type": "code",
      "source": [
        "%%shell\n",
        "git clone https://github.com/mario-rot/ComputerVisionCourse-MAI.git\n",
        "cd 'ComputerVisionCourse-MAI'\n",
        "mv 'customplots.py' /content/\n",
        "mv 'utils.py' /content/"
      ],
      "metadata": {
        "colab": {
          "base_uri": "https://localhost:8080/"
        },
        "id": "t-a_mu5450ve",
        "outputId": "64fd0a93-724b-4a5f-fc3d-f6ce629da783"
      },
      "execution_count": 2,
      "outputs": [
        {
          "output_type": "stream",
          "name": "stdout",
          "text": [
            "Cloning into 'ComputerVisionCourse-MAI'...\n",
            "remote: Enumerating objects: 12205, done.\u001b[K\n",
            "remote: Counting objects: 100% (626/626), done.\u001b[K\n",
            "remote: Compressing objects: 100% (495/495), done.\u001b[K\n",
            "remote: Total 12205 (delta 158), reused 560 (delta 119), pack-reused 11579\u001b[K\n",
            "Receiving objects: 100% (12205/12205), 80.98 MiB | 17.79 MiB/s, done.\n",
            "Resolving deltas: 100% (161/161), done.\n",
            "Checking out files: 100% (11915/11915), done.\n"
          ]
        },
        {
          "output_type": "execute_result",
          "data": {
            "text/plain": []
          },
          "metadata": {},
          "execution_count": 2
        }
      ]
    },
    {
      "cell_type": "code",
      "source": [
        "import os\n",
        "import numpy as np\n",
        "\n",
        "from skimage.feature import ORB\n",
        "from skimage import feature\n",
        "from skimage.color import rgb2gray\n",
        "from skimage.io import imread, imread_collection\n",
        "from scipy.cluster.vq import vq\n",
        "from sklearn.model_selection import train_test_split\n",
        "from utils import get_multi_ORB\n",
        "from sklearn.cluster import MiniBatchKMeans\n",
        "import collections\n",
        "import skimage.exposure as ske\n",
        "\n",
        "from matplotlib import pyplot as plt\n",
        "import pandas as pd\n",
        "from tensorflow import keras\n",
        "\n",
        "from sklearn.metrics import accuracy_score, classification_report, confusion_matrix\n",
        "from customplots import plot_confusion_matrix, custom_grids"
      ],
      "metadata": {
        "id": "g5q4cQE66AE4"
      },
      "execution_count": 3,
      "outputs": []
    },
    {
      "cell_type": "markdown",
      "metadata": {
        "id": "9wkicuxZdrdq"
      },
      "source": [
        "# **Working with a new dataset: CIFAR-10**\n",
        "\n",
        "The CIFAR-10 dataset consists of 60000 32x32 colour images in 10 classes, with 6000 images per class. There are 50000 training images and 10000 test images. More information about CIFAR-10 can be found [here](https://www.cs.toronto.edu/~kriz/cifar.html).\n",
        "\n",
        "In Keras, the CIFAR-10 dataset is also preloaded in the form of four Numpy arrays. x_train and y_train contain the training set, while x_test and y_test contain the test data. The images are encoded as Numpy arrays and their corresponding labels ranging from 0 to 9.\n",
        "\n",
        "Your task is to:\n",
        "\n",
        "*   Visualize the images in CIFAR-10 dataset. Create a 10 x 10 plot showing 10 random samples from each class.\n",
        "*   Convert the labels to one-hot encoded form.\n",
        "*   Normalize the images.\n",
        "\n",
        "\n"
      ]
    },
    {
      "cell_type": "code",
      "metadata": {
        "id": "Mrb20KGMtTFq",
        "colab": {
          "base_uri": "https://localhost:8080/"
        },
        "outputId": "43dfc878-d835-40ae-9536-19e8a6cee87c"
      },
      "source": [
        "# solution\n",
        "from tensorflow.keras.datasets import cifar10\n",
        "(x_train, y_train), (x_test, y_test) = cifar10.load_data()\n",
        "\n",
        "counters = [10]*10\n",
        "images = {i:[] for i in range(10)}\n",
        "\n",
        "for idx, i in enumerate(y_train):\n",
        "  if counters[i[0]] != 0:\n",
        "    counters[i[0]] -= 1\n",
        "    images[i[0]].append(x_train[idx])\n",
        "  if sum(counters) == 0:\n",
        "    break\n",
        "\n",
        "images = [img for sublist in list(images.values()) for img in sublist]\n",
        "\n",
        "custom_grids(images[0:100], 10, 10, figsize = (15,20), axis='off', use_grid_spec=False).show()"
      ],
      "execution_count": 4,
      "outputs": [
        {
          "output_type": "stream",
          "name": "stdout",
          "text": [
            "Downloading data from https://www.cs.toronto.edu/~kriz/cifar-10-python.tar.gz\n",
            "170498071/170498071 [==============================] - 4s 0us/step\n"
          ]
        }
      ]
    },
    {
      "cell_type": "markdown",
      "metadata": {
        "id": "2ER5WlMNRydp"
      },
      "source": [
        "## Define the following model (same as the one in tutorial)\n",
        "\n",
        "**For the convolutional front-end, start with a single convolutional layer with a small filter size (3,3) and a modest number of filters (32) followed by a max pooling layer. Use the input as (32,32,3). The filter maps can then be flattened to provide features to the classifier. Use a dense layer with 100 units before the classification layer (which is also a dense layer with softmax activation).**"
      ]
    },
    {
      "cell_type": "code",
      "metadata": {
        "id": "WfWCHxh8HGhN"
      },
      "source": [
        "from keras.backend import clear_session\n",
        "clear_session()"
      ],
      "execution_count": 6,
      "outputs": []
    },
    {
      "cell_type": "code",
      "metadata": {
        "id": "iSN6riPISBMG"
      },
      "source": [
        "# solution\n",
        "from keras.layers import Conv2D, MaxPooling2D, GlobalAveragePooling2D, Flatten, Dense\n",
        "from tensorflow.keras.models import Sequential\n",
        "from tensorflow.keras.utils import to_categorical\n",
        "\n",
        "model = Sequential()\n",
        "model.add(Conv2D(32, (3, 3), activation='relu', kernel_initializer='he_uniform', input_shape=(32, 32, 3)))\n",
        "model.add(MaxPooling2D((2, 2)))\n",
        "model.add(Flatten())\n",
        "model.add(Dense(100, activation='relu', kernel_initializer='he_uniform'))\n",
        "model.add(Dense(10, activation='softmax'))"
      ],
      "execution_count": 7,
      "outputs": []
    },
    {
      "cell_type": "markdown",
      "metadata": {
        "id": "PGtivbQJT39U"
      },
      "source": [
        "*   Compile the model using categorical_crossentropy loss, SGD optimizer and use 'accuracy' as the metric.\n",
        "*   Use the above defined model to train CIFAR-10 and train the model for 512 epochs with a batch size of 32."
      ]
    },
    {
      "cell_type": "code",
      "metadata": {
        "id": "hn8UzPBZugVp",
        "colab": {
          "base_uri": "https://localhost:8080/"
        },
        "outputId": "4d0e43ec-2be0-4c09-fe48-006f6047997d"
      },
      "source": [
        "# solution\n",
        "model.compile(optimizer='sgd', loss='categorical_crossentropy', metrics=['accuracy'])\n",
        "\n",
        "print(x_train.shape)\n",
        "print(x_train.ndim)\n",
        "print(x_train.dtype)\n",
        "print(x_test.shape)\n",
        "\n",
        "x_train = x_train.astype(\"float32\") / 255\n",
        "x_test = x_test.astype(\"float32\") / 255\n",
        "\n",
        "print('After reshaping:')\n",
        "\n",
        "# x_train = np.expand_dims(x_train, -1)\n",
        "# x_test = np.expand_dims(x_test, -1)\n",
        "\n",
        "print(x_train.shape)\n",
        "print(x_train.ndim)\n",
        "print(x_train.dtype)\n",
        "print(x_test.shape)\n",
        "\n",
        "y_train_cat = to_categorical(y_train, num_classes=10)\n",
        "y_test_cat = to_categorical(y_test, num_classes=10)\n",
        "\n",
        "print(y_train.shape)\n",
        "print(y_test.shape)\n",
        "\n",
        "history = model.fit(x_train, y_train_cat, batch_size=32, epochs=512, validation_split=0.1)\n",
        "\n",
        "\n",
        "\n"
      ],
      "execution_count": 9,
      "outputs": [
        {
          "output_type": "stream",
          "name": "stdout",
          "text": [
            "(50000, 32, 32, 3)\n",
            "4\n",
            "float32\n",
            "(10000, 32, 32, 3)\n",
            "After reshaping:\n",
            "(50000, 32, 32, 3)\n",
            "4\n",
            "float32\n",
            "(10000, 32, 32, 3)\n",
            "(50000, 1)\n",
            "(10000, 1)\n",
            "Epoch 1/512\n",
            "1407/1407 [==============================] - 15s 5ms/step - loss: 2.3020 - accuracy: 0.1096 - val_loss: 2.3017 - val_accuracy: 0.1004\n",
            "Epoch 2/512\n",
            "1407/1407 [==============================] - 6s 4ms/step - loss: 2.3014 - accuracy: 0.1116 - val_loss: 2.3012 - val_accuracy: 0.0976\n",
            "Epoch 3/512\n",
            "1407/1407 [==============================] - 6s 4ms/step - loss: 2.3008 - accuracy: 0.1129 - val_loss: 2.3002 - val_accuracy: 0.1182\n",
            "Epoch 4/512\n",
            "1407/1407 [==============================] - 6s 4ms/step - loss: 2.3000 - accuracy: 0.1169 - val_loss: 2.2997 - val_accuracy: 0.1498\n",
            "Epoch 5/512\n",
            "1407/1407 [==============================] - 6s 4ms/step - loss: 2.2994 - accuracy: 0.1120 - val_loss: 2.2988 - val_accuracy: 0.1284\n",
            "Epoch 6/512\n",
            "1407/1407 [==============================] - 7s 5ms/step - loss: 2.2983 - accuracy: 0.1222 - val_loss: 2.2974 - val_accuracy: 0.1426\n",
            "Epoch 7/512\n",
            "1407/1407 [==============================] - 8s 6ms/step - loss: 2.2972 - accuracy: 0.1264 - val_loss: 2.2956 - val_accuracy: 0.1504\n",
            "Epoch 8/512\n",
            "1407/1407 [==============================] - 10s 7ms/step - loss: 2.2957 - accuracy: 0.1248 - val_loss: 2.2941 - val_accuracy: 0.1224\n",
            "Epoch 9/512\n",
            "1407/1407 [==============================] - 6s 4ms/step - loss: 2.2938 - accuracy: 0.1281 - val_loss: 2.2977 - val_accuracy: 0.0992\n",
            "Epoch 10/512\n",
            "1407/1407 [==============================] - 6s 4ms/step - loss: 2.2916 - accuracy: 0.1316 - val_loss: 2.2898 - val_accuracy: 0.1516\n",
            "Epoch 11/512\n",
            "1407/1407 [==============================] - 6s 4ms/step - loss: 2.2890 - accuracy: 0.1340 - val_loss: 2.2993 - val_accuracy: 0.0976\n",
            "Epoch 12/512\n",
            "1407/1407 [==============================] - 6s 4ms/step - loss: 2.2858 - accuracy: 0.1433 - val_loss: 2.2970 - val_accuracy: 0.0978\n",
            "Epoch 13/512\n",
            "1407/1407 [==============================] - 6s 4ms/step - loss: 2.2818 - accuracy: 0.1469 - val_loss: 2.2755 - val_accuracy: 0.1978\n",
            "Epoch 14/512\n",
            "1407/1407 [==============================] - 6s 4ms/step - loss: 2.2765 - accuracy: 0.1535 - val_loss: 2.2847 - val_accuracy: 0.1130\n",
            "Epoch 15/512\n",
            "1407/1407 [==============================] - 6s 4ms/step - loss: 2.2705 - accuracy: 0.1572 - val_loss: 2.2597 - val_accuracy: 0.1958\n",
            "Epoch 16/512\n",
            "1407/1407 [==============================] - 6s 4ms/step - loss: 2.2618 - accuracy: 0.1661 - val_loss: 2.2525 - val_accuracy: 0.1602\n",
            "Epoch 17/512\n",
            "1407/1407 [==============================] - 6s 4ms/step - loss: 2.2516 - accuracy: 0.1767 - val_loss: 2.3260 - val_accuracy: 0.1004\n",
            "Epoch 18/512\n",
            "1407/1407 [==============================] - 6s 4ms/step - loss: 2.2388 - accuracy: 0.1830 - val_loss: 2.2207 - val_accuracy: 0.2304\n",
            "Epoch 19/512\n",
            "1407/1407 [==============================] - 6s 4ms/step - loss: 2.2250 - accuracy: 0.1875 - val_loss: 2.2098 - val_accuracy: 0.1998\n",
            "Epoch 20/512\n",
            "1407/1407 [==============================] - 6s 4ms/step - loss: 2.2078 - accuracy: 0.1978 - val_loss: 2.1906 - val_accuracy: 0.2300\n",
            "Epoch 21/512\n",
            "1407/1407 [==============================] - 6s 4ms/step - loss: 2.1930 - accuracy: 0.1988 - val_loss: 2.1764 - val_accuracy: 0.2210\n",
            "Epoch 22/512\n",
            "1407/1407 [==============================] - 6s 4ms/step - loss: 2.1803 - accuracy: 0.2046 - val_loss: 2.1671 - val_accuracy: 0.2048\n",
            "Epoch 23/512\n",
            "1407/1407 [==============================] - 6s 4ms/step - loss: 2.1697 - accuracy: 0.2084 - val_loss: 2.1717 - val_accuracy: 0.1778\n",
            "Epoch 24/512\n",
            "1407/1407 [==============================] - 6s 4ms/step - loss: 2.1593 - accuracy: 0.2094 - val_loss: 2.3146 - val_accuracy: 0.1148\n",
            "Epoch 25/512\n",
            "1407/1407 [==============================] - 7s 5ms/step - loss: 2.1530 - accuracy: 0.2100 - val_loss: 2.2029 - val_accuracy: 0.1674\n",
            "Epoch 26/512\n",
            "1407/1407 [==============================] - 6s 4ms/step - loss: 2.1469 - accuracy: 0.2128 - val_loss: 2.1310 - val_accuracy: 0.2416\n",
            "Epoch 27/512\n",
            "1407/1407 [==============================] - 6s 4ms/step - loss: 2.1391 - accuracy: 0.2171 - val_loss: 2.1362 - val_accuracy: 0.2176\n",
            "Epoch 28/512\n",
            "1407/1407 [==============================] - 6s 4ms/step - loss: 2.1325 - accuracy: 0.2230 - val_loss: 2.2610 - val_accuracy: 0.1508\n",
            "Epoch 29/512\n",
            "1407/1407 [==============================] - 6s 4ms/step - loss: 2.1264 - accuracy: 0.2288 - val_loss: 2.1116 - val_accuracy: 0.2400\n",
            "Epoch 30/512\n",
            "1407/1407 [==============================] - 8s 6ms/step - loss: 2.1211 - accuracy: 0.2299 - val_loss: 2.1418 - val_accuracy: 0.2022\n",
            "Epoch 31/512\n",
            "1407/1407 [==============================] - 6s 4ms/step - loss: 2.1137 - accuracy: 0.2341 - val_loss: 2.1536 - val_accuracy: 0.1848\n",
            "Epoch 32/512\n",
            "1407/1407 [==============================] - 6s 4ms/step - loss: 2.1075 - accuracy: 0.2380 - val_loss: 2.1476 - val_accuracy: 0.1940\n",
            "Epoch 33/512\n",
            "1407/1407 [==============================] - 6s 4ms/step - loss: 2.1001 - accuracy: 0.2445 - val_loss: 2.4233 - val_accuracy: 0.1300\n",
            "Epoch 34/512\n",
            "1407/1407 [==============================] - 6s 4ms/step - loss: 2.0945 - accuracy: 0.2461 - val_loss: 2.1327 - val_accuracy: 0.1918\n",
            "Epoch 35/512\n",
            "1407/1407 [==============================] - 6s 4ms/step - loss: 2.0862 - accuracy: 0.2483 - val_loss: 2.0736 - val_accuracy: 0.2768\n",
            "Epoch 36/512\n",
            "1407/1407 [==============================] - 6s 4ms/step - loss: 2.0791 - accuracy: 0.2534 - val_loss: 2.1645 - val_accuracy: 0.1738\n",
            "Epoch 37/512\n",
            "1407/1407 [==============================] - 6s 4ms/step - loss: 2.0727 - accuracy: 0.2555 - val_loss: 2.2180 - val_accuracy: 0.1804\n",
            "Epoch 38/512\n",
            "1407/1407 [==============================] - 6s 4ms/step - loss: 2.0662 - accuracy: 0.2583 - val_loss: 2.0931 - val_accuracy: 0.2378\n",
            "Epoch 39/512\n",
            "1407/1407 [==============================] - 6s 4ms/step - loss: 2.0578 - accuracy: 0.2663 - val_loss: 2.3589 - val_accuracy: 0.1322\n",
            "Epoch 40/512\n",
            "1407/1407 [==============================] - 6s 4ms/step - loss: 2.0527 - accuracy: 0.2678 - val_loss: 2.0760 - val_accuracy: 0.2470\n",
            "Epoch 41/512\n",
            "1407/1407 [==============================] - 6s 4ms/step - loss: 2.0446 - accuracy: 0.2727 - val_loss: 2.0405 - val_accuracy: 0.2704\n",
            "Epoch 42/512\n",
            "1407/1407 [==============================] - 6s 4ms/step - loss: 2.0388 - accuracy: 0.2732 - val_loss: 2.0347 - val_accuracy: 0.2780\n",
            "Epoch 43/512\n",
            "1407/1407 [==============================] - 7s 5ms/step - loss: 2.0325 - accuracy: 0.2765 - val_loss: 2.0614 - val_accuracy: 0.2514\n",
            "Epoch 44/512\n",
            "1407/1407 [==============================] - 6s 4ms/step - loss: 2.0284 - accuracy: 0.2795 - val_loss: 2.0971 - val_accuracy: 0.2432\n",
            "Epoch 45/512\n",
            "1407/1407 [==============================] - 6s 4ms/step - loss: 2.0216 - accuracy: 0.2816 - val_loss: 2.1395 - val_accuracy: 0.2138\n",
            "Epoch 46/512\n",
            "1407/1407 [==============================] - 6s 4ms/step - loss: 2.0181 - accuracy: 0.2822 - val_loss: 2.1448 - val_accuracy: 0.2162\n",
            "Epoch 47/512\n",
            "1407/1407 [==============================] - 6s 4ms/step - loss: 2.0115 - accuracy: 0.2841 - val_loss: 2.0086 - val_accuracy: 0.2890\n",
            "Epoch 48/512\n",
            "1407/1407 [==============================] - 6s 4ms/step - loss: 2.0062 - accuracy: 0.2878 - val_loss: 1.9978 - val_accuracy: 0.2972\n",
            "Epoch 49/512\n",
            "1407/1407 [==============================] - 6s 5ms/step - loss: 2.0021 - accuracy: 0.2921 - val_loss: 2.0392 - val_accuracy: 0.2530\n",
            "Epoch 50/512\n",
            "1407/1407 [==============================] - 6s 4ms/step - loss: 1.9960 - accuracy: 0.2934 - val_loss: 2.0240 - val_accuracy: 0.2626\n",
            "Epoch 51/512\n",
            "1407/1407 [==============================] - 6s 4ms/step - loss: 1.9933 - accuracy: 0.2957 - val_loss: 2.0180 - val_accuracy: 0.2912\n",
            "Epoch 52/512\n",
            "1407/1407 [==============================] - 6s 4ms/step - loss: 1.9882 - accuracy: 0.2961 - val_loss: 1.9840 - val_accuracy: 0.3044\n",
            "Epoch 53/512\n",
            "1407/1407 [==============================] - 6s 4ms/step - loss: 1.9846 - accuracy: 0.2951 - val_loss: 2.2619 - val_accuracy: 0.1826\n",
            "Epoch 54/512\n",
            "1407/1407 [==============================] - 6s 4ms/step - loss: 1.9787 - accuracy: 0.3001 - val_loss: 1.9750 - val_accuracy: 0.3060\n",
            "Epoch 55/512\n",
            "1407/1407 [==============================] - 6s 4ms/step - loss: 1.9738 - accuracy: 0.3010 - val_loss: 2.0356 - val_accuracy: 0.2470\n",
            "Epoch 56/512\n",
            "1407/1407 [==============================] - 6s 4ms/step - loss: 1.9694 - accuracy: 0.3034 - val_loss: 1.9662 - val_accuracy: 0.3122\n",
            "Epoch 57/512\n",
            "1407/1407 [==============================] - 6s 4ms/step - loss: 1.9620 - accuracy: 0.3046 - val_loss: 1.9812 - val_accuracy: 0.2962\n",
            "Epoch 58/512\n",
            "1407/1407 [==============================] - 6s 4ms/step - loss: 1.9589 - accuracy: 0.3080 - val_loss: 2.0979 - val_accuracy: 0.2380\n",
            "Epoch 59/512\n",
            "1407/1407 [==============================] - 7s 5ms/step - loss: 1.9545 - accuracy: 0.3088 - val_loss: 2.1682 - val_accuracy: 0.2208\n",
            "Epoch 60/512\n",
            "1407/1407 [==============================] - 6s 4ms/step - loss: 1.9508 - accuracy: 0.3107 - val_loss: 1.9455 - val_accuracy: 0.3126\n",
            "Epoch 61/512\n",
            "1407/1407 [==============================] - 6s 4ms/step - loss: 1.9434 - accuracy: 0.3128 - val_loss: 1.9712 - val_accuracy: 0.2976\n",
            "Epoch 62/512\n",
            "1407/1407 [==============================] - 6s 4ms/step - loss: 1.9388 - accuracy: 0.3131 - val_loss: 1.9396 - val_accuracy: 0.3246\n",
            "Epoch 63/512\n",
            "1407/1407 [==============================] - 6s 4ms/step - loss: 1.9344 - accuracy: 0.3179 - val_loss: 1.9498 - val_accuracy: 0.3044\n",
            "Epoch 64/512\n",
            "1407/1407 [==============================] - 6s 4ms/step - loss: 1.9275 - accuracy: 0.3201 - val_loss: 1.9387 - val_accuracy: 0.3122\n",
            "Epoch 65/512\n",
            "1407/1407 [==============================] - 6s 4ms/step - loss: 1.9229 - accuracy: 0.3214 - val_loss: 2.4045 - val_accuracy: 0.1382\n",
            "Epoch 66/512\n",
            "1407/1407 [==============================] - 6s 4ms/step - loss: 1.9175 - accuracy: 0.3213 - val_loss: 1.9183 - val_accuracy: 0.3224\n",
            "Epoch 67/512\n",
            "1407/1407 [==============================] - 6s 4ms/step - loss: 1.9109 - accuracy: 0.3244 - val_loss: 1.9733 - val_accuracy: 0.2818\n",
            "Epoch 68/512\n",
            "1407/1407 [==============================] - 6s 5ms/step - loss: 1.9050 - accuracy: 0.3246 - val_loss: 2.5512 - val_accuracy: 0.1352\n",
            "Epoch 69/512\n",
            "1407/1407 [==============================] - 6s 4ms/step - loss: 1.8998 - accuracy: 0.3294 - val_loss: 1.8946 - val_accuracy: 0.3388\n",
            "Epoch 70/512\n",
            "1407/1407 [==============================] - 6s 4ms/step - loss: 1.8929 - accuracy: 0.3296 - val_loss: 1.9027 - val_accuracy: 0.3302\n",
            "Epoch 71/512\n",
            "1407/1407 [==============================] - 6s 4ms/step - loss: 1.8867 - accuracy: 0.3333 - val_loss: 1.8867 - val_accuracy: 0.3366\n",
            "Epoch 72/512\n",
            "1407/1407 [==============================] - 6s 4ms/step - loss: 1.8798 - accuracy: 0.3348 - val_loss: 1.9036 - val_accuracy: 0.3274\n",
            "Epoch 73/512\n",
            "1407/1407 [==============================] - 6s 4ms/step - loss: 1.8729 - accuracy: 0.3376 - val_loss: 1.8999 - val_accuracy: 0.3358\n",
            "Epoch 74/512\n",
            "1407/1407 [==============================] - 6s 4ms/step - loss: 1.8695 - accuracy: 0.3390 - val_loss: 2.1865 - val_accuracy: 0.2084\n",
            "Epoch 75/512\n",
            "1407/1407 [==============================] - 6s 4ms/step - loss: 1.8630 - accuracy: 0.3410 - val_loss: 1.8700 - val_accuracy: 0.3390\n",
            "Epoch 76/512\n",
            "1407/1407 [==============================] - 6s 4ms/step - loss: 1.8570 - accuracy: 0.3438 - val_loss: 1.8712 - val_accuracy: 0.3376\n",
            "Epoch 77/512\n",
            "1407/1407 [==============================] - 6s 4ms/step - loss: 1.8501 - accuracy: 0.3467 - val_loss: 1.8460 - val_accuracy: 0.3518\n",
            "Epoch 78/512\n",
            "1407/1407 [==============================] - 6s 5ms/step - loss: 1.8434 - accuracy: 0.3483 - val_loss: 1.8755 - val_accuracy: 0.3324\n",
            "Epoch 79/512\n",
            "1407/1407 [==============================] - 6s 4ms/step - loss: 1.8382 - accuracy: 0.3493 - val_loss: 1.8341 - val_accuracy: 0.3602\n",
            "Epoch 80/512\n",
            "1407/1407 [==============================] - 6s 4ms/step - loss: 1.8304 - accuracy: 0.3518 - val_loss: 2.1280 - val_accuracy: 0.2172\n",
            "Epoch 81/512\n",
            "1407/1407 [==============================] - 7s 5ms/step - loss: 1.8262 - accuracy: 0.3564 - val_loss: 1.8483 - val_accuracy: 0.3500\n",
            "Epoch 82/512\n",
            "1407/1407 [==============================] - 6s 4ms/step - loss: 1.8211 - accuracy: 0.3570 - val_loss: 2.0011 - val_accuracy: 0.2734\n",
            "Epoch 83/512\n",
            "1407/1407 [==============================] - 6s 4ms/step - loss: 1.8164 - accuracy: 0.3591 - val_loss: 1.8119 - val_accuracy: 0.3720\n",
            "Epoch 84/512\n",
            "1407/1407 [==============================] - 6s 4ms/step - loss: 1.8087 - accuracy: 0.3645 - val_loss: 1.9331 - val_accuracy: 0.3020\n",
            "Epoch 85/512\n",
            "1407/1407 [==============================] - 6s 4ms/step - loss: 1.8032 - accuracy: 0.3647 - val_loss: 1.8009 - val_accuracy: 0.3746\n",
            "Epoch 86/512\n",
            "1407/1407 [==============================] - 6s 4ms/step - loss: 1.7980 - accuracy: 0.3664 - val_loss: 1.8190 - val_accuracy: 0.3556\n",
            "Epoch 87/512\n",
            "1407/1407 [==============================] - 6s 5ms/step - loss: 1.7912 - accuracy: 0.3692 - val_loss: 2.0918 - val_accuracy: 0.2350\n",
            "Epoch 88/512\n",
            "1407/1407 [==============================] - 6s 4ms/step - loss: 1.7898 - accuracy: 0.3687 - val_loss: 1.8708 - val_accuracy: 0.3308\n",
            "Epoch 89/512\n",
            "1407/1407 [==============================] - 6s 4ms/step - loss: 1.7823 - accuracy: 0.3728 - val_loss: 1.8870 - val_accuracy: 0.3174\n",
            "Epoch 90/512\n",
            "1407/1407 [==============================] - 6s 4ms/step - loss: 1.7788 - accuracy: 0.3732 - val_loss: 1.8091 - val_accuracy: 0.3612\n",
            "Epoch 91/512\n",
            "1407/1407 [==============================] - 6s 4ms/step - loss: 1.7721 - accuracy: 0.3744 - val_loss: 1.8282 - val_accuracy: 0.3508\n",
            "Epoch 92/512\n",
            "1407/1407 [==============================] - 6s 4ms/step - loss: 1.7665 - accuracy: 0.3767 - val_loss: 1.9036 - val_accuracy: 0.3124\n",
            "Epoch 93/512\n",
            "1407/1407 [==============================] - 6s 4ms/step - loss: 1.7648 - accuracy: 0.3789 - val_loss: 1.7826 - val_accuracy: 0.3782\n",
            "Epoch 94/512\n",
            "1407/1407 [==============================] - 6s 4ms/step - loss: 1.7584 - accuracy: 0.3803 - val_loss: 1.7624 - val_accuracy: 0.3820\n",
            "Epoch 95/512\n",
            "1407/1407 [==============================] - 6s 4ms/step - loss: 1.7518 - accuracy: 0.3811 - val_loss: 1.7583 - val_accuracy: 0.3874\n",
            "Epoch 96/512\n",
            "1407/1407 [==============================] - 6s 4ms/step - loss: 1.7491 - accuracy: 0.3835 - val_loss: 1.7802 - val_accuracy: 0.3750\n",
            "Epoch 97/512\n",
            "1407/1407 [==============================] - 6s 4ms/step - loss: 1.7444 - accuracy: 0.3852 - val_loss: 1.7632 - val_accuracy: 0.3848\n",
            "Epoch 98/512\n",
            "1407/1407 [==============================] - 6s 4ms/step - loss: 1.7405 - accuracy: 0.3877 - val_loss: 1.8676 - val_accuracy: 0.3314\n",
            "Epoch 99/512\n",
            "1407/1407 [==============================] - 6s 4ms/step - loss: 1.7360 - accuracy: 0.3892 - val_loss: 1.7899 - val_accuracy: 0.3644\n",
            "Epoch 100/512\n",
            "1407/1407 [==============================] - 6s 4ms/step - loss: 1.7345 - accuracy: 0.3892 - val_loss: 1.7641 - val_accuracy: 0.3758\n",
            "Epoch 101/512\n",
            "1407/1407 [==============================] - 6s 4ms/step - loss: 1.7303 - accuracy: 0.3916 - val_loss: 1.8047 - val_accuracy: 0.3616\n",
            "Epoch 102/512\n",
            "1407/1407 [==============================] - 6s 4ms/step - loss: 1.7238 - accuracy: 0.3935 - val_loss: 2.0352 - val_accuracy: 0.2618\n",
            "Epoch 103/512\n",
            "1407/1407 [==============================] - 6s 4ms/step - loss: 1.7207 - accuracy: 0.3971 - val_loss: 1.7451 - val_accuracy: 0.3938\n",
            "Epoch 104/512\n",
            "1407/1407 [==============================] - 6s 4ms/step - loss: 1.7168 - accuracy: 0.3975 - val_loss: 1.7201 - val_accuracy: 0.4008\n",
            "Epoch 105/512\n",
            "1407/1407 [==============================] - 6s 4ms/step - loss: 1.7110 - accuracy: 0.3988 - val_loss: 1.8480 - val_accuracy: 0.3356\n",
            "Epoch 106/512\n",
            "1407/1407 [==============================] - 6s 4ms/step - loss: 1.7070 - accuracy: 0.4009 - val_loss: 1.8097 - val_accuracy: 0.3556\n",
            "Epoch 107/512\n",
            "1407/1407 [==============================] - 6s 5ms/step - loss: 1.7041 - accuracy: 0.4033 - val_loss: 1.7788 - val_accuracy: 0.3668\n",
            "Epoch 108/512\n",
            "1407/1407 [==============================] - 6s 4ms/step - loss: 1.7025 - accuracy: 0.4029 - val_loss: 1.7480 - val_accuracy: 0.3850\n",
            "Epoch 109/512\n",
            "1407/1407 [==============================] - 6s 4ms/step - loss: 1.6944 - accuracy: 0.4040 - val_loss: 1.7288 - val_accuracy: 0.3968\n",
            "Epoch 110/512\n",
            "1407/1407 [==============================] - 6s 4ms/step - loss: 1.6925 - accuracy: 0.4068 - val_loss: 1.7162 - val_accuracy: 0.3946\n",
            "Epoch 111/512\n",
            "1407/1407 [==============================] - 6s 4ms/step - loss: 1.6877 - accuracy: 0.4091 - val_loss: 1.7513 - val_accuracy: 0.3880\n",
            "Epoch 112/512\n",
            "1407/1407 [==============================] - 6s 4ms/step - loss: 1.6858 - accuracy: 0.4093 - val_loss: 1.7627 - val_accuracy: 0.3760\n",
            "Epoch 113/512\n",
            "1407/1407 [==============================] - 6s 4ms/step - loss: 1.6831 - accuracy: 0.4106 - val_loss: 1.6839 - val_accuracy: 0.4116\n",
            "Epoch 114/512\n",
            "1407/1407 [==============================] - 6s 4ms/step - loss: 1.6784 - accuracy: 0.4121 - val_loss: 1.7044 - val_accuracy: 0.4028\n",
            "Epoch 115/512\n",
            "1407/1407 [==============================] - 6s 4ms/step - loss: 1.6737 - accuracy: 0.4138 - val_loss: 1.7092 - val_accuracy: 0.4048\n",
            "Epoch 116/512\n",
            "1407/1407 [==============================] - 6s 5ms/step - loss: 1.6702 - accuracy: 0.4173 - val_loss: 1.6753 - val_accuracy: 0.4146\n",
            "Epoch 117/512\n",
            "1407/1407 [==============================] - 6s 4ms/step - loss: 1.6654 - accuracy: 0.4173 - val_loss: 1.7404 - val_accuracy: 0.3866\n",
            "Epoch 118/512\n",
            "1407/1407 [==============================] - 6s 4ms/step - loss: 1.6633 - accuracy: 0.4184 - val_loss: 1.6754 - val_accuracy: 0.4120\n",
            "Epoch 119/512\n",
            "1407/1407 [==============================] - 6s 5ms/step - loss: 1.6578 - accuracy: 0.4203 - val_loss: 1.6634 - val_accuracy: 0.4152\n",
            "Epoch 120/512\n",
            "1407/1407 [==============================] - 6s 4ms/step - loss: 1.6557 - accuracy: 0.4199 - val_loss: 1.6589 - val_accuracy: 0.4218\n",
            "Epoch 121/512\n",
            "1407/1407 [==============================] - 6s 4ms/step - loss: 1.6499 - accuracy: 0.4226 - val_loss: 1.7972 - val_accuracy: 0.3572\n",
            "Epoch 122/512\n",
            "1407/1407 [==============================] - 6s 4ms/step - loss: 1.6468 - accuracy: 0.4250 - val_loss: 1.7895 - val_accuracy: 0.3648\n",
            "Epoch 123/512\n",
            "1407/1407 [==============================] - 6s 4ms/step - loss: 1.6438 - accuracy: 0.4258 - val_loss: 1.6612 - val_accuracy: 0.4208\n",
            "Epoch 124/512\n",
            "1407/1407 [==============================] - 6s 4ms/step - loss: 1.6398 - accuracy: 0.4266 - val_loss: 1.7523 - val_accuracy: 0.3854\n",
            "Epoch 125/512\n",
            "1407/1407 [==============================] - 7s 5ms/step - loss: 1.6367 - accuracy: 0.4284 - val_loss: 1.8015 - val_accuracy: 0.3670\n",
            "Epoch 126/512\n",
            "1407/1407 [==============================] - 6s 4ms/step - loss: 1.6317 - accuracy: 0.4293 - val_loss: 1.6463 - val_accuracy: 0.4260\n",
            "Epoch 127/512\n",
            "1407/1407 [==============================] - 6s 4ms/step - loss: 1.6303 - accuracy: 0.4312 - val_loss: 1.7154 - val_accuracy: 0.3970\n",
            "Epoch 128/512\n",
            "1407/1407 [==============================] - 6s 4ms/step - loss: 1.6283 - accuracy: 0.4326 - val_loss: 1.8186 - val_accuracy: 0.3536\n",
            "Epoch 129/512\n",
            "1407/1407 [==============================] - 6s 4ms/step - loss: 1.6266 - accuracy: 0.4324 - val_loss: 1.6646 - val_accuracy: 0.4124\n",
            "Epoch 130/512\n",
            "1407/1407 [==============================] - 6s 4ms/step - loss: 1.6231 - accuracy: 0.4339 - val_loss: 1.6595 - val_accuracy: 0.4194\n",
            "Epoch 131/512\n",
            "1407/1407 [==============================] - 6s 4ms/step - loss: 1.6188 - accuracy: 0.4360 - val_loss: 1.6255 - val_accuracy: 0.4310\n",
            "Epoch 132/512\n",
            "1407/1407 [==============================] - 6s 4ms/step - loss: 1.6166 - accuracy: 0.4350 - val_loss: 2.1266 - val_accuracy: 0.2564\n",
            "Epoch 133/512\n",
            "1407/1407 [==============================] - 6s 4ms/step - loss: 1.6127 - accuracy: 0.4356 - val_loss: 1.6193 - val_accuracy: 0.4314\n",
            "Epoch 134/512\n",
            "1407/1407 [==============================] - 6s 4ms/step - loss: 1.6095 - accuracy: 0.4375 - val_loss: 1.6213 - val_accuracy: 0.4338\n",
            "Epoch 135/512\n",
            "1407/1407 [==============================] - 6s 4ms/step - loss: 1.6077 - accuracy: 0.4400 - val_loss: 1.6649 - val_accuracy: 0.4186\n",
            "Epoch 136/512\n",
            "1407/1407 [==============================] - 6s 4ms/step - loss: 1.6039 - accuracy: 0.4409 - val_loss: 1.7988 - val_accuracy: 0.3678\n",
            "Epoch 137/512\n",
            "1407/1407 [==============================] - 6s 4ms/step - loss: 1.6020 - accuracy: 0.4417 - val_loss: 1.6442 - val_accuracy: 0.4268\n",
            "Epoch 138/512\n",
            "1407/1407 [==============================] - 6s 4ms/step - loss: 1.5984 - accuracy: 0.4442 - val_loss: 1.6283 - val_accuracy: 0.4256\n",
            "Epoch 139/512\n",
            "1407/1407 [==============================] - 6s 4ms/step - loss: 1.5946 - accuracy: 0.4428 - val_loss: 1.6190 - val_accuracy: 0.4312\n",
            "Epoch 140/512\n",
            "1407/1407 [==============================] - 6s 4ms/step - loss: 1.5919 - accuracy: 0.4458 - val_loss: 1.6115 - val_accuracy: 0.4370\n",
            "Epoch 141/512\n",
            "1407/1407 [==============================] - 6s 4ms/step - loss: 1.5893 - accuracy: 0.4468 - val_loss: 1.6283 - val_accuracy: 0.4280\n",
            "Epoch 142/512\n",
            "1407/1407 [==============================] - 6s 4ms/step - loss: 1.5880 - accuracy: 0.4470 - val_loss: 1.6282 - val_accuracy: 0.4348\n",
            "Epoch 143/512\n",
            "1407/1407 [==============================] - 6s 4ms/step - loss: 1.5848 - accuracy: 0.4473 - val_loss: 1.6038 - val_accuracy: 0.4374\n",
            "Epoch 144/512\n",
            "1407/1407 [==============================] - 6s 5ms/step - loss: 1.5829 - accuracy: 0.4474 - val_loss: 1.6127 - val_accuracy: 0.4380\n",
            "Epoch 145/512\n",
            "1407/1407 [==============================] - 6s 4ms/step - loss: 1.5809 - accuracy: 0.4498 - val_loss: 1.6283 - val_accuracy: 0.4280\n",
            "Epoch 146/512\n",
            "1407/1407 [==============================] - 6s 4ms/step - loss: 1.5761 - accuracy: 0.4523 - val_loss: 1.8570 - val_accuracy: 0.3398\n",
            "Epoch 147/512\n",
            "1407/1407 [==============================] - 6s 4ms/step - loss: 1.5742 - accuracy: 0.4511 - val_loss: 1.6135 - val_accuracy: 0.4376\n",
            "Epoch 148/512\n",
            "1407/1407 [==============================] - 6s 4ms/step - loss: 1.5720 - accuracy: 0.4537 - val_loss: 1.6409 - val_accuracy: 0.4212\n",
            "Epoch 149/512\n",
            "1407/1407 [==============================] - 6s 4ms/step - loss: 1.5697 - accuracy: 0.4523 - val_loss: 1.6167 - val_accuracy: 0.4344\n",
            "Epoch 150/512\n",
            "1407/1407 [==============================] - 6s 4ms/step - loss: 1.5690 - accuracy: 0.4543 - val_loss: 1.6361 - val_accuracy: 0.4270\n",
            "Epoch 151/512\n",
            "1407/1407 [==============================] - 6s 4ms/step - loss: 1.5655 - accuracy: 0.4545 - val_loss: 1.5906 - val_accuracy: 0.4352\n",
            "Epoch 152/512\n",
            "1407/1407 [==============================] - 6s 4ms/step - loss: 1.5621 - accuracy: 0.4560 - val_loss: 1.5876 - val_accuracy: 0.4496\n",
            "Epoch 153/512\n",
            "1407/1407 [==============================] - 6s 4ms/step - loss: 1.5599 - accuracy: 0.4567 - val_loss: 1.6858 - val_accuracy: 0.4206\n",
            "Epoch 154/512\n",
            "1407/1407 [==============================] - 7s 5ms/step - loss: 1.5576 - accuracy: 0.4554 - val_loss: 1.6098 - val_accuracy: 0.4410\n",
            "Epoch 155/512\n",
            "1407/1407 [==============================] - 6s 4ms/step - loss: 1.5558 - accuracy: 0.4564 - val_loss: 1.7348 - val_accuracy: 0.4002\n",
            "Epoch 156/512\n",
            "1407/1407 [==============================] - 7s 5ms/step - loss: 1.5536 - accuracy: 0.4599 - val_loss: 1.5731 - val_accuracy: 0.4490\n",
            "Epoch 157/512\n",
            "1407/1407 [==============================] - 6s 4ms/step - loss: 1.5525 - accuracy: 0.4594 - val_loss: 1.6965 - val_accuracy: 0.4050\n",
            "Epoch 158/512\n",
            "1407/1407 [==============================] - 6s 4ms/step - loss: 1.5489 - accuracy: 0.4604 - val_loss: 1.6339 - val_accuracy: 0.4238\n",
            "Epoch 159/512\n",
            "1407/1407 [==============================] - 6s 4ms/step - loss: 1.5476 - accuracy: 0.4601 - val_loss: 1.5640 - val_accuracy: 0.4520\n",
            "Epoch 160/512\n",
            "1407/1407 [==============================] - 6s 4ms/step - loss: 1.5446 - accuracy: 0.4605 - val_loss: 1.6516 - val_accuracy: 0.4186\n",
            "Epoch 161/512\n",
            "1407/1407 [==============================] - 6s 4ms/step - loss: 1.5428 - accuracy: 0.4618 - val_loss: 1.7912 - val_accuracy: 0.3608\n",
            "Epoch 162/512\n",
            "1407/1407 [==============================] - 6s 4ms/step - loss: 1.5405 - accuracy: 0.4635 - val_loss: 1.5616 - val_accuracy: 0.4594\n",
            "Epoch 163/512\n",
            "1407/1407 [==============================] - 7s 5ms/step - loss: 1.5376 - accuracy: 0.4648 - val_loss: 1.7302 - val_accuracy: 0.3940\n",
            "Epoch 164/512\n",
            "1407/1407 [==============================] - 6s 4ms/step - loss: 1.5362 - accuracy: 0.4653 - val_loss: 1.5909 - val_accuracy: 0.4480\n",
            "Epoch 165/512\n",
            "1407/1407 [==============================] - 6s 4ms/step - loss: 1.5330 - accuracy: 0.4643 - val_loss: 1.6277 - val_accuracy: 0.4258\n",
            "Epoch 166/512\n",
            "1407/1407 [==============================] - 6s 4ms/step - loss: 1.5317 - accuracy: 0.4665 - val_loss: 1.5854 - val_accuracy: 0.4516\n",
            "Epoch 167/512\n",
            "1407/1407 [==============================] - 6s 4ms/step - loss: 1.5303 - accuracy: 0.4699 - val_loss: 1.5525 - val_accuracy: 0.4612\n",
            "Epoch 168/512\n",
            "1407/1407 [==============================] - 6s 4ms/step - loss: 1.5276 - accuracy: 0.4670 - val_loss: 1.6891 - val_accuracy: 0.4060\n",
            "Epoch 169/512\n",
            "1407/1407 [==============================] - 6s 4ms/step - loss: 1.5275 - accuracy: 0.4661 - val_loss: 1.5626 - val_accuracy: 0.4520\n",
            "Epoch 170/512\n",
            "1407/1407 [==============================] - 6s 4ms/step - loss: 1.5228 - accuracy: 0.4671 - val_loss: 1.5733 - val_accuracy: 0.4504\n",
            "Epoch 171/512\n",
            "1407/1407 [==============================] - 6s 4ms/step - loss: 1.5213 - accuracy: 0.4688 - val_loss: 1.5591 - val_accuracy: 0.4470\n",
            "Epoch 172/512\n",
            "1407/1407 [==============================] - 7s 5ms/step - loss: 1.5176 - accuracy: 0.4704 - val_loss: 1.6297 - val_accuracy: 0.4230\n",
            "Epoch 173/512\n",
            "1407/1407 [==============================] - 6s 4ms/step - loss: 1.5182 - accuracy: 0.4705 - val_loss: 1.6184 - val_accuracy: 0.4326\n",
            "Epoch 174/512\n",
            "1407/1407 [==============================] - 6s 4ms/step - loss: 1.5154 - accuracy: 0.4715 - val_loss: 1.5797 - val_accuracy: 0.4392\n",
            "Epoch 175/512\n",
            "1407/1407 [==============================] - 6s 4ms/step - loss: 1.5127 - accuracy: 0.4736 - val_loss: 1.5858 - val_accuracy: 0.4444\n",
            "Epoch 176/512\n",
            "1407/1407 [==============================] - 6s 4ms/step - loss: 1.5123 - accuracy: 0.4723 - val_loss: 1.5346 - val_accuracy: 0.4700\n",
            "Epoch 177/512\n",
            "1407/1407 [==============================] - 6s 4ms/step - loss: 1.5099 - accuracy: 0.4742 - val_loss: 1.6064 - val_accuracy: 0.4368\n",
            "Epoch 178/512\n",
            "1407/1407 [==============================] - 6s 4ms/step - loss: 1.5091 - accuracy: 0.4763 - val_loss: 1.5950 - val_accuracy: 0.4316\n",
            "Epoch 179/512\n",
            "1407/1407 [==============================] - 6s 4ms/step - loss: 1.5064 - accuracy: 0.4743 - val_loss: 1.6106 - val_accuracy: 0.4334\n",
            "Epoch 180/512\n",
            "1407/1407 [==============================] - 6s 4ms/step - loss: 1.5046 - accuracy: 0.4750 - val_loss: 1.5607 - val_accuracy: 0.4590\n",
            "Epoch 181/512\n",
            "1407/1407 [==============================] - 6s 5ms/step - loss: 1.5027 - accuracy: 0.4759 - val_loss: 1.5278 - val_accuracy: 0.4614\n",
            "Epoch 182/512\n",
            "1407/1407 [==============================] - 6s 4ms/step - loss: 1.5001 - accuracy: 0.4764 - val_loss: 1.5276 - val_accuracy: 0.4664\n",
            "Epoch 183/512\n",
            "1407/1407 [==============================] - 6s 4ms/step - loss: 1.4971 - accuracy: 0.4780 - val_loss: 1.5356 - val_accuracy: 0.4628\n",
            "Epoch 184/512\n",
            "1407/1407 [==============================] - 6s 4ms/step - loss: 1.4968 - accuracy: 0.4800 - val_loss: 1.5543 - val_accuracy: 0.4504\n",
            "Epoch 185/512\n",
            "1407/1407 [==============================] - 6s 4ms/step - loss: 1.4940 - accuracy: 0.4788 - val_loss: 1.6102 - val_accuracy: 0.4292\n",
            "Epoch 186/512\n",
            "1407/1407 [==============================] - 6s 4ms/step - loss: 1.4932 - accuracy: 0.4788 - val_loss: 1.7656 - val_accuracy: 0.3748\n",
            "Epoch 187/512\n",
            "1407/1407 [==============================] - 7s 5ms/step - loss: 1.4913 - accuracy: 0.4802 - val_loss: 1.5541 - val_accuracy: 0.4562\n",
            "Epoch 188/512\n",
            "1407/1407 [==============================] - 8s 5ms/step - loss: 1.4902 - accuracy: 0.4806 - val_loss: 1.5382 - val_accuracy: 0.4602\n",
            "Epoch 189/512\n",
            "1407/1407 [==============================] - 8s 6ms/step - loss: 1.4863 - accuracy: 0.4832 - val_loss: 1.5565 - val_accuracy: 0.4462\n",
            "Epoch 190/512\n",
            "1407/1407 [==============================] - 8s 6ms/step - loss: 1.4860 - accuracy: 0.4818 - val_loss: 1.5191 - val_accuracy: 0.4760\n",
            "Epoch 191/512\n",
            "1407/1407 [==============================] - 7s 5ms/step - loss: 1.4838 - accuracy: 0.4843 - val_loss: 1.5412 - val_accuracy: 0.4584\n",
            "Epoch 192/512\n",
            "1407/1407 [==============================] - 9s 6ms/step - loss: 1.4829 - accuracy: 0.4809 - val_loss: 1.5786 - val_accuracy: 0.4456\n",
            "Epoch 193/512\n",
            "1407/1407 [==============================] - 7s 5ms/step - loss: 1.4791 - accuracy: 0.4850 - val_loss: 1.5098 - val_accuracy: 0.4690\n",
            "Epoch 194/512\n",
            "1407/1407 [==============================] - 6s 4ms/step - loss: 1.4795 - accuracy: 0.4863 - val_loss: 1.5581 - val_accuracy: 0.4582\n",
            "Epoch 195/512\n",
            "1407/1407 [==============================] - 6s 4ms/step - loss: 1.4797 - accuracy: 0.4864 - val_loss: 1.5981 - val_accuracy: 0.4386\n",
            "Epoch 196/512\n",
            "1407/1407 [==============================] - 6s 5ms/step - loss: 1.4802 - accuracy: 0.4848 - val_loss: 1.5646 - val_accuracy: 0.4584\n",
            "Epoch 197/512\n",
            "1407/1407 [==============================] - 7s 5ms/step - loss: 1.4772 - accuracy: 0.4856 - val_loss: 2.0531 - val_accuracy: 0.3064\n",
            "Epoch 198/512\n",
            "1407/1407 [==============================] - 6s 4ms/step - loss: 1.4758 - accuracy: 0.4864 - val_loss: 1.5062 - val_accuracy: 0.4702\n",
            "Epoch 199/512\n",
            "1407/1407 [==============================] - 6s 4ms/step - loss: 1.4746 - accuracy: 0.4859 - val_loss: 1.5762 - val_accuracy: 0.4578\n",
            "Epoch 200/512\n",
            "1407/1407 [==============================] - 6s 4ms/step - loss: 1.4714 - accuracy: 0.4858 - val_loss: 1.5428 - val_accuracy: 0.4682\n",
            "Epoch 201/512\n",
            "1407/1407 [==============================] - 6s 4ms/step - loss: 1.4711 - accuracy: 0.4899 - val_loss: 1.5553 - val_accuracy: 0.4546\n",
            "Epoch 202/512\n",
            "1407/1407 [==============================] - 6s 4ms/step - loss: 1.4675 - accuracy: 0.4896 - val_loss: 1.5164 - val_accuracy: 0.4718\n",
            "Epoch 203/512\n",
            "1407/1407 [==============================] - 6s 4ms/step - loss: 1.4655 - accuracy: 0.4875 - val_loss: 1.6277 - val_accuracy: 0.4396\n",
            "Epoch 204/512\n",
            "1407/1407 [==============================] - 6s 4ms/step - loss: 1.4666 - accuracy: 0.4884 - val_loss: 1.5883 - val_accuracy: 0.4484\n",
            "Epoch 205/512\n",
            "1407/1407 [==============================] - 6s 4ms/step - loss: 1.4630 - accuracy: 0.4890 - val_loss: 1.6008 - val_accuracy: 0.4440\n",
            "Epoch 206/512\n",
            "1407/1407 [==============================] - 6s 4ms/step - loss: 1.4611 - accuracy: 0.4921 - val_loss: 1.5040 - val_accuracy: 0.4758\n",
            "Epoch 207/512\n",
            "1407/1407 [==============================] - 8s 6ms/step - loss: 1.4609 - accuracy: 0.4909 - val_loss: 1.5201 - val_accuracy: 0.4656\n",
            "Epoch 208/512\n",
            "1407/1407 [==============================] - 8s 5ms/step - loss: 1.4575 - accuracy: 0.4932 - val_loss: 1.4991 - val_accuracy: 0.4720\n",
            "Epoch 209/512\n",
            "1407/1407 [==============================] - 7s 5ms/step - loss: 1.4569 - accuracy: 0.4916 - val_loss: 1.5461 - val_accuracy: 0.4616\n",
            "Epoch 210/512\n",
            "1407/1407 [==============================] - 6s 4ms/step - loss: 1.4538 - accuracy: 0.4932 - val_loss: 1.6815 - val_accuracy: 0.4164\n",
            "Epoch 211/512\n",
            "1407/1407 [==============================] - 6s 4ms/step - loss: 1.4536 - accuracy: 0.4950 - val_loss: 1.5360 - val_accuracy: 0.4652\n",
            "Epoch 212/512\n",
            "1407/1407 [==============================] - 6s 4ms/step - loss: 1.4527 - accuracy: 0.4946 - val_loss: 1.5471 - val_accuracy: 0.4596\n",
            "Epoch 213/512\n",
            "1407/1407 [==============================] - 6s 4ms/step - loss: 1.4503 - accuracy: 0.4952 - val_loss: 1.6130 - val_accuracy: 0.4368\n",
            "Epoch 214/512\n",
            "1407/1407 [==============================] - 6s 4ms/step - loss: 1.4497 - accuracy: 0.4953 - val_loss: 1.6526 - val_accuracy: 0.4352\n",
            "Epoch 215/512\n",
            "1407/1407 [==============================] - 7s 5ms/step - loss: 1.4471 - accuracy: 0.4976 - val_loss: 1.9470 - val_accuracy: 0.3444\n",
            "Epoch 216/512\n",
            "1407/1407 [==============================] - 6s 4ms/step - loss: 1.4456 - accuracy: 0.4973 - val_loss: 1.4974 - val_accuracy: 0.4820\n",
            "Epoch 217/512\n",
            "1407/1407 [==============================] - 6s 4ms/step - loss: 1.4445 - accuracy: 0.4968 - val_loss: 1.4962 - val_accuracy: 0.4776\n",
            "Epoch 218/512\n",
            "1407/1407 [==============================] - 6s 4ms/step - loss: 1.4424 - accuracy: 0.4973 - val_loss: 1.5132 - val_accuracy: 0.4674\n",
            "Epoch 219/512\n",
            "1407/1407 [==============================] - 6s 4ms/step - loss: 1.4411 - accuracy: 0.4978 - val_loss: 1.4927 - val_accuracy: 0.4780\n",
            "Epoch 220/512\n",
            "1407/1407 [==============================] - 6s 4ms/step - loss: 1.4389 - accuracy: 0.4994 - val_loss: 1.9230 - val_accuracy: 0.3382\n",
            "Epoch 221/512\n",
            "1407/1407 [==============================] - 6s 4ms/step - loss: 1.4376 - accuracy: 0.4985 - val_loss: 1.7059 - val_accuracy: 0.4150\n",
            "Epoch 222/512\n",
            "1407/1407 [==============================] - 6s 4ms/step - loss: 1.4379 - accuracy: 0.5008 - val_loss: 1.5738 - val_accuracy: 0.4506\n",
            "Epoch 223/512\n",
            "1407/1407 [==============================] - 7s 5ms/step - loss: 1.4336 - accuracy: 0.5014 - val_loss: 1.5442 - val_accuracy: 0.4564\n",
            "Epoch 224/512\n",
            "1407/1407 [==============================] - 8s 5ms/step - loss: 1.4348 - accuracy: 0.4996 - val_loss: 1.5285 - val_accuracy: 0.4726\n",
            "Epoch 225/512\n",
            "1407/1407 [==============================] - 6s 5ms/step - loss: 1.4326 - accuracy: 0.5005 - val_loss: 1.4871 - val_accuracy: 0.4804\n",
            "Epoch 226/512\n",
            "1407/1407 [==============================] - 7s 5ms/step - loss: 1.4310 - accuracy: 0.5011 - val_loss: 1.5197 - val_accuracy: 0.4674\n",
            "Epoch 227/512\n",
            "1407/1407 [==============================] - 6s 4ms/step - loss: 1.4285 - accuracy: 0.5015 - val_loss: 1.5450 - val_accuracy: 0.4622\n",
            "Epoch 228/512\n",
            "1407/1407 [==============================] - 6s 4ms/step - loss: 1.4273 - accuracy: 0.5036 - val_loss: 1.5426 - val_accuracy: 0.4612\n",
            "Epoch 229/512\n",
            "1407/1407 [==============================] - 6s 4ms/step - loss: 1.4265 - accuracy: 0.5036 - val_loss: 1.4899 - val_accuracy: 0.4810\n",
            "Epoch 230/512\n",
            "1407/1407 [==============================] - 6s 4ms/step - loss: 1.4217 - accuracy: 0.5053 - val_loss: 1.5280 - val_accuracy: 0.4652\n",
            "Epoch 231/512\n",
            "1407/1407 [==============================] - 6s 4ms/step - loss: 1.4250 - accuracy: 0.5046 - val_loss: 1.6402 - val_accuracy: 0.4348\n",
            "Epoch 232/512\n",
            "1407/1407 [==============================] - 6s 4ms/step - loss: 1.4241 - accuracy: 0.5050 - val_loss: 1.4680 - val_accuracy: 0.4898\n",
            "Epoch 233/512\n",
            "1407/1407 [==============================] - 7s 5ms/step - loss: 1.4193 - accuracy: 0.5064 - val_loss: 1.6502 - val_accuracy: 0.4436\n",
            "Epoch 234/512\n",
            "1407/1407 [==============================] - 6s 4ms/step - loss: 1.4177 - accuracy: 0.5070 - val_loss: 1.4939 - val_accuracy: 0.4794\n",
            "Epoch 235/512\n",
            "1407/1407 [==============================] - 6s 4ms/step - loss: 1.4173 - accuracy: 0.5071 - val_loss: 1.5185 - val_accuracy: 0.4718\n",
            "Epoch 236/512\n",
            "1407/1407 [==============================] - 6s 4ms/step - loss: 1.4159 - accuracy: 0.5084 - val_loss: 1.4709 - val_accuracy: 0.4858\n",
            "Epoch 237/512\n",
            "1407/1407 [==============================] - 6s 4ms/step - loss: 1.4139 - accuracy: 0.5074 - val_loss: 1.6568 - val_accuracy: 0.4296\n",
            "Epoch 238/512\n",
            "1407/1407 [==============================] - 6s 4ms/step - loss: 1.4114 - accuracy: 0.5087 - val_loss: 1.4911 - val_accuracy: 0.4770\n",
            "Epoch 239/512\n",
            "1407/1407 [==============================] - 6s 4ms/step - loss: 1.4109 - accuracy: 0.5072 - val_loss: 2.0295 - val_accuracy: 0.3332\n",
            "Epoch 240/512\n",
            "1407/1407 [==============================] - 6s 4ms/step - loss: 1.4107 - accuracy: 0.5109 - val_loss: 1.5092 - val_accuracy: 0.4762\n",
            "Epoch 241/512\n",
            "1407/1407 [==============================] - 6s 4ms/step - loss: 1.4087 - accuracy: 0.5073 - val_loss: 1.5413 - val_accuracy: 0.4548\n",
            "Epoch 242/512\n",
            "1407/1407 [==============================] - 7s 5ms/step - loss: 1.4083 - accuracy: 0.5101 - val_loss: 1.5452 - val_accuracy: 0.4686\n",
            "Epoch 243/512\n",
            "1407/1407 [==============================] - 6s 4ms/step - loss: 1.4062 - accuracy: 0.5107 - val_loss: 1.5087 - val_accuracy: 0.4720\n",
            "Epoch 244/512\n",
            "1407/1407 [==============================] - 6s 4ms/step - loss: 1.4040 - accuracy: 0.5116 - val_loss: 1.4626 - val_accuracy: 0.4934\n",
            "Epoch 245/512\n",
            "1407/1407 [==============================] - 7s 5ms/step - loss: 1.4031 - accuracy: 0.5125 - val_loss: 1.5441 - val_accuracy: 0.4634\n",
            "Epoch 246/512\n",
            "1407/1407 [==============================] - 6s 4ms/step - loss: 1.4014 - accuracy: 0.5123 - val_loss: 1.4628 - val_accuracy: 0.4886\n",
            "Epoch 247/512\n",
            "1407/1407 [==============================] - 6s 4ms/step - loss: 1.4001 - accuracy: 0.5139 - val_loss: 1.4852 - val_accuracy: 0.4760\n",
            "Epoch 248/512\n",
            "1407/1407 [==============================] - 6s 4ms/step - loss: 1.4000 - accuracy: 0.5140 - val_loss: 1.5477 - val_accuracy: 0.4598\n",
            "Epoch 249/512\n",
            "1407/1407 [==============================] - 6s 4ms/step - loss: 1.3980 - accuracy: 0.5124 - val_loss: 1.4663 - val_accuracy: 0.4910\n",
            "Epoch 250/512\n",
            "1407/1407 [==============================] - 6s 4ms/step - loss: 1.3961 - accuracy: 0.5136 - val_loss: 1.4629 - val_accuracy: 0.4914\n",
            "Epoch 251/512\n",
            "1407/1407 [==============================] - 7s 5ms/step - loss: 1.3944 - accuracy: 0.5148 - val_loss: 1.6113 - val_accuracy: 0.4370\n",
            "Epoch 252/512\n",
            "1407/1407 [==============================] - 6s 4ms/step - loss: 1.3942 - accuracy: 0.5151 - val_loss: 1.4466 - val_accuracy: 0.4980\n",
            "Epoch 253/512\n",
            "1407/1407 [==============================] - 6s 4ms/step - loss: 1.3921 - accuracy: 0.5148 - val_loss: 1.4908 - val_accuracy: 0.4782\n",
            "Epoch 254/512\n",
            "1407/1407 [==============================] - 6s 4ms/step - loss: 1.3900 - accuracy: 0.5162 - val_loss: 1.4536 - val_accuracy: 0.4934\n",
            "Epoch 255/512\n",
            "1407/1407 [==============================] - 6s 5ms/step - loss: 1.3892 - accuracy: 0.5175 - val_loss: 1.5466 - val_accuracy: 0.4624\n",
            "Epoch 256/512\n",
            "1407/1407 [==============================] - 6s 4ms/step - loss: 1.3871 - accuracy: 0.5164 - val_loss: 1.5275 - val_accuracy: 0.4728\n",
            "Epoch 257/512\n",
            "1407/1407 [==============================] - 6s 4ms/step - loss: 1.3871 - accuracy: 0.5171 - val_loss: 1.4720 - val_accuracy: 0.4838\n",
            "Epoch 258/512\n",
            "1407/1407 [==============================] - 6s 4ms/step - loss: 1.3848 - accuracy: 0.5190 - val_loss: 1.4324 - val_accuracy: 0.5032\n",
            "Epoch 259/512\n",
            "1407/1407 [==============================] - 6s 4ms/step - loss: 1.3842 - accuracy: 0.5182 - val_loss: 1.5468 - val_accuracy: 0.4550\n",
            "Epoch 260/512\n",
            "1407/1407 [==============================] - 7s 5ms/step - loss: 1.3817 - accuracy: 0.5184 - val_loss: 1.4764 - val_accuracy: 0.4860\n",
            "Epoch 261/512\n",
            "1407/1407 [==============================] - 6s 4ms/step - loss: 1.3817 - accuracy: 0.5187 - val_loss: 1.4598 - val_accuracy: 0.4880\n",
            "Epoch 262/512\n",
            "1407/1407 [==============================] - 7s 5ms/step - loss: 1.3792 - accuracy: 0.5219 - val_loss: 1.5315 - val_accuracy: 0.4588\n",
            "Epoch 263/512\n",
            "1407/1407 [==============================] - 6s 4ms/step - loss: 1.3775 - accuracy: 0.5202 - val_loss: 1.4930 - val_accuracy: 0.4804\n",
            "Epoch 264/512\n",
            "1407/1407 [==============================] - 6s 4ms/step - loss: 1.3751 - accuracy: 0.5213 - val_loss: 1.4811 - val_accuracy: 0.4850\n",
            "Epoch 265/512\n",
            "1407/1407 [==============================] - 6s 4ms/step - loss: 1.3744 - accuracy: 0.5228 - val_loss: 1.4670 - val_accuracy: 0.4838\n",
            "Epoch 266/512\n",
            "1407/1407 [==============================] - 6s 4ms/step - loss: 1.3725 - accuracy: 0.5226 - val_loss: 1.4388 - val_accuracy: 0.5012\n",
            "Epoch 267/512\n",
            "1407/1407 [==============================] - 6s 4ms/step - loss: 1.3717 - accuracy: 0.5238 - val_loss: 1.4384 - val_accuracy: 0.4996\n",
            "Epoch 268/512\n",
            "1407/1407 [==============================] - 6s 4ms/step - loss: 1.3715 - accuracy: 0.5242 - val_loss: 1.4616 - val_accuracy: 0.4918\n",
            "Epoch 269/512\n",
            "1407/1407 [==============================] - 7s 5ms/step - loss: 1.3711 - accuracy: 0.5234 - val_loss: 1.4496 - val_accuracy: 0.4882\n",
            "Epoch 270/512\n",
            "1407/1407 [==============================] - 6s 4ms/step - loss: 1.3674 - accuracy: 0.5239 - val_loss: 1.4344 - val_accuracy: 0.5018\n",
            "Epoch 271/512\n",
            "1407/1407 [==============================] - 6s 4ms/step - loss: 1.3674 - accuracy: 0.5249 - val_loss: 1.4908 - val_accuracy: 0.4848\n",
            "Epoch 272/512\n",
            "1407/1407 [==============================] - 6s 4ms/step - loss: 1.3661 - accuracy: 0.5227 - val_loss: 1.4477 - val_accuracy: 0.4966\n",
            "Epoch 273/512\n",
            "1407/1407 [==============================] - 6s 4ms/step - loss: 1.3640 - accuracy: 0.5267 - val_loss: 1.4974 - val_accuracy: 0.4728\n",
            "Epoch 274/512\n",
            "1407/1407 [==============================] - 6s 4ms/step - loss: 1.3656 - accuracy: 0.5233 - val_loss: 1.4600 - val_accuracy: 0.4902\n",
            "Epoch 275/512\n",
            "1407/1407 [==============================] - 6s 4ms/step - loss: 1.3769 - accuracy: 0.5204 - val_loss: 1.4404 - val_accuracy: 0.5006\n",
            "Epoch 276/512\n",
            "1407/1407 [==============================] - 6s 4ms/step - loss: 1.3712 - accuracy: 0.5228 - val_loss: 1.4624 - val_accuracy: 0.4858\n",
            "Epoch 277/512\n",
            "1407/1407 [==============================] - 6s 5ms/step - loss: 1.3677 - accuracy: 0.5242 - val_loss: 1.4650 - val_accuracy: 0.4776\n",
            "Epoch 278/512\n",
            "1407/1407 [==============================] - 7s 5ms/step - loss: 1.3662 - accuracy: 0.5237 - val_loss: 1.4756 - val_accuracy: 0.4852\n",
            "Epoch 279/512\n",
            "1407/1407 [==============================] - 6s 4ms/step - loss: 1.3642 - accuracy: 0.5262 - val_loss: 1.4900 - val_accuracy: 0.4816\n",
            "Epoch 280/512\n",
            "1407/1407 [==============================] - 6s 4ms/step - loss: 1.3626 - accuracy: 0.5256 - val_loss: 1.4273 - val_accuracy: 0.4998\n",
            "Epoch 281/512\n",
            "1407/1407 [==============================] - 6s 4ms/step - loss: 1.3612 - accuracy: 0.5235 - val_loss: 1.4965 - val_accuracy: 0.4796\n",
            "Epoch 282/512\n",
            "1407/1407 [==============================] - 6s 4ms/step - loss: 1.3588 - accuracy: 0.5264 - val_loss: 1.4338 - val_accuracy: 0.5020\n",
            "Epoch 283/512\n",
            "1407/1407 [==============================] - 6s 4ms/step - loss: 1.3568 - accuracy: 0.5301 - val_loss: 1.4432 - val_accuracy: 0.4974\n",
            "Epoch 284/512\n",
            "1407/1407 [==============================] - 6s 4ms/step - loss: 1.3580 - accuracy: 0.5285 - val_loss: 1.4913 - val_accuracy: 0.4814\n",
            "Epoch 285/512\n",
            "1407/1407 [==============================] - 6s 4ms/step - loss: 1.3566 - accuracy: 0.5286 - val_loss: 1.4814 - val_accuracy: 0.4920\n",
            "Epoch 286/512\n",
            "1407/1407 [==============================] - 7s 5ms/step - loss: 1.3529 - accuracy: 0.5293 - val_loss: 1.4289 - val_accuracy: 0.4984\n",
            "Epoch 287/512\n",
            "1407/1407 [==============================] - 6s 4ms/step - loss: 1.3525 - accuracy: 0.5290 - val_loss: 1.4494 - val_accuracy: 0.4998\n",
            "Epoch 288/512\n",
            "1407/1407 [==============================] - 6s 4ms/step - loss: 1.3506 - accuracy: 0.5294 - val_loss: 1.5338 - val_accuracy: 0.4744\n",
            "Epoch 289/512\n",
            "1407/1407 [==============================] - 6s 4ms/step - loss: 1.3498 - accuracy: 0.5291 - val_loss: 1.7056 - val_accuracy: 0.4142\n",
            "Epoch 290/512\n",
            "1407/1407 [==============================] - 6s 4ms/step - loss: 1.3510 - accuracy: 0.5304 - val_loss: 1.4443 - val_accuracy: 0.4986\n",
            "Epoch 291/512\n",
            "1407/1407 [==============================] - 6s 4ms/step - loss: 1.3480 - accuracy: 0.5304 - val_loss: 1.4901 - val_accuracy: 0.4784\n",
            "Epoch 292/512\n",
            "1407/1407 [==============================] - 6s 4ms/step - loss: 1.3451 - accuracy: 0.5314 - val_loss: 1.4495 - val_accuracy: 0.4944\n",
            "Epoch 293/512\n",
            "1407/1407 [==============================] - 6s 4ms/step - loss: 1.3460 - accuracy: 0.5309 - val_loss: 1.4862 - val_accuracy: 0.4866\n",
            "Epoch 294/512\n",
            "1407/1407 [==============================] - 6s 4ms/step - loss: 1.3407 - accuracy: 0.5322 - val_loss: 1.4315 - val_accuracy: 0.5038\n",
            "Epoch 295/512\n",
            "1407/1407 [==============================] - 7s 5ms/step - loss: 1.3407 - accuracy: 0.5334 - val_loss: 1.4610 - val_accuracy: 0.4960\n",
            "Epoch 296/512\n",
            "1407/1407 [==============================] - 6s 4ms/step - loss: 1.3409 - accuracy: 0.5326 - val_loss: 1.4483 - val_accuracy: 0.4848\n",
            "Epoch 297/512\n",
            "1407/1407 [==============================] - 7s 5ms/step - loss: 1.3395 - accuracy: 0.5316 - val_loss: 1.4168 - val_accuracy: 0.5056\n",
            "Epoch 298/512\n",
            "1407/1407 [==============================] - 6s 4ms/step - loss: 1.3380 - accuracy: 0.5347 - val_loss: 1.7242 - val_accuracy: 0.4142\n",
            "Epoch 299/512\n",
            "1407/1407 [==============================] - 6s 4ms/step - loss: 1.3376 - accuracy: 0.5346 - val_loss: 1.4765 - val_accuracy: 0.4874\n",
            "Epoch 300/512\n",
            "1407/1407 [==============================] - 6s 4ms/step - loss: 1.3351 - accuracy: 0.5357 - val_loss: 1.4247 - val_accuracy: 0.4998\n",
            "Epoch 301/512\n",
            "1407/1407 [==============================] - 6s 4ms/step - loss: 1.3330 - accuracy: 0.5367 - val_loss: 1.4478 - val_accuracy: 0.4976\n",
            "Epoch 302/512\n",
            "1407/1407 [==============================] - 6s 4ms/step - loss: 1.3321 - accuracy: 0.5348 - val_loss: 1.4552 - val_accuracy: 0.4994\n",
            "Epoch 303/512\n",
            "1407/1407 [==============================] - 6s 4ms/step - loss: 1.3316 - accuracy: 0.5357 - val_loss: 1.4270 - val_accuracy: 0.5028\n",
            "Epoch 304/512\n",
            "1407/1407 [==============================] - 7s 5ms/step - loss: 1.3306 - accuracy: 0.5371 - val_loss: 1.4019 - val_accuracy: 0.5064\n",
            "Epoch 305/512\n",
            "1407/1407 [==============================] - 6s 4ms/step - loss: 1.3281 - accuracy: 0.5385 - val_loss: 1.4095 - val_accuracy: 0.5104\n",
            "Epoch 306/512\n",
            "1407/1407 [==============================] - 6s 4ms/step - loss: 1.3276 - accuracy: 0.5388 - val_loss: 1.6829 - val_accuracy: 0.4306\n",
            "Epoch 307/512\n",
            "1407/1407 [==============================] - 6s 4ms/step - loss: 1.3269 - accuracy: 0.5386 - val_loss: 1.5247 - val_accuracy: 0.4696\n",
            "Epoch 308/512\n",
            "1407/1407 [==============================] - 6s 4ms/step - loss: 1.3251 - accuracy: 0.5393 - val_loss: 1.6336 - val_accuracy: 0.4378\n",
            "Epoch 309/512\n",
            "1407/1407 [==============================] - 6s 4ms/step - loss: 1.3239 - accuracy: 0.5380 - val_loss: 1.5448 - val_accuracy: 0.4632\n",
            "Epoch 310/512\n",
            "1407/1407 [==============================] - 6s 4ms/step - loss: 1.3233 - accuracy: 0.5385 - val_loss: 1.5264 - val_accuracy: 0.4760\n",
            "Epoch 311/512\n",
            "1407/1407 [==============================] - 6s 4ms/step - loss: 1.3205 - accuracy: 0.5390 - val_loss: 1.4568 - val_accuracy: 0.4972\n",
            "Epoch 312/512\n",
            "1407/1407 [==============================] - 6s 4ms/step - loss: 1.3199 - accuracy: 0.5389 - val_loss: 1.6432 - val_accuracy: 0.4296\n",
            "Epoch 313/512\n",
            "1407/1407 [==============================] - 7s 5ms/step - loss: 1.3183 - accuracy: 0.5401 - val_loss: 1.4790 - val_accuracy: 0.4906\n",
            "Epoch 314/512\n",
            "1407/1407 [==============================] - 6s 5ms/step - loss: 1.3178 - accuracy: 0.5400 - val_loss: 1.4070 - val_accuracy: 0.5048\n",
            "Epoch 315/512\n",
            "1407/1407 [==============================] - 6s 4ms/step - loss: 1.3163 - accuracy: 0.5408 - val_loss: 1.9460 - val_accuracy: 0.3470\n",
            "Epoch 316/512\n",
            "1407/1407 [==============================] - 6s 4ms/step - loss: 1.3160 - accuracy: 0.5410 - val_loss: 1.5661 - val_accuracy: 0.4618\n",
            "Epoch 317/512\n",
            "1407/1407 [==============================] - 6s 4ms/step - loss: 1.3142 - accuracy: 0.5408 - val_loss: 1.5792 - val_accuracy: 0.4594\n",
            "Epoch 318/512\n",
            "1407/1407 [==============================] - 6s 4ms/step - loss: 1.3130 - accuracy: 0.5435 - val_loss: 1.5211 - val_accuracy: 0.4736\n",
            "Epoch 319/512\n",
            "1407/1407 [==============================] - 6s 4ms/step - loss: 1.3111 - accuracy: 0.5443 - val_loss: 1.3928 - val_accuracy: 0.5162\n",
            "Epoch 320/512\n",
            "1407/1407 [==============================] - 6s 4ms/step - loss: 1.3121 - accuracy: 0.5426 - val_loss: 1.4020 - val_accuracy: 0.5120\n",
            "Epoch 321/512\n",
            "1407/1407 [==============================] - 7s 5ms/step - loss: 1.3098 - accuracy: 0.5448 - val_loss: 1.4404 - val_accuracy: 0.5050\n",
            "Epoch 322/512\n",
            "1407/1407 [==============================] - 6s 4ms/step - loss: 1.3078 - accuracy: 0.5460 - val_loss: 1.3922 - val_accuracy: 0.5144\n",
            "Epoch 323/512\n",
            "1407/1407 [==============================] - 6s 4ms/step - loss: 1.3071 - accuracy: 0.5451 - val_loss: 1.4895 - val_accuracy: 0.4826\n",
            "Epoch 324/512\n",
            "1407/1407 [==============================] - 6s 4ms/step - loss: 1.3049 - accuracy: 0.5456 - val_loss: 1.4316 - val_accuracy: 0.5010\n",
            "Epoch 325/512\n",
            "1407/1407 [==============================] - 6s 4ms/step - loss: 1.3058 - accuracy: 0.5467 - val_loss: 1.4071 - val_accuracy: 0.5126\n",
            "Epoch 326/512\n",
            "1407/1407 [==============================] - 6s 4ms/step - loss: 1.3035 - accuracy: 0.5474 - val_loss: 1.3871 - val_accuracy: 0.5152\n",
            "Epoch 327/512\n",
            "1407/1407 [==============================] - 6s 4ms/step - loss: 1.3011 - accuracy: 0.5466 - val_loss: 1.4609 - val_accuracy: 0.4998\n",
            "Epoch 328/512\n",
            "1407/1407 [==============================] - 6s 4ms/step - loss: 1.3023 - accuracy: 0.5482 - val_loss: 1.4796 - val_accuracy: 0.4812\n",
            "Epoch 329/512\n",
            "1407/1407 [==============================] - 6s 4ms/step - loss: 1.2995 - accuracy: 0.5464 - val_loss: 1.4505 - val_accuracy: 0.5028\n",
            "Epoch 330/512\n",
            "1407/1407 [==============================] - 7s 5ms/step - loss: 1.2973 - accuracy: 0.5472 - val_loss: 1.4408 - val_accuracy: 0.5046\n",
            "Epoch 331/512\n",
            "1407/1407 [==============================] - 6s 4ms/step - loss: 1.2982 - accuracy: 0.5483 - val_loss: 1.4109 - val_accuracy: 0.5114\n",
            "Epoch 332/512\n",
            "1407/1407 [==============================] - 7s 5ms/step - loss: 1.2966 - accuracy: 0.5488 - val_loss: 1.3925 - val_accuracy: 0.5146\n",
            "Epoch 333/512\n",
            "1407/1407 [==============================] - 6s 4ms/step - loss: 1.2948 - accuracy: 0.5488 - val_loss: 1.4547 - val_accuracy: 0.4940\n",
            "Epoch 334/512\n",
            "1407/1407 [==============================] - 6s 4ms/step - loss: 1.2942 - accuracy: 0.5475 - val_loss: 1.4644 - val_accuracy: 0.4912\n",
            "Epoch 335/512\n",
            "1407/1407 [==============================] - 6s 4ms/step - loss: 1.2905 - accuracy: 0.5491 - val_loss: 1.4025 - val_accuracy: 0.5194\n",
            "Epoch 336/512\n",
            "1407/1407 [==============================] - 6s 4ms/step - loss: 1.2913 - accuracy: 0.5512 - val_loss: 1.4169 - val_accuracy: 0.5144\n",
            "Epoch 337/512\n",
            "1407/1407 [==============================] - 6s 4ms/step - loss: 1.2906 - accuracy: 0.5509 - val_loss: 1.4068 - val_accuracy: 0.5152\n",
            "Epoch 338/512\n",
            "1407/1407 [==============================] - 6s 5ms/step - loss: 1.2895 - accuracy: 0.5504 - val_loss: 1.3841 - val_accuracy: 0.5132\n",
            "Epoch 339/512\n",
            "1407/1407 [==============================] - 7s 5ms/step - loss: 1.2878 - accuracy: 0.5522 - val_loss: 1.4803 - val_accuracy: 0.4896\n",
            "Epoch 340/512\n",
            "1407/1407 [==============================] - 6s 4ms/step - loss: 1.2864 - accuracy: 0.5512 - val_loss: 1.4621 - val_accuracy: 0.4976\n",
            "Epoch 341/512\n",
            "1407/1407 [==============================] - 6s 4ms/step - loss: 1.2857 - accuracy: 0.5511 - val_loss: 1.3814 - val_accuracy: 0.5230\n",
            "Epoch 342/512\n",
            "1407/1407 [==============================] - 6s 4ms/step - loss: 1.2838 - accuracy: 0.5528 - val_loss: 1.5640 - val_accuracy: 0.4602\n",
            "Epoch 343/512\n",
            "1407/1407 [==============================] - 6s 4ms/step - loss: 1.2837 - accuracy: 0.5507 - val_loss: 1.4421 - val_accuracy: 0.5038\n",
            "Epoch 344/512\n",
            "1407/1407 [==============================] - 6s 4ms/step - loss: 1.2805 - accuracy: 0.5526 - val_loss: 1.5762 - val_accuracy: 0.4578\n",
            "Epoch 345/512\n",
            "1407/1407 [==============================] - 6s 4ms/step - loss: 1.2816 - accuracy: 0.5530 - val_loss: 1.3814 - val_accuracy: 0.5272\n",
            "Epoch 346/512\n",
            "1407/1407 [==============================] - 6s 4ms/step - loss: 1.2784 - accuracy: 0.5528 - val_loss: 1.4141 - val_accuracy: 0.5058\n",
            "Epoch 347/512\n",
            "1407/1407 [==============================] - 7s 5ms/step - loss: 1.2793 - accuracy: 0.5552 - val_loss: 1.5477 - val_accuracy: 0.4712\n",
            "Epoch 348/512\n",
            "1407/1407 [==============================] - 6s 4ms/step - loss: 1.2786 - accuracy: 0.5564 - val_loss: 1.4028 - val_accuracy: 0.5140\n",
            "Epoch 349/512\n",
            "1407/1407 [==============================] - 6s 4ms/step - loss: 1.2764 - accuracy: 0.5549 - val_loss: 1.5297 - val_accuracy: 0.4694\n",
            "Epoch 350/512\n",
            "1407/1407 [==============================] - 6s 4ms/step - loss: 1.2770 - accuracy: 0.5543 - val_loss: 1.4069 - val_accuracy: 0.5074\n",
            "Epoch 351/512\n",
            "1407/1407 [==============================] - 6s 5ms/step - loss: 1.2723 - accuracy: 0.5564 - val_loss: 1.4434 - val_accuracy: 0.4936\n",
            "Epoch 352/512\n",
            "1407/1407 [==============================] - 6s 4ms/step - loss: 1.2742 - accuracy: 0.5566 - val_loss: 1.4511 - val_accuracy: 0.4946\n",
            "Epoch 353/512\n",
            "1407/1407 [==============================] - 6s 5ms/step - loss: 1.2708 - accuracy: 0.5584 - val_loss: 1.4893 - val_accuracy: 0.4854\n",
            "Epoch 354/512\n",
            "1407/1407 [==============================] - 6s 4ms/step - loss: 1.2708 - accuracy: 0.5586 - val_loss: 1.3656 - val_accuracy: 0.5290\n",
            "Epoch 355/512\n",
            "1407/1407 [==============================] - 6s 4ms/step - loss: 1.2727 - accuracy: 0.5563 - val_loss: 1.6803 - val_accuracy: 0.4316\n",
            "Epoch 356/512\n",
            "1407/1407 [==============================] - 7s 5ms/step - loss: 1.2693 - accuracy: 0.5552 - val_loss: 1.3783 - val_accuracy: 0.5222\n",
            "Epoch 357/512\n",
            "1407/1407 [==============================] - 6s 4ms/step - loss: 1.2653 - accuracy: 0.5573 - val_loss: 2.3868 - val_accuracy: 0.2872\n",
            "Epoch 358/512\n",
            "1407/1407 [==============================] - 6s 5ms/step - loss: 1.2687 - accuracy: 0.5552 - val_loss: 1.4486 - val_accuracy: 0.4968\n",
            "Epoch 359/512\n",
            "1407/1407 [==============================] - 6s 5ms/step - loss: 1.2655 - accuracy: 0.5586 - val_loss: 1.3772 - val_accuracy: 0.5214\n",
            "Epoch 360/512\n",
            "1407/1407 [==============================] - 6s 4ms/step - loss: 1.2639 - accuracy: 0.5584 - val_loss: 1.4014 - val_accuracy: 0.5096\n",
            "Epoch 361/512\n",
            "1407/1407 [==============================] - 6s 4ms/step - loss: 1.2635 - accuracy: 0.5589 - val_loss: 1.4484 - val_accuracy: 0.5000\n",
            "Epoch 362/512\n",
            "1407/1407 [==============================] - 6s 5ms/step - loss: 1.2632 - accuracy: 0.5611 - val_loss: 1.4328 - val_accuracy: 0.4960\n",
            "Epoch 363/512\n",
            "1407/1407 [==============================] - 6s 5ms/step - loss: 1.2620 - accuracy: 0.5610 - val_loss: 1.5153 - val_accuracy: 0.4734\n",
            "Epoch 364/512\n",
            "1407/1407 [==============================] - 7s 5ms/step - loss: 1.2583 - accuracy: 0.5616 - val_loss: 1.6171 - val_accuracy: 0.4436\n",
            "Epoch 365/512\n",
            "1407/1407 [==============================] - 7s 5ms/step - loss: 1.2593 - accuracy: 0.5594 - val_loss: 1.5293 - val_accuracy: 0.4776\n",
            "Epoch 366/512\n",
            "1407/1407 [==============================] - 7s 5ms/step - loss: 1.2584 - accuracy: 0.5601 - val_loss: 1.4438 - val_accuracy: 0.5030\n",
            "Epoch 367/512\n",
            "1407/1407 [==============================] - 6s 5ms/step - loss: 1.2549 - accuracy: 0.5634 - val_loss: 1.3596 - val_accuracy: 0.5330\n",
            "Epoch 368/512\n",
            "1407/1407 [==============================] - 6s 5ms/step - loss: 1.2555 - accuracy: 0.5627 - val_loss: 1.4245 - val_accuracy: 0.5088\n",
            "Epoch 369/512\n",
            "1407/1407 [==============================] - 6s 5ms/step - loss: 1.2533 - accuracy: 0.5626 - val_loss: 1.4729 - val_accuracy: 0.4946\n",
            "Epoch 370/512\n",
            "1407/1407 [==============================] - 6s 4ms/step - loss: 1.2542 - accuracy: 0.5628 - val_loss: 1.4084 - val_accuracy: 0.5134\n",
            "Epoch 371/512\n",
            "1407/1407 [==============================] - 6s 4ms/step - loss: 1.2496 - accuracy: 0.5650 - val_loss: 1.6100 - val_accuracy: 0.4492\n",
            "Epoch 372/512\n",
            "1407/1407 [==============================] - 6s 5ms/step - loss: 1.2511 - accuracy: 0.5631 - val_loss: 1.3444 - val_accuracy: 0.5408\n",
            "Epoch 373/512\n",
            "1407/1407 [==============================] - 7s 5ms/step - loss: 1.2502 - accuracy: 0.5653 - val_loss: 1.3509 - val_accuracy: 0.5310\n",
            "Epoch 374/512\n",
            "1407/1407 [==============================] - 6s 5ms/step - loss: 1.2482 - accuracy: 0.5640 - val_loss: 1.3758 - val_accuracy: 0.5276\n",
            "Epoch 375/512\n",
            "1407/1407 [==============================] - 6s 4ms/step - loss: 1.2484 - accuracy: 0.5646 - val_loss: 1.5652 - val_accuracy: 0.4594\n",
            "Epoch 376/512\n",
            "1407/1407 [==============================] - 6s 4ms/step - loss: 1.2464 - accuracy: 0.5666 - val_loss: 1.4470 - val_accuracy: 0.4884\n",
            "Epoch 377/512\n",
            "1407/1407 [==============================] - 6s 5ms/step - loss: 1.2438 - accuracy: 0.5656 - val_loss: 1.4464 - val_accuracy: 0.5038\n",
            "Epoch 378/512\n",
            "1407/1407 [==============================] - 6s 4ms/step - loss: 1.2464 - accuracy: 0.5635 - val_loss: 1.3812 - val_accuracy: 0.5252\n",
            "Epoch 379/512\n",
            "1407/1407 [==============================] - 6s 4ms/step - loss: 1.2436 - accuracy: 0.5660 - val_loss: 1.3920 - val_accuracy: 0.5164\n",
            "Epoch 380/512\n",
            "1407/1407 [==============================] - 6s 4ms/step - loss: 1.2424 - accuracy: 0.5643 - val_loss: 1.3915 - val_accuracy: 0.5150\n",
            "Epoch 381/512\n",
            "1407/1407 [==============================] - 7s 5ms/step - loss: 1.2426 - accuracy: 0.5668 - val_loss: 1.4360 - val_accuracy: 0.5072\n",
            "Epoch 382/512\n",
            "1407/1407 [==============================] - 6s 4ms/step - loss: 1.2413 - accuracy: 0.5674 - val_loss: 1.4376 - val_accuracy: 0.5068\n",
            "Epoch 383/512\n",
            "1407/1407 [==============================] - 6s 5ms/step - loss: 1.2399 - accuracy: 0.5666 - val_loss: 1.4535 - val_accuracy: 0.4934\n",
            "Epoch 384/512\n",
            "1407/1407 [==============================] - 6s 4ms/step - loss: 1.2394 - accuracy: 0.5658 - val_loss: 1.3731 - val_accuracy: 0.5198\n",
            "Epoch 385/512\n",
            "1407/1407 [==============================] - 6s 5ms/step - loss: 1.2350 - accuracy: 0.5690 - val_loss: 1.3915 - val_accuracy: 0.5230\n",
            "Epoch 386/512\n",
            "1407/1407 [==============================] - 6s 5ms/step - loss: 1.2380 - accuracy: 0.5698 - val_loss: 1.3725 - val_accuracy: 0.5252\n",
            "Epoch 387/512\n",
            "1407/1407 [==============================] - 6s 4ms/step - loss: 1.2357 - accuracy: 0.5693 - val_loss: 1.3876 - val_accuracy: 0.5204\n",
            "Epoch 388/512\n",
            "1407/1407 [==============================] - 6s 4ms/step - loss: 1.2356 - accuracy: 0.5698 - val_loss: 1.5506 - val_accuracy: 0.4772\n",
            "Epoch 389/512\n",
            "1407/1407 [==============================] - 6s 5ms/step - loss: 1.2319 - accuracy: 0.5695 - val_loss: 1.4063 - val_accuracy: 0.5150\n",
            "Epoch 390/512\n",
            "1407/1407 [==============================] - 7s 5ms/step - loss: 1.2348 - accuracy: 0.5690 - val_loss: 1.4549 - val_accuracy: 0.4960\n",
            "Epoch 391/512\n",
            "1407/1407 [==============================] - 6s 4ms/step - loss: 1.2314 - accuracy: 0.5727 - val_loss: 1.5875 - val_accuracy: 0.4754\n",
            "Epoch 392/512\n",
            "1407/1407 [==============================] - 6s 5ms/step - loss: 1.2305 - accuracy: 0.5698 - val_loss: 1.4551 - val_accuracy: 0.5028\n",
            "Epoch 393/512\n",
            "1407/1407 [==============================] - 6s 4ms/step - loss: 1.2307 - accuracy: 0.5693 - val_loss: 1.3569 - val_accuracy: 0.5342\n",
            "Epoch 394/512\n",
            "1407/1407 [==============================] - 6s 5ms/step - loss: 1.2291 - accuracy: 0.5698 - val_loss: 1.4621 - val_accuracy: 0.4998\n",
            "Epoch 395/512\n",
            "1407/1407 [==============================] - 6s 4ms/step - loss: 1.2270 - accuracy: 0.5707 - val_loss: 1.3719 - val_accuracy: 0.5210\n",
            "Epoch 396/512\n",
            "1407/1407 [==============================] - 6s 4ms/step - loss: 1.2248 - accuracy: 0.5711 - val_loss: 1.3347 - val_accuracy: 0.5410\n",
            "Epoch 397/512\n",
            "1407/1407 [==============================] - 6s 5ms/step - loss: 1.2257 - accuracy: 0.5714 - val_loss: 1.3663 - val_accuracy: 0.5328\n",
            "Epoch 398/512\n",
            "1407/1407 [==============================] - 7s 5ms/step - loss: 1.2244 - accuracy: 0.5731 - val_loss: 1.4123 - val_accuracy: 0.5120\n",
            "Epoch 399/512\n",
            "1407/1407 [==============================] - 7s 5ms/step - loss: 1.2226 - accuracy: 0.5754 - val_loss: 1.5689 - val_accuracy: 0.4696\n",
            "Epoch 400/512\n",
            "1407/1407 [==============================] - 6s 4ms/step - loss: 1.2214 - accuracy: 0.5735 - val_loss: 1.3685 - val_accuracy: 0.5252\n",
            "Epoch 401/512\n",
            "1407/1407 [==============================] - 6s 4ms/step - loss: 1.2218 - accuracy: 0.5749 - val_loss: 1.6950 - val_accuracy: 0.4442\n",
            "Epoch 402/512\n",
            "1407/1407 [==============================] - 6s 5ms/step - loss: 1.2194 - accuracy: 0.5735 - val_loss: 1.4016 - val_accuracy: 0.5166\n",
            "Epoch 403/512\n",
            "1407/1407 [==============================] - 6s 4ms/step - loss: 1.2216 - accuracy: 0.5721 - val_loss: 1.3367 - val_accuracy: 0.5420\n",
            "Epoch 404/512\n",
            "1407/1407 [==============================] - 6s 4ms/step - loss: 1.2168 - accuracy: 0.5753 - val_loss: 1.3983 - val_accuracy: 0.5218\n",
            "Epoch 405/512\n",
            "1407/1407 [==============================] - 6s 5ms/step - loss: 1.2164 - accuracy: 0.5760 - val_loss: 1.4116 - val_accuracy: 0.5128\n",
            "Epoch 406/512\n",
            "1407/1407 [==============================] - 7s 5ms/step - loss: 1.2172 - accuracy: 0.5752 - val_loss: 1.4736 - val_accuracy: 0.4970\n",
            "Epoch 407/512\n",
            "1407/1407 [==============================] - 6s 4ms/step - loss: 1.2167 - accuracy: 0.5773 - val_loss: 1.3603 - val_accuracy: 0.5280\n",
            "Epoch 408/512\n",
            "1407/1407 [==============================] - 6s 5ms/step - loss: 1.2142 - accuracy: 0.5773 - val_loss: 1.3651 - val_accuracy: 0.5266\n",
            "Epoch 409/512\n",
            "1407/1407 [==============================] - 6s 5ms/step - loss: 1.2149 - accuracy: 0.5761 - val_loss: 1.4678 - val_accuracy: 0.4918\n",
            "Epoch 410/512\n",
            "1407/1407 [==============================] - 6s 4ms/step - loss: 1.2113 - accuracy: 0.5768 - val_loss: 1.8630 - val_accuracy: 0.4058\n",
            "Epoch 411/512\n",
            "1407/1407 [==============================] - 6s 5ms/step - loss: 1.2137 - accuracy: 0.5761 - val_loss: 1.3700 - val_accuracy: 0.5272\n",
            "Epoch 412/512\n",
            "1407/1407 [==============================] - 6s 5ms/step - loss: 1.2109 - accuracy: 0.5782 - val_loss: 1.3603 - val_accuracy: 0.5300\n",
            "Epoch 413/512\n",
            "1407/1407 [==============================] - 6s 5ms/step - loss: 1.2078 - accuracy: 0.5787 - val_loss: 1.3500 - val_accuracy: 0.5338\n",
            "Epoch 414/512\n",
            "1407/1407 [==============================] - 7s 5ms/step - loss: 1.2084 - accuracy: 0.5779 - val_loss: 1.3875 - val_accuracy: 0.5238\n",
            "Epoch 415/512\n",
            "1407/1407 [==============================] - 7s 5ms/step - loss: 1.2068 - accuracy: 0.5799 - val_loss: 1.3920 - val_accuracy: 0.5162\n",
            "Epoch 416/512\n",
            "1407/1407 [==============================] - 6s 4ms/step - loss: 1.2061 - accuracy: 0.5784 - val_loss: 1.4344 - val_accuracy: 0.5084\n",
            "Epoch 417/512\n",
            "1407/1407 [==============================] - 6s 5ms/step - loss: 1.2055 - accuracy: 0.5791 - val_loss: 1.4223 - val_accuracy: 0.5100\n",
            "Epoch 418/512\n",
            "1407/1407 [==============================] - 6s 5ms/step - loss: 1.2033 - accuracy: 0.5778 - val_loss: 1.4531 - val_accuracy: 0.5068\n",
            "Epoch 419/512\n",
            "1407/1407 [==============================] - 6s 4ms/step - loss: 1.2022 - accuracy: 0.5792 - val_loss: 1.3685 - val_accuracy: 0.5258\n",
            "Epoch 420/512\n",
            "1407/1407 [==============================] - 6s 4ms/step - loss: 1.2001 - accuracy: 0.5800 - val_loss: 1.3295 - val_accuracy: 0.5426\n",
            "Epoch 421/512\n",
            "1407/1407 [==============================] - 6s 5ms/step - loss: 1.1987 - accuracy: 0.5830 - val_loss: 1.3693 - val_accuracy: 0.5230\n",
            "Epoch 422/512\n",
            "1407/1407 [==============================] - 6s 4ms/step - loss: 1.1999 - accuracy: 0.5818 - val_loss: 1.4089 - val_accuracy: 0.5158\n",
            "Epoch 423/512\n",
            "1407/1407 [==============================] - 7s 5ms/step - loss: 1.2020 - accuracy: 0.5817 - val_loss: 1.3707 - val_accuracy: 0.5260\n",
            "Epoch 424/512\n",
            "1407/1407 [==============================] - 7s 5ms/step - loss: 1.1988 - accuracy: 0.5822 - val_loss: 1.5614 - val_accuracy: 0.4738\n",
            "Epoch 425/512\n",
            "1407/1407 [==============================] - 6s 5ms/step - loss: 1.2000 - accuracy: 0.5814 - val_loss: 1.4192 - val_accuracy: 0.5154\n",
            "Epoch 426/512\n",
            "1407/1407 [==============================] - 6s 4ms/step - loss: 1.1966 - accuracy: 0.5815 - val_loss: 1.5695 - val_accuracy: 0.4704\n",
            "Epoch 427/512\n",
            "1407/1407 [==============================] - 6s 4ms/step - loss: 1.1967 - accuracy: 0.5806 - val_loss: 1.4526 - val_accuracy: 0.5048\n",
            "Epoch 428/512\n",
            "1407/1407 [==============================] - 7s 5ms/step - loss: 1.1952 - accuracy: 0.5825 - val_loss: 1.3251 - val_accuracy: 0.5430\n",
            "Epoch 429/512\n",
            "1407/1407 [==============================] - 6s 4ms/step - loss: 1.1917 - accuracy: 0.5841 - val_loss: 1.3313 - val_accuracy: 0.5434\n",
            "Epoch 430/512\n",
            "1407/1407 [==============================] - 6s 4ms/step - loss: 1.1931 - accuracy: 0.5824 - val_loss: 1.6944 - val_accuracy: 0.4464\n",
            "Epoch 431/512\n",
            "1407/1407 [==============================] - 7s 5ms/step - loss: 1.1923 - accuracy: 0.5836 - val_loss: 1.4554 - val_accuracy: 0.4992\n",
            "Epoch 432/512\n",
            "1407/1407 [==============================] - 7s 5ms/step - loss: 1.1919 - accuracy: 0.5830 - val_loss: 1.7438 - val_accuracy: 0.4214\n",
            "Epoch 433/512\n",
            "1407/1407 [==============================] - 7s 5ms/step - loss: 1.1895 - accuracy: 0.5865 - val_loss: 1.3494 - val_accuracy: 0.5318\n",
            "Epoch 434/512\n",
            "1407/1407 [==============================] - 6s 4ms/step - loss: 1.1895 - accuracy: 0.5852 - val_loss: 1.3861 - val_accuracy: 0.5192\n",
            "Epoch 435/512\n",
            "1407/1407 [==============================] - 6s 5ms/step - loss: 1.1873 - accuracy: 0.5850 - val_loss: 1.4192 - val_accuracy: 0.5110\n",
            "Epoch 436/512\n",
            "1407/1407 [==============================] - 7s 5ms/step - loss: 1.1885 - accuracy: 0.5840 - val_loss: 1.3494 - val_accuracy: 0.5324\n",
            "Epoch 437/512\n",
            "1407/1407 [==============================] - 6s 5ms/step - loss: 1.1841 - accuracy: 0.5881 - val_loss: 1.5358 - val_accuracy: 0.4720\n",
            "Epoch 438/512\n",
            "1407/1407 [==============================] - 7s 5ms/step - loss: 1.1846 - accuracy: 0.5860 - val_loss: 1.3755 - val_accuracy: 0.5286\n",
            "Epoch 439/512\n",
            "1407/1407 [==============================] - 6s 5ms/step - loss: 1.1834 - accuracy: 0.5875 - val_loss: 1.3610 - val_accuracy: 0.5256\n",
            "Epoch 440/512\n",
            "1407/1407 [==============================] - 7s 5ms/step - loss: 1.1826 - accuracy: 0.5882 - val_loss: 1.5658 - val_accuracy: 0.4712\n",
            "Epoch 441/512\n",
            "1407/1407 [==============================] - 6s 5ms/step - loss: 1.1806 - accuracy: 0.5886 - val_loss: 1.3953 - val_accuracy: 0.5266\n",
            "Epoch 442/512\n",
            "1407/1407 [==============================] - 7s 5ms/step - loss: 1.1810 - accuracy: 0.5868 - val_loss: 1.3874 - val_accuracy: 0.5232\n",
            "Epoch 443/512\n",
            "1407/1407 [==============================] - 6s 5ms/step - loss: 1.1785 - accuracy: 0.5879 - val_loss: 1.3430 - val_accuracy: 0.5410\n",
            "Epoch 444/512\n",
            "1407/1407 [==============================] - 6s 5ms/step - loss: 1.1786 - accuracy: 0.5887 - val_loss: 1.3374 - val_accuracy: 0.5350\n",
            "Epoch 445/512\n",
            "1407/1407 [==============================] - 6s 4ms/step - loss: 1.1784 - accuracy: 0.5906 - val_loss: 1.5482 - val_accuracy: 0.4676\n",
            "Epoch 446/512\n",
            "1407/1407 [==============================] - 6s 4ms/step - loss: 1.1765 - accuracy: 0.5866 - val_loss: 1.3450 - val_accuracy: 0.5358\n",
            "Epoch 447/512\n",
            "1407/1407 [==============================] - 6s 4ms/step - loss: 1.1744 - accuracy: 0.5891 - val_loss: 1.4061 - val_accuracy: 0.5154\n",
            "Epoch 448/512\n",
            "1407/1407 [==============================] - 7s 5ms/step - loss: 1.1773 - accuracy: 0.5885 - val_loss: 1.3718 - val_accuracy: 0.5328\n",
            "Epoch 449/512\n",
            "1407/1407 [==============================] - 6s 4ms/step - loss: 1.1739 - accuracy: 0.5896 - val_loss: 1.3815 - val_accuracy: 0.5220\n",
            "Epoch 450/512\n",
            "1407/1407 [==============================] - 6s 4ms/step - loss: 1.1721 - accuracy: 0.5911 - val_loss: 1.6236 - val_accuracy: 0.4596\n",
            "Epoch 451/512\n",
            "1407/1407 [==============================] - 6s 4ms/step - loss: 1.1744 - accuracy: 0.5898 - val_loss: 1.3817 - val_accuracy: 0.5222\n",
            "Epoch 452/512\n",
            "1407/1407 [==============================] - 7s 5ms/step - loss: 1.1712 - accuracy: 0.5924 - val_loss: 1.3675 - val_accuracy: 0.5308\n",
            "Epoch 453/512\n",
            "1407/1407 [==============================] - 6s 5ms/step - loss: 1.1703 - accuracy: 0.5925 - val_loss: 1.4285 - val_accuracy: 0.5144\n",
            "Epoch 454/512\n",
            "1407/1407 [==============================] - 7s 5ms/step - loss: 1.1688 - accuracy: 0.5929 - val_loss: 1.5354 - val_accuracy: 0.4854\n",
            "Epoch 455/512\n",
            "1407/1407 [==============================] - 6s 5ms/step - loss: 1.1704 - accuracy: 0.5904 - val_loss: 1.4114 - val_accuracy: 0.5152\n",
            "Epoch 456/512\n",
            "1407/1407 [==============================] - 7s 5ms/step - loss: 1.1684 - accuracy: 0.5919 - val_loss: 1.3624 - val_accuracy: 0.5276\n",
            "Epoch 457/512\n",
            "1407/1407 [==============================] - 7s 5ms/step - loss: 1.1672 - accuracy: 0.5936 - val_loss: 1.4213 - val_accuracy: 0.5136\n",
            "Epoch 458/512\n",
            "1407/1407 [==============================] - 6s 5ms/step - loss: 1.1651 - accuracy: 0.5948 - val_loss: 1.3386 - val_accuracy: 0.5398\n",
            "Epoch 459/512\n",
            "1407/1407 [==============================] - 6s 5ms/step - loss: 1.1664 - accuracy: 0.5934 - val_loss: 1.3658 - val_accuracy: 0.5274\n",
            "Epoch 460/512\n",
            "1407/1407 [==============================] - 7s 5ms/step - loss: 1.1640 - accuracy: 0.5946 - val_loss: 1.4114 - val_accuracy: 0.5138\n",
            "Epoch 461/512\n",
            "1407/1407 [==============================] - 7s 5ms/step - loss: 1.1629 - accuracy: 0.5950 - val_loss: 1.4084 - val_accuracy: 0.5200\n",
            "Epoch 462/512\n",
            "1407/1407 [==============================] - 6s 5ms/step - loss: 1.1614 - accuracy: 0.5939 - val_loss: 1.4330 - val_accuracy: 0.5088\n",
            "Epoch 463/512\n",
            "1407/1407 [==============================] - 6s 5ms/step - loss: 1.1624 - accuracy: 0.5950 - val_loss: 1.6469 - val_accuracy: 0.4516\n",
            "Epoch 464/512\n",
            "1407/1407 [==============================] - 6s 4ms/step - loss: 1.1589 - accuracy: 0.5954 - val_loss: 1.5844 - val_accuracy: 0.4664\n",
            "Epoch 465/512\n",
            "1407/1407 [==============================] - 8s 6ms/step - loss: 1.1593 - accuracy: 0.5966 - val_loss: 1.3823 - val_accuracy: 0.5246\n",
            "Epoch 466/512\n",
            "1407/1407 [==============================] - 6s 4ms/step - loss: 1.1566 - accuracy: 0.5977 - val_loss: 1.5865 - val_accuracy: 0.4614\n",
            "Epoch 467/512\n",
            "1407/1407 [==============================] - 7s 5ms/step - loss: 1.1565 - accuracy: 0.5947 - val_loss: 1.3950 - val_accuracy: 0.5142\n",
            "Epoch 468/512\n",
            "1407/1407 [==============================] - 6s 4ms/step - loss: 1.1554 - accuracy: 0.5976 - val_loss: 1.3225 - val_accuracy: 0.5472\n",
            "Epoch 469/512\n",
            "1407/1407 [==============================] - 7s 5ms/step - loss: 1.1560 - accuracy: 0.5956 - val_loss: 1.4716 - val_accuracy: 0.4982\n",
            "Epoch 470/512\n",
            "1407/1407 [==============================] - 6s 4ms/step - loss: 1.1554 - accuracy: 0.5951 - val_loss: 1.5321 - val_accuracy: 0.4890\n",
            "Epoch 471/512\n",
            "1407/1407 [==============================] - 6s 4ms/step - loss: 1.1531 - accuracy: 0.5972 - val_loss: 1.3545 - val_accuracy: 0.5372\n",
            "Epoch 472/512\n",
            "1407/1407 [==============================] - 6s 4ms/step - loss: 1.1538 - accuracy: 0.5962 - val_loss: 1.3906 - val_accuracy: 0.5280\n",
            "Epoch 473/512\n",
            "1407/1407 [==============================] - 7s 5ms/step - loss: 1.1538 - accuracy: 0.5980 - val_loss: 1.4486 - val_accuracy: 0.5062\n",
            "Epoch 474/512\n",
            "1407/1407 [==============================] - 6s 4ms/step - loss: 1.1499 - accuracy: 0.5983 - val_loss: 1.7148 - val_accuracy: 0.4392\n",
            "Epoch 475/512\n",
            "1407/1407 [==============================] - 6s 5ms/step - loss: 1.1506 - accuracy: 0.5994 - val_loss: 1.3087 - val_accuracy: 0.5486\n",
            "Epoch 476/512\n",
            "1407/1407 [==============================] - 6s 4ms/step - loss: 1.1503 - accuracy: 0.5994 - val_loss: 1.4704 - val_accuracy: 0.5038\n",
            "Epoch 477/512\n",
            "1407/1407 [==============================] - 6s 4ms/step - loss: 1.1482 - accuracy: 0.6008 - val_loss: 1.4328 - val_accuracy: 0.5052\n",
            "Epoch 478/512\n",
            "1407/1407 [==============================] - 6s 5ms/step - loss: 1.1479 - accuracy: 0.6012 - val_loss: 1.5077 - val_accuracy: 0.4916\n",
            "Epoch 479/512\n",
            "1407/1407 [==============================] - 6s 4ms/step - loss: 1.1471 - accuracy: 0.6007 - val_loss: 1.3992 - val_accuracy: 0.5284\n",
            "Epoch 480/512\n",
            "1407/1407 [==============================] - 7s 5ms/step - loss: 1.1434 - accuracy: 0.6024 - val_loss: 2.2497 - val_accuracy: 0.3354\n",
            "Epoch 481/512\n",
            "1407/1407 [==============================] - 7s 5ms/step - loss: 1.1437 - accuracy: 0.5998 - val_loss: 1.4861 - val_accuracy: 0.5062\n",
            "Epoch 482/512\n",
            "1407/1407 [==============================] - 6s 4ms/step - loss: 1.1445 - accuracy: 0.6019 - val_loss: 1.4592 - val_accuracy: 0.5008\n",
            "Epoch 483/512\n",
            "1407/1407 [==============================] - 6s 4ms/step - loss: 1.1437 - accuracy: 0.6011 - val_loss: 1.7301 - val_accuracy: 0.4166\n",
            "Epoch 484/512\n",
            "1407/1407 [==============================] - 6s 5ms/step - loss: 1.1400 - accuracy: 0.6050 - val_loss: 1.4397 - val_accuracy: 0.5042\n",
            "Epoch 485/512\n",
            "1407/1407 [==============================] - 6s 5ms/step - loss: 1.1425 - accuracy: 0.5997 - val_loss: 1.3425 - val_accuracy: 0.5386\n",
            "Epoch 486/512\n",
            "1407/1407 [==============================] - 6s 5ms/step - loss: 1.1406 - accuracy: 0.6016 - val_loss: 1.5537 - val_accuracy: 0.4740\n",
            "Epoch 487/512\n",
            "1407/1407 [==============================] - 6s 4ms/step - loss: 1.1371 - accuracy: 0.6025 - val_loss: 1.4649 - val_accuracy: 0.5012\n",
            "Epoch 488/512\n",
            "1407/1407 [==============================] - 6s 5ms/step - loss: 1.1366 - accuracy: 0.6038 - val_loss: 1.3305 - val_accuracy: 0.5430\n",
            "Epoch 489/512\n",
            "1407/1407 [==============================] - 6s 5ms/step - loss: 1.1352 - accuracy: 0.6070 - val_loss: 1.5001 - val_accuracy: 0.4976\n",
            "Epoch 490/512\n",
            "1407/1407 [==============================] - 6s 4ms/step - loss: 1.1370 - accuracy: 0.6039 - val_loss: 1.4380 - val_accuracy: 0.5062\n",
            "Epoch 491/512\n",
            "1407/1407 [==============================] - 6s 4ms/step - loss: 1.1343 - accuracy: 0.6057 - val_loss: 1.3833 - val_accuracy: 0.5296\n",
            "Epoch 492/512\n",
            "1407/1407 [==============================] - 6s 4ms/step - loss: 1.1335 - accuracy: 0.6038 - val_loss: 1.3897 - val_accuracy: 0.5284\n",
            "Epoch 493/512\n",
            "1407/1407 [==============================] - 7s 5ms/step - loss: 1.1325 - accuracy: 0.6063 - val_loss: 1.4421 - val_accuracy: 0.5010\n",
            "Epoch 494/512\n",
            "1407/1407 [==============================] - 6s 4ms/step - loss: 1.1321 - accuracy: 0.6051 - val_loss: 1.4618 - val_accuracy: 0.5060\n",
            "Epoch 495/512\n",
            "1407/1407 [==============================] - 7s 5ms/step - loss: 1.1324 - accuracy: 0.6062 - val_loss: 1.3232 - val_accuracy: 0.5430\n",
            "Epoch 496/512\n",
            "1407/1407 [==============================] - 6s 4ms/step - loss: 1.1317 - accuracy: 0.6052 - val_loss: 1.4112 - val_accuracy: 0.5198\n",
            "Epoch 497/512\n",
            "1407/1407 [==============================] - 6s 5ms/step - loss: 1.1325 - accuracy: 0.6038 - val_loss: 1.3621 - val_accuracy: 0.5372\n",
            "Epoch 498/512\n",
            "1407/1407 [==============================] - 7s 5ms/step - loss: 1.1296 - accuracy: 0.6068 - val_loss: 1.3782 - val_accuracy: 0.5324\n",
            "Epoch 499/512\n",
            "1407/1407 [==============================] - 6s 4ms/step - loss: 1.1295 - accuracy: 0.6054 - val_loss: 1.3191 - val_accuracy: 0.5448\n",
            "Epoch 500/512\n",
            "1407/1407 [==============================] - 7s 5ms/step - loss: 1.1254 - accuracy: 0.6089 - val_loss: 1.3297 - val_accuracy: 0.5404\n",
            "Epoch 501/512\n",
            "1407/1407 [==============================] - 7s 5ms/step - loss: 1.1278 - accuracy: 0.6086 - val_loss: 1.3946 - val_accuracy: 0.5284\n",
            "Epoch 502/512\n",
            "1407/1407 [==============================] - 7s 5ms/step - loss: 1.1249 - accuracy: 0.6072 - val_loss: 1.3380 - val_accuracy: 0.5392\n",
            "Epoch 503/512\n",
            "1407/1407 [==============================] - 7s 5ms/step - loss: 1.1229 - accuracy: 0.6086 - val_loss: 1.5818 - val_accuracy: 0.4748\n",
            "Epoch 504/512\n",
            "1407/1407 [==============================] - 6s 5ms/step - loss: 1.1225 - accuracy: 0.6077 - val_loss: 1.4114 - val_accuracy: 0.5204\n",
            "Epoch 505/512\n",
            "1407/1407 [==============================] - 6s 4ms/step - loss: 1.1234 - accuracy: 0.6098 - val_loss: 1.3678 - val_accuracy: 0.5220\n",
            "Epoch 506/512\n",
            "1407/1407 [==============================] - 6s 5ms/step - loss: 1.1234 - accuracy: 0.6088 - val_loss: 1.3409 - val_accuracy: 0.5460\n",
            "Epoch 507/512\n",
            "1407/1407 [==============================] - 6s 5ms/step - loss: 1.1197 - accuracy: 0.6084 - val_loss: 1.3393 - val_accuracy: 0.5422\n",
            "Epoch 508/512\n",
            "1407/1407 [==============================] - 7s 5ms/step - loss: 1.1178 - accuracy: 0.6113 - val_loss: 1.3468 - val_accuracy: 0.5388\n",
            "Epoch 509/512\n",
            "1407/1407 [==============================] - 7s 5ms/step - loss: 1.1201 - accuracy: 0.6108 - val_loss: 1.5253 - val_accuracy: 0.4886\n",
            "Epoch 510/512\n",
            "1407/1407 [==============================] - 7s 5ms/step - loss: 1.1170 - accuracy: 0.6113 - val_loss: 1.4655 - val_accuracy: 0.5004\n",
            "Epoch 511/512\n",
            "1407/1407 [==============================] - 7s 5ms/step - loss: 1.1164 - accuracy: 0.6108 - val_loss: 1.4769 - val_accuracy: 0.4996\n",
            "Epoch 512/512\n",
            "1407/1407 [==============================] - 7s 5ms/step - loss: 1.1154 - accuracy: 0.6116 - val_loss: 1.5285 - val_accuracy: 0.4916\n"
          ]
        }
      ]
    },
    {
      "cell_type": "markdown",
      "metadata": {
        "id": "G2mrWK5hSB_o"
      },
      "source": [
        "## Defining Deeper Architectures: VGG Models\n",
        "\n",
        "*   Define a deeper model architecture for CIFAR-10 dataset and train the new model for 512 epochs with a batch size of 32. We will use VGG model as the architecture.\n",
        "\n",
        "**Stack two convolutional layers with 32 filters, each of 3 x 3. Use a max pooling layer and next flatten the output of the previous layer and add a dense layer with 128 units before the classification layer. For all the layers, use ReLU activation function. Use same padding for the layers to ensure that the height and width of each layer output matches the input**\n"
      ]
    },
    {
      "cell_type": "code",
      "metadata": {
        "id": "A80vLxW9FIek"
      },
      "source": [
        "from keras.backend import clear_session\n",
        "clear_session()"
      ],
      "execution_count": 11,
      "outputs": []
    },
    {
      "cell_type": "code",
      "metadata": {
        "id": "cgca5dUNSFNc"
      },
      "source": [
        "# solution\n",
        "model_VGG = Sequential()\n",
        "model_VGG.add(Conv2D(32, (3, 3), activation='relu', kernel_initializer='he_uniform', input_shape=(32, 32, 3), padding='same'))\n",
        "model_VGG.add(Conv2D(32, (3, 3), activation='relu', kernel_initializer='he_uniform', input_shape=(32, 32, 3), padding='same'))\n",
        "model_VGG.add(MaxPooling2D((2, 2)))\n",
        "model_VGG.add(Flatten())\n",
        "model_VGG.add(Dense(128, activation='relu', kernel_initializer='he_uniform'))\n",
        "model_VGG.add(Dense(10, activation='softmax'))"
      ],
      "execution_count": 12,
      "outputs": []
    },
    {
      "cell_type": "markdown",
      "metadata": {
        "id": "ZwaPphEBUtlC"
      },
      "source": [
        "*   Compile the model using categorical_crossentropy loss, SGD optimizer and use 'accuracy' as the metric.\n",
        "*   Use the above defined model to train CIFAR-10 and train the model for 512 epochs with a batch size of 32."
      ]
    },
    {
      "cell_type": "code",
      "metadata": {
        "id": "Bc2qtU0mUvVA",
        "colab": {
          "base_uri": "https://localhost:8080/",
          "height": 416
        },
        "outputId": "455fe10a-b92d-4501-da2c-7ea1cdd2b9dd"
      },
      "source": [
        "# solution\n",
        "model_VGG.compile(optimizer='sgd', loss='categorical_crossentropy', metrics=['accuracy'])\n",
        "\n",
        "history_VGG = model_VGG.fit(x_train, y_train_cat, batch_size=32, epochs=512, validation_split=0.1)\n"
      ],
      "execution_count": 14,
      "outputs": [
        {
          "output_type": "stream",
          "name": "stdout",
          "text": [
            "Epoch 1/512\n",
            "1407/1407 [==============================] - 8s 5ms/step - loss: nan - accuracy: 0.1001 - val_loss: nan - val_accuracy: 0.0986\n",
            "Epoch 2/512\n",
            " 776/1407 [===============>..............] - ETA: 2s - loss: nan - accuracy: 0.1006"
          ]
        },
        {
          "output_type": "error",
          "ename": "KeyboardInterrupt",
          "evalue": "ignored",
          "traceback": [
            "\u001b[0;31m---------------------------------------------------------------------------\u001b[0m",
            "\u001b[0;31mKeyboardInterrupt\u001b[0m                         Traceback (most recent call last)",
            "\u001b[0;32m<ipython-input-14-5c56e9007c03>\u001b[0m in \u001b[0;36m<module>\u001b[0;34m\u001b[0m\n\u001b[1;32m      2\u001b[0m \u001b[0mmodel_VGG\u001b[0m\u001b[0;34m.\u001b[0m\u001b[0mcompile\u001b[0m\u001b[0;34m(\u001b[0m\u001b[0moptimizer\u001b[0m\u001b[0;34m=\u001b[0m\u001b[0;34m'sgd'\u001b[0m\u001b[0;34m,\u001b[0m \u001b[0mloss\u001b[0m\u001b[0;34m=\u001b[0m\u001b[0;34m'categorical_crossentropy'\u001b[0m\u001b[0;34m,\u001b[0m \u001b[0mmetrics\u001b[0m\u001b[0;34m=\u001b[0m\u001b[0;34m[\u001b[0m\u001b[0;34m'accuracy'\u001b[0m\u001b[0;34m]\u001b[0m\u001b[0;34m)\u001b[0m\u001b[0;34m\u001b[0m\u001b[0;34m\u001b[0m\u001b[0m\n\u001b[1;32m      3\u001b[0m \u001b[0;34m\u001b[0m\u001b[0m\n\u001b[0;32m----> 4\u001b[0;31m \u001b[0mhistory_VGG\u001b[0m \u001b[0;34m=\u001b[0m \u001b[0mmodel_VGG\u001b[0m\u001b[0;34m.\u001b[0m\u001b[0mfit\u001b[0m\u001b[0;34m(\u001b[0m\u001b[0mx_train\u001b[0m\u001b[0;34m,\u001b[0m \u001b[0my_train_cat\u001b[0m\u001b[0;34m,\u001b[0m \u001b[0mbatch_size\u001b[0m\u001b[0;34m=\u001b[0m\u001b[0;36m32\u001b[0m\u001b[0;34m,\u001b[0m \u001b[0mepochs\u001b[0m\u001b[0;34m=\u001b[0m\u001b[0;36m512\u001b[0m\u001b[0;34m,\u001b[0m \u001b[0mvalidation_split\u001b[0m\u001b[0;34m=\u001b[0m\u001b[0;36m0.1\u001b[0m\u001b[0;34m)\u001b[0m\u001b[0;34m\u001b[0m\u001b[0;34m\u001b[0m\u001b[0m\n\u001b[0m",
            "\u001b[0;32m/usr/local/lib/python3.7/dist-packages/keras/utils/traceback_utils.py\u001b[0m in \u001b[0;36merror_handler\u001b[0;34m(*args, **kwargs)\u001b[0m\n\u001b[1;32m     62\u001b[0m     \u001b[0mfiltered_tb\u001b[0m \u001b[0;34m=\u001b[0m \u001b[0;32mNone\u001b[0m\u001b[0;34m\u001b[0m\u001b[0;34m\u001b[0m\u001b[0m\n\u001b[1;32m     63\u001b[0m     \u001b[0;32mtry\u001b[0m\u001b[0;34m:\u001b[0m\u001b[0;34m\u001b[0m\u001b[0;34m\u001b[0m\u001b[0m\n\u001b[0;32m---> 64\u001b[0;31m       \u001b[0;32mreturn\u001b[0m \u001b[0mfn\u001b[0m\u001b[0;34m(\u001b[0m\u001b[0;34m*\u001b[0m\u001b[0margs\u001b[0m\u001b[0;34m,\u001b[0m \u001b[0;34m**\u001b[0m\u001b[0mkwargs\u001b[0m\u001b[0;34m)\u001b[0m\u001b[0;34m\u001b[0m\u001b[0;34m\u001b[0m\u001b[0m\n\u001b[0m\u001b[1;32m     65\u001b[0m     \u001b[0;32mexcept\u001b[0m \u001b[0mException\u001b[0m \u001b[0;32mas\u001b[0m \u001b[0me\u001b[0m\u001b[0;34m:\u001b[0m  \u001b[0;31m# pylint: disable=broad-except\u001b[0m\u001b[0;34m\u001b[0m\u001b[0;34m\u001b[0m\u001b[0m\n\u001b[1;32m     66\u001b[0m       \u001b[0mfiltered_tb\u001b[0m \u001b[0;34m=\u001b[0m \u001b[0m_process_traceback_frames\u001b[0m\u001b[0;34m(\u001b[0m\u001b[0me\u001b[0m\u001b[0;34m.\u001b[0m\u001b[0m__traceback__\u001b[0m\u001b[0;34m)\u001b[0m\u001b[0;34m\u001b[0m\u001b[0;34m\u001b[0m\u001b[0m\n",
            "\u001b[0;32m/usr/local/lib/python3.7/dist-packages/keras/engine/training.py\u001b[0m in \u001b[0;36mfit\u001b[0;34m(self, x, y, batch_size, epochs, verbose, callbacks, validation_split, validation_data, shuffle, class_weight, sample_weight, initial_epoch, steps_per_epoch, validation_steps, validation_batch_size, validation_freq, max_queue_size, workers, use_multiprocessing)\u001b[0m\n\u001b[1;32m   1407\u001b[0m                 _r=1):\n\u001b[1;32m   1408\u001b[0m               \u001b[0mcallbacks\u001b[0m\u001b[0;34m.\u001b[0m\u001b[0mon_train_batch_begin\u001b[0m\u001b[0;34m(\u001b[0m\u001b[0mstep\u001b[0m\u001b[0;34m)\u001b[0m\u001b[0;34m\u001b[0m\u001b[0;34m\u001b[0m\u001b[0m\n\u001b[0;32m-> 1409\u001b[0;31m               \u001b[0mtmp_logs\u001b[0m \u001b[0;34m=\u001b[0m \u001b[0mself\u001b[0m\u001b[0;34m.\u001b[0m\u001b[0mtrain_function\u001b[0m\u001b[0;34m(\u001b[0m\u001b[0miterator\u001b[0m\u001b[0;34m)\u001b[0m\u001b[0;34m\u001b[0m\u001b[0;34m\u001b[0m\u001b[0m\n\u001b[0m\u001b[1;32m   1410\u001b[0m               \u001b[0;32mif\u001b[0m \u001b[0mdata_handler\u001b[0m\u001b[0;34m.\u001b[0m\u001b[0mshould_sync\u001b[0m\u001b[0;34m:\u001b[0m\u001b[0;34m\u001b[0m\u001b[0;34m\u001b[0m\u001b[0m\n\u001b[1;32m   1411\u001b[0m                 \u001b[0mcontext\u001b[0m\u001b[0;34m.\u001b[0m\u001b[0masync_wait\u001b[0m\u001b[0;34m(\u001b[0m\u001b[0;34m)\u001b[0m\u001b[0;34m\u001b[0m\u001b[0;34m\u001b[0m\u001b[0m\n",
            "\u001b[0;32m/usr/local/lib/python3.7/dist-packages/tensorflow/python/util/traceback_utils.py\u001b[0m in \u001b[0;36merror_handler\u001b[0;34m(*args, **kwargs)\u001b[0m\n\u001b[1;32m    148\u001b[0m     \u001b[0mfiltered_tb\u001b[0m \u001b[0;34m=\u001b[0m \u001b[0;32mNone\u001b[0m\u001b[0;34m\u001b[0m\u001b[0;34m\u001b[0m\u001b[0m\n\u001b[1;32m    149\u001b[0m     \u001b[0;32mtry\u001b[0m\u001b[0;34m:\u001b[0m\u001b[0;34m\u001b[0m\u001b[0;34m\u001b[0m\u001b[0m\n\u001b[0;32m--> 150\u001b[0;31m       \u001b[0;32mreturn\u001b[0m \u001b[0mfn\u001b[0m\u001b[0;34m(\u001b[0m\u001b[0;34m*\u001b[0m\u001b[0margs\u001b[0m\u001b[0;34m,\u001b[0m \u001b[0;34m**\u001b[0m\u001b[0mkwargs\u001b[0m\u001b[0;34m)\u001b[0m\u001b[0;34m\u001b[0m\u001b[0;34m\u001b[0m\u001b[0m\n\u001b[0m\u001b[1;32m    151\u001b[0m     \u001b[0;32mexcept\u001b[0m \u001b[0mException\u001b[0m \u001b[0;32mas\u001b[0m \u001b[0me\u001b[0m\u001b[0;34m:\u001b[0m\u001b[0;34m\u001b[0m\u001b[0;34m\u001b[0m\u001b[0m\n\u001b[1;32m    152\u001b[0m       \u001b[0mfiltered_tb\u001b[0m \u001b[0;34m=\u001b[0m \u001b[0m_process_traceback_frames\u001b[0m\u001b[0;34m(\u001b[0m\u001b[0me\u001b[0m\u001b[0;34m.\u001b[0m\u001b[0m__traceback__\u001b[0m\u001b[0;34m)\u001b[0m\u001b[0;34m\u001b[0m\u001b[0;34m\u001b[0m\u001b[0m\n",
            "\u001b[0;32m/usr/local/lib/python3.7/dist-packages/tensorflow/python/eager/def_function.py\u001b[0m in \u001b[0;36m__call__\u001b[0;34m(self, *args, **kwds)\u001b[0m\n\u001b[1;32m    913\u001b[0m \u001b[0;34m\u001b[0m\u001b[0m\n\u001b[1;32m    914\u001b[0m       \u001b[0;32mwith\u001b[0m \u001b[0mOptionalXlaContext\u001b[0m\u001b[0;34m(\u001b[0m\u001b[0mself\u001b[0m\u001b[0;34m.\u001b[0m\u001b[0m_jit_compile\u001b[0m\u001b[0;34m)\u001b[0m\u001b[0;34m:\u001b[0m\u001b[0;34m\u001b[0m\u001b[0;34m\u001b[0m\u001b[0m\n\u001b[0;32m--> 915\u001b[0;31m         \u001b[0mresult\u001b[0m \u001b[0;34m=\u001b[0m \u001b[0mself\u001b[0m\u001b[0;34m.\u001b[0m\u001b[0m_call\u001b[0m\u001b[0;34m(\u001b[0m\u001b[0;34m*\u001b[0m\u001b[0margs\u001b[0m\u001b[0;34m,\u001b[0m \u001b[0;34m**\u001b[0m\u001b[0mkwds\u001b[0m\u001b[0;34m)\u001b[0m\u001b[0;34m\u001b[0m\u001b[0;34m\u001b[0m\u001b[0m\n\u001b[0m\u001b[1;32m    916\u001b[0m \u001b[0;34m\u001b[0m\u001b[0m\n\u001b[1;32m    917\u001b[0m       \u001b[0mnew_tracing_count\u001b[0m \u001b[0;34m=\u001b[0m \u001b[0mself\u001b[0m\u001b[0;34m.\u001b[0m\u001b[0mexperimental_get_tracing_count\u001b[0m\u001b[0;34m(\u001b[0m\u001b[0;34m)\u001b[0m\u001b[0;34m\u001b[0m\u001b[0;34m\u001b[0m\u001b[0m\n",
            "\u001b[0;32m/usr/local/lib/python3.7/dist-packages/tensorflow/python/eager/def_function.py\u001b[0m in \u001b[0;36m_call\u001b[0;34m(self, *args, **kwds)\u001b[0m\n\u001b[1;32m    945\u001b[0m       \u001b[0;31m# In this case we have created variables on the first call, so we run the\u001b[0m\u001b[0;34m\u001b[0m\u001b[0;34m\u001b[0m\u001b[0;34m\u001b[0m\u001b[0m\n\u001b[1;32m    946\u001b[0m       \u001b[0;31m# defunned version which is guaranteed to never create variables.\u001b[0m\u001b[0;34m\u001b[0m\u001b[0;34m\u001b[0m\u001b[0;34m\u001b[0m\u001b[0m\n\u001b[0;32m--> 947\u001b[0;31m       \u001b[0;32mreturn\u001b[0m \u001b[0mself\u001b[0m\u001b[0;34m.\u001b[0m\u001b[0m_stateless_fn\u001b[0m\u001b[0;34m(\u001b[0m\u001b[0;34m*\u001b[0m\u001b[0margs\u001b[0m\u001b[0;34m,\u001b[0m \u001b[0;34m**\u001b[0m\u001b[0mkwds\u001b[0m\u001b[0;34m)\u001b[0m  \u001b[0;31m# pylint: disable=not-callable\u001b[0m\u001b[0;34m\u001b[0m\u001b[0;34m\u001b[0m\u001b[0m\n\u001b[0m\u001b[1;32m    948\u001b[0m     \u001b[0;32melif\u001b[0m \u001b[0mself\u001b[0m\u001b[0;34m.\u001b[0m\u001b[0m_stateful_fn\u001b[0m \u001b[0;32mis\u001b[0m \u001b[0;32mnot\u001b[0m \u001b[0;32mNone\u001b[0m\u001b[0;34m:\u001b[0m\u001b[0;34m\u001b[0m\u001b[0;34m\u001b[0m\u001b[0m\n\u001b[1;32m    949\u001b[0m       \u001b[0;31m# Release the lock early so that multiple threads can perform the call\u001b[0m\u001b[0;34m\u001b[0m\u001b[0;34m\u001b[0m\u001b[0;34m\u001b[0m\u001b[0m\n",
            "\u001b[0;32m/usr/local/lib/python3.7/dist-packages/tensorflow/python/eager/function.py\u001b[0m in \u001b[0;36m__call__\u001b[0;34m(self, *args, **kwargs)\u001b[0m\n\u001b[1;32m   2452\u001b[0m        filtered_flat_args) = self._maybe_define_function(args, kwargs)\n\u001b[1;32m   2453\u001b[0m     return graph_function._call_flat(\n\u001b[0;32m-> 2454\u001b[0;31m         filtered_flat_args, captured_inputs=graph_function.captured_inputs)  # pylint: disable=protected-access\n\u001b[0m\u001b[1;32m   2455\u001b[0m \u001b[0;34m\u001b[0m\u001b[0m\n\u001b[1;32m   2456\u001b[0m   \u001b[0;34m@\u001b[0m\u001b[0mproperty\u001b[0m\u001b[0;34m\u001b[0m\u001b[0;34m\u001b[0m\u001b[0m\n",
            "\u001b[0;32m/usr/local/lib/python3.7/dist-packages/tensorflow/python/eager/function.py\u001b[0m in \u001b[0;36m_call_flat\u001b[0;34m(self, args, captured_inputs, cancellation_manager)\u001b[0m\n\u001b[1;32m   1859\u001b[0m       \u001b[0;31m# No tape is watching; skip to running the function.\u001b[0m\u001b[0;34m\u001b[0m\u001b[0;34m\u001b[0m\u001b[0;34m\u001b[0m\u001b[0m\n\u001b[1;32m   1860\u001b[0m       return self._build_call_outputs(self._inference_function.call(\n\u001b[0;32m-> 1861\u001b[0;31m           ctx, args, cancellation_manager=cancellation_manager))\n\u001b[0m\u001b[1;32m   1862\u001b[0m     forward_backward = self._select_forward_and_backward_functions(\n\u001b[1;32m   1863\u001b[0m         \u001b[0margs\u001b[0m\u001b[0;34m,\u001b[0m\u001b[0;34m\u001b[0m\u001b[0;34m\u001b[0m\u001b[0m\n",
            "\u001b[0;32m/usr/local/lib/python3.7/dist-packages/tensorflow/python/eager/function.py\u001b[0m in \u001b[0;36mcall\u001b[0;34m(self, ctx, args, cancellation_manager)\u001b[0m\n\u001b[1;32m    500\u001b[0m               \u001b[0minputs\u001b[0m\u001b[0;34m=\u001b[0m\u001b[0margs\u001b[0m\u001b[0;34m,\u001b[0m\u001b[0;34m\u001b[0m\u001b[0;34m\u001b[0m\u001b[0m\n\u001b[1;32m    501\u001b[0m               \u001b[0mattrs\u001b[0m\u001b[0;34m=\u001b[0m\u001b[0mattrs\u001b[0m\u001b[0;34m,\u001b[0m\u001b[0;34m\u001b[0m\u001b[0;34m\u001b[0m\u001b[0m\n\u001b[0;32m--> 502\u001b[0;31m               ctx=ctx)\n\u001b[0m\u001b[1;32m    503\u001b[0m         \u001b[0;32melse\u001b[0m\u001b[0;34m:\u001b[0m\u001b[0;34m\u001b[0m\u001b[0;34m\u001b[0m\u001b[0m\n\u001b[1;32m    504\u001b[0m           outputs = execute.execute_with_cancellation(\n",
            "\u001b[0;32m/usr/local/lib/python3.7/dist-packages/tensorflow/python/eager/execute.py\u001b[0m in \u001b[0;36mquick_execute\u001b[0;34m(op_name, num_outputs, inputs, attrs, ctx, name)\u001b[0m\n\u001b[1;32m     53\u001b[0m     \u001b[0mctx\u001b[0m\u001b[0;34m.\u001b[0m\u001b[0mensure_initialized\u001b[0m\u001b[0;34m(\u001b[0m\u001b[0;34m)\u001b[0m\u001b[0;34m\u001b[0m\u001b[0;34m\u001b[0m\u001b[0m\n\u001b[1;32m     54\u001b[0m     tensors = pywrap_tfe.TFE_Py_Execute(ctx._handle, device_name, op_name,\n\u001b[0;32m---> 55\u001b[0;31m                                         inputs, attrs, num_outputs)\n\u001b[0m\u001b[1;32m     56\u001b[0m   \u001b[0;32mexcept\u001b[0m \u001b[0mcore\u001b[0m\u001b[0;34m.\u001b[0m\u001b[0m_NotOkStatusException\u001b[0m \u001b[0;32mas\u001b[0m \u001b[0me\u001b[0m\u001b[0;34m:\u001b[0m\u001b[0;34m\u001b[0m\u001b[0;34m\u001b[0m\u001b[0m\n\u001b[1;32m     57\u001b[0m     \u001b[0;32mif\u001b[0m \u001b[0mname\u001b[0m \u001b[0;32mis\u001b[0m \u001b[0;32mnot\u001b[0m \u001b[0;32mNone\u001b[0m\u001b[0;34m:\u001b[0m\u001b[0;34m\u001b[0m\u001b[0;34m\u001b[0m\u001b[0m\n",
            "\u001b[0;31mKeyboardInterrupt\u001b[0m: "
          ]
        }
      ]
    },
    {
      "cell_type": "markdown",
      "metadata": {
        "id": "_2cRr2ZFSFds"
      },
      "source": [
        "*   Compare the performance of both the models by plotting the loss and accuracy curves of both the training steps. Does the deeper model perform better? Comment on the observation.\n",
        " "
      ]
    },
    {
      "cell_type": "code",
      "metadata": {
        "id": "F8OSHAf5SJPr",
        "colab": {
          "base_uri": "https://localhost:8080/",
          "height": 281
        },
        "outputId": "f36d2799-0a87-434c-f61f-530b810d7e2d"
      },
      "source": [
        "# solution\n",
        "plt.subplot(211)\n",
        "plt.title('Cross Entropy Loss')\n",
        "plt.plot(history.history['loss'], color='blue', label='train')\n",
        "plt.plot(history_VGG.history['loss'], color='red', label='VGG train')\n",
        "\n",
        "\n",
        "plt.subplot(212)\n",
        "plt.title('Classification Accuracy')\n",
        "plt.plot(history.history['accuracy'], color='green', label='train')\n",
        "plt.plot(history_VGG.history['accuracy'], color='purple', label='VGG train')\n",
        "plt.show()\n"
      ],
      "execution_count": 39,
      "outputs": [
        {
          "output_type": "display_data",
          "data": {
            "text/plain": [
              "<Figure size 432x288 with 2 Axes>"
            ],
            "image/png": "[encoded data removed]"
          },
          "metadata": {
            "needs_background": "light"
          }
        }
      ]
    },
    {
      "cell_type": "markdown",
      "metadata": {
        "id": "Ri9kU3wa3Rei"
      },
      "source": [
        "**Solution**\n",
        "\n",
        "*With both models, the model is overfitting the data in very early epochs. However, the deeper model reaches the maximum accuracy in a fewer number of epochs than the more shallow layer.*\n",
        "\n",
        "..."
      ]
    },
    {
      "cell_type": "markdown",
      "metadata": {
        "id": "MzXmO1WoSKMY"
      },
      "source": [
        "*   Use predict function to predict the output for the test split\n",
        "*   Plot the confusion matrix for the new model and comment on the class confusions.\n"
      ]
    },
    {
      "cell_type": "code",
      "metadata": {
        "id": "DObaoxhaSMUg",
        "colab": {
          "base_uri": "https://localhost:8080/",
          "height": 878
        },
        "outputId": "81944dd0-2462-4e28-80ca-957576f59bfa"
      },
      "source": [
        "# solution\n",
        "from customplots import plot_confusion_matrix\n",
        "from sklearn.metrics import accuracy_score, classification_report, confusion_matrix\n",
        "\n",
        "preds = model_VGG.predict(x_test)\n",
        "\n",
        "predictions = [np.argmax(np.array(pred)) for pred in preds]\n",
        "\n",
        "plot_confusion_matrix(confusion_matrix(y_test, predictions), list(range(10)), False,'YlGnBu', 'Confusion matrix of VGG')"
      ],
      "execution_count": 56,
      "outputs": [
        {
          "output_type": "stream",
          "name": "stdout",
          "text": [
            "313/313 [==============================] - 1s 2ms/step\n"
          ]
        },
        {
          "output_type": "display_data",
          "data": {
            "text/plain": [
              "<Figure size 1008x1008 with 2 Axes>"
            ],
            "image/png": "[encoded data removed]"
          },
          "metadata": {
            "needs_background": "light"
          }
        }
      ]
    },
    {
      "cell_type": "markdown",
      "metadata": {
        "id": "WUBrvRomU5O_"
      },
      "source": [
        "**Solution**\n",
        "\n",
        "*(Double-click or enter to edit)*\n",
        "\n",
        "..."
      ]
    },
    {
      "cell_type": "markdown",
      "metadata": {
        "id": "ffwVz-FLSNG7"
      },
      "source": [
        "*    Print the test accuracy for the trained model."
      ]
    },
    {
      "cell_type": "code",
      "metadata": {
        "id": "L4WX3_uLSN5I",
        "colab": {
          "base_uri": "https://localhost:8080/"
        },
        "outputId": "61a6076a-c119-426f-cd9e-084fbcbef8a8"
      },
      "source": [
        "# solution\n",
        "\n",
        "print(accuracy_score(y_test, predictions))\n"
      ],
      "execution_count": 58,
      "outputs": [
        {
          "output_type": "stream",
          "name": "stdout",
          "text": [
            "0.5345\n"
          ]
        }
      ]
    },
    {
      "cell_type": "markdown",
      "metadata": {
        "id": "dySqfA6PVBjQ"
      },
      "source": [
        "## Define the complete VGG architecture.\n",
        "\n",
        "**Stack two convolutional layers with 64 filters, each of 3 x 3 followed by max pooling layer. Stack two more convolutional layers with 128 filters, each of 3 x 3, followed by max pooling, follwed by two more convolutional layers with 256 filters, each of 3 x 3, followed by max pooling. Flatten the output of the previous layer and add a dense layer with 128 units before the classification layer. For all the layers, use ReLU activation function. Use same padding for the layers to ensure that the height and width of each layer output matches the input**\n",
        "\n",
        "*   Change the size of input to 64 x 64."
      ]
    },
    {
      "cell_type": "code",
      "metadata": {
        "id": "zm35siILFNT0"
      },
      "source": [
        "from keras.backend import clear_session\n",
        "clear_session()"
      ],
      "execution_count": 6,
      "outputs": []
    },
    {
      "cell_type": "code",
      "source": [
        "from keras.layers import Conv2D, MaxPooling2D, GlobalAveragePooling2D, Flatten, Dense\n",
        "from tensorflow.keras.models import Sequential\n",
        "from tensorflow.keras.utils import to_categorical"
      ],
      "metadata": {
        "id": "2zKMQJgEkHeX"
      },
      "execution_count": 7,
      "outputs": []
    },
    {
      "cell_type": "code",
      "metadata": {
        "id": "oH4lDVBuVA_Q"
      },
      "source": [
        "# solution\n",
        "model_cVGG = Sequential()\n",
        "model_cVGG.add(Conv2D(32, (3, 3), activation='relu', kernel_initializer='he_uniform', input_shape=(32, 32, 3), padding='same'))\n",
        "model_cVGG.add(Conv2D(32, (3, 3), activation='relu', kernel_initializer='he_uniform', input_shape=(32, 32, 3), padding='same'))\n",
        "model_cVGG.add(MaxPooling2D((2, 2)))\n",
        "model_cVGG.add(Conv2D(128, (3, 3), activation='relu', kernel_initializer='he_uniform', input_shape=(32, 32, 3), padding='same'))\n",
        "model_cVGG.add(Conv2D(128, (3, 3), activation='relu', kernel_initializer='he_uniform', input_shape=(32, 32, 3), padding='same'))\n",
        "model_cVGG.add(MaxPooling2D((2, 2)))\n",
        "model_cVGG.add(Conv2D(256, (3, 3), activation='relu', kernel_initializer='he_uniform', input_shape=(32, 32, 3), padding='same'))\n",
        "model_cVGG.add(Conv2D(256, (3, 3), activation='relu', kernel_initializer='he_uniform', input_shape=(32, 32, 3), padding='same'))\n",
        "model_cVGG.add(MaxPooling2D((2, 2)))\n",
        "model_cVGG.add(Flatten())\n",
        "model_cVGG.add(Dense(128, activation='relu', kernel_initializer='he_uniform'))\n",
        "model_cVGG.add(Dense(10, activation='softmax'))\n",
        "\n",
        "\n",
        "# model_cVGG = Sequential()\n",
        "# model_cVGG.add(Conv2D(32, (3, 3), activation='relu', kernel_initializer='he_uniform', input_shape=(32, 32, 3), padding='same'))\n",
        "# model_cVGG.add(Conv2D(32, (3, 3), activation='relu', kernel_initializer='he_uniform', input_shape=(32, 32, 3), padding='same'))\n",
        "# model_cVGG.add(MaxPooling2D((2, 2)))\n",
        "# model_cVGG.add(Flatten())\n",
        "# model_cVGG.add(Dense(128, activation='relu', kernel_initializer='he_uniform'))\n",
        "# model_cVGG.add(Dense(10, activation='softmax'))\n"
      ],
      "execution_count": 8,
      "outputs": []
    },
    {
      "cell_type": "markdown",
      "metadata": {
        "id": "Qu_B8kJGWhcM"
      },
      "source": [
        "*   Compile the model using categorical_crossentropy loss, SGD optimizer and use 'accuracy' as the metric.\n",
        "*   Use the above defined model to train CIFAR-10 and train the model for 100 epochs with a batch size of 32.\n",
        "*   Predict the output for the test split and plot the confusion matrix for the new model and comment on the class confusions."
      ]
    },
    {
      "cell_type": "code",
      "metadata": {
        "id": "4elnDWnjEbmO",
        "colab": {
          "base_uri": "https://localhost:8080/",
          "height": 1000
        },
        "outputId": "25e2ac86-d6e7-47e4-8e1a-866bc7503dbf"
      },
      "source": [
        "# solution\n",
        "model_cVGG.compile(optimizer='sgd', loss='categorical_crossentropy', metrics=['accuracy'])\n",
        "\n",
        "# y_train_cat = to_categorical(y_train, num_classes=10)\n",
        "# y_test_cat = to_categorical(y_test, num_classes=10)\n",
        "\n",
        "history_cVGG = model_cVGG.fit(x_train, y_train_cat, batch_size=32, epochs=100, validation_split=0.1)\n",
        "\n",
        "preds = model_cVGG.predict(x_test)\n",
        "\n",
        "predictions = [np.argmax(np.array(pred)) for pred in preds]\n",
        "\n",
        "plot_confusion_matrix(confusion_matrix(y_test, predictions), list(range(10)), False,'YlGnBu', 'Confusion matrix of Complete VGG')\n"
      ],
      "execution_count": 10,
      "outputs": [
        {
          "output_type": "stream",
          "name": "stdout",
          "text": [
            "Epoch 1/100\n",
            "1407/1407 [==============================] - 16s 5ms/step - loss: nan - accuracy: 0.1002 - val_loss: nan - val_accuracy: 0.0986\n",
            "Epoch 2/100\n",
            "1407/1407 [==============================] - 6s 4ms/step - loss: nan - accuracy: 0.1002 - val_loss: nan - val_accuracy: 0.0986\n",
            "Epoch 3/100\n",
            "1407/1407 [==============================] - 6s 4ms/step - loss: nan - accuracy: 0.1002 - val_loss: nan - val_accuracy: 0.0986\n",
            "Epoch 4/100\n",
            "1407/1407 [==============================] - 6s 4ms/step - loss: nan - accuracy: 0.1002 - val_loss: nan - val_accuracy: 0.0986\n",
            "Epoch 5/100\n",
            "1407/1407 [==============================] - 6s 4ms/step - loss: nan - accuracy: 0.1002 - val_loss: nan - val_accuracy: 0.0986\n",
            "Epoch 6/100\n",
            "1407/1407 [==============================] - 6s 4ms/step - loss: nan - accuracy: 0.1002 - val_loss: nan - val_accuracy: 0.0986\n",
            "Epoch 7/100\n",
            "1407/1407 [==============================] - 7s 5ms/step - loss: nan - accuracy: 0.1002 - val_loss: nan - val_accuracy: 0.0986\n",
            "Epoch 8/100\n",
            "1407/1407 [==============================] - 6s 5ms/step - loss: nan - accuracy: 0.1002 - val_loss: nan - val_accuracy: 0.0986\n",
            "Epoch 9/100\n",
            "1407/1407 [==============================] - 7s 5ms/step - loss: nan - accuracy: 0.1002 - val_loss: nan - val_accuracy: 0.0986\n",
            "Epoch 10/100\n",
            "1407/1407 [==============================] - 6s 5ms/step - loss: nan - accuracy: 0.1002 - val_loss: nan - val_accuracy: 0.0986\n",
            "Epoch 11/100\n",
            "1407/1407 [==============================] - 6s 4ms/step - loss: nan - accuracy: 0.1002 - val_loss: nan - val_accuracy: 0.0986\n",
            "Epoch 12/100\n",
            "1407/1407 [==============================] - 6s 4ms/step - loss: nan - accuracy: 0.1002 - val_loss: nan - val_accuracy: 0.0986\n",
            "Epoch 13/100\n",
            "1407/1407 [==============================] - 6s 5ms/step - loss: nan - accuracy: 0.1002 - val_loss: nan - val_accuracy: 0.0986\n",
            "Epoch 14/100\n",
            "1407/1407 [==============================] - 6s 4ms/step - loss: nan - accuracy: 0.1002 - val_loss: nan - val_accuracy: 0.0986\n",
            "Epoch 15/100\n",
            "1407/1407 [==============================] - 7s 5ms/step - loss: nan - accuracy: 0.1002 - val_loss: nan - val_accuracy: 0.0986\n",
            "Epoch 16/100\n",
            "1407/1407 [==============================] - 6s 4ms/step - loss: nan - accuracy: 0.1002 - val_loss: nan - val_accuracy: 0.0986\n",
            "Epoch 17/100\n",
            "1407/1407 [==============================] - 7s 5ms/step - loss: nan - accuracy: 0.1002 - val_loss: nan - val_accuracy: 0.0986\n",
            "Epoch 18/100\n",
            "1407/1407 [==============================] - 7s 5ms/step - loss: nan - accuracy: 0.1002 - val_loss: nan - val_accuracy: 0.0986\n",
            "Epoch 19/100\n",
            "1407/1407 [==============================] - 6s 5ms/step - loss: nan - accuracy: 0.1002 - val_loss: nan - val_accuracy: 0.0986\n",
            "Epoch 20/100\n",
            "1407/1407 [==============================] - 6s 4ms/step - loss: nan - accuracy: 0.1002 - val_loss: nan - val_accuracy: 0.0986\n",
            "Epoch 21/100\n",
            "1407/1407 [==============================] - 7s 5ms/step - loss: nan - accuracy: 0.1002 - val_loss: nan - val_accuracy: 0.0986\n",
            "Epoch 22/100\n",
            "1407/1407 [==============================] - 6s 5ms/step - loss: nan - accuracy: 0.1002 - val_loss: nan - val_accuracy: 0.0986\n",
            "Epoch 23/100\n",
            "1407/1407 [==============================] - 6s 4ms/step - loss: nan - accuracy: 0.1002 - val_loss: nan - val_accuracy: 0.0986\n",
            "Epoch 24/100\n",
            "1407/1407 [==============================] - 7s 5ms/step - loss: nan - accuracy: 0.1002 - val_loss: nan - val_accuracy: 0.0986\n",
            "Epoch 25/100\n",
            "1407/1407 [==============================] - 7s 5ms/step - loss: nan - accuracy: 0.1002 - val_loss: nan - val_accuracy: 0.0986\n",
            "Epoch 26/100\n",
            "1407/1407 [==============================] - 7s 5ms/step - loss: nan - accuracy: 0.1002 - val_loss: nan - val_accuracy: 0.0986\n",
            "Epoch 27/100\n",
            "1407/1407 [==============================] - 7s 5ms/step - loss: nan - accuracy: 0.1002 - val_loss: nan - val_accuracy: 0.0986\n",
            "Epoch 28/100\n",
            "1407/1407 [==============================] - 6s 4ms/step - loss: nan - accuracy: 0.1002 - val_loss: nan - val_accuracy: 0.0986\n",
            "Epoch 29/100\n",
            "1407/1407 [==============================] - 7s 5ms/step - loss: nan - accuracy: 0.1002 - val_loss: nan - val_accuracy: 0.0986\n",
            "Epoch 30/100\n",
            "1407/1407 [==============================] - 6s 4ms/step - loss: nan - accuracy: 0.1002 - val_loss: nan - val_accuracy: 0.0986\n",
            "Epoch 31/100\n",
            "1407/1407 [==============================] - 7s 5ms/step - loss: nan - accuracy: 0.1002 - val_loss: nan - val_accuracy: 0.0986\n",
            "Epoch 32/100\n",
            "1407/1407 [==============================] - 7s 5ms/step - loss: nan - accuracy: 0.1002 - val_loss: nan - val_accuracy: 0.0986\n",
            "Epoch 33/100\n",
            "1407/1407 [==============================] - 6s 4ms/step - loss: nan - accuracy: 0.1002 - val_loss: nan - val_accuracy: 0.0986\n",
            "Epoch 34/100\n",
            "1407/1407 [==============================] - 6s 5ms/step - loss: nan - accuracy: 0.1002 - val_loss: nan - val_accuracy: 0.0986\n",
            "Epoch 35/100\n",
            "1407/1407 [==============================] - 7s 5ms/step - loss: nan - accuracy: 0.1002 - val_loss: nan - val_accuracy: 0.0986\n",
            "Epoch 36/100\n",
            "1407/1407 [==============================] - 6s 4ms/step - loss: nan - accuracy: 0.1002 - val_loss: nan - val_accuracy: 0.0986\n",
            "Epoch 37/100\n",
            "1407/1407 [==============================] - 6s 4ms/step - loss: nan - accuracy: 0.1002 - val_loss: nan - val_accuracy: 0.0986\n",
            "Epoch 38/100\n",
            " 292/1407 [=====>........................] - ETA: 4s - loss: nan - accuracy: 0.1034"
          ]
        },
        {
          "output_type": "error",
          "ename": "KeyboardInterrupt",
          "evalue": "ignored",
          "traceback": [
            "\u001b[0;31m---------------------------------------------------------------------------\u001b[0m",
            "\u001b[0;31mKeyboardInterrupt\u001b[0m                         Traceback (most recent call last)",
            "\u001b[0;32m<ipython-input-10-2b8f47b42dae>\u001b[0m in \u001b[0;36m<module>\u001b[0;34m\u001b[0m\n\u001b[1;32m      5\u001b[0m \u001b[0my_test_cat\u001b[0m \u001b[0;34m=\u001b[0m \u001b[0mto_categorical\u001b[0m\u001b[0;34m(\u001b[0m\u001b[0my_test\u001b[0m\u001b[0;34m,\u001b[0m \u001b[0mnum_classes\u001b[0m\u001b[0;34m=\u001b[0m\u001b[0;36m10\u001b[0m\u001b[0;34m)\u001b[0m\u001b[0;34m\u001b[0m\u001b[0;34m\u001b[0m\u001b[0m\n\u001b[1;32m      6\u001b[0m \u001b[0;34m\u001b[0m\u001b[0m\n\u001b[0;32m----> 7\u001b[0;31m \u001b[0mhistory_cVGG\u001b[0m \u001b[0;34m=\u001b[0m \u001b[0mmodel_cVGG\u001b[0m\u001b[0;34m.\u001b[0m\u001b[0mfit\u001b[0m\u001b[0;34m(\u001b[0m\u001b[0mx_train\u001b[0m\u001b[0;34m,\u001b[0m \u001b[0my_train_cat\u001b[0m\u001b[0;34m,\u001b[0m \u001b[0mbatch_size\u001b[0m\u001b[0;34m=\u001b[0m\u001b[0;36m32\u001b[0m\u001b[0;34m,\u001b[0m \u001b[0mepochs\u001b[0m\u001b[0;34m=\u001b[0m\u001b[0;36m100\u001b[0m\u001b[0;34m,\u001b[0m \u001b[0mvalidation_split\u001b[0m\u001b[0;34m=\u001b[0m\u001b[0;36m0.1\u001b[0m\u001b[0;34m)\u001b[0m\u001b[0;34m\u001b[0m\u001b[0;34m\u001b[0m\u001b[0m\n\u001b[0m\u001b[1;32m      8\u001b[0m \u001b[0;34m\u001b[0m\u001b[0m\n\u001b[1;32m      9\u001b[0m \u001b[0mpreds\u001b[0m \u001b[0;34m=\u001b[0m \u001b[0mmodel_cVGG\u001b[0m\u001b[0;34m.\u001b[0m\u001b[0mpredict\u001b[0m\u001b[0;34m(\u001b[0m\u001b[0mx_test\u001b[0m\u001b[0;34m)\u001b[0m\u001b[0;34m\u001b[0m\u001b[0;34m\u001b[0m\u001b[0m\n",
            "\u001b[0;32m/usr/local/lib/python3.7/dist-packages/keras/utils/traceback_utils.py\u001b[0m in \u001b[0;36merror_handler\u001b[0;34m(*args, **kwargs)\u001b[0m\n\u001b[1;32m     62\u001b[0m     \u001b[0mfiltered_tb\u001b[0m \u001b[0;34m=\u001b[0m \u001b[0;32mNone\u001b[0m\u001b[0;34m\u001b[0m\u001b[0;34m\u001b[0m\u001b[0m\n\u001b[1;32m     63\u001b[0m     \u001b[0;32mtry\u001b[0m\u001b[0;34m:\u001b[0m\u001b[0;34m\u001b[0m\u001b[0;34m\u001b[0m\u001b[0m\n\u001b[0;32m---> 64\u001b[0;31m       \u001b[0;32mreturn\u001b[0m \u001b[0mfn\u001b[0m\u001b[0;34m(\u001b[0m\u001b[0;34m*\u001b[0m\u001b[0margs\u001b[0m\u001b[0;34m,\u001b[0m \u001b[0;34m**\u001b[0m\u001b[0mkwargs\u001b[0m\u001b[0;34m)\u001b[0m\u001b[0;34m\u001b[0m\u001b[0;34m\u001b[0m\u001b[0m\n\u001b[0m\u001b[1;32m     65\u001b[0m     \u001b[0;32mexcept\u001b[0m \u001b[0mException\u001b[0m \u001b[0;32mas\u001b[0m \u001b[0me\u001b[0m\u001b[0;34m:\u001b[0m  \u001b[0;31m# pylint: disable=broad-except\u001b[0m\u001b[0;34m\u001b[0m\u001b[0;34m\u001b[0m\u001b[0m\n\u001b[1;32m     66\u001b[0m       \u001b[0mfiltered_tb\u001b[0m \u001b[0;34m=\u001b[0m \u001b[0m_process_traceback_frames\u001b[0m\u001b[0;34m(\u001b[0m\u001b[0me\u001b[0m\u001b[0;34m.\u001b[0m\u001b[0m__traceback__\u001b[0m\u001b[0;34m)\u001b[0m\u001b[0;34m\u001b[0m\u001b[0;34m\u001b[0m\u001b[0m\n",
            "\u001b[0;32m/usr/local/lib/python3.7/dist-packages/keras/engine/training.py\u001b[0m in \u001b[0;36mfit\u001b[0;34m(self, x, y, batch_size, epochs, verbose, callbacks, validation_split, validation_data, shuffle, class_weight, sample_weight, initial_epoch, steps_per_epoch, validation_steps, validation_batch_size, validation_freq, max_queue_size, workers, use_multiprocessing)\u001b[0m\n\u001b[1;32m   1407\u001b[0m                 _r=1):\n\u001b[1;32m   1408\u001b[0m               \u001b[0mcallbacks\u001b[0m\u001b[0;34m.\u001b[0m\u001b[0mon_train_batch_begin\u001b[0m\u001b[0;34m(\u001b[0m\u001b[0mstep\u001b[0m\u001b[0;34m)\u001b[0m\u001b[0;34m\u001b[0m\u001b[0;34m\u001b[0m\u001b[0m\n\u001b[0;32m-> 1409\u001b[0;31m               \u001b[0mtmp_logs\u001b[0m \u001b[0;34m=\u001b[0m \u001b[0mself\u001b[0m\u001b[0;34m.\u001b[0m\u001b[0mtrain_function\u001b[0m\u001b[0;34m(\u001b[0m\u001b[0miterator\u001b[0m\u001b[0;34m)\u001b[0m\u001b[0;34m\u001b[0m\u001b[0;34m\u001b[0m\u001b[0m\n\u001b[0m\u001b[1;32m   1410\u001b[0m               \u001b[0;32mif\u001b[0m \u001b[0mdata_handler\u001b[0m\u001b[0;34m.\u001b[0m\u001b[0mshould_sync\u001b[0m\u001b[0;34m:\u001b[0m\u001b[0;34m\u001b[0m\u001b[0;34m\u001b[0m\u001b[0m\n\u001b[1;32m   1411\u001b[0m                 \u001b[0mcontext\u001b[0m\u001b[0;34m.\u001b[0m\u001b[0masync_wait\u001b[0m\u001b[0;34m(\u001b[0m\u001b[0;34m)\u001b[0m\u001b[0;34m\u001b[0m\u001b[0;34m\u001b[0m\u001b[0m\n",
            "\u001b[0;32m/usr/local/lib/python3.7/dist-packages/tensorflow/python/util/traceback_utils.py\u001b[0m in \u001b[0;36merror_handler\u001b[0;34m(*args, **kwargs)\u001b[0m\n\u001b[1;32m    148\u001b[0m     \u001b[0mfiltered_tb\u001b[0m \u001b[0;34m=\u001b[0m \u001b[0;32mNone\u001b[0m\u001b[0;34m\u001b[0m\u001b[0;34m\u001b[0m\u001b[0m\n\u001b[1;32m    149\u001b[0m     \u001b[0;32mtry\u001b[0m\u001b[0;34m:\u001b[0m\u001b[0;34m\u001b[0m\u001b[0;34m\u001b[0m\u001b[0m\n\u001b[0;32m--> 150\u001b[0;31m       \u001b[0;32mreturn\u001b[0m \u001b[0mfn\u001b[0m\u001b[0;34m(\u001b[0m\u001b[0;34m*\u001b[0m\u001b[0margs\u001b[0m\u001b[0;34m,\u001b[0m \u001b[0;34m**\u001b[0m\u001b[0mkwargs\u001b[0m\u001b[0;34m)\u001b[0m\u001b[0;34m\u001b[0m\u001b[0;34m\u001b[0m\u001b[0m\n\u001b[0m\u001b[1;32m    151\u001b[0m     \u001b[0;32mexcept\u001b[0m \u001b[0mException\u001b[0m \u001b[0;32mas\u001b[0m \u001b[0me\u001b[0m\u001b[0;34m:\u001b[0m\u001b[0;34m\u001b[0m\u001b[0;34m\u001b[0m\u001b[0m\n\u001b[1;32m    152\u001b[0m       \u001b[0mfiltered_tb\u001b[0m \u001b[0;34m=\u001b[0m \u001b[0m_process_traceback_frames\u001b[0m\u001b[0;34m(\u001b[0m\u001b[0me\u001b[0m\u001b[0;34m.\u001b[0m\u001b[0m__traceback__\u001b[0m\u001b[0;34m)\u001b[0m\u001b[0;34m\u001b[0m\u001b[0;34m\u001b[0m\u001b[0m\n",
            "\u001b[0;32m/usr/local/lib/python3.7/dist-packages/tensorflow/python/eager/def_function.py\u001b[0m in \u001b[0;36m__call__\u001b[0;34m(self, *args, **kwds)\u001b[0m\n\u001b[1;32m    913\u001b[0m \u001b[0;34m\u001b[0m\u001b[0m\n\u001b[1;32m    914\u001b[0m       \u001b[0;32mwith\u001b[0m \u001b[0mOptionalXlaContext\u001b[0m\u001b[0;34m(\u001b[0m\u001b[0mself\u001b[0m\u001b[0;34m.\u001b[0m\u001b[0m_jit_compile\u001b[0m\u001b[0;34m)\u001b[0m\u001b[0;34m:\u001b[0m\u001b[0;34m\u001b[0m\u001b[0;34m\u001b[0m\u001b[0m\n\u001b[0;32m--> 915\u001b[0;31m         \u001b[0mresult\u001b[0m \u001b[0;34m=\u001b[0m \u001b[0mself\u001b[0m\u001b[0;34m.\u001b[0m\u001b[0m_call\u001b[0m\u001b[0;34m(\u001b[0m\u001b[0;34m*\u001b[0m\u001b[0margs\u001b[0m\u001b[0;34m,\u001b[0m \u001b[0;34m**\u001b[0m\u001b[0mkwds\u001b[0m\u001b[0;34m)\u001b[0m\u001b[0;34m\u001b[0m\u001b[0;34m\u001b[0m\u001b[0m\n\u001b[0m\u001b[1;32m    916\u001b[0m \u001b[0;34m\u001b[0m\u001b[0m\n\u001b[1;32m    917\u001b[0m       \u001b[0mnew_tracing_count\u001b[0m \u001b[0;34m=\u001b[0m \u001b[0mself\u001b[0m\u001b[0;34m.\u001b[0m\u001b[0mexperimental_get_tracing_count\u001b[0m\u001b[0;34m(\u001b[0m\u001b[0;34m)\u001b[0m\u001b[0;34m\u001b[0m\u001b[0;34m\u001b[0m\u001b[0m\n",
            "\u001b[0;32m/usr/local/lib/python3.7/dist-packages/tensorflow/python/eager/def_function.py\u001b[0m in \u001b[0;36m_call\u001b[0;34m(self, *args, **kwds)\u001b[0m\n\u001b[1;32m    945\u001b[0m       \u001b[0;31m# In this case we have created variables on the first call, so we run the\u001b[0m\u001b[0;34m\u001b[0m\u001b[0;34m\u001b[0m\u001b[0;34m\u001b[0m\u001b[0m\n\u001b[1;32m    946\u001b[0m       \u001b[0;31m# defunned version which is guaranteed to never create variables.\u001b[0m\u001b[0;34m\u001b[0m\u001b[0;34m\u001b[0m\u001b[0;34m\u001b[0m\u001b[0m\n\u001b[0;32m--> 947\u001b[0;31m       \u001b[0;32mreturn\u001b[0m \u001b[0mself\u001b[0m\u001b[0;34m.\u001b[0m\u001b[0m_stateless_fn\u001b[0m\u001b[0;34m(\u001b[0m\u001b[0;34m*\u001b[0m\u001b[0margs\u001b[0m\u001b[0;34m,\u001b[0m \u001b[0;34m**\u001b[0m\u001b[0mkwds\u001b[0m\u001b[0;34m)\u001b[0m  \u001b[0;31m# pylint: disable=not-callable\u001b[0m\u001b[0;34m\u001b[0m\u001b[0;34m\u001b[0m\u001b[0m\n\u001b[0m\u001b[1;32m    948\u001b[0m     \u001b[0;32melif\u001b[0m \u001b[0mself\u001b[0m\u001b[0;34m.\u001b[0m\u001b[0m_stateful_fn\u001b[0m \u001b[0;32mis\u001b[0m \u001b[0;32mnot\u001b[0m \u001b[0;32mNone\u001b[0m\u001b[0;34m:\u001b[0m\u001b[0;34m\u001b[0m\u001b[0;34m\u001b[0m\u001b[0m\n\u001b[1;32m    949\u001b[0m       \u001b[0;31m# Release the lock early so that multiple threads can perform the call\u001b[0m\u001b[0;34m\u001b[0m\u001b[0;34m\u001b[0m\u001b[0;34m\u001b[0m\u001b[0m\n",
            "\u001b[0;32m/usr/local/lib/python3.7/dist-packages/tensorflow/python/eager/function.py\u001b[0m in \u001b[0;36m__call__\u001b[0;34m(self, *args, **kwargs)\u001b[0m\n\u001b[1;32m   2452\u001b[0m        filtered_flat_args) = self._maybe_define_function(args, kwargs)\n\u001b[1;32m   2453\u001b[0m     return graph_function._call_flat(\n\u001b[0;32m-> 2454\u001b[0;31m         filtered_flat_args, captured_inputs=graph_function.captured_inputs)  # pylint: disable=protected-access\n\u001b[0m\u001b[1;32m   2455\u001b[0m \u001b[0;34m\u001b[0m\u001b[0m\n\u001b[1;32m   2456\u001b[0m   \u001b[0;34m@\u001b[0m\u001b[0mproperty\u001b[0m\u001b[0;34m\u001b[0m\u001b[0;34m\u001b[0m\u001b[0m\n",
            "\u001b[0;32m/usr/local/lib/python3.7/dist-packages/tensorflow/python/eager/function.py\u001b[0m in \u001b[0;36m_call_flat\u001b[0;34m(self, args, captured_inputs, cancellation_manager)\u001b[0m\n\u001b[1;32m   1859\u001b[0m       \u001b[0;31m# No tape is watching; skip to running the function.\u001b[0m\u001b[0;34m\u001b[0m\u001b[0;34m\u001b[0m\u001b[0;34m\u001b[0m\u001b[0m\n\u001b[1;32m   1860\u001b[0m       return self._build_call_outputs(self._inference_function.call(\n\u001b[0;32m-> 1861\u001b[0;31m           ctx, args, cancellation_manager=cancellation_manager))\n\u001b[0m\u001b[1;32m   1862\u001b[0m     forward_backward = self._select_forward_and_backward_functions(\n\u001b[1;32m   1863\u001b[0m         \u001b[0margs\u001b[0m\u001b[0;34m,\u001b[0m\u001b[0;34m\u001b[0m\u001b[0;34m\u001b[0m\u001b[0m\n",
            "\u001b[0;32m/usr/local/lib/python3.7/dist-packages/tensorflow/python/eager/function.py\u001b[0m in \u001b[0;36mcall\u001b[0;34m(self, ctx, args, cancellation_manager)\u001b[0m\n\u001b[1;32m    500\u001b[0m               \u001b[0minputs\u001b[0m\u001b[0;34m=\u001b[0m\u001b[0margs\u001b[0m\u001b[0;34m,\u001b[0m\u001b[0;34m\u001b[0m\u001b[0;34m\u001b[0m\u001b[0m\n\u001b[1;32m    501\u001b[0m               \u001b[0mattrs\u001b[0m\u001b[0;34m=\u001b[0m\u001b[0mattrs\u001b[0m\u001b[0;34m,\u001b[0m\u001b[0;34m\u001b[0m\u001b[0;34m\u001b[0m\u001b[0m\n\u001b[0;32m--> 502\u001b[0;31m               ctx=ctx)\n\u001b[0m\u001b[1;32m    503\u001b[0m         \u001b[0;32melse\u001b[0m\u001b[0;34m:\u001b[0m\u001b[0;34m\u001b[0m\u001b[0;34m\u001b[0m\u001b[0m\n\u001b[1;32m    504\u001b[0m           outputs = execute.execute_with_cancellation(\n",
            "\u001b[0;32m/usr/local/lib/python3.7/dist-packages/tensorflow/python/eager/execute.py\u001b[0m in \u001b[0;36mquick_execute\u001b[0;34m(op_name, num_outputs, inputs, attrs, ctx, name)\u001b[0m\n\u001b[1;32m     53\u001b[0m     \u001b[0mctx\u001b[0m\u001b[0;34m.\u001b[0m\u001b[0mensure_initialized\u001b[0m\u001b[0;34m(\u001b[0m\u001b[0;34m)\u001b[0m\u001b[0;34m\u001b[0m\u001b[0;34m\u001b[0m\u001b[0m\n\u001b[1;32m     54\u001b[0m     tensors = pywrap_tfe.TFE_Py_Execute(ctx._handle, device_name, op_name,\n\u001b[0;32m---> 55\u001b[0;31m                                         inputs, attrs, num_outputs)\n\u001b[0m\u001b[1;32m     56\u001b[0m   \u001b[0;32mexcept\u001b[0m \u001b[0mcore\u001b[0m\u001b[0;34m.\u001b[0m\u001b[0m_NotOkStatusException\u001b[0m \u001b[0;32mas\u001b[0m \u001b[0me\u001b[0m\u001b[0;34m:\u001b[0m\u001b[0;34m\u001b[0m\u001b[0;34m\u001b[0m\u001b[0m\n\u001b[1;32m     57\u001b[0m     \u001b[0;32mif\u001b[0m \u001b[0mname\u001b[0m \u001b[0;32mis\u001b[0m \u001b[0;32mnot\u001b[0m \u001b[0;32mNone\u001b[0m\u001b[0;34m:\u001b[0m\u001b[0;34m\u001b[0m\u001b[0;34m\u001b[0m\u001b[0m\n",
            "\u001b[0;31mKeyboardInterrupt\u001b[0m: "
          ]
        }
      ]
    },
    {
      "cell_type": "markdown",
      "metadata": {
        "id": "2dlzFt0SXGDQ"
      },
      "source": [
        "# Understanding deep networks\n",
        "\n",
        "*   What is the use of activation functions in network? Why is it needed?\n",
        "*   We have used softmax activation function in the exercise. There are other activation functions available too. What is the difference between sigmoid activation and softmax activation?\n",
        "*   What is the difference between categorical crossentropy and binary crossentropy loss?"
      ]
    },
    {
      "cell_type": "markdown",
      "metadata": {
        "id": "sPy_1EWXX6fp"
      },
      "source": [
        "**Solution**\n",
        "\n",
        "*(Double-click or enter to edit)*\n",
        "\n",
        "..."
      ]
    },
    {
      "cell_type": "markdown",
      "source": [
        "# Transfer Learning\n",
        "\n",
        "It is not always necessary to train models from scratch. We can use the knowledge of networks trained on other tasks to learn the task at hand. In this exercise, we will explore the use of pre-trained weights and train on the CIFAR-10 dataset.\n",
        "\n",
        "*   Create a base imagenet pretrained InceptionV3 model.\n",
        "    *    Hint: Use tf.keras.applications to create the model\n",
        "    *    Pay attention to the include_top parameter.\n"
      ],
      "metadata": {
        "id": "x7JtHCmIxSmn"
      }
    },
    {
      "cell_type": "code",
      "metadata": {
        "id": "PvJ-OYIt6FRp"
      },
      "source": [
        "from keras.backend import clear_session\n",
        "clear_session()"
      ],
      "execution_count": 34,
      "outputs": []
    },
    {
      "cell_type": "code",
      "source": [
        "# solution\n",
        "base_layer = keras.applications.inception_v3.InceptionV3(include_top=False, classes=10, input_shape=(32,32,3))\n",
        "\n",
        "\n"
      ],
      "metadata": {
        "id": "-ZPNmumpxJMo",
        "colab": {
          "base_uri": "https://localhost:8080/",
          "height": 364
        },
        "outputId": "317a9f69-97ab-4a6c-e113-6eae333388d6"
      },
      "execution_count": 35,
      "outputs": [
        {
          "output_type": "error",
          "ename": "ValueError",
          "evalue": "ignored",
          "traceback": [
            "\u001b[0;31m---------------------------------------------------------------------------\u001b[0m",
            "\u001b[0;31mValueError\u001b[0m                                Traceback (most recent call last)",
            "\u001b[0;32m<ipython-input-35-31fcfc1798b3>\u001b[0m in \u001b[0;36m<module>\u001b[0;34m\u001b[0m\n\u001b[1;32m      1\u001b[0m \u001b[0;31m# solution\u001b[0m\u001b[0;34m\u001b[0m\u001b[0;34m\u001b[0m\u001b[0;34m\u001b[0m\u001b[0m\n\u001b[0;32m----> 2\u001b[0;31m \u001b[0mmodel_tl\u001b[0m \u001b[0;34m=\u001b[0m \u001b[0mkeras\u001b[0m\u001b[0;34m.\u001b[0m\u001b[0mapplications\u001b[0m\u001b[0;34m.\u001b[0m\u001b[0minception_v3\u001b[0m\u001b[0;34m.\u001b[0m\u001b[0mInceptionV3\u001b[0m\u001b[0;34m(\u001b[0m\u001b[0minclude_top\u001b[0m\u001b[0;34m=\u001b[0m\u001b[0;32mFalse\u001b[0m\u001b[0;34m,\u001b[0m \u001b[0mclasses\u001b[0m\u001b[0;34m=\u001b[0m\u001b[0;36m10\u001b[0m\u001b[0;34m,\u001b[0m \u001b[0minput_shape\u001b[0m\u001b[0;34m=\u001b[0m\u001b[0;34m(\u001b[0m\u001b[0;36m32\u001b[0m\u001b[0;34m,\u001b[0m\u001b[0;36m32\u001b[0m\u001b[0;34m,\u001b[0m\u001b[0;36m3\u001b[0m\u001b[0;34m)\u001b[0m\u001b[0;34m)\u001b[0m\u001b[0;34m\u001b[0m\u001b[0;34m\u001b[0m\u001b[0m\n\u001b[0m\u001b[1;32m      3\u001b[0m \u001b[0;34m\u001b[0m\u001b[0m\n\u001b[1;32m      4\u001b[0m \u001b[0;34m\u001b[0m\u001b[0m\n",
            "\u001b[0;32m/usr/local/lib/python3.7/dist-packages/keras/applications/inception_v3.py\u001b[0m in \u001b[0;36mInceptionV3\u001b[0;34m(include_top, weights, input_tensor, input_shape, pooling, classes, classifier_activation)\u001b[0m\n\u001b[1;32m    131\u001b[0m       \u001b[0mdata_format\u001b[0m\u001b[0;34m=\u001b[0m\u001b[0mbackend\u001b[0m\u001b[0;34m.\u001b[0m\u001b[0mimage_data_format\u001b[0m\u001b[0;34m(\u001b[0m\u001b[0;34m)\u001b[0m\u001b[0;34m,\u001b[0m\u001b[0;34m\u001b[0m\u001b[0;34m\u001b[0m\u001b[0m\n\u001b[1;32m    132\u001b[0m       \u001b[0mrequire_flatten\u001b[0m\u001b[0;34m=\u001b[0m\u001b[0minclude_top\u001b[0m\u001b[0;34m,\u001b[0m\u001b[0;34m\u001b[0m\u001b[0;34m\u001b[0m\u001b[0m\n\u001b[0;32m--> 133\u001b[0;31m       weights=weights)\n\u001b[0m\u001b[1;32m    134\u001b[0m \u001b[0;34m\u001b[0m\u001b[0m\n\u001b[1;32m    135\u001b[0m   \u001b[0;32mif\u001b[0m \u001b[0minput_tensor\u001b[0m \u001b[0;32mis\u001b[0m \u001b[0;32mNone\u001b[0m\u001b[0;34m:\u001b[0m\u001b[0;34m\u001b[0m\u001b[0;34m\u001b[0m\u001b[0m\n",
            "\u001b[0;32m/usr/local/lib/python3.7/dist-packages/keras/applications/imagenet_utils.py\u001b[0m in \u001b[0;36mobtain_input_shape\u001b[0;34m(input_shape, default_size, min_size, data_format, require_flatten, weights)\u001b[0m\n\u001b[1;32m    374\u001b[0m         if ((input_shape[0] is not None and input_shape[0] < min_size) or\n\u001b[1;32m    375\u001b[0m             (input_shape[1] is not None and input_shape[1] < min_size)):\n\u001b[0;32m--> 376\u001b[0;31m           raise ValueError('Input size must be at least '\n\u001b[0m\u001b[1;32m    377\u001b[0m                            \u001b[0;34mf'{min_size}x{min_size}; Received: '\u001b[0m\u001b[0;34m\u001b[0m\u001b[0;34m\u001b[0m\u001b[0m\n\u001b[1;32m    378\u001b[0m                            f'input_shape={input_shape}')\n",
            "\u001b[0;31mValueError\u001b[0m: Input size must be at least 75x75; Received: input_shape=(32, 32, 3)"
          ]
        }
      ]
    },
    {
      "cell_type": "markdown",
      "source": [
        "*    Add a global average pooling layer, followed by a fully-connected layer with 1024 neurons and then the classification layer."
      ],
      "metadata": {
        "id": "Sq8urTnlx_ug"
      }
    },
    {
      "cell_type": "code",
      "source": [
        "# solution\n",
        "bottom_layers = Sequential()\n",
        "bottom_layers.add(GlobalAveragePooling2D((2, 2)))\n",
        "bottom_layers.add(Dense(1024, activation='relu', kernel_initializer='he_uniform'))\n",
        "bottom_layers.add(Dense(10, activation='softmax'))"
      ],
      "metadata": {
        "id": "yTR4yCT-yPJk"
      },
      "execution_count": null,
      "outputs": []
    },
    {
      "cell_type": "markdown",
      "source": [
        "*   Train the model by freezing the base model. Train only the newly added layers.\n",
        "    *    Hint: Every layer has an attribute called 'trainable'\n",
        "*   Compile the model and train the model for a few epochs only."
      ],
      "metadata": {
        "id": "h_rjXkO-yPfN"
      }
    },
    {
      "cell_type": "code",
      "source": [
        "# solution\n",
        "base_layer.trainable = False\n",
        "model_tl = Sequential()\n",
        "model_tl.add(base_layer)\n",
        "model_tl.add(bottom_layers)\n",
        "\n",
        "model_tl.compile(optimizer='sgd', loss='categorical_crossentropy', metrics=['accuracy'])\n",
        "\n",
        "history_tl = model_tl.fit(x_train, y_train, batch_size=32, epochs=100, validation_split=0.1)"
      ],
      "metadata": {
        "id": "3Szbku96ypDQ"
      },
      "execution_count": null,
      "outputs": []
    },
    {
      "cell_type": "markdown",
      "source": [
        "*    Freeze the bottom layers and unfreeze the base layers.\n",
        "*    Compile and train the classifier with a very low learning rate (0.0001)"
      ],
      "metadata": {
        "id": "mlQ5-83TypWy"
      }
    },
    {
      "cell_type": "code",
      "source": [
        "# solution\n",
        "base_layer.trainable = True\n",
        "bottom_layers.trainable = False\n",
        "OR\n",
        "model_tl.base_layer.trainable = True\n",
        "model_tl.bottom_layers.trainable = False\n",
        "\n",
        "model_tl.compile(optimizer='sgd', loss='categorical_crossentropy', metrics=['accuracy'], learning_rate = 1e-4)\n",
        "\n",
        "history_tl = model_tl.fit(x_train, y_train, batch_size=32, epochs=100, validation_split=0.1)\n"
      ],
      "metadata": {
        "id": "8p-0Jyi6zDWG"
      },
      "execution_count": null,
      "outputs": []
    },
    {
      "cell_type": "markdown",
      "source": [
        "*    Compare the performance of the VGG model and the Inception-V3 model."
      ],
      "metadata": {
        "id": "6C8rryZozCr6"
      }
    },
    {
      "cell_type": "code",
      "source": [
        "plt.subplot(211)\n",
        "plt.title('Cross Entropy Loss')\n",
        "plt.plot(history_tl.history['loss'], color='blue', label='Transfer Learning train')\n",
        "plt.plot(history_VGG.history['loss'], color='red', label='VGG train')\n",
        "\n",
        "\n",
        "plt.subplot(212)\n",
        "plt.title('Classification Accuracy')\n",
        "plt.plot(history_tl.history['accuracy'], color='green', label='Transfer Learning train')\n",
        "plt.plot(history_VGG.history['accuracy'], color='purple', label='VGG train')\n",
        "plt.show()"
      ],
      "metadata": {
        "id": "U_KVEvYXRKQE"
      },
      "execution_count": null,
      "outputs": []
    },
    {
      "cell_type": "markdown",
      "metadata": {
        "id": "yzhxMkt82ddr"
      },
      "source": [
        "**Solution**\n",
        "\n",
        "*(Double-click or enter to edit)*\n",
        "\n",
        "..."
      ]
    },
    {
      "cell_type": "markdown",
      "source": [
        "*    When do we train models from scratch? What are the potential issues in training models from scratch?"
      ],
      "metadata": {
        "id": "gEA8k0BtzLyI"
      }
    },
    {
      "cell_type": "markdown",
      "metadata": {
        "id": "d0ECBMya2e1g"
      },
      "source": [
        "**Solution**\n",
        "\n",
        "*(Double-click or enter to edit)*\n",
        "\n",
        "..."
      ]
    },
    {
      "cell_type": "markdown",
      "source": [
        "*    Why do we use pre-trained weights?\n",
        "*    What is the difference between using random initialization and using weights from a pre-trained model?"
      ],
      "metadata": {
        "id": "arkQv6N_66n2"
      }
    },
    {
      "cell_type": "markdown",
      "metadata": {
        "id": "oG2sGnxd64Sv"
      },
      "source": [
        "**Solution**\n",
        "\n",
        "*(Double-click or enter to edit)*\n",
        "\n",
        "..."
      ]
    },
    {
      "cell_type": "markdown",
      "metadata": {
        "id": "K-8E3dBw8Zoa"
      },
      "source": [
        "# Extracting features from Deep Networks\n",
        "\n",
        "It is quite possible to extract features (similar to SIFT or ORB) from different layers of deep network.\n",
        "\n",
        "*   Load ResNet50 model with imagenet weights and check the summary of the model\n",
        "*   Create a model to extract features from the 'avg_pool' layer.\n",
        "*   Extract features from the layer for all the train images.\n",
        "*   Use the extracted features to train a SVM classifier.\n",
        "    *    Use GridSearchCV and SVC to perform the classification"
      ]
    },
    {
      "cell_type": "code",
      "metadata": {
        "id": "EJ83bPO3mO16"
      },
      "source": [
        "# solution\n",
        "model_rn = tf.keras.applications.resnet50.ResNet50(include_top=False, weights='imagenet', input_shape=None)\n",
        "\n",
        "\n"
      ],
      "execution_count": null,
      "outputs": []
    },
    {
      "cell_type": "markdown",
      "source": [
        "*    Evaluate the trained SVM model using the test set\n",
        "*    Calculate the accuracy score and confusion matrix"
      ],
      "metadata": {
        "id": "n3CeHn372_J8"
      }
    },
    {
      "cell_type": "code",
      "source": [
        "# solution\n",
        "\n"
      ],
      "metadata": {
        "id": "pRwVH6bc3Ob6"
      },
      "execution_count": null,
      "outputs": []
    },
    {
      "cell_type": "markdown",
      "source": [
        "# Feature Visualizations\n",
        "\n",
        "In order to visualize the features of a higher dimension data, t-SNE is used. t-SNE converts the affinities of the data points to probabilities. It recreates the probability distribution in a low-dimensional space. It is very helpful in visualizing features of different layers in a neural network.\n",
        "\n",
        "You can find more information about t-SNE [here](https://scikit-learn.org/stable/modules/manifold.html#t-distributed-stochastic-neighbor-embedding-t-sne)"
      ],
      "metadata": {
        "id": "0iNWSH-M1Lv1"
      }
    },
    {
      "cell_type": "markdown",
      "source": [
        "*    Use TSNE to visualize the features extracted in the previous exercise.\n",
        "    *    Hint: TSNE function is available in the *sklearn.manifold* package."
      ],
      "metadata": {
        "id": "U84jVNvR39CD"
      }
    },
    {
      "cell_type": "code",
      "source": [
        "# solution\n",
        "\n"
      ],
      "metadata": {
        "id": "uNTOB1gN4RC2"
      },
      "execution_count": null,
      "outputs": []
    },
    {
      "cell_type": "markdown",
      "source": [
        "*    Why is feature visualization helpful?"
      ],
      "metadata": {
        "id": "pOYsp8jZ4Rce"
      }
    },
    {
      "cell_type": "markdown",
      "metadata": {
        "id": "D5DlpPak4ZYG"
      },
      "source": [
        "**Solution**\n",
        "\n",
        "*(Double-click or enter to edit)*\n",
        "\n",
        "..."
      ]
    },
    {
      "cell_type": "markdown",
      "metadata": {
        "id": "NnN_t5Me7N5O"
      },
      "source": [
        "\n",
        "---\n",
        "\n",
        "## **End of P4_1: Image Classification using CNN**\n",
        "Deadline for P4_1 submission in CampusVirtual is: **Monday, the 24th of November, 2022**"
      ]
    }
  ]
}