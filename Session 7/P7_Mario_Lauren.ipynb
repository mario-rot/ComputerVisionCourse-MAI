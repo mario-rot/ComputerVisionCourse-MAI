{
  "nbformat": 4,
  "nbformat_minor": 0,
  "metadata": {
    "colab": {
      "provenance": [],
      "include_colab_link": true
    },
    "kernelspec": {
      "display_name": "Python 3",
      "name": "python3"
    }
  },
  "cells": [
    {
      "cell_type": "markdown",
      "metadata": {
        "id": "view-in-github",
        "colab_type": "text"
      },
      "source": [
        "<a href=\"https://colab.research.google.com/github/mario-rot/ComputerVisionCourse-MAI/blob/main/Session%207/P7_Mario_Lauren.ipynb\" target=\"_parent\"><img src=\"https://colab.research.google.com/assets/colab-badge.svg\" alt=\"Open In Colab\"/></a>"
      ]
    },
    {
      "cell_type": "markdown",
      "metadata": {
        "id": "Sk0eYw8ojrFq"
      },
      "source": [
        "# Laboratory #3_2 : Image Classification using Bag of Visual Words\n",
        "\n",
        "At the end of this laboratory, you would get familiarized with\n",
        "\n",
        "*   Creating Bag of Visual Words\n",
        "    *   Feature Extraction\n",
        "    *   Codebook construction\n",
        "    *   Classification\n",
        "\n",
        "**Remember this is a graded exercise.**\n",
        "\n",
        "*   For every plot, make sure you provide appropriate titles, axis labels, legends, wherever applicable.\n",
        "*   Create reusable functions where ever possible, so that the code could be reused at different places.\n",
        "*   Mount your drive to access the images.\n",
        "*   Add sufficient comments and explanations wherever necessary.\n",
        "\n",
        "---"
      ]
    },
    {
      "cell_type": "code",
      "source": [
        "%load_ext autoreload\n",
        "%autoreload 2"
      ],
      "metadata": {
        "id": "AIX_61vv777d"
      },
      "execution_count": 2,
      "outputs": []
    },
    {
      "cell_type": "code",
      "metadata": {
        "id": "sYHw1lSBldl-",
        "colab": {
          "base_uri": "https://localhost:8080/"
        },
        "outputId": "71271b63-c770-420f-e85b-71be1cbab476"
      },
      "source": [
        "%%shell\n",
        "git clone https://github.com/mario-rot/ComputerVisionCourse-MAI.git\n",
        "cd 'ComputerVisionCourse-MAI'\n",
        "mv 'Session 7/Caltech_101_subset' /content/\n",
        "mv 'customplots.py' /content/\n",
        "mv 'utils.py' /content/"
      ],
      "execution_count": 1,
      "outputs": [
        {
          "output_type": "stream",
          "name": "stdout",
          "text": [
            "Cloning into 'ComputerVisionCourse-MAI'...\n",
            "remote: Enumerating objects: 12185, done.\u001b[K\n",
            "remote: Counting objects: 100% (606/606), done.\u001b[K\n",
            "remote: Compressing objects: 100% (477/477), done.\u001b[K\n",
            "remote: Total 12185 (delta 145), reused 560 (delta 119), pack-reused 11579\u001b[K\n",
            "Receiving objects: 100% (12185/12185), 80.68 MiB | 18.63 MiB/s, done.\n",
            "Resolving deltas: 100% (148/148), done.\n",
            "Checking out files: 100% (11915/11915), done.\n"
          ]
        },
        {
          "output_type": "execute_result",
          "data": {
            "text/plain": []
          },
          "metadata": {},
          "execution_count": 1
        }
      ]
    },
    {
      "cell_type": "code",
      "metadata": {
        "id": "aD5-E8PuaQ5P"
      },
      "source": [
        "# Loading necessary libraries (Feel free to add new libraries if you need for any computation)\n",
        "\n",
        "import os\n",
        "import numpy as np\n",
        "\n",
        "from skimage.feature import ORB\n",
        "from skimage import feature\n",
        "from skimage.color import rgb2gray\n",
        "from skimage.io import imread, imread_collection\n",
        "from scipy.cluster.vq import vq\n",
        "from sklearn.model_selection import train_test_split\n",
        "from utils import get_multi_ORB\n",
        "from sklearn.cluster import MiniBatchKMeans\n",
        "import collections\n",
        "import skimage.exposure as ske\n",
        "\n",
        "from matplotlib import pyplot as plt\n",
        "import pandas as pd\n",
        "\n",
        "from sklearn.metrics import accuracy_score, classification_report, confusion_matrix\n",
        "from customplots import plot_confusion_matrix"
      ],
      "execution_count": 2,
      "outputs": []
    },
    {
      "cell_type": "markdown",
      "metadata": {
        "id": "ampx9DIJiuGN"
      },
      "source": [
        "## Loading dataset\n",
        "\n",
        "We will use 3 categories from Caltech 101 objects dataset for this experiment. Upload the dataset to the drive and mount it."
      ]
    },
    {
      "cell_type": "code",
      "metadata": {
        "id": "PRSJP1XbG6-a"
      },
      "source": [
        "# modify the dataset variable with the path from your drive\n",
        "\n",
        "dataset_path = r'/content/Caltech_101_subset/'"
      ],
      "execution_count": 3,
      "outputs": []
    },
    {
      "cell_type": "code",
      "metadata": {
        "id": "fNoe7u755X6Q"
      },
      "source": [
        "categories = ['butterfly', 'kangaroo', 'dalmatian']\n",
        "ncl = len(categories) * 10"
      ],
      "execution_count": 4,
      "outputs": []
    },
    {
      "cell_type": "markdown",
      "metadata": {
        "id": "gxY0mDoK5EQj"
      },
      "source": [
        "*   Create a list of file and the corresponding labels"
      ]
    },
    {
      "cell_type": "code",
      "source": [
        "data = [(cat, i) for cat in categories for i in imread_collection(dataset_path+ cat +'/*')]"
      ],
      "metadata": {
        "id": "klut3nIf1EIH"
      },
      "execution_count": 5,
      "outputs": []
    },
    {
      "cell_type": "code",
      "metadata": {
        "id": "3x42veHz5LDt",
        "colab": {
          "base_uri": "https://localhost:8080/"
        },
        "outputId": "42a0c884-6d06-43aa-8e4c-cb662b85df3b"
      },
      "source": [
        "print('Total number of images:', len(data))"
      ],
      "execution_count": 6,
      "outputs": [
        {
          "output_type": "stream",
          "name": "stdout",
          "text": [
            "Total number of images: 244\n"
          ]
        }
      ]
    },
    {
      "cell_type": "markdown",
      "metadata": {
        "id": "XgVhdjYz5Zhs"
      },
      "source": [
        "*   Create a train / test split where the test is 10% of the total data"
      ]
    },
    {
      "cell_type": "code",
      "metadata": {
        "id": "QzYnjzXBZXXt"
      },
      "source": [
        "# solution\n",
        "X = [i for cat in categories for i in imread_collection(dataset_path+ cat +'/*')]\n",
        "y = [cat for cat in categories for i in imread_collection(dataset_path+ cat +'/*')]\n",
        "x_train,x_test,y_train,y_test = train_test_split(X,y, test_size=0.1, random_state=5, stratify=y)"
      ],
      "execution_count": 37,
      "outputs": []
    },
    {
      "cell_type": "code",
      "metadata": {
        "id": "gd057lAc5jze",
        "colab": {
          "base_uri": "https://localhost:8080/"
        },
        "outputId": "2472a8d8-6dc1-4967-f96a-b85ee5201cdc"
      },
      "source": [
        "print('Train set:', len(x_train))\n",
        "print('Test set:', len(x_test))"
      ],
      "execution_count": 8,
      "outputs": [
        {
          "output_type": "stream",
          "name": "stdout",
          "text": [
            "Train set: 219\n",
            "Test set: 25\n"
          ]
        }
      ]
    },
    {
      "cell_type": "markdown",
      "metadata": {
        "id": "_Hl36Ej_5k6Y"
      },
      "source": [
        "*   How do you select the train/test split?"
      ]
    },
    {
      "cell_type": "markdown",
      "metadata": {
        "id": "-aOe27Kx5vtd"
      },
      "source": [
        "**Solution**\n",
        "\n",
        "*We used the train_test_split function from sklearn to split the data into a testing set and a training set. This selects the data randomly to split based off the percentage provided. We also set the 'stratify' parameter to ensure that there was a representative balance of images in each split.*\n",
        "\n",
        "..."
      ]
    },
    {
      "cell_type": "markdown",
      "metadata": {
        "id": "18OZf2kfkVNB"
      },
      "source": [
        "## Feature Extraction using ORB\n",
        "\n",
        "The first step is to extract descriptors for each image in our dataset. We will use ORB to extract descriptors.\n",
        "\n",
        "*   Create ORB detector with 64 keypoints.\n"
      ]
    },
    {
      "cell_type": "code",
      "source": [
        "descriptor_extractor = feature.ORB(n_keypoints=64)"
      ],
      "metadata": {
        "id": "V5UVcN7l9hyR"
      },
      "execution_count": 26,
      "outputs": []
    },
    {
      "cell_type": "markdown",
      "metadata": {
        "id": "3yinPkL8brow"
      },
      "source": [
        "*   Extract ORB descriptors from all the images in the train set.\n"
      ]
    },
    {
      "cell_type": "code",
      "metadata": {
        "id": "PCiXJeLFxGtP"
      },
      "source": [
        "# solution\n",
        "kps_train,dcs_train = get_multi_ORB(descriptor_extractor, x_train)"
      ],
      "execution_count": 27,
      "outputs": []
    },
    {
      "cell_type": "markdown",
      "metadata": {
        "id": "GJehFdyt583b"
      },
      "source": [
        "*   What is the size of the feature descriptors? What does each dimension represent in the feature descriptors?"
      ]
    },
    {
      "cell_type": "code",
      "metadata": {
        "id": "bzTspvF96LeC",
        "colab": {
          "base_uri": "https://localhost:8080/"
        },
        "outputId": "feab952d-417b-437c-d18d-70fe2a604b9d"
      },
      "source": [
        "# solution\n",
        "print('The size of each feature descriptors matrix per image is {}, where {} represents the number \\n of keypoints identified and {} is a vector with values either being True or False representing\\n the outcome of the intensity comparison for each keypoint on a decision pixel-pair.'.format(dcs_train[1].shape, dcs_train[1].shape[0], dcs_train[1].shape[1]))\n"
      ],
      "execution_count": 28,
      "outputs": [
        {
          "output_type": "stream",
          "name": "stdout",
          "text": [
            "The size of each feature descriptors matrix per image is (64, 256), where 64 represents the number \n",
            " of keypoints identified and 256 is a vector with values either being True or False representing\n",
            " the outcome of the intensity comparison for each keypoint on a decision pixel-pair.\n"
          ]
        }
      ]
    },
    {
      "cell_type": "markdown",
      "metadata": {
        "id": "MNFOjsRj6PGk"
      },
      "source": [
        "**Solution**\n",
        "\n",
        "*See code cell above for solution*\n",
        "\n",
        "..."
      ]
    },
    {
      "cell_type": "markdown",
      "metadata": {
        "id": "420YQkAzleTQ"
      },
      "source": [
        "## Codebook Construction\n",
        "\n",
        "Codewords are nothing but vector representation of similar patches. This codeword produces a codebook similar to a word dictionary. We will create the codebook using K-Means algorithm\n",
        "\n",
        "*   Create a codebook using K-Means with k=number_of_classes*10\n",
        "*   Hint: Use sklearn.cluster.MiniBatchKMeans for K-Means"
      ]
    },
    {
      "cell_type": "code",
      "metadata": {
        "id": "iO0e4718ppJt",
        "colab": {
          "base_uri": "https://localhost:8080/"
        },
        "outputId": "c3bbf9b9-7ba4-4959-9fb5-d77cab2e1f5a"
      },
      "source": [
        "# solution\n",
        "dcs_flatten = np.reshape(dcs_train, (len(dcs_train)*dcs_train.shape[1],dcs_train.shape[2]))\n",
        "print(dcs_flatten.shape)\n",
        "kmeans = MiniBatchKMeans(n_clusters=len(categories)*10, random_state = 8).fit(dcs_flatten)\n",
        "kmeans.cluster_centers_.shape"
      ],
      "execution_count": 29,
      "outputs": [
        {
          "output_type": "stream",
          "name": "stdout",
          "text": [
            "(14016, 256)\n"
          ]
        },
        {
          "output_type": "execute_result",
          "data": {
            "text/plain": [
              "(30, 256)"
            ]
          },
          "metadata": {},
          "execution_count": 29
        }
      ]
    },
    {
      "cell_type": "code",
      "source": [
        "vwr_img = []\n",
        "for img_dsc in dcs_train:\n",
        "  vwr_img.append(kmeans.predict(img_dsc))"
      ],
      "metadata": {
        "id": "Bf0AvzXGpaMI"
      },
      "execution_count": 30,
      "outputs": []
    },
    {
      "cell_type": "code",
      "source": [
        "vwr_img = np.array(vwr_img)\n",
        "\n",
        "np.concatenate(vwr_img)"
      ],
      "metadata": {
        "colab": {
          "base_uri": "https://localhost:8080/"
        },
        "id": "ms7gmL9PqpEH",
        "outputId": "b4236be4-ec5b-4bce-bf3e-7067871a8d05"
      },
      "execution_count": 31,
      "outputs": [
        {
          "output_type": "execute_result",
          "data": {
            "text/plain": [
              "array([25, 29, 25, ..., 20,  4, 16], dtype=int32)"
            ]
          },
          "metadata": {},
          "execution_count": 31
        }
      ]
    },
    {
      "cell_type": "markdown",
      "metadata": {
        "id": "0GAD_JuNpqMt"
      },
      "source": [
        "*   Create a histogram using the cluster centers for each image descriptor.\n",
        "    *   Remember the histogram would be of size *n_images x n_clusters*."
      ]
    },
    {
      "cell_type": "code",
      "source": [
        "plt.bar(list(range(30)),ske.histogram(np.concatenate(vwr_img), 30)[0])\n",
        "plt.title('Frequency of Visual Words Training Data')\n",
        "plt.ylabel('Number of visual words')\n",
        "plt.xlabel('Clusters')"
      ],
      "metadata": {
        "colab": {
          "base_uri": "https://localhost:8080/",
          "height": 326
        },
        "id": "lfUFu7TrrXeG",
        "outputId": "0c6cd498-a5ec-4feb-8b4b-d9484265dcb7"
      },
      "execution_count": 32,
      "outputs": [
        {
          "output_type": "execute_result",
          "data": {
            "text/plain": [
              "Text(0.5, 0, 'Clusters')"
            ]
          },
          "metadata": {},
          "execution_count": 32
        },
        {
          "output_type": "display_data",
          "data": {
            "text/plain": [
              "<Figure size 432x288 with 1 Axes>"
            ],
            "image/png": "[encoded data removed]"
          },
          "metadata": {
            "needs_background": "light"
          }
        }
      ]
    },
    {
      "cell_type": "code",
      "source": [
        "plt.bar(list(range(30)),ske.histogram(kmeans.labels_, 30)[0])\n",
        "plt.title('Frequency of Visual Words Training Data')\n",
        "plt.ylabel('Number of visual words')\n",
        "plt.xlabel('Clusters')"
      ],
      "metadata": {
        "colab": {
          "base_uri": "https://localhost:8080/",
          "height": 326
        },
        "id": "sNd3rPW8qiXs",
        "outputId": "452f1299-220c-4d2e-b6cb-26dc2d27b8d7"
      },
      "execution_count": 33,
      "outputs": [
        {
          "output_type": "execute_result",
          "data": {
            "text/plain": [
              "Text(0.5, 0, 'Clusters')"
            ]
          },
          "metadata": {},
          "execution_count": 33
        },
        {
          "output_type": "display_data",
          "data": {
            "text/plain": [
              "<Figure size 432x288 with 1 Axes>"
            ],
            "image/png": "[encoded data removed]"
          },
          "metadata": {
            "needs_background": "light"
          }
        }
      ]
    },
    {
      "cell_type": "markdown",
      "metadata": {
        "id": "jmRO7dfLjgZa"
      },
      "source": [
        "\n",
        "# Creating Classification Model\n",
        "\n",
        "*   The next step is to create a classification model. We will use a C-Support Vector Classification for creating the model.\n",
        "\n"
      ]
    },
    {
      "cell_type": "code",
      "metadata": {
        "id": "K7VTBz1Oimtz"
      },
      "source": [
        "from sklearn.svm import SVC\n",
        "from sklearn.model_selection import GridSearchCV"
      ],
      "execution_count": 34,
      "outputs": []
    },
    {
      "cell_type": "markdown",
      "metadata": {
        "id": "lrit95Ud6pUU"
      },
      "source": [
        "*   Use GridSearchCV to find the optimal value of C and Gamma."
      ]
    },
    {
      "cell_type": "code",
      "source": [
        "dcs_flatten.shape"
      ],
      "metadata": {
        "colab": {
          "base_uri": "https://localhost:8080/"
        },
        "id": "otT8O_nxfw7A",
        "outputId": "ecbbd69f-350b-418b-d35a-7339a6bf37c6"
      },
      "execution_count": 35,
      "outputs": [
        {
          "output_type": "execute_result",
          "data": {
            "text/plain": [
              "(14016, 256)"
            ]
          },
          "metadata": {},
          "execution_count": 35
        }
      ]
    },
    {
      "cell_type": "code",
      "metadata": {
        "id": "IjFFpykV-GOI",
        "colab": {
          "base_uri": "https://localhost:8080/"
        },
        "outputId": "0f136745-89bb-4bb4-aa5b-7eebd15267c7"
      },
      "source": [
        "# solution\n",
        "svc = SVC()\n",
        "clf = GridSearchCV(svc,{'C':[0.5,1,5,8,10,15], 'gamma':['scale','auto']})\n",
        "clf.fit(vwr_img,y_train)\n"
      ],
      "execution_count": 38,
      "outputs": [
        {
          "output_type": "execute_result",
          "data": {
            "text/plain": [
              "GridSearchCV(estimator=SVC(),\n",
              "             param_grid={'C': [0.5, 1, 5, 8, 10, 15],\n",
              "                         'gamma': ['scale', 'auto']})"
            ]
          },
          "metadata": {},
          "execution_count": 38
        }
      ]
    },
    {
      "cell_type": "code",
      "source": [
        "pd.DataFrame(clf.cv_results_)"
      ],
      "metadata": {
        "colab": {
          "base_uri": "https://localhost:8080/",
          "height": 906
        },
        "id": "V6nONAVghywZ",
        "outputId": "af446e66-6640-43bf-9e70-d2c93792a4d3"
      },
      "execution_count": 39,
      "outputs": [
        {
          "output_type": "execute_result",
          "data": {
            "text/plain": [
              "    mean_fit_time  std_fit_time  mean_score_time  std_score_time param_C  \\\n",
              "0        0.005090      0.001686         0.001584        0.000414     0.5   \n",
              "1        0.004083      0.000088         0.001383        0.000123     0.5   \n",
              "2        0.004209      0.000146         0.001360        0.000091       1   \n",
              "3        0.004069      0.000145         0.001345        0.000040       1   \n",
              "4        0.004383      0.000071         0.001266        0.000020       5   \n",
              "5        0.004431      0.000432         0.001274        0.000035       5   \n",
              "6        0.004560      0.000193         0.001331        0.000135       8   \n",
              "7        0.004405      0.000104         0.001280        0.000062       8   \n",
              "8        0.005297      0.001962         0.001537        0.000389      10   \n",
              "9        0.005102      0.001012         0.001481        0.000355      10   \n",
              "10       0.004440      0.000083         0.001291        0.000034      15   \n",
              "11       0.004316      0.000034         0.001279        0.000009      15   \n",
              "\n",
              "   param_gamma                        params  split0_test_score  \\\n",
              "0        scale  {'C': 0.5, 'gamma': 'scale'}           0.409091   \n",
              "1         auto   {'C': 0.5, 'gamma': 'auto'}           0.386364   \n",
              "2        scale    {'C': 1, 'gamma': 'scale'}           0.340909   \n",
              "3         auto     {'C': 1, 'gamma': 'auto'}           0.386364   \n",
              "4        scale    {'C': 5, 'gamma': 'scale'}           0.386364   \n",
              "5         auto     {'C': 5, 'gamma': 'auto'}           0.386364   \n",
              "6        scale    {'C': 8, 'gamma': 'scale'}           0.386364   \n",
              "7         auto     {'C': 8, 'gamma': 'auto'}           0.386364   \n",
              "8        scale   {'C': 10, 'gamma': 'scale'}           0.386364   \n",
              "9         auto    {'C': 10, 'gamma': 'auto'}           0.386364   \n",
              "10       scale   {'C': 15, 'gamma': 'scale'}           0.386364   \n",
              "11        auto    {'C': 15, 'gamma': 'auto'}           0.386364   \n",
              "\n",
              "    split1_test_score  split2_test_score  split3_test_score  \\\n",
              "0            0.409091           0.363636           0.363636   \n",
              "1            0.386364           0.363636           0.363636   \n",
              "2            0.454545           0.340909           0.409091   \n",
              "3            0.386364           0.363636           0.363636   \n",
              "4            0.568182           0.295455           0.409091   \n",
              "5            0.386364           0.363636           0.363636   \n",
              "6            0.568182           0.295455           0.409091   \n",
              "7            0.386364           0.363636           0.363636   \n",
              "8            0.568182           0.295455           0.409091   \n",
              "9            0.386364           0.363636           0.363636   \n",
              "10           0.568182           0.295455           0.409091   \n",
              "11           0.386364           0.363636           0.363636   \n",
              "\n",
              "    split4_test_score  mean_test_score  std_test_score  rank_test_score  \n",
              "0            0.348837         0.378858        0.025269                1  \n",
              "1            0.372093         0.374419        0.010230                2  \n",
              "2            0.209302         0.350951        0.082919               12  \n",
              "3            0.372093         0.374419        0.010230                2  \n",
              "4            0.186047         0.369027        0.126857                8  \n",
              "5            0.372093         0.374419        0.010230                2  \n",
              "6            0.186047         0.369027        0.126857                8  \n",
              "7            0.372093         0.374419        0.010230                2  \n",
              "8            0.186047         0.369027        0.126857                8  \n",
              "9            0.372093         0.374419        0.010230                2  \n",
              "10           0.186047         0.369027        0.126857                8  \n",
              "11           0.372093         0.374419        0.010230                2  "
            ],
            "text/html": [
              "\n",
              "  <div id=\"df-c3a13194-d1e1-4bc0-99f8-c865e68821f1\">\n",
              "    <div class=\"colab-df-container\">\n",
              "      <div>\n",
              "<style scoped>\n",
              "    .dataframe tbody tr th:only-of-type {\n",
              "        vertical-align: middle;\n",
              "    }\n",
              "\n",
              "    .dataframe tbody tr th {\n",
              "        vertical-align: top;\n",
              "    }\n",
              "\n",
              "    .dataframe thead th {\n",
              "        text-align: right;\n",
              "    }\n",
              "</style>\n",
              "<table border=\"1\" class=\"dataframe\">\n",
              "  <thead>\n",
              "    <tr style=\"text-align: right;\">\n",
              "      <th></th>\n",
              "      <th>mean_fit_time</th>\n",
              "      <th>std_fit_time</th>\n",
              "      <th>mean_score_time</th>\n",
              "      <th>std_score_time</th>\n",
              "      <th>param_C</th>\n",
              "      <th>param_gamma</th>\n",
              "      <th>params</th>\n",
              "      <th>split0_test_score</th>\n",
              "      <th>split1_test_score</th>\n",
              "      <th>split2_test_score</th>\n",
              "      <th>split3_test_score</th>\n",
              "      <th>split4_test_score</th>\n",
              "      <th>mean_test_score</th>\n",
              "      <th>std_test_score</th>\n",
              "      <th>rank_test_score</th>\n",
              "    </tr>\n",
              "  </thead>\n",
              "  <tbody>\n",
              "    <tr>\n",
              "      <th>0</th>\n",
              "      <td>0.005090</td>\n",
              "      <td>0.001686</td>\n",
              "      <td>0.001584</td>\n",
              "      <td>0.000414</td>\n",
              "      <td>0.5</td>\n",
              "      <td>scale</td>\n",
              "      <td>{'C': 0.5, 'gamma': 'scale'}</td>\n",
              "      <td>0.409091</td>\n",
              "      <td>0.409091</td>\n",
              "      <td>0.363636</td>\n",
              "      <td>0.363636</td>\n",
              "      <td>0.348837</td>\n",
              "      <td>0.378858</td>\n",
              "      <td>0.025269</td>\n",
              "      <td>1</td>\n",
              "    </tr>\n",
              "    <tr>\n",
              "      <th>1</th>\n",
              "      <td>0.004083</td>\n",
              "      <td>0.000088</td>\n",
              "      <td>0.001383</td>\n",
              "      <td>0.000123</td>\n",
              "      <td>0.5</td>\n",
              "      <td>auto</td>\n",
              "      <td>{'C': 0.5, 'gamma': 'auto'}</td>\n",
              "      <td>0.386364</td>\n",
              "      <td>0.386364</td>\n",
              "      <td>0.363636</td>\n",
              "      <td>0.363636</td>\n",
              "      <td>0.372093</td>\n",
              "      <td>0.374419</td>\n",
              "      <td>0.010230</td>\n",
              "      <td>2</td>\n",
              "    </tr>\n",
              "    <tr>\n",
              "      <th>2</th>\n",
              "      <td>0.004209</td>\n",
              "      <td>0.000146</td>\n",
              "      <td>0.001360</td>\n",
              "      <td>0.000091</td>\n",
              "      <td>1</td>\n",
              "      <td>scale</td>\n",
              "      <td>{'C': 1, 'gamma': 'scale'}</td>\n",
              "      <td>0.340909</td>\n",
              "      <td>0.454545</td>\n",
              "      <td>0.340909</td>\n",
              "      <td>0.409091</td>\n",
              "      <td>0.209302</td>\n",
              "      <td>0.350951</td>\n",
              "      <td>0.082919</td>\n",
              "      <td>12</td>\n",
              "    </tr>\n",
              "    <tr>\n",
              "      <th>3</th>\n",
              "      <td>0.004069</td>\n",
              "      <td>0.000145</td>\n",
              "      <td>0.001345</td>\n",
              "      <td>0.000040</td>\n",
              "      <td>1</td>\n",
              "      <td>auto</td>\n",
              "      <td>{'C': 1, 'gamma': 'auto'}</td>\n",
              "      <td>0.386364</td>\n",
              "      <td>0.386364</td>\n",
              "      <td>0.363636</td>\n",
              "      <td>0.363636</td>\n",
              "      <td>0.372093</td>\n",
              "      <td>0.374419</td>\n",
              "      <td>0.010230</td>\n",
              "      <td>2</td>\n",
              "    </tr>\n",
              "    <tr>\n",
              "      <th>4</th>\n",
              "      <td>0.004383</td>\n",
              "      <td>0.000071</td>\n",
              "      <td>0.001266</td>\n",
              "      <td>0.000020</td>\n",
              "      <td>5</td>\n",
              "      <td>scale</td>\n",
              "      <td>{'C': 5, 'gamma': 'scale'}</td>\n",
              "      <td>0.386364</td>\n",
              "      <td>0.568182</td>\n",
              "      <td>0.295455</td>\n",
              "      <td>0.409091</td>\n",
              "      <td>0.186047</td>\n",
              "      <td>0.369027</td>\n",
              "      <td>0.126857</td>\n",
              "      <td>8</td>\n",
              "    </tr>\n",
              "    <tr>\n",
              "      <th>5</th>\n",
              "      <td>0.004431</td>\n",
              "      <td>0.000432</td>\n",
              "      <td>0.001274</td>\n",
              "      <td>0.000035</td>\n",
              "      <td>5</td>\n",
              "      <td>auto</td>\n",
              "      <td>{'C': 5, 'gamma': 'auto'}</td>\n",
              "      <td>0.386364</td>\n",
              "      <td>0.386364</td>\n",
              "      <td>0.363636</td>\n",
              "      <td>0.363636</td>\n",
              "      <td>0.372093</td>\n",
              "      <td>0.374419</td>\n",
              "      <td>0.010230</td>\n",
              "      <td>2</td>\n",
              "    </tr>\n",
              "    <tr>\n",
              "      <th>6</th>\n",
              "      <td>0.004560</td>\n",
              "      <td>0.000193</td>\n",
              "      <td>0.001331</td>\n",
              "      <td>0.000135</td>\n",
              "      <td>8</td>\n",
              "      <td>scale</td>\n",
              "      <td>{'C': 8, 'gamma': 'scale'}</td>\n",
              "      <td>0.386364</td>\n",
              "      <td>0.568182</td>\n",
              "      <td>0.295455</td>\n",
              "      <td>0.409091</td>\n",
              "      <td>0.186047</td>\n",
              "      <td>0.369027</td>\n",
              "      <td>0.126857</td>\n",
              "      <td>8</td>\n",
              "    </tr>\n",
              "    <tr>\n",
              "      <th>7</th>\n",
              "      <td>0.004405</td>\n",
              "      <td>0.000104</td>\n",
              "      <td>0.001280</td>\n",
              "      <td>0.000062</td>\n",
              "      <td>8</td>\n",
              "      <td>auto</td>\n",
              "      <td>{'C': 8, 'gamma': 'auto'}</td>\n",
              "      <td>0.386364</td>\n",
              "      <td>0.386364</td>\n",
              "      <td>0.363636</td>\n",
              "      <td>0.363636</td>\n",
              "      <td>0.372093</td>\n",
              "      <td>0.374419</td>\n",
              "      <td>0.010230</td>\n",
              "      <td>2</td>\n",
              "    </tr>\n",
              "    <tr>\n",
              "      <th>8</th>\n",
              "      <td>0.005297</td>\n",
              "      <td>0.001962</td>\n",
              "      <td>0.001537</td>\n",
              "      <td>0.000389</td>\n",
              "      <td>10</td>\n",
              "      <td>scale</td>\n",
              "      <td>{'C': 10, 'gamma': 'scale'}</td>\n",
              "      <td>0.386364</td>\n",
              "      <td>0.568182</td>\n",
              "      <td>0.295455</td>\n",
              "      <td>0.409091</td>\n",
              "      <td>0.186047</td>\n",
              "      <td>0.369027</td>\n",
              "      <td>0.126857</td>\n",
              "      <td>8</td>\n",
              "    </tr>\n",
              "    <tr>\n",
              "      <th>9</th>\n",
              "      <td>0.005102</td>\n",
              "      <td>0.001012</td>\n",
              "      <td>0.001481</td>\n",
              "      <td>0.000355</td>\n",
              "      <td>10</td>\n",
              "      <td>auto</td>\n",
              "      <td>{'C': 10, 'gamma': 'auto'}</td>\n",
              "      <td>0.386364</td>\n",
              "      <td>0.386364</td>\n",
              "      <td>0.363636</td>\n",
              "      <td>0.363636</td>\n",
              "      <td>0.372093</td>\n",
              "      <td>0.374419</td>\n",
              "      <td>0.010230</td>\n",
              "      <td>2</td>\n",
              "    </tr>\n",
              "    <tr>\n",
              "      <th>10</th>\n",
              "      <td>0.004440</td>\n",
              "      <td>0.000083</td>\n",
              "      <td>0.001291</td>\n",
              "      <td>0.000034</td>\n",
              "      <td>15</td>\n",
              "      <td>scale</td>\n",
              "      <td>{'C': 15, 'gamma': 'scale'}</td>\n",
              "      <td>0.386364</td>\n",
              "      <td>0.568182</td>\n",
              "      <td>0.295455</td>\n",
              "      <td>0.409091</td>\n",
              "      <td>0.186047</td>\n",
              "      <td>0.369027</td>\n",
              "      <td>0.126857</td>\n",
              "      <td>8</td>\n",
              "    </tr>\n",
              "    <tr>\n",
              "      <th>11</th>\n",
              "      <td>0.004316</td>\n",
              "      <td>0.000034</td>\n",
              "      <td>0.001279</td>\n",
              "      <td>0.000009</td>\n",
              "      <td>15</td>\n",
              "      <td>auto</td>\n",
              "      <td>{'C': 15, 'gamma': 'auto'}</td>\n",
              "      <td>0.386364</td>\n",
              "      <td>0.386364</td>\n",
              "      <td>0.363636</td>\n",
              "      <td>0.363636</td>\n",
              "      <td>0.372093</td>\n",
              "      <td>0.374419</td>\n",
              "      <td>0.010230</td>\n",
              "      <td>2</td>\n",
              "    </tr>\n",
              "  </tbody>\n",
              "</table>\n",
              "</div>\n",
              "      <button class=\"colab-df-convert\" onclick=\"convertToInteractive('df-c3a13194-d1e1-4bc0-99f8-c865e68821f1')\"\n",
              "              title=\"Convert this dataframe to an interactive table.\"\n",
              "              style=\"display:none;\">\n",
              "        \n",
              "  <svg xmlns=\"http://www.w3.org/2000/svg\" height=\"24px\"viewBox=\"0 0 24 24\"\n",
              "       width=\"24px\">\n",
              "    <path d=\"M0 0h24v24H0V0z\" fill=\"none\"/>\n",
              "    <path d=\"M18.56 5.44l.94 2.06.94-2.06 2.06-.94-2.06-.94-.94-2.06-.94 2.06-2.06.94zm-11 1L8.5 8.5l.94-2.06 2.06-.94-2.06-.94L8.5 2.5l-.94 2.06-2.06.94zm10 10l.94 2.06.94-2.06 2.06-.94-2.06-.94-.94-2.06-.94 2.06-2.06.94z\"/><path d=\"M17.41 7.96l-1.37-1.37c-.4-.4-.92-.59-1.43-.59-.52 0-1.04.2-1.43.59L10.3 9.45l-7.72 7.72c-.78.78-.78 2.05 0 2.83L4 21.41c.39.39.9.59 1.41.59.51 0 1.02-.2 1.41-.59l7.78-7.78 2.81-2.81c.8-.78.8-2.07 0-2.86zM5.41 20L4 18.59l7.72-7.72 1.47 1.35L5.41 20z\"/>\n",
              "  </svg>\n",
              "      </button>\n",
              "      \n",
              "  <style>\n",
              "    .colab-df-container {\n",
              "      display:flex;\n",
              "      flex-wrap:wrap;\n",
              "      gap: 12px;\n",
              "    }\n",
              "\n",
              "    .colab-df-convert {\n",
              "      background-color: #E8F0FE;\n",
              "      border: none;\n",
              "      border-radius: 50%;\n",
              "      cursor: pointer;\n",
              "      display: none;\n",
              "      fill: #1967D2;\n",
              "      height: 32px;\n",
              "      padding: 0 0 0 0;\n",
              "      width: 32px;\n",
              "    }\n",
              "\n",
              "    .colab-df-convert:hover {\n",
              "      background-color: #E2EBFA;\n",
              "      box-shadow: 0px 1px 2px rgba(60, 64, 67, 0.3), 0px 1px 3px 1px rgba(60, 64, 67, 0.15);\n",
              "      fill: #174EA6;\n",
              "    }\n",
              "\n",
              "    [theme=dark] .colab-df-convert {\n",
              "      background-color: #3B4455;\n",
              "      fill: #D2E3FC;\n",
              "    }\n",
              "\n",
              "    [theme=dark] .colab-df-convert:hover {\n",
              "      background-color: #434B5C;\n",
              "      box-shadow: 0px 1px 3px 1px rgba(0, 0, 0, 0.15);\n",
              "      filter: drop-shadow(0px 1px 2px rgba(0, 0, 0, 0.3));\n",
              "      fill: #FFFFFF;\n",
              "    }\n",
              "  </style>\n",
              "\n",
              "      <script>\n",
              "        const buttonEl =\n",
              "          document.querySelector('#df-c3a13194-d1e1-4bc0-99f8-c865e68821f1 button.colab-df-convert');\n",
              "        buttonEl.style.display =\n",
              "          google.colab.kernel.accessAllowed ? 'block' : 'none';\n",
              "\n",
              "        async function convertToInteractive(key) {\n",
              "          const element = document.querySelector('#df-c3a13194-d1e1-4bc0-99f8-c865e68821f1');\n",
              "          const dataTable =\n",
              "            await google.colab.kernel.invokeFunction('convertToInteractive',\n",
              "                                                     [key], {});\n",
              "          if (!dataTable) return;\n",
              "\n",
              "          const docLinkHtml = 'Like what you see? Visit the ' +\n",
              "            '<a target=\"_blank\" href=https://colab.research.google.com/notebooks/data_table.ipynb>data table notebook</a>'\n",
              "            + ' to learn more about interactive tables.';\n",
              "          element.innerHTML = '';\n",
              "          dataTable['output_type'] = 'display_data';\n",
              "          await google.colab.output.renderOutput(dataTable, element);\n",
              "          const docLink = document.createElement('div');\n",
              "          docLink.innerHTML = docLinkHtml;\n",
              "          element.appendChild(docLink);\n",
              "        }\n",
              "      </script>\n",
              "    </div>\n",
              "  </div>\n",
              "  "
            ]
          },
          "metadata": {},
          "execution_count": 39
        }
      ]
    },
    {
      "cell_type": "code",
      "source": [
        "print('The scale mode of SVC would use a gamma of {}, then using auto mode would use -> {}'.format(1/(256*dcs_flatten.var()),1/256))"
      ],
      "metadata": {
        "colab": {
          "base_uri": "https://localhost:8080/"
        },
        "id": "gX2dvWpnLC_r",
        "outputId": "40cf44e2-4658-48a6-b533-3b6dbf7387cb"
      },
      "execution_count": 40,
      "outputs": [
        {
          "output_type": "stream",
          "name": "stdout",
          "text": [
            "The scale mode of SVC would use a gamma of 0.015659116545715234, then using auto mode would use -> 0.00390625\n"
          ]
        }
      ]
    },
    {
      "cell_type": "markdown",
      "metadata": {
        "id": "eqThTmO5j1-p"
      },
      "source": [
        "# Testing the Classification Model\n",
        "\n",
        "*   Extract descriptors using ORB for the test split\n",
        "*   Use the previously trained k-means to generate the histogram\n",
        "*   Use the classifier to predict the label\n"
      ]
    },
    {
      "cell_type": "code",
      "metadata": {
        "id": "x2Gzbww9e0pP",
        "colab": {
          "base_uri": "https://localhost:8080/",
          "height": 309
        },
        "outputId": "67bb44fc-1dd7-4834-b39e-46f5c93358ad"
      },
      "source": [
        "# solution\n",
        "kps_test,dcs_test = get_multi_ORB(descriptor_extractor,x_test)\n",
        "vwr_img_test = []\n",
        "for img_dsc in dcs_test:\n",
        "  vwr_img_test.append(kmeans.predict(img_dsc))\n",
        "vwr_img_test = np.array(vwr_img_test)\n",
        "\n",
        "plt.bar(list(range(30)),ske.histogram(np.concatenate(vwr_img_test), 30)[0])\n",
        "plt.title('Frequency of Visual Words Test Data')\n",
        "plt.ylabel('Number of visual words')\n",
        "plt.xlabel('Clusters')\n",
        "\n",
        "preds = clf.predict(vwr_img_test)\n"
      ],
      "execution_count": 51,
      "outputs": [
        {
          "output_type": "display_data",
          "data": {
            "text/plain": [
              "<Figure size 432x288 with 1 Axes>"
            ],
            "image/png": "[encoded data removed]"
          },
          "metadata": {
            "needs_background": "light"
          }
        }
      ]
    },
    {
      "cell_type": "markdown",
      "metadata": {
        "id": "gGyQUtU3lAEz"
      },
      "source": [
        "*   Calculate the accuracy score for the classification model"
      ]
    },
    {
      "cell_type": "code",
      "source": [
        "preds"
      ],
      "metadata": {
        "colab": {
          "base_uri": "https://localhost:8080/"
        },
        "id": "Bze3xctjt812",
        "outputId": "a58719ce-2e84-4c1b-d053-121277abd13a"
      },
      "execution_count": 52,
      "outputs": [
        {
          "output_type": "execute_result",
          "data": {
            "text/plain": [
              "array(['kangaroo', 'butterfly', 'butterfly', 'butterfly', 'butterfly',\n",
              "       'butterfly', 'butterfly', 'butterfly', 'butterfly', 'butterfly',\n",
              "       'butterfly', 'butterfly', 'butterfly', 'kangaroo', 'butterfly',\n",
              "       'butterfly', 'butterfly', 'kangaroo', 'kangaroo', 'butterfly',\n",
              "       'kangaroo', 'butterfly', 'butterfly', 'butterfly', 'butterfly'],\n",
              "      dtype='<U9')"
            ]
          },
          "metadata": {},
          "execution_count": 52
        }
      ]
    },
    {
      "cell_type": "code",
      "source": [
        "y_test"
      ],
      "metadata": {
        "colab": {
          "base_uri": "https://localhost:8080/"
        },
        "id": "GSwxNfZIuAwI",
        "outputId": "f0a0d450-1166-4647-c9ec-aa0460e5a67c"
      },
      "execution_count": 53,
      "outputs": [
        {
          "output_type": "execute_result",
          "data": {
            "text/plain": [
              "['butterfly',\n",
              " 'dalmatian',\n",
              " 'butterfly',\n",
              " 'dalmatian',\n",
              " 'kangaroo',\n",
              " 'kangaroo',\n",
              " 'butterfly',\n",
              " 'kangaroo',\n",
              " 'dalmatian',\n",
              " 'butterfly',\n",
              " 'butterfly',\n",
              " 'butterfly',\n",
              " 'kangaroo',\n",
              " 'dalmatian',\n",
              " 'dalmatian',\n",
              " 'kangaroo',\n",
              " 'dalmatian',\n",
              " 'kangaroo',\n",
              " 'dalmatian',\n",
              " 'butterfly',\n",
              " 'kangaroo',\n",
              " 'kangaroo',\n",
              " 'kangaroo',\n",
              " 'butterfly',\n",
              " 'butterfly']"
            ]
          },
          "metadata": {},
          "execution_count": 53
        }
      ]
    },
    {
      "cell_type": "code",
      "metadata": {
        "id": "PszxSB0Ek_Lt",
        "colab": {
          "base_uri": "https://localhost:8080/"
        },
        "outputId": "87f9a046-c254-465d-ff19-bb9b0bec9619"
      },
      "source": [
        "# solution\n",
        "print(accuracy_score(y_test, preds))"
      ],
      "execution_count": 54,
      "outputs": [
        {
          "output_type": "stream",
          "name": "stdout",
          "text": [
            "0.4\n"
          ]
        }
      ]
    },
    {
      "cell_type": "markdown",
      "metadata": {
        "id": "drlq-5AM615_"
      },
      "source": [
        "*   Generate the confusion matrix for the classification model"
      ]
    },
    {
      "cell_type": "code",
      "metadata": {
        "id": "NpqXVYrw61OG",
        "colab": {
          "base_uri": "https://localhost:8080/",
          "height": 855
        },
        "outputId": "f4d4894d-c5e5-422f-c1a7-168fb887624f"
      },
      "source": [
        "# solution\n",
        "from customplots import plot_confusion_matrix\n",
        "target_names  = list(range(30))\n",
        "plot_confusion_matrix(confusion_matrix(y_test, preds),categories,False,'YlGnBu', 'Confusion matrix of visual words classification')"
      ],
      "execution_count": 55,
      "outputs": [
        {
          "output_type": "display_data",
          "data": {
            "text/plain": [
              "<Figure size 1008x1008 with 2 Axes>"
            ],
            "image/png": "[encoded data removed]"
          },
          "metadata": {
            "needs_background": "light"
          }
        }
      ]
    },
    {
      "cell_type": "code",
      "source": [
        "# solution\n",
        "from customplots import plot_confusion_matrix\n",
        "target_names  = list(range(30))\n",
        "plot_confusion_matrix(confusion_matrix(y_test, preds),categories,True,'YlGnBu', 'Normalized confusion matrix of visual words classification',fsizes={'font':15})"
      ],
      "metadata": {
        "colab": {
          "base_uri": "https://localhost:8080/",
          "height": 855
        },
        "id": "qXc6gpyJsXui",
        "outputId": "c1fa0592-ab9b-4e07-fdc3-1ebec70cb25f"
      },
      "execution_count": 56,
      "outputs": [
        {
          "output_type": "display_data",
          "data": {
            "text/plain": [
              "<Figure size 1008x1008 with 2 Axes>"
            ],
            "image/png": "[encoded data removed]"
          },
          "metadata": {
            "needs_background": "light"
          }
        }
      ]
    },
    {
      "cell_type": "markdown",
      "metadata": {
        "id": "7TN4rRra9yv_"
      },
      "source": [
        "*   Why do we use Clustering to create the codebook? \n",
        "*   What are the other techniques that can be used to create the codebook?"
      ]
    },
    {
      "cell_type": "markdown",
      "metadata": {
        "id": "Ri9kU3wa3Rei"
      },
      "source": [
        "**Solution**\n",
        "\n",
        "*K-means clustering is the most commonly used technique for codebook creation based on exisiting literature.*\n",
        "\n",
        "*Some other techniques that could be used to create the codebook could be hierarchical clustering, Self-Organizing Maps, mean-shift, or other clustering methods.*\n",
        "\n",
        "..."
      ]
    },
    {
      "cell_type": "markdown",
      "source": [
        "# Increased Feature Dimensions\n",
        "\n",
        "*   Repeat the classification using features of 256 ORB keypoints."
      ],
      "metadata": {
        "id": "b47OqebCOXpq"
      }
    },
    {
      "cell_type": "code",
      "source": [
        "# Creating the descriptor ectractor for 256 keypoints\n",
        "descriptor_extractor256 = feature.ORB(n_keypoints=256)\n",
        "\n",
        "# Getting keypoints and descriptors of train data \n",
        "kps_train256,dcs_train256 = get_multi_ORB(descriptor_extractor256, x_train)\n",
        "\n",
        "bad_image = [n for n, item in enumerate(dcs_train256) if item.shape != (256,256)]\n",
        "print('Bad image: ', bad_image)\n",
        "\n",
        "# One image has shape (232*300) the dimension (232) does not allow us to get \n",
        "# 256 descriptors, we can get just 231 descriptors, this produces an error to \n",
        "# reshape the array, so we make a movement to extract it and add it at the end\n",
        "dcs_train256 = list(dcs_train256)\n",
        "deleted = dcs_train256.pop(bad_image[0])\n",
        "dcs_train256 = np.array(dcs_train256)\n",
        "if len(y_train) == 219:\n",
        "  y_train.pop(bad_image[0])\n",
        "\n",
        "# Flattening the data and applying clustering with k-means - 30 clusters (codewords)\n",
        "dcs_flatten256 = np.reshape(dcs_train256, (len(dcs_train256)*dcs_train256[0].shape[0],dcs_train256[0].shape[1]))\n",
        "dcs_flatten256 = np.concatenate((dcs_flatten256,deleted)) # Adding the deleted group of image descriptors\n",
        "print(dcs_flatten256.shape)\n",
        "kmeans256 = MiniBatchKMeans(n_clusters=len(categories)*10, random_state=8).fit(dcs_flatten256)\n",
        "\n",
        "vwr_img256 = []\n",
        "# dcs_train256 = list(dcs_train256)\n",
        "# dcs_train256.append(deleted)\n",
        "# dcs_train256 = np.array(dcs_train256, dtype=object)\n",
        "for img_dsc in dcs_train256:\n",
        "  vwr_img256.append(kmeans256.predict(img_dsc))\n",
        "vwr_img256 = np.array(vwr_img256)\n",
        "\n",
        "# Plotting the histogram of visual words frequencies\n",
        "fig1 = plt.figure()\n",
        "plt.bar(list(range(30)),ske.histogram(np.concatenate(vwr_img256), 30)[0])\n",
        "plt.title('Frequency of Visual Words Training Data (256)')\n",
        "plt.ylabel('Number of visual words')\n",
        "plt.xlabel('Clusters')\n",
        "\n",
        "\n",
        "# Looking for the best classifier model in this task\n",
        "svc256 = SVC()\n",
        "clf256 = GridSearchCV(svc256,{'C':[0.5,1,5,10], 'gamma':['scale','auto',0.005,0.5]}, n_jobs=4, verbose=3)\n",
        "clf256.fit(vwr_img256,y_train)\n",
        "\n",
        "# Getting keypoints and descriptors of test data, flattening & applying k-means\n",
        "kps_test256,dcs_test256 = get_multi_ORB(descriptor_extractor256,x_test)\n",
        "dcs_test_flatten256 =  np.reshape(dcs_test256, (len(dcs_test256)*dcs_test256.shape[1],dcs_test256.shape[2]))\n",
        "tst_labs256 = kmeans256.predict(dcs_test_flatten256)\n",
        "\n",
        "vwr_img256_test = []\n",
        "for img_dsc in dcs_test256:\n",
        "  vwr_img256_test.append(kmeans256.predict(img_dsc))\n",
        "vwr_img256_test = np.array(vwr_img256_test)\n",
        "\n",
        "# Plotting the histogram of visual words frequencies (test data)\n",
        "fig2 = plt.figure()\n",
        "plt.bar(list(range(30)),ske.histogram(np.concatenate(vwr_img256_test), 30)[0])\n",
        "plt.title('Frequency of Visual Words Test Data (256)')\n",
        "plt.ylabel('Number of visual words')\n",
        "plt.xlabel('Clusters')\n",
        "\n",
        "# Using the trained model get predictions \n",
        "preds256 = clf256.predict(vwr_img256_test)\n",
        "\n",
        "# Evaluate the model with accuracy and confusion\n",
        "print('\\n\\n#----------Accuracy on test data: {} \\n\\n\\n'.format(accuracy_score(y_test, preds256)))\n",
        "\n",
        "plot_confusion_matrix(confusion_matrix(y_test, preds256),categories,False,'YlGnBu', 'Confusion matrix of visual words classification (256)', fsizes={'font':15})\n",
        "plot_confusion_matrix(confusion_matrix(y_test, preds256),categories,True,'YlGnBu', 'Normalized confusion matrix of visual words classification (256)', fsizes={'font':15})"
      ],
      "metadata": {
        "id": "CiY8GERXOxbB",
        "colab": {
          "base_uri": "https://localhost:8080/",
          "height": 1000
        },
        "outputId": "763245d2-225d-47bb-b0ab-be8aa5fa77c3"
      },
      "execution_count": 58,
      "outputs": [
        {
          "output_type": "stream",
          "name": "stderr",
          "text": [
            "/content/utils.py:28: VisibleDeprecationWarning: Creating an ndarray from ragged nested sequences (which is a list-or-tuple of lists-or-tuples-or ndarrays with different lengths or shapes) is deprecated. If you meant to do this, you must specify 'dtype=object' when creating the ndarray.\n",
            "  return np.array(keypoints), np.array(descriptors)\n"
          ]
        },
        {
          "output_type": "stream",
          "name": "stdout",
          "text": [
            "Bad image:  [73]\n",
            "(56039, 256)\n",
            "Fitting 5 folds for each of 16 candidates, totalling 80 fits\n",
            "\n",
            "\n",
            "#----------Accuracy on test data: 0.6 \n",
            "\n",
            "\n",
            "\n"
          ]
        },
        {
          "output_type": "display_data",
          "data": {
            "text/plain": [
              "<Figure size 432x288 with 1 Axes>"
            ],
            "image/png": "[encoded data removed]"
          },
          "metadata": {
            "needs_background": "light"
          }
        },
        {
          "output_type": "display_data",
          "data": {
            "text/plain": [
              "<Figure size 432x288 with 1 Axes>"
            ],
            "image/png": "[encoded data removed]"
          },
          "metadata": {
            "needs_background": "light"
          }
        },
        {
          "output_type": "display_data",
          "data": {
            "text/plain": [
              "<Figure size 1008x1008 with 2 Axes>"
            ],
            "image/png": "[encoded data removed]"
          },
          "metadata": {
            "needs_background": "light"
          }
        },
        {
          "output_type": "display_data",
          "data": {
            "text/plain": [
              "<Figure size 1008x1008 with 2 Axes>"
            ],
            "image/png": "[encoded data removed]"
          },
          "metadata": {
            "needs_background": "light"
          }
        }
      ]
    },
    {
      "cell_type": "code",
      "source": [
        "pd.DataFrame(clf256.cv_results_)"
      ],
      "metadata": {
        "id": "L62ZAtGSvz4S",
        "outputId": "39412ddc-b61b-4bbb-935b-f75a238420c5",
        "colab": {
          "base_uri": "https://localhost:8080/",
          "height": 1000
        }
      },
      "execution_count": 41,
      "outputs": [
        {
          "output_type": "execute_result",
          "data": {
            "text/plain": [
              "    mean_fit_time  std_fit_time  mean_score_time  std_score_time param_C  \\\n",
              "0        0.010249      0.001206         0.003800        0.000166     0.5   \n",
              "1        0.009205      0.000531         0.003659        0.000085     0.5   \n",
              "2        0.011554      0.002045         0.005673        0.002257     0.5   \n",
              "3        0.013968      0.004574         0.005797        0.001765     0.5   \n",
              "4        0.014811      0.003690         0.008171        0.009025       1   \n",
              "5        0.012901      0.003884         0.008418        0.006914       1   \n",
              "6        0.018205      0.005208         0.008887        0.002691       1   \n",
              "7        0.013901      0.003965         0.010058        0.006249       1   \n",
              "8        0.017300      0.001862         0.011062        0.004621       5   \n",
              "9        0.016832      0.002669         0.008724        0.003236       5   \n",
              "10       0.026090      0.009547         0.007837        0.005112       5   \n",
              "11       0.016746      0.002160         0.005375        0.002740       5   \n",
              "12       0.019279      0.004211         0.005892        0.003862      10   \n",
              "13       0.010152      0.000270         0.003657        0.000089      10   \n",
              "14       0.009712      0.000120         0.003659        0.000100      10   \n",
              "15       0.008584      0.000362         0.003265        0.000615      10   \n",
              "\n",
              "   param_gamma                        params  split0_test_score  \\\n",
              "0        scale  {'C': 0.5, 'gamma': 'scale'}           0.386364   \n",
              "1         auto   {'C': 0.5, 'gamma': 'auto'}           0.386364   \n",
              "2        0.005    {'C': 0.5, 'gamma': 0.005}           0.386364   \n",
              "3          0.5      {'C': 0.5, 'gamma': 0.5}           0.386364   \n",
              "4        scale    {'C': 1, 'gamma': 'scale'}           0.477273   \n",
              "5         auto     {'C': 1, 'gamma': 'auto'}           0.386364   \n",
              "6        0.005      {'C': 1, 'gamma': 0.005}           0.386364   \n",
              "7          0.5        {'C': 1, 'gamma': 0.5}           0.386364   \n",
              "8        scale    {'C': 5, 'gamma': 'scale'}           0.431818   \n",
              "9         auto     {'C': 5, 'gamma': 'auto'}           0.386364   \n",
              "10       0.005      {'C': 5, 'gamma': 0.005}           0.386364   \n",
              "11         0.5        {'C': 5, 'gamma': 0.5}           0.386364   \n",
              "12       scale   {'C': 10, 'gamma': 'scale'}           0.431818   \n",
              "13        auto    {'C': 10, 'gamma': 'auto'}           0.386364   \n",
              "14       0.005     {'C': 10, 'gamma': 0.005}           0.386364   \n",
              "15         0.5       {'C': 10, 'gamma': 0.5}           0.386364   \n",
              "\n",
              "    split1_test_score  split2_test_score  split3_test_score  \\\n",
              "0            0.363636           0.363636           0.372093   \n",
              "1            0.363636           0.363636           0.372093   \n",
              "2            0.363636           0.363636           0.372093   \n",
              "3            0.363636           0.363636           0.372093   \n",
              "4            0.340909           0.386364           0.465116   \n",
              "5            0.363636           0.363636           0.372093   \n",
              "6            0.363636           0.363636           0.372093   \n",
              "7            0.363636           0.363636           0.372093   \n",
              "8            0.250000           0.363636           0.488372   \n",
              "9            0.363636           0.363636           0.372093   \n",
              "10           0.363636           0.363636           0.372093   \n",
              "11           0.363636           0.363636           0.372093   \n",
              "12           0.250000           0.363636           0.488372   \n",
              "13           0.363636           0.363636           0.372093   \n",
              "14           0.363636           0.363636           0.372093   \n",
              "15           0.363636           0.363636           0.372093   \n",
              "\n",
              "    split4_test_score  mean_test_score  std_test_score  rank_test_score  \n",
              "0            0.372093         0.371564        0.008310                4  \n",
              "1            0.372093         0.371564        0.008310                4  \n",
              "2            0.372093         0.371564        0.008310                4  \n",
              "3            0.372093         0.371564        0.008310                4  \n",
              "4            0.395349         0.413002        0.051118                1  \n",
              "5            0.372093         0.371564        0.008310                4  \n",
              "6            0.372093         0.371564        0.008310                4  \n",
              "7            0.372093         0.371564        0.008310                4  \n",
              "8            0.465116         0.399789        0.085889                2  \n",
              "9            0.372093         0.371564        0.008310                4  \n",
              "10           0.372093         0.371564        0.008310                4  \n",
              "11           0.372093         0.371564        0.008310                4  \n",
              "12           0.465116         0.399789        0.085889                2  \n",
              "13           0.372093         0.371564        0.008310                4  \n",
              "14           0.372093         0.371564        0.008310                4  \n",
              "15           0.372093         0.371564        0.008310                4  "
            ],
            "text/html": [
              "\n",
              "  <div id=\"df-bd25bc3a-47f2-439b-a907-3beb78749558\">\n",
              "    <div class=\"colab-df-container\">\n",
              "      <div>\n",
              "<style scoped>\n",
              "    .dataframe tbody tr th:only-of-type {\n",
              "        vertical-align: middle;\n",
              "    }\n",
              "\n",
              "    .dataframe tbody tr th {\n",
              "        vertical-align: top;\n",
              "    }\n",
              "\n",
              "    .dataframe thead th {\n",
              "        text-align: right;\n",
              "    }\n",
              "</style>\n",
              "<table border=\"1\" class=\"dataframe\">\n",
              "  <thead>\n",
              "    <tr style=\"text-align: right;\">\n",
              "      <th></th>\n",
              "      <th>mean_fit_time</th>\n",
              "      <th>std_fit_time</th>\n",
              "      <th>mean_score_time</th>\n",
              "      <th>std_score_time</th>\n",
              "      <th>param_C</th>\n",
              "      <th>param_gamma</th>\n",
              "      <th>params</th>\n",
              "      <th>split0_test_score</th>\n",
              "      <th>split1_test_score</th>\n",
              "      <th>split2_test_score</th>\n",
              "      <th>split3_test_score</th>\n",
              "      <th>split4_test_score</th>\n",
              "      <th>mean_test_score</th>\n",
              "      <th>std_test_score</th>\n",
              "      <th>rank_test_score</th>\n",
              "    </tr>\n",
              "  </thead>\n",
              "  <tbody>\n",
              "    <tr>\n",
              "      <th>0</th>\n",
              "      <td>0.010249</td>\n",
              "      <td>0.001206</td>\n",
              "      <td>0.003800</td>\n",
              "      <td>0.000166</td>\n",
              "      <td>0.5</td>\n",
              "      <td>scale</td>\n",
              "      <td>{'C': 0.5, 'gamma': 'scale'}</td>\n",
              "      <td>0.386364</td>\n",
              "      <td>0.363636</td>\n",
              "      <td>0.363636</td>\n",
              "      <td>0.372093</td>\n",
              "      <td>0.372093</td>\n",
              "      <td>0.371564</td>\n",
              "      <td>0.008310</td>\n",
              "      <td>4</td>\n",
              "    </tr>\n",
              "    <tr>\n",
              "      <th>1</th>\n",
              "      <td>0.009205</td>\n",
              "      <td>0.000531</td>\n",
              "      <td>0.003659</td>\n",
              "      <td>0.000085</td>\n",
              "      <td>0.5</td>\n",
              "      <td>auto</td>\n",
              "      <td>{'C': 0.5, 'gamma': 'auto'}</td>\n",
              "      <td>0.386364</td>\n",
              "      <td>0.363636</td>\n",
              "      <td>0.363636</td>\n",
              "      <td>0.372093</td>\n",
              "      <td>0.372093</td>\n",
              "      <td>0.371564</td>\n",
              "      <td>0.008310</td>\n",
              "      <td>4</td>\n",
              "    </tr>\n",
              "    <tr>\n",
              "      <th>2</th>\n",
              "      <td>0.011554</td>\n",
              "      <td>0.002045</td>\n",
              "      <td>0.005673</td>\n",
              "      <td>0.002257</td>\n",
              "      <td>0.5</td>\n",
              "      <td>0.005</td>\n",
              "      <td>{'C': 0.5, 'gamma': 0.005}</td>\n",
              "      <td>0.386364</td>\n",
              "      <td>0.363636</td>\n",
              "      <td>0.363636</td>\n",
              "      <td>0.372093</td>\n",
              "      <td>0.372093</td>\n",
              "      <td>0.371564</td>\n",
              "      <td>0.008310</td>\n",
              "      <td>4</td>\n",
              "    </tr>\n",
              "    <tr>\n",
              "      <th>3</th>\n",
              "      <td>0.013968</td>\n",
              "      <td>0.004574</td>\n",
              "      <td>0.005797</td>\n",
              "      <td>0.001765</td>\n",
              "      <td>0.5</td>\n",
              "      <td>0.5</td>\n",
              "      <td>{'C': 0.5, 'gamma': 0.5}</td>\n",
              "      <td>0.386364</td>\n",
              "      <td>0.363636</td>\n",
              "      <td>0.363636</td>\n",
              "      <td>0.372093</td>\n",
              "      <td>0.372093</td>\n",
              "      <td>0.371564</td>\n",
              "      <td>0.008310</td>\n",
              "      <td>4</td>\n",
              "    </tr>\n",
              "    <tr>\n",
              "      <th>4</th>\n",
              "      <td>0.014811</td>\n",
              "      <td>0.003690</td>\n",
              "      <td>0.008171</td>\n",
              "      <td>0.009025</td>\n",
              "      <td>1</td>\n",
              "      <td>scale</td>\n",
              "      <td>{'C': 1, 'gamma': 'scale'}</td>\n",
              "      <td>0.477273</td>\n",
              "      <td>0.340909</td>\n",
              "      <td>0.386364</td>\n",
              "      <td>0.465116</td>\n",
              "      <td>0.395349</td>\n",
              "      <td>0.413002</td>\n",
              "      <td>0.051118</td>\n",
              "      <td>1</td>\n",
              "    </tr>\n",
              "    <tr>\n",
              "      <th>5</th>\n",
              "      <td>0.012901</td>\n",
              "      <td>0.003884</td>\n",
              "      <td>0.008418</td>\n",
              "      <td>0.006914</td>\n",
              "      <td>1</td>\n",
              "      <td>auto</td>\n",
              "      <td>{'C': 1, 'gamma': 'auto'}</td>\n",
              "      <td>0.386364</td>\n",
              "      <td>0.363636</td>\n",
              "      <td>0.363636</td>\n",
              "      <td>0.372093</td>\n",
              "      <td>0.372093</td>\n",
              "      <td>0.371564</td>\n",
              "      <td>0.008310</td>\n",
              "      <td>4</td>\n",
              "    </tr>\n",
              "    <tr>\n",
              "      <th>6</th>\n",
              "      <td>0.018205</td>\n",
              "      <td>0.005208</td>\n",
              "      <td>0.008887</td>\n",
              "      <td>0.002691</td>\n",
              "      <td>1</td>\n",
              "      <td>0.005</td>\n",
              "      <td>{'C': 1, 'gamma': 0.005}</td>\n",
              "      <td>0.386364</td>\n",
              "      <td>0.363636</td>\n",
              "      <td>0.363636</td>\n",
              "      <td>0.372093</td>\n",
              "      <td>0.372093</td>\n",
              "      <td>0.371564</td>\n",
              "      <td>0.008310</td>\n",
              "      <td>4</td>\n",
              "    </tr>\n",
              "    <tr>\n",
              "      <th>7</th>\n",
              "      <td>0.013901</td>\n",
              "      <td>0.003965</td>\n",
              "      <td>0.010058</td>\n",
              "      <td>0.006249</td>\n",
              "      <td>1</td>\n",
              "      <td>0.5</td>\n",
              "      <td>{'C': 1, 'gamma': 0.5}</td>\n",
              "      <td>0.386364</td>\n",
              "      <td>0.363636</td>\n",
              "      <td>0.363636</td>\n",
              "      <td>0.372093</td>\n",
              "      <td>0.372093</td>\n",
              "      <td>0.371564</td>\n",
              "      <td>0.008310</td>\n",
              "      <td>4</td>\n",
              "    </tr>\n",
              "    <tr>\n",
              "      <th>8</th>\n",
              "      <td>0.017300</td>\n",
              "      <td>0.001862</td>\n",
              "      <td>0.011062</td>\n",
              "      <td>0.004621</td>\n",
              "      <td>5</td>\n",
              "      <td>scale</td>\n",
              "      <td>{'C': 5, 'gamma': 'scale'}</td>\n",
              "      <td>0.431818</td>\n",
              "      <td>0.250000</td>\n",
              "      <td>0.363636</td>\n",
              "      <td>0.488372</td>\n",
              "      <td>0.465116</td>\n",
              "      <td>0.399789</td>\n",
              "      <td>0.085889</td>\n",
              "      <td>2</td>\n",
              "    </tr>\n",
              "    <tr>\n",
              "      <th>9</th>\n",
              "      <td>0.016832</td>\n",
              "      <td>0.002669</td>\n",
              "      <td>0.008724</td>\n",
              "      <td>0.003236</td>\n",
              "      <td>5</td>\n",
              "      <td>auto</td>\n",
              "      <td>{'C': 5, 'gamma': 'auto'}</td>\n",
              "      <td>0.386364</td>\n",
              "      <td>0.363636</td>\n",
              "      <td>0.363636</td>\n",
              "      <td>0.372093</td>\n",
              "      <td>0.372093</td>\n",
              "      <td>0.371564</td>\n",
              "      <td>0.008310</td>\n",
              "      <td>4</td>\n",
              "    </tr>\n",
              "    <tr>\n",
              "      <th>10</th>\n",
              "      <td>0.026090</td>\n",
              "      <td>0.009547</td>\n",
              "      <td>0.007837</td>\n",
              "      <td>0.005112</td>\n",
              "      <td>5</td>\n",
              "      <td>0.005</td>\n",
              "      <td>{'C': 5, 'gamma': 0.005}</td>\n",
              "      <td>0.386364</td>\n",
              "      <td>0.363636</td>\n",
              "      <td>0.363636</td>\n",
              "      <td>0.372093</td>\n",
              "      <td>0.372093</td>\n",
              "      <td>0.371564</td>\n",
              "      <td>0.008310</td>\n",
              "      <td>4</td>\n",
              "    </tr>\n",
              "    <tr>\n",
              "      <th>11</th>\n",
              "      <td>0.016746</td>\n",
              "      <td>0.002160</td>\n",
              "      <td>0.005375</td>\n",
              "      <td>0.002740</td>\n",
              "      <td>5</td>\n",
              "      <td>0.5</td>\n",
              "      <td>{'C': 5, 'gamma': 0.5}</td>\n",
              "      <td>0.386364</td>\n",
              "      <td>0.363636</td>\n",
              "      <td>0.363636</td>\n",
              "      <td>0.372093</td>\n",
              "      <td>0.372093</td>\n",
              "      <td>0.371564</td>\n",
              "      <td>0.008310</td>\n",
              "      <td>4</td>\n",
              "    </tr>\n",
              "    <tr>\n",
              "      <th>12</th>\n",
              "      <td>0.019279</td>\n",
              "      <td>0.004211</td>\n",
              "      <td>0.005892</td>\n",
              "      <td>0.003862</td>\n",
              "      <td>10</td>\n",
              "      <td>scale</td>\n",
              "      <td>{'C': 10, 'gamma': 'scale'}</td>\n",
              "      <td>0.431818</td>\n",
              "      <td>0.250000</td>\n",
              "      <td>0.363636</td>\n",
              "      <td>0.488372</td>\n",
              "      <td>0.465116</td>\n",
              "      <td>0.399789</td>\n",
              "      <td>0.085889</td>\n",
              "      <td>2</td>\n",
              "    </tr>\n",
              "    <tr>\n",
              "      <th>13</th>\n",
              "      <td>0.010152</td>\n",
              "      <td>0.000270</td>\n",
              "      <td>0.003657</td>\n",
              "      <td>0.000089</td>\n",
              "      <td>10</td>\n",
              "      <td>auto</td>\n",
              "      <td>{'C': 10, 'gamma': 'auto'}</td>\n",
              "      <td>0.386364</td>\n",
              "      <td>0.363636</td>\n",
              "      <td>0.363636</td>\n",
              "      <td>0.372093</td>\n",
              "      <td>0.372093</td>\n",
              "      <td>0.371564</td>\n",
              "      <td>0.008310</td>\n",
              "      <td>4</td>\n",
              "    </tr>\n",
              "    <tr>\n",
              "      <th>14</th>\n",
              "      <td>0.009712</td>\n",
              "      <td>0.000120</td>\n",
              "      <td>0.003659</td>\n",
              "      <td>0.000100</td>\n",
              "      <td>10</td>\n",
              "      <td>0.005</td>\n",
              "      <td>{'C': 10, 'gamma': 0.005}</td>\n",
              "      <td>0.386364</td>\n",
              "      <td>0.363636</td>\n",
              "      <td>0.363636</td>\n",
              "      <td>0.372093</td>\n",
              "      <td>0.372093</td>\n",
              "      <td>0.371564</td>\n",
              "      <td>0.008310</td>\n",
              "      <td>4</td>\n",
              "    </tr>\n",
              "    <tr>\n",
              "      <th>15</th>\n",
              "      <td>0.008584</td>\n",
              "      <td>0.000362</td>\n",
              "      <td>0.003265</td>\n",
              "      <td>0.000615</td>\n",
              "      <td>10</td>\n",
              "      <td>0.5</td>\n",
              "      <td>{'C': 10, 'gamma': 0.5}</td>\n",
              "      <td>0.386364</td>\n",
              "      <td>0.363636</td>\n",
              "      <td>0.363636</td>\n",
              "      <td>0.372093</td>\n",
              "      <td>0.372093</td>\n",
              "      <td>0.371564</td>\n",
              "      <td>0.008310</td>\n",
              "      <td>4</td>\n",
              "    </tr>\n",
              "  </tbody>\n",
              "</table>\n",
              "</div>\n",
              "      <button class=\"colab-df-convert\" onclick=\"convertToInteractive('df-bd25bc3a-47f2-439b-a907-3beb78749558')\"\n",
              "              title=\"Convert this dataframe to an interactive table.\"\n",
              "              style=\"display:none;\">\n",
              "        \n",
              "  <svg xmlns=\"http://www.w3.org/2000/svg\" height=\"24px\"viewBox=\"0 0 24 24\"\n",
              "       width=\"24px\">\n",
              "    <path d=\"M0 0h24v24H0V0z\" fill=\"none\"/>\n",
              "    <path d=\"M18.56 5.44l.94 2.06.94-2.06 2.06-.94-2.06-.94-.94-2.06-.94 2.06-2.06.94zm-11 1L8.5 8.5l.94-2.06 2.06-.94-2.06-.94L8.5 2.5l-.94 2.06-2.06.94zm10 10l.94 2.06.94-2.06 2.06-.94-2.06-.94-.94-2.06-.94 2.06-2.06.94z\"/><path d=\"M17.41 7.96l-1.37-1.37c-.4-.4-.92-.59-1.43-.59-.52 0-1.04.2-1.43.59L10.3 9.45l-7.72 7.72c-.78.78-.78 2.05 0 2.83L4 21.41c.39.39.9.59 1.41.59.51 0 1.02-.2 1.41-.59l7.78-7.78 2.81-2.81c.8-.78.8-2.07 0-2.86zM5.41 20L4 18.59l7.72-7.72 1.47 1.35L5.41 20z\"/>\n",
              "  </svg>\n",
              "      </button>\n",
              "      \n",
              "  <style>\n",
              "    .colab-df-container {\n",
              "      display:flex;\n",
              "      flex-wrap:wrap;\n",
              "      gap: 12px;\n",
              "    }\n",
              "\n",
              "    .colab-df-convert {\n",
              "      background-color: #E8F0FE;\n",
              "      border: none;\n",
              "      border-radius: 50%;\n",
              "      cursor: pointer;\n",
              "      display: none;\n",
              "      fill: #1967D2;\n",
              "      height: 32px;\n",
              "      padding: 0 0 0 0;\n",
              "      width: 32px;\n",
              "    }\n",
              "\n",
              "    .colab-df-convert:hover {\n",
              "      background-color: #E2EBFA;\n",
              "      box-shadow: 0px 1px 2px rgba(60, 64, 67, 0.3), 0px 1px 3px 1px rgba(60, 64, 67, 0.15);\n",
              "      fill: #174EA6;\n",
              "    }\n",
              "\n",
              "    [theme=dark] .colab-df-convert {\n",
              "      background-color: #3B4455;\n",
              "      fill: #D2E3FC;\n",
              "    }\n",
              "\n",
              "    [theme=dark] .colab-df-convert:hover {\n",
              "      background-color: #434B5C;\n",
              "      box-shadow: 0px 1px 3px 1px rgba(0, 0, 0, 0.15);\n",
              "      filter: drop-shadow(0px 1px 2px rgba(0, 0, 0, 0.3));\n",
              "      fill: #FFFFFF;\n",
              "    }\n",
              "  </style>\n",
              "\n",
              "      <script>\n",
              "        const buttonEl =\n",
              "          document.querySelector('#df-bd25bc3a-47f2-439b-a907-3beb78749558 button.colab-df-convert');\n",
              "        buttonEl.style.display =\n",
              "          google.colab.kernel.accessAllowed ? 'block' : 'none';\n",
              "\n",
              "        async function convertToInteractive(key) {\n",
              "          const element = document.querySelector('#df-bd25bc3a-47f2-439b-a907-3beb78749558');\n",
              "          const dataTable =\n",
              "            await google.colab.kernel.invokeFunction('convertToInteractive',\n",
              "                                                     [key], {});\n",
              "          if (!dataTable) return;\n",
              "\n",
              "          const docLinkHtml = 'Like what you see? Visit the ' +\n",
              "            '<a target=\"_blank\" href=https://colab.research.google.com/notebooks/data_table.ipynb>data table notebook</a>'\n",
              "            + ' to learn more about interactive tables.';\n",
              "          element.innerHTML = '';\n",
              "          dataTable['output_type'] = 'display_data';\n",
              "          await google.colab.output.renderOutput(dataTable, element);\n",
              "          const docLink = document.createElement('div');\n",
              "          docLink.innerHTML = docLinkHtml;\n",
              "          element.appendChild(docLink);\n",
              "        }\n",
              "      </script>\n",
              "    </div>\n",
              "  </div>\n",
              "  "
            ]
          },
          "metadata": {},
          "execution_count": 41
        }
      ]
    },
    {
      "cell_type": "markdown",
      "source": [
        "*   What is the difference in classifier performance between using 64 keypoints and 256 keypoints?"
      ],
      "metadata": {
        "id": "Ucf5mIeHOzBf"
      }
    },
    {
      "cell_type": "markdown",
      "metadata": {
        "id": "AJt7kpHcO5nV"
      },
      "source": [
        "**Solution**\n",
        "\n",
        "*The accuracy does not improve when using 256 keypoints, with an accuracy score of about 35%, as opposed to the accuracy score when using 64 keypoints, which was about 45%. The accuracy value will vary based on the values set for the k-means random_state and the data split random seed. In addition, using 256 keypoints is also more computationally expensive. According to the sklearn documentation, the fit time scales quadratically with the number of samples, so when there are too many samples to fit, the computational time increases.*\n",
        "\n",
        "..."
      ]
    },
    {
      "cell_type": "markdown",
      "metadata": {
        "id": "ll0j8G-oIaHd"
      },
      "source": [
        "*   Will further adding more keypoints increase the performance of the algorithm?"
      ]
    },
    {
      "cell_type": "markdown",
      "metadata": {
        "id": "ka3z1sJVInS5"
      },
      "source": [
        "**Solution**\n",
        "\n",
        "*When using this dataset, adding more keypoints is not feasible, since the number of keypoints cannot exceed the number of pixels in one dimension of the image. This can be seen with one image in this dataset, which had a dimension of (232 x 300) so the maximum number of descriptors that could have been used would be 231. Therefore, in this case, increasing the number of keypoints would not increase the performance of the algorithm. However, even if we add images to our dataset that have a dimension larger than 256, we would not see any significant improvement in accuracy, but would still see the increase in computational cost. To counter this increase in computational cost, it may be possible to use another classification algorithm, such as LinearSVC or SGDClassifier. Although increasing the number of keypoints will not improve accuracy, increasing the number of images in the dataset would help improve this measure.*\n",
        "\n",
        "..."
      ]
    },
    {
      "cell_type": "markdown",
      "metadata": {
        "id": "NnN_t5Me7N5O"
      },
      "source": [
        "\n",
        "---\n",
        "\n",
        "## **End of P3_2: Image Classification using Bag of Visual Words**\n",
        "Deadline for P3_2 submission in CampusVirtual is: **Thursday, the 17th of November, 2022**"
      ]
    }
  ]
}